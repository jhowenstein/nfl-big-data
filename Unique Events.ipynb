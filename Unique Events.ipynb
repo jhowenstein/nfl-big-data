{
 "cells": [
  {
   "cell_type": "code",
   "execution_count": 1,
   "metadata": {},
   "outputs": [],
   "source": [
    "import numpy as np\n",
    "import pandas as pd\n",
    "import scipy as sp\n",
    "\n",
    "import matplotlib.pyplot as plt\n",
    "\n",
    "import os\n",
    "import glob"
   ]
  },
  {
   "cell_type": "code",
   "execution_count": 2,
   "metadata": {},
   "outputs": [
    {
     "name": "stdout",
     "output_type": "stream",
     "text": [
      "Week 1: 986022\n",
      "Week 2: 1231793\n",
      "Week 3: 1168345\n",
      "Week 4: 1205527\n",
      "Week 5: 1171908\n",
      "Week 6: 1072563\n",
      "Week 7: 982583\n",
      "Week 8: 1001501\n",
      "Week 9: 958464\n",
      "Week 10: 964889\n",
      "Week 11: 932240\n",
      "Week 12: 1024868\n",
      "Week 13: 1172517\n",
      "Week 14: 1161644\n",
      "Week 15: 1081222\n",
      "Week 16: 1144037\n",
      "Week 17: 1049265\n"
     ]
    }
   ],
   "source": [
    "weeks = []\n",
    "for i in range(17):\n",
    "    name = f'week{i+1}'\n",
    "    _df = pd.read_csv(os.path.join('data',name+'.csv'))\n",
    "    weeks.append(_df)\n",
    "    \n",
    "    print(f'Week {i+1}: {_df.shape[0]}')"
   ]
  },
  {
   "cell_type": "code",
   "execution_count": 3,
   "metadata": {},
   "outputs": [],
   "source": [
    "data = pd.concat(weeks)"
   ]
  },
  {
   "cell_type": "code",
   "execution_count": 4,
   "metadata": {},
   "outputs": [
    {
     "data": {
      "text/plain": [
       "18309388"
      ]
     },
     "execution_count": 4,
     "metadata": {},
     "output_type": "execute_result"
    }
   ],
   "source": [
    "data.shape[0]"
   ]
  },
  {
   "cell_type": "code",
   "execution_count": 5,
   "metadata": {},
   "outputs": [
    {
     "data": {
      "text/plain": [
       "array(['None', 'ball_snap', 'pass_forward', 'pass_arrived',\n",
       "       'pass_outcome_caught', 'out_of_bounds', 'pass_outcome_incomplete',\n",
       "       'first_contact', 'tackle', 'man_in_motion', 'play_action',\n",
       "       'qb_sack', 'fumble', 'fumble_offense_recovered', 'handoff',\n",
       "       'pass_tipped', 'pass_outcome_interception', 'qb_strip_sack',\n",
       "       'pass_shovel', 'line_set', 'shift', 'touchdown',\n",
       "       'fumble_defense_recovered', 'pass_outcome_touchdown', 'run',\n",
       "       'touchback', 'penalty_flag', 'penalty_accepted', 'qb_spike',\n",
       "       'field_goal_blocked', 'punt_fake', 'snap_direct',\n",
       "       'run_pass_option', 'pass_lateral', 'lateral', 'field_goal_fake',\n",
       "       'huddle_start_offense', 'huddle_break_offense', 'timeout_home',\n",
       "       'safety', 'field_goal_play'], dtype=object)"
      ]
     },
     "execution_count": 5,
     "metadata": {},
     "output_type": "execute_result"
    }
   ],
   "source": [
    "data['event'].unique()"
   ]
  },
  {
   "cell_type": "code",
   "execution_count": 6,
   "metadata": {},
   "outputs": [
    {
     "data": {
      "text/plain": [
       "None                         16885077\n",
       "ball_snap                      282543\n",
       "pass_forward                   260480\n",
       "pass_arrived                   213984\n",
       "pass_outcome_caught            160114\n",
       "tackle                         125737\n",
       "first_contact                  108879\n",
       "pass_outcome_incomplete         88999\n",
       "play_action                     48497\n",
       "out_of_bounds                   36458\n",
       "line_set                        24112\n",
       "qb_sack                         16478\n",
       "man_in_motion                    8907\n",
       "shift                            7621\n",
       "touchdown                        6864\n",
       "pass_outcome_touchdown           6197\n",
       "pass_outcome_interception        6154\n",
       "pass_tipped                      5276\n",
       "fumble                           3263\n",
       "qb_strip_sack                    2459\n",
       "fumble_defense_recovered         2336\n",
       "handoff                          1889\n",
       "fumble_offense_recovered         1771\n",
       "pass_shovel                      1507\n",
       "qb_spike                         1108\n",
       "lateral                           554\n",
       "run                               487\n",
       "touchback                         444\n",
       "pass_lateral                      247\n",
       "punt_fake                         241\n",
       "run_pass_option                   185\n",
       "penalty_flag                      161\n",
       "huddle_break_offense              105\n",
       "huddle_start_offense               90\n",
       "field_goal_fake                    49\n",
       "penalty_accepted                   45\n",
       "field_goal_blocked                 15\n",
       "safety                             15\n",
       "snap_direct                        15\n",
       "timeout_home                       14\n",
       "field_goal_play                    11\n",
       "Name: event, dtype: int64"
      ]
     },
     "execution_count": 6,
     "metadata": {},
     "output_type": "execute_result"
    }
   ],
   "source": [
    "counts = data['event'].value_counts()\n",
    "counts"
   ]
  },
  {
   "cell_type": "code",
   "execution_count": 10,
   "metadata": {},
   "outputs": [
    {
     "data": {
      "text/plain": [
       "260480"
      ]
     },
     "execution_count": 10,
     "metadata": {},
     "output_type": "execute_result"
    }
   ],
   "source": [
    "counts['pass_forward']"
   ]
  },
  {
   "cell_type": "code",
   "execution_count": 8,
   "metadata": {},
   "outputs": [
    {
     "data": {
      "text/plain": [
       "261464"
      ]
     },
     "execution_count": 8,
     "metadata": {},
     "output_type": "execute_result"
    }
   ],
   "source": [
    "counts['pass_outcome_caught'] + counts['pass_outcome_incomplete'] + counts['pass_outcome_touchdown'] + counts['pass_outcome_interception']"
   ]
  },
  {
   "cell_type": "code",
   "execution_count": null,
   "metadata": {},
   "outputs": [],
   "source": []
  }
 ],
 "metadata": {
  "kernelspec": {
   "display_name": "Python 3",
   "language": "python",
   "name": "python3"
  },
  "language_info": {
   "codemirror_mode": {
    "name": "ipython",
    "version": 3
   },
   "file_extension": ".py",
   "mimetype": "text/x-python",
   "name": "python",
   "nbconvert_exporter": "python",
   "pygments_lexer": "ipython3",
   "version": "3.7.3"
  }
 },
 "nbformat": 4,
 "nbformat_minor": 4
}
