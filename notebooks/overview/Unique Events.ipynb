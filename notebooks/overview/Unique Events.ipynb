{
 "cells": [
  {
   "cell_type": "code",
   "execution_count": 1,
   "metadata": {},
   "outputs": [],
   "source": [
    "import numpy as np\n",
    "import pandas as pd\n",
    "import scipy as sp\n",
    "\n",
    "import matplotlib.pyplot as plt\n",
    "\n",
    "import os\n",
    "import glob"
   ]
  },
  {
   "cell_type": "code",
   "execution_count": 2,
   "metadata": {},
   "outputs": [
    {
     "name": "stdout",
     "output_type": "stream",
     "text": [
      "Week 1: 986022\n",
      "Week 2: 1231793\n",
      "Week 3: 1168345\n",
      "Week 4: 1205527\n",
      "Week 5: 1171908\n",
      "Week 6: 1072563\n",
      "Week 7: 982583\n",
      "Week 8: 1001501\n",
      "Week 9: 958464\n",
      "Week 10: 964889\n",
      "Week 11: 932240\n",
      "Week 12: 1024868\n",
      "Week 13: 1172517\n",
      "Week 14: 1161644\n",
      "Week 15: 1081222\n",
      "Week 16: 1144037\n",
      "Week 17: 1049265\n"
     ]
    }
   ],
   "source": [
    "weeks = []\n",
    "for i in range(17):\n",
    "    name = f'week{i+1}'\n",
    "    _df = pd.read_csv(os.path.join('data',name+'.csv'))\n",
    "    weeks.append(_df)\n",
    "    \n",
    "    print(f'Week {i+1}: {_df.shape[0]}')"
   ]
  },
  {
   "cell_type": "code",
   "execution_count": 3,
   "metadata": {},
   "outputs": [],
   "source": [
    "data = pd.concat(weeks)"
   ]
  },
  {
   "cell_type": "code",
   "execution_count": 11,
   "metadata": {},
   "outputs": [
    {
     "data": {
      "text/plain": [
       "(18309388, 19)"
      ]
     },
     "execution_count": 11,
     "metadata": {},
     "output_type": "execute_result"
    }
   ],
   "source": [
    "data.shape"
   ]
  },
  {
   "cell_type": "code",
   "execution_count": 12,
   "metadata": {},
   "outputs": [
    {
     "data": {
      "text/html": [
       "<div>\n",
       "<style scoped>\n",
       "    .dataframe tbody tr th:only-of-type {\n",
       "        vertical-align: middle;\n",
       "    }\n",
       "\n",
       "    .dataframe tbody tr th {\n",
       "        vertical-align: top;\n",
       "    }\n",
       "\n",
       "    .dataframe thead th {\n",
       "        text-align: right;\n",
       "    }\n",
       "</style>\n",
       "<table border=\"1\" class=\"dataframe\">\n",
       "  <thead>\n",
       "    <tr style=\"text-align: right;\">\n",
       "      <th></th>\n",
       "      <th>time</th>\n",
       "      <th>x</th>\n",
       "      <th>y</th>\n",
       "      <th>s</th>\n",
       "      <th>a</th>\n",
       "      <th>dis</th>\n",
       "      <th>o</th>\n",
       "      <th>dir</th>\n",
       "      <th>event</th>\n",
       "      <th>nflId</th>\n",
       "      <th>displayName</th>\n",
       "      <th>jerseyNumber</th>\n",
       "      <th>position</th>\n",
       "      <th>frameId</th>\n",
       "      <th>team</th>\n",
       "      <th>gameId</th>\n",
       "      <th>playId</th>\n",
       "      <th>playDirection</th>\n",
       "      <th>route</th>\n",
       "    </tr>\n",
       "  </thead>\n",
       "  <tbody>\n",
       "    <tr>\n",
       "      <th>0</th>\n",
       "      <td>2018-09-07T01:07:14.599Z</td>\n",
       "      <td>91.73</td>\n",
       "      <td>26.67</td>\n",
       "      <td>0.00</td>\n",
       "      <td>0.01</td>\n",
       "      <td>0.02</td>\n",
       "      <td>289.57</td>\n",
       "      <td>240.93</td>\n",
       "      <td>None</td>\n",
       "      <td>310.0</td>\n",
       "      <td>Matt Ryan</td>\n",
       "      <td>2.0</td>\n",
       "      <td>QB</td>\n",
       "      <td>1</td>\n",
       "      <td>away</td>\n",
       "      <td>2018090600</td>\n",
       "      <td>75</td>\n",
       "      <td>left</td>\n",
       "      <td>NaN</td>\n",
       "    </tr>\n",
       "    <tr>\n",
       "      <th>1</th>\n",
       "      <td>2018-09-07T01:07:14.599Z</td>\n",
       "      <td>88.89</td>\n",
       "      <td>36.47</td>\n",
       "      <td>0.01</td>\n",
       "      <td>0.01</td>\n",
       "      <td>0.01</td>\n",
       "      <td>105.63</td>\n",
       "      <td>66.66</td>\n",
       "      <td>None</td>\n",
       "      <td>79848.0</td>\n",
       "      <td>Malcolm Jenkins</td>\n",
       "      <td>27.0</td>\n",
       "      <td>SS</td>\n",
       "      <td>1</td>\n",
       "      <td>home</td>\n",
       "      <td>2018090600</td>\n",
       "      <td>75</td>\n",
       "      <td>left</td>\n",
       "      <td>NaN</td>\n",
       "    </tr>\n",
       "    <tr>\n",
       "      <th>2</th>\n",
       "      <td>2018-09-07T01:07:14.599Z</td>\n",
       "      <td>91.35</td>\n",
       "      <td>44.16</td>\n",
       "      <td>0.02</td>\n",
       "      <td>0.03</td>\n",
       "      <td>0.01</td>\n",
       "      <td>290.45</td>\n",
       "      <td>16.86</td>\n",
       "      <td>None</td>\n",
       "      <td>2495454.0</td>\n",
       "      <td>Julio Jones</td>\n",
       "      <td>11.0</td>\n",
       "      <td>WR</td>\n",
       "      <td>1</td>\n",
       "      <td>away</td>\n",
       "      <td>2018090600</td>\n",
       "      <td>75</td>\n",
       "      <td>left</td>\n",
       "      <td>HITCH</td>\n",
       "    </tr>\n",
       "    <tr>\n",
       "      <th>3</th>\n",
       "      <td>2018-09-07T01:07:14.599Z</td>\n",
       "      <td>86.31</td>\n",
       "      <td>22.01</td>\n",
       "      <td>0.09</td>\n",
       "      <td>0.42</td>\n",
       "      <td>0.01</td>\n",
       "      <td>70.12</td>\n",
       "      <td>168.91</td>\n",
       "      <td>None</td>\n",
       "      <td>2495613.0</td>\n",
       "      <td>Corey Graham</td>\n",
       "      <td>24.0</td>\n",
       "      <td>FS</td>\n",
       "      <td>1</td>\n",
       "      <td>home</td>\n",
       "      <td>2018090600</td>\n",
       "      <td>75</td>\n",
       "      <td>left</td>\n",
       "      <td>NaN</td>\n",
       "    </tr>\n",
       "    <tr>\n",
       "      <th>4</th>\n",
       "      <td>2018-09-07T01:07:14.599Z</td>\n",
       "      <td>90.78</td>\n",
       "      <td>36.15</td>\n",
       "      <td>0.00</td>\n",
       "      <td>0.00</td>\n",
       "      <td>0.00</td>\n",
       "      <td>257.61</td>\n",
       "      <td>193.97</td>\n",
       "      <td>None</td>\n",
       "      <td>2533040.0</td>\n",
       "      <td>Mohamed Sanu</td>\n",
       "      <td>12.0</td>\n",
       "      <td>WR</td>\n",
       "      <td>1</td>\n",
       "      <td>away</td>\n",
       "      <td>2018090600</td>\n",
       "      <td>75</td>\n",
       "      <td>left</td>\n",
       "      <td>HITCH</td>\n",
       "    </tr>\n",
       "  </tbody>\n",
       "</table>\n",
       "</div>"
      ],
      "text/plain": [
       "                       time      x      y     s     a   dis       o     dir  \\\n",
       "0  2018-09-07T01:07:14.599Z  91.73  26.67  0.00  0.01  0.02  289.57  240.93   \n",
       "1  2018-09-07T01:07:14.599Z  88.89  36.47  0.01  0.01  0.01  105.63   66.66   \n",
       "2  2018-09-07T01:07:14.599Z  91.35  44.16  0.02  0.03  0.01  290.45   16.86   \n",
       "3  2018-09-07T01:07:14.599Z  86.31  22.01  0.09  0.42  0.01   70.12  168.91   \n",
       "4  2018-09-07T01:07:14.599Z  90.78  36.15  0.00  0.00  0.00  257.61  193.97   \n",
       "\n",
       "  event      nflId      displayName  jerseyNumber position  frameId  team  \\\n",
       "0  None      310.0        Matt Ryan           2.0       QB        1  away   \n",
       "1  None    79848.0  Malcolm Jenkins          27.0       SS        1  home   \n",
       "2  None  2495454.0      Julio Jones          11.0       WR        1  away   \n",
       "3  None  2495613.0     Corey Graham          24.0       FS        1  home   \n",
       "4  None  2533040.0     Mohamed Sanu          12.0       WR        1  away   \n",
       "\n",
       "       gameId  playId playDirection  route  \n",
       "0  2018090600      75          left    NaN  \n",
       "1  2018090600      75          left    NaN  \n",
       "2  2018090600      75          left  HITCH  \n",
       "3  2018090600      75          left    NaN  \n",
       "4  2018090600      75          left  HITCH  "
      ]
     },
     "execution_count": 12,
     "metadata": {},
     "output_type": "execute_result"
    }
   ],
   "source": [
    "data.head()"
   ]
  },
  {
   "cell_type": "code",
   "execution_count": 5,
   "metadata": {},
   "outputs": [
    {
     "data": {
      "text/plain": [
       "array(['None', 'ball_snap', 'pass_forward', 'pass_arrived',\n",
       "       'pass_outcome_caught', 'out_of_bounds', 'pass_outcome_incomplete',\n",
       "       'first_contact', 'tackle', 'man_in_motion', 'play_action',\n",
       "       'qb_sack', 'fumble', 'fumble_offense_recovered', 'handoff',\n",
       "       'pass_tipped', 'pass_outcome_interception', 'qb_strip_sack',\n",
       "       'pass_shovel', 'line_set', 'shift', 'touchdown',\n",
       "       'fumble_defense_recovered', 'pass_outcome_touchdown', 'run',\n",
       "       'touchback', 'penalty_flag', 'penalty_accepted', 'qb_spike',\n",
       "       'field_goal_blocked', 'punt_fake', 'snap_direct',\n",
       "       'run_pass_option', 'pass_lateral', 'lateral', 'field_goal_fake',\n",
       "       'huddle_start_offense', 'huddle_break_offense', 'timeout_home',\n",
       "       'safety', 'field_goal_play'], dtype=object)"
      ]
     },
     "execution_count": 5,
     "metadata": {},
     "output_type": "execute_result"
    }
   ],
   "source": [
    "data['event'].unique()"
   ]
  },
  {
   "cell_type": "code",
   "execution_count": 6,
   "metadata": {},
   "outputs": [
    {
     "data": {
      "text/plain": [
       "None                         16885077\n",
       "ball_snap                      282543\n",
       "pass_forward                   260480\n",
       "pass_arrived                   213984\n",
       "pass_outcome_caught            160114\n",
       "tackle                         125737\n",
       "first_contact                  108879\n",
       "pass_outcome_incomplete         88999\n",
       "play_action                     48497\n",
       "out_of_bounds                   36458\n",
       "line_set                        24112\n",
       "qb_sack                         16478\n",
       "man_in_motion                    8907\n",
       "shift                            7621\n",
       "touchdown                        6864\n",
       "pass_outcome_touchdown           6197\n",
       "pass_outcome_interception        6154\n",
       "pass_tipped                      5276\n",
       "fumble                           3263\n",
       "qb_strip_sack                    2459\n",
       "fumble_defense_recovered         2336\n",
       "handoff                          1889\n",
       "fumble_offense_recovered         1771\n",
       "pass_shovel                      1507\n",
       "qb_spike                         1108\n",
       "lateral                           554\n",
       "run                               487\n",
       "touchback                         444\n",
       "pass_lateral                      247\n",
       "punt_fake                         241\n",
       "run_pass_option                   185\n",
       "penalty_flag                      161\n",
       "huddle_break_offense              105\n",
       "huddle_start_offense               90\n",
       "field_goal_fake                    49\n",
       "penalty_accepted                   45\n",
       "field_goal_blocked                 15\n",
       "safety                             15\n",
       "snap_direct                        15\n",
       "timeout_home                       14\n",
       "field_goal_play                    11\n",
       "Name: event, dtype: int64"
      ]
     },
     "execution_count": 6,
     "metadata": {},
     "output_type": "execute_result"
    }
   ],
   "source": [
    "counts = data['event'].value_counts()\n",
    "counts"
   ]
  },
  {
   "cell_type": "code",
   "execution_count": 10,
   "metadata": {},
   "outputs": [
    {
     "data": {
      "text/plain": [
       "260480"
      ]
     },
     "execution_count": 10,
     "metadata": {},
     "output_type": "execute_result"
    }
   ],
   "source": [
    "counts['pass_forward']"
   ]
  },
  {
   "cell_type": "code",
   "execution_count": 8,
   "metadata": {},
   "outputs": [
    {
     "data": {
      "text/plain": [
       "261464"
      ]
     },
     "execution_count": 8,
     "metadata": {},
     "output_type": "execute_result"
    }
   ],
   "source": [
    "counts['pass_outcome_caught'] + counts['pass_outcome_incomplete'] + counts['pass_outcome_touchdown'] + counts['pass_outcome_interception']"
   ]
  },
  {
   "cell_type": "code",
   "execution_count": 13,
   "metadata": {},
   "outputs": [
    {
     "data": {
      "text/plain": [
       "array(['QB', 'SS', 'WR', 'FS', 'RB', 'MLB', 'CB', 'TE', 'LB', 'FB', nan,\n",
       "       'OLB', 'HB', 'ILB', 'DL', 'DB', 'NT', 'S', 'DE', 'P', 'LS', 'K',\n",
       "       'DT'], dtype=object)"
      ]
     },
     "execution_count": 13,
     "metadata": {},
     "output_type": "execute_result"
    }
   ],
   "source": [
    "data['position'].unique()"
   ]
  },
  {
   "cell_type": "code",
   "execution_count": null,
   "metadata": {},
   "outputs": [],
   "source": []
  }
 ],
 "metadata": {
  "kernelspec": {
   "display_name": "Python 3",
   "language": "python",
   "name": "python3"
  },
  "language_info": {
   "codemirror_mode": {
    "name": "ipython",
    "version": 3
   },
   "file_extension": ".py",
   "mimetype": "text/x-python",
   "name": "python",
   "nbconvert_exporter": "python",
   "pygments_lexer": "ipython3",
   "version": "3.7.3"
  }
 },
 "nbformat": 4,
 "nbformat_minor": 4
}
