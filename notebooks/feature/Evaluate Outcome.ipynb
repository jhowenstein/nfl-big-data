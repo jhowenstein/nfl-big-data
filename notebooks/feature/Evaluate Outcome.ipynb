{
 "cells": [
  {
   "cell_type": "code",
   "execution_count": 1,
   "metadata": {},
   "outputs": [],
   "source": [
    "import numpy as np\n",
    "import pandas as pd\n",
    "import scipy as sp\n",
    "import scipy.stats as stats\n",
    "import matplotlib.pyplot as plt\n",
    "import matplotlib.patches as mpatches\n",
    "\n",
    "import os\n",
    "import glob\n",
    "import sys"
   ]
  },
  {
   "cell_type": "code",
   "execution_count": 2,
   "metadata": {},
   "outputs": [],
   "source": [
    "from utils import set_basepath"
   ]
  },
  {
   "cell_type": "code",
   "execution_count": 3,
   "metadata": {},
   "outputs": [
    {
     "data": {
      "text/plain": [
       "'/Users/jacobhow/Documents/programming-projects/nfl-big-data/notebooks/feature'"
      ]
     },
     "execution_count": 3,
     "metadata": {},
     "output_type": "execute_result"
    }
   ],
   "source": [
    "sys.path[0]"
   ]
  },
  {
   "cell_type": "code",
   "execution_count": 4,
   "metadata": {},
   "outputs": [],
   "source": [
    "basepath = set_basepath(steps=2)"
   ]
  },
  {
   "cell_type": "code",
   "execution_count": 5,
   "metadata": {},
   "outputs": [
    {
     "data": {
      "text/plain": [
       "'/Users/jacobhow/Documents/programming-projects/nfl-big-data'"
      ]
     },
     "execution_count": 5,
     "metadata": {},
     "output_type": "execute_result"
    }
   ],
   "source": [
    "sys.path[0]"
   ]
  },
  {
   "cell_type": "code",
   "execution_count": 6,
   "metadata": {},
   "outputs": [],
   "source": [
    "from src.team import Team\n",
    "from src.game import Game\n",
    "from src.play import Play\n",
    "from src.player import Player\n",
    "from src.analysis import Analysis"
   ]
  },
  {
   "cell_type": "code",
   "execution_count": 7,
   "metadata": {},
   "outputs": [],
   "source": [
    "analysis = Analysis(basepath=basepath)"
   ]
  },
  {
   "cell_type": "code",
   "execution_count": 8,
   "metadata": {},
   "outputs": [],
   "source": [
    "analysis.load_data()"
   ]
  },
  {
   "cell_type": "code",
   "execution_count": 9,
   "metadata": {},
   "outputs": [],
   "source": [
    "analysis.load_weeks(1)"
   ]
  },
  {
   "cell_type": "code",
   "execution_count": 10,
   "metadata": {},
   "outputs": [
    {
     "data": {
      "text/plain": [
       "dict_keys(['week1'])"
      ]
     },
     "execution_count": 10,
     "metadata": {},
     "output_type": "execute_result"
    }
   ],
   "source": [
    "analysis.weeks.keys()"
   ]
  },
  {
   "cell_type": "code",
   "execution_count": 11,
   "metadata": {},
   "outputs": [],
   "source": [
    "analysis.process_games()"
   ]
  },
  {
   "cell_type": "code",
   "execution_count": 12,
   "metadata": {},
   "outputs": [
    {
     "name": "stdout",
     "output_type": "stream",
     "text": [
      "PHI - week1\n"
     ]
    },
    {
     "name": "stderr",
     "output_type": "stream",
     "text": [
      "/Users/jacobhow/Documents/programming-projects/nfl-big-data/src/play.py:193: SettingWithCopyWarning: \n",
      "A value is trying to be set on a copy of a slice from a DataFrame.\n",
      "Try using .loc[row_indexer,col_indexer] = value instead\n",
      "\n",
      "See the caveats in the documentation: https://pandas.pydata.org/pandas-docs/stable/user_guide/indexing.html#returning-a-view-versus-a-copy\n",
      "  self.player_tracking['distance from line'] = self.player_tracking['x'] - self.line_of_scrimmage\n",
      "/Users/jacobhow/Documents/programming-projects/nfl-big-data/src/play.py:194: SettingWithCopyWarning: \n",
      "A value is trying to be set on a copy of a slice from a DataFrame.\n",
      "Try using .loc[row_indexer,col_indexer] = value instead\n",
      "\n",
      "See the caveats in the documentation: https://pandas.pydata.org/pandas-docs/stable/user_guide/indexing.html#returning-a-view-versus-a-copy\n",
      "  self.player_tracking['distance to sideline'] = [min((160/3) - y,y) for y in self.player_tracking['y'].values]\n",
      "/Users/jacobhow/Documents/programming-projects/nfl-big-data/src/play.py:195: SettingWithCopyWarning: \n",
      "A value is trying to be set on a copy of a slice from a DataFrame.\n",
      "Try using .loc[row_indexer,col_indexer] = value instead\n",
      "\n",
      "See the caveats in the documentation: https://pandas.pydata.org/pandas-docs/stable/user_guide/indexing.html#returning-a-view-versus-a-copy\n",
      "  self.player_tracking['distance from center'] = self.player_tracking['y'] - self.play_center\n"
     ]
    },
    {
     "name": "stdout",
     "output_type": "stream",
     "text": [
      "CLE - week1\n",
      "IND - week1\n",
      "MIA - week1\n",
      "BAL - week1\n",
      "NE - week1\n",
      "NYG - week1\n",
      "NO - week1\n",
      "ARI - week1\n",
      "CAR - week1\n",
      "GB - week1\n",
      "DET - week1\n",
      "OAK - week1\n",
      "CIN - week1\n",
      "NYJ - week1\n",
      "BUF - week1\n",
      "ATL - week1\n",
      "PIT - week1\n",
      "WAS - week1\n",
      "TEN - week1\n",
      "TB - week1\n",
      "SF - week1\n",
      "LA - week1\n",
      "DEN - week1\n",
      "JAX - week1\n",
      "DAL - week1\n",
      "CHI - week1\n",
      "HOU - week1\n",
      "KC - week1\n",
      "MIN - week1\n",
      "SEA - week1\n",
      "LAC - week1\n"
     ]
    }
   ],
   "source": [
    "analysis.process_teams()"
   ]
  },
  {
   "cell_type": "code",
   "execution_count": 44,
   "metadata": {},
   "outputs": [],
   "source": [
    "team = analysis.teams['CIN']"
   ]
  },
  {
   "cell_type": "code",
   "execution_count": 45,
   "metadata": {},
   "outputs": [],
   "source": [
    "game = team.games['week1']"
   ]
  },
  {
   "cell_type": "code",
   "execution_count": 46,
   "metadata": {},
   "outputs": [
    {
     "name": "stdout",
     "output_type": "stream",
     "text": [
      "Play 1: (13:18) (Shotgun) A.Luck pass short left intended for J.Doyle INTERCEPTED by P.Brown at CIN 5. P.Brown to CIN 7 for 2 yards (N.Hines).\n",
      "Play 2: (8:20) (Shotgun) A.Luck pass short right to R.Grant to IND 28 for 3 yards (D.Kirkpatrick).\n",
      "Play 3: (7:09) (Shotgun) A.Luck pass short right to R.Grant to IND 46 for 6 yards (P.Brown).\n",
      "Play 4: (6:03) (Shotgun) A.Luck pass short middle to C.Rogers to CIN 44 for 8 yards (P.Brown).\n",
      "Play 5: (5:27) (Shotgun) A.Luck pass short right to C.Rogers to CIN 41 for 3 yards (J.Bates).\n",
      "Play 6: (4:51) (Shotgun) A.Luck pass short middle to R.Grant to CIN 28 for 13 yards (S.Williams).\n",
      "Play 7: (2:49) (Shotgun) A.Luck pass incomplete short middle to E.Ebron [G.Atkins].\n",
      "Play 8: (2:44) (Shotgun) A.Luck pass short left to J.Wilkins to CIN 1 for 8 yards (W.Jackson).\n",
      "Play 9: (:04) (Shotgun) A.Luck pass short left to T.Hilton ran ob at IND 49 for 7 yards.\n",
      "Play 10: (14:04) (Shotgun) A.Luck pass incomplete short middle to T.Hilton (D.Dennard).\n",
      "Play 11: (13:59) A.Luck pass short left to E.Ebron ran ob at CIN 45 for 12 yards (P.Brown).\n",
      "Play 12: (13:31) (Shotgun) A.Luck pass short right to T.Hilton to CIN 32 for 13 yards (J.Bates).\n",
      "Play 13: (12:09) (Shotgun) A.Luck pass deep right to E.Ebron for 26 yards, TOUCHDOWN.\n",
      "Play 14: (8:56) B.Smith reported in as eligible.  A.Luck pass incomplete short right.\n",
      "Play 15: (8:48) (Shotgun) A.Luck pass short left to T.Hilton to IND 40 for 13 yards (C.Fejedelem).\n",
      "Play 16: (7:05) (Shotgun) A.Luck pass short middle to N.Hines to CIN 45 for 17 yards (C.Fejedelem).\n",
      "Play 17: (5:10) (Shotgun) A.Luck pass short right to E.Swoope to CIN 25 for 13 yards (C.Fejedelem) [R.Glasgow].\n",
      "Play 18: (3:50) (Shotgun) A.Luck pass short right to R.Grant to CIN 20 for 4 yards (P.Brown).\n",
      "Play 19: (3:11) (Shotgun) A.Luck pass incomplete short right to T.Hilton. Penalty on IND-E.Ebron, Offensive Pass Interference, declined.\n",
      "Play 20: (1:38) (Shotgun) A.Luck pass short left to J.Doyle to IND 29 for 5 yards (D.Dennard).\n",
      "Play 21: (1:20) (No Huddle, Shotgun) A.Luck pass short right to N.Hines to IND 36 for 7 yards (R.Glasgow).\n",
      "Play 22: (1:00) (No Huddle, Shotgun) A.Luck pass short middle to N.Hines to IND 44 for 8 yards (N.Vigil) [G.Atkins].\n",
      "Play 23: (:53) (Shotgun) A.Luck pass short left to E.Ebron to IND 45 for 1 yard (N.Vigil) [C.Lawson]. CIN-P.Brown was injured during the play. His return is Probable.\n",
      "Play 24: (:27) (No Huddle, Shotgun) A.Luck pass incomplete deep middle to T.Hilton (D.Kirkpatrick) [C.Dunlap]. PENALTY on CIN-C.Dunlap, Roughing the Passer, 15 yards, enforced at IND 49 - No Play.\n",
      "Play 25: (:19) (Shotgun) A.Luck pass short right to N.Hines to CIN 41 for -5 yards (R.Glasgow).\n",
      "Play 26: (:14) (Shotgun) A.Luck pass short middle to J.Doyle to CIN 33 for 8 yards (H.Nickerson).\n",
      "Play 27: (15:00) A.Luck pass incomplete short right to J.Doyle [M.Johnson].\n",
      "Play 28: (14:16) (Shotgun) A.Luck sacked at IND 17 for -6 yards (G.Atkins).\n",
      "Play 29: (11:30) (Shotgun) A.Luck pass short middle to R.Grant to IND 48 for 8 yards (D.Kirkpatrick).\n",
      "Play 30: (10:57) (No Huddle, Shotgun) A.Luck pass short right to R.Grant pushed ob at CIN 39 for 13 yards (C.Fejedelem).\n",
      "Play 31: (10:23) (No Huddle, Shotgun) A.Luck pass incomplete deep left to T.Hilton [J.Willis].\n",
      "Play 32: (10:17) (Shotgun) A.Luck pass short middle to J.Wilkins to CIN 32 for 7 yards (H.Nickerson).\n",
      "Play 33: (9:52) (No Huddle, Shotgun) A.Luck pass short middle to E.Ebron to CIN 20 for 12 yards (J.Bates).\n",
      "Play 34: (9:13) (No Huddle, Shotgun) A.Luck pass incomplete short right to T.Hilton (D.Kirkpatrick).\n",
      "Play 35: (9:06) (Shotgun) A.Luck pass short left to J.Wilkins to CIN 14 for 6 yards (N.Vigil).\n",
      "Play 36: (8:38) (No Huddle, Shotgun) A.Luck pass short left to J.Doyle to CIN 5 for 9 yards (C.Fejedelem).\n",
      "Play 37: (8:17) (No Huddle) A.Luck pass short left to T.Hilton for 5 yards, TOUCHDOWN. PENALTY on CIN-W.Jackson, Unnecessary Roughness, 15 yards, enforced between downs.\n",
      "Play 38: (3:42) (Shotgun) A.Luck pass incomplete deep right to T.Hilton.\n",
      "Play 39: (3:35) (Shotgun) A.Luck pass deep left to Z.Pascal to IND 49 for 18 yards (J.Bates, C.Fejedelem).\n",
      "Play 40: (1:54) (Shotgun) A.Luck sacked at IND 42 for -10 yards (C.Dunlap). FUMBLES (C.Dunlap) [C.Dunlap], touched at IND 47, RECOVERED by CIN-C.Fejedelem at IND 39. C.Fejedelem to IND 4 for 35 yards (T.Hilton). PENALTY on CIN-C.Dunlap, Roughing the Passer, 15 yards, enforced at CIN 48 - No Play.\n",
      "Play 41: (1:05) B.Smith reported in as eligible.  A.Luck sacked at CIN 37 for -8 yards (C.Dunlap).\n",
      "Play 42: (:21) (Shotgun) A.Luck pass incomplete short left to N.Hines.\n",
      "Play 43: (11:07) (Shotgun) A.Luck pass short right to T.Hilton to IND 33 for 8 yards (D.Kirkpatrick).\n",
      "Play 44: (10:07) (No Huddle, Shotgun) A.Luck pass incomplete deep right to R.Grant (D.Kirkpatrick).\n",
      "Play 45: (3:57) (Shotgun) A.Luck pass incomplete short middle to J.Doyle (C.Dunlap).\n",
      "Play 46: (3:52) (Shotgun) A.Luck pass incomplete short middle to T.Hilton (D.Kirkpatrick). Penalty on IND-R.Grant, Illegal Formation, declined.\n",
      "Play 47: (3:47) (Shotgun) A.Luck pass short left to J.Doyle to IND 37 for 12 yards (H.Nickerson).\n",
      "Play 48: (3:21) (No Huddle, Shotgun) A.Luck pass short middle to J.Doyle to IND 41 for 4 yards (D.Dennard).\n",
      "Play 49: (2:30) (No Huddle, Shotgun) A.Luck pass short right to C.Rogers to CIN 48 for 7 yards (N.Vigil).\n",
      "Play 50: (2:05) (No Huddle, Shotgun) A.Luck pass short left to R.Grant to CIN 44 for 4 yards (J.Bates).\n",
      "Play 51: (1:59) (Shotgun) A.Luck pass short middle to R.Grant to CIN 36 for 8 yards (W.Jackson).\n",
      "Play 52: (1:38) (No Huddle, Shotgun) A.Luck pass short middle to N.Hines to CIN 28 for 8 yards (N.Vigil).\n",
      "Play 53: (1:16) (No Huddle, Shotgun) A.Luck pass short left to N.Hines pushed ob at CIN 25 for 3 yards (W.Jackson) [J.Willis].\n",
      "Play 54: (1:09) (Shotgun) A.Luck pass short right to N.Hines to CIN 30 for -5 yards (N.Vigil).\n",
      "Play 55: (:46) (No Huddle, Shotgun) A.Luck pass incomplete short right to N.Hines.\n",
      "Play 56: (:40) (Shotgun) A.Luck pass short left to J.Doyle to CIN 15 for 15 yards (C.Fejedelem). FUMBLES (C.Fejedelem), RECOVERED by CIN-C.Fejedelem at CIN 17. C.Fejedelem for 83 yards, TOUCHDOWN.\n",
      "Play 57: (:18) (Shotgun) A.Luck pass short left to J.Doyle to IND 30 for 9 yards (N.Vigil).\n"
     ]
    }
   ],
   "source": [
    "game.list_plays()"
   ]
  },
  {
   "cell_type": "code",
   "execution_count": 16,
   "metadata": {},
   "outputs": [],
   "source": [
    "for play in game.plays:\n",
    "    play.determine_target()"
   ]
  },
  {
   "cell_type": "code",
   "execution_count": 17,
   "metadata": {},
   "outputs": [
    {
     "name": "stdout",
     "output_type": "stream",
     "text": [
      "Play 1: Delanie Walker\n",
      "Play 2: Corey Davis\n",
      "Play 3: Corey Davis\n",
      "Play 4: Taywan Taylor\n",
      "Play 5: Corey Davis\n",
      "Play 6: Tajae Sharpe\n",
      "Play 7: Derrick Henry\n",
      "Play 8: Luke Stocker\n",
      "Play 9: Delanie Walker\n",
      "Play 10: Corey Davis\n",
      "Play 11: Corey Davis\n",
      "Play 12: Dion Lewis\n",
      "Play 13: Corey Davis\n",
      "Play 14: Corey Davis\n",
      "Play 15: Delanie Walker\n",
      "Play 16: Tajae Sharpe\n",
      "Play 17: Dion Lewis\n",
      "Play 18: Delanie Walker\n",
      "Play 19: Tajae Sharpe\n",
      "Play 20: Corey Davis\n",
      "Play 21: Corey Davis\n",
      "Play 22: Delanie Walker\n",
      "Play 23: Luke Stocker\n",
      "Play 24: Dion Lewis\n",
      "Play 25: Dion Lewis\n",
      "Play 26: Jonnu Smith\n",
      "Play 27: Dion Lewis\n",
      "Play 28: Delanie Walker\n",
      "Play 29: Delanie Walker\n",
      "Play 30: Corey Davis\n",
      "Play 31: Dion Lewis\n",
      "Play 32: Corey Davis\n",
      "Play 33: Dion Lewis\n",
      "Play 34: Corey Davis\n",
      "Play 35: Jonnu Smith\n",
      "Play 36: Corey Davis\n",
      "Play 37: Jonnu Smith\n",
      "Play 38: Dion Lewis\n"
     ]
    }
   ],
   "source": [
    "for i in range(len(game.plays)):\n",
    "    print(f'Play {i+1}: {game.plays[i].target}')"
   ]
  },
  {
   "cell_type": "code",
   "execution_count": 18,
   "metadata": {},
   "outputs": [],
   "source": [
    "play_number = 30"
   ]
  },
  {
   "cell_type": "code",
   "execution_count": 19,
   "metadata": {},
   "outputs": [],
   "source": [
    "play = game.plays[play_number - 1]"
   ]
  },
  {
   "cell_type": "code",
   "execution_count": 20,
   "metadata": {},
   "outputs": [
    {
     "data": {
      "text/plain": [
       "gameId                                                           2018090903\n",
       "playId                                                                 3755\n",
       "playDescription           (3:33) (Shotgun) B.Gabbert pass incomplete dee...\n",
       "quarter                                                                   4\n",
       "down                                                                      1\n",
       "yardsToGo                                                                10\n",
       "possessionTeam                                                          TEN\n",
       "playType                                                     play_type_pass\n",
       "yardlineSide                                                            TEN\n",
       "yardlineNumber                                                           40\n",
       "offenseFormation                                                    SHOTGUN\n",
       "personnelO                                                 1 RB, 1 TE, 3 WR\n",
       "defendersInTheBox                                                         6\n",
       "numberOfPassRushers                                                       4\n",
       "personnelD                                                 4 DL, 2 LB, 5 DB\n",
       "typeDropback                                                    TRADITIONAL\n",
       "preSnapVisitorScore                                                      17\n",
       "preSnapHomeScore                                                         27\n",
       "gameClock                                                          03:33:00\n",
       "absoluteYardlineNumber                                                   70\n",
       "penaltyCodes                                                            NaN\n",
       "penaltyJerseyNumbers                                                    NaN\n",
       "passResult                                                                I\n",
       "offensePlayResult                                                         0\n",
       "playResult                                                                0\n",
       "epa                                                               -0.369934\n",
       "isDefensivePI                                                         False\n",
       "Name: 29, dtype: object"
      ]
     },
     "execution_count": 20,
     "metadata": {},
     "output_type": "execute_result"
    }
   ],
   "source": [
    "play.play_data"
   ]
  },
  {
   "cell_type": "code",
   "execution_count": 21,
   "metadata": {},
   "outputs": [
    {
     "name": "stdout",
     "output_type": "stream",
     "text": [
      "(3:33) (Shotgun) B.Gabbert pass incomplete deep right to C.Davis.\n"
     ]
    }
   ],
   "source": [
    "print(play)"
   ]
  },
  {
   "cell_type": "code",
   "execution_count": 22,
   "metadata": {},
   "outputs": [
    {
     "data": {
      "text/plain": [
       "'pass_outcome_incomplete'"
      ]
     },
     "execution_count": 22,
     "metadata": {},
     "output_type": "execute_result"
    }
   ],
   "source": [
    "play.outcome_event"
   ]
  },
  {
   "cell_type": "code",
   "execution_count": 23,
   "metadata": {},
   "outputs": [
    {
     "data": {
      "text/plain": [
       "{'ball_snap': 11,\n",
       " 'pass_forward': 33,\n",
       " 'pass_outcome_incomplete': 44,\n",
       " 'peak_dropback': 22,\n",
       " 'end_dropback': 27}"
      ]
     },
     "execution_count": 23,
     "metadata": {},
     "output_type": "execute_result"
    }
   ],
   "source": [
    "play.events"
   ]
  },
  {
   "cell_type": "code",
   "execution_count": 24,
   "metadata": {},
   "outputs": [],
   "source": [
    "play.determine_target()"
   ]
  },
  {
   "cell_type": "code",
   "execution_count": 25,
   "metadata": {},
   "outputs": [
    {
     "data": {
      "text/plain": [
       "'Corey Davis'"
      ]
     },
     "execution_count": 25,
     "metadata": {},
     "output_type": "execute_result"
    }
   ],
   "source": [
    "play.target.name"
   ]
  },
  {
   "cell_type": "code",
   "execution_count": 26,
   "metadata": {},
   "outputs": [],
   "source": [
    "play.determine_man_responsible_dbacks()"
   ]
  },
  {
   "cell_type": "code",
   "execution_count": 27,
   "metadata": {},
   "outputs": [],
   "source": [
    "play.determine_zone_responsible_dbacks()"
   ]
  },
  {
   "cell_type": "code",
   "execution_count": 28,
   "metadata": {},
   "outputs": [
    {
     "data": {
      "text/plain": [
       "[]"
      ]
     },
     "execution_count": 28,
     "metadata": {},
     "output_type": "execute_result"
    }
   ],
   "source": [
    "play.man_responsible_dbacks"
   ]
  },
  {
   "cell_type": "code",
   "execution_count": 29,
   "metadata": {},
   "outputs": [
    {
     "data": {
      "text/plain": [
       "[]"
      ]
     },
     "execution_count": 29,
     "metadata": {},
     "output_type": "execute_result"
    }
   ],
   "source": [
    "play.zone_responsible_dbacks"
   ]
  },
  {
   "cell_type": "code",
   "execution_count": 30,
   "metadata": {},
   "outputs": [
    {
     "data": {
      "image/png": "[encoded data removed]",
      "text/plain": [
       "<Figure size 864x383.76 with 1 Axes>"
      ]
     },
     "metadata": {
      "needs_background": "light"
     },
     "output_type": "display_data"
    }
   ],
   "source": [
    "play.plot_play(markers='number')"
   ]
  },
  {
   "cell_type": "code",
   "execution_count": 31,
   "metadata": {},
   "outputs": [
    {
     "data": {
      "image/png": "[encoded data removed]",
      "text/plain": [
       "<Figure size 864x383.76 with 1 Axes>"
      ]
     },
     "metadata": {
      "needs_background": "light"
     },
     "output_type": "display_data"
    }
   ],
   "source": [
    "play.plot_play_frame(index='ball_snap',show_coverage=True,markers='number')"
   ]
  },
  {
   "cell_type": "code",
   "execution_count": null,
   "metadata": {},
   "outputs": [],
   "source": []
  }
 ],
 "metadata": {
  "kernelspec": {
   "display_name": "Python 3",
   "language": "python",
   "name": "python3"
  },
  "language_info": {
   "codemirror_mode": {
    "name": "ipython",
    "version": 3
   },
   "file_extension": ".py",
   "mimetype": "text/x-python",
   "name": "python",
   "nbconvert_exporter": "python",
   "pygments_lexer": "ipython3",
   "version": "3.7.3"
  }
 },
 "nbformat": 4,
 "nbformat_minor": 4
}
