{
 "cells": [
  {
   "cell_type": "code",
   "execution_count": 1,
   "metadata": {},
   "outputs": [],
   "source": [
    "import numpy as np\n",
    "import pandas as pd\n",
    "import scipy as sp\n",
    "import scipy.stats as stats\n",
    "import matplotlib.pyplot as plt\n",
    "import matplotlib.patches as mpatches\n",
    "\n",
    "import os\n",
    "import glob\n",
    "import sys"
   ]
  },
  {
   "cell_type": "code",
   "execution_count": 2,
   "metadata": {},
   "outputs": [],
   "source": [
    "from utils import set_basepath"
   ]
  },
  {
   "cell_type": "code",
   "execution_count": 3,
   "metadata": {},
   "outputs": [
    {
     "data": {
      "text/plain": [
       "'/Users/jacobhow/Documents/programming-projects/nfl-big-data/notebooks/feature'"
      ]
     },
     "execution_count": 3,
     "metadata": {},
     "output_type": "execute_result"
    }
   ],
   "source": [
    "sys.path[0]"
   ]
  },
  {
   "cell_type": "code",
   "execution_count": 4,
   "metadata": {},
   "outputs": [],
   "source": [
    "basepath = set_basepath(steps=2)"
   ]
  },
  {
   "cell_type": "code",
   "execution_count": 5,
   "metadata": {},
   "outputs": [
    {
     "data": {
      "text/plain": [
       "'/Users/jacobhow/Documents/programming-projects/nfl-big-data'"
      ]
     },
     "execution_count": 5,
     "metadata": {},
     "output_type": "execute_result"
    }
   ],
   "source": [
    "sys.path[0]"
   ]
  },
  {
   "cell_type": "code",
   "execution_count": 6,
   "metadata": {},
   "outputs": [],
   "source": [
    "from src.team import Team\n",
    "from src.game import Game\n",
    "from src.play import Play\n",
    "from src.player import Player\n",
    "from src.analysis import Analysis"
   ]
  },
  {
   "cell_type": "code",
   "execution_count": 7,
   "metadata": {},
   "outputs": [],
   "source": [
    "analysis = Analysis(basepath=basepath)"
   ]
  },
  {
   "cell_type": "code",
   "execution_count": 8,
   "metadata": {},
   "outputs": [],
   "source": [
    "analysis.load_data()"
   ]
  },
  {
   "cell_type": "code",
   "execution_count": 9,
   "metadata": {},
   "outputs": [],
   "source": [
    "analysis.load_weeks(1)"
   ]
  },
  {
   "cell_type": "code",
   "execution_count": 10,
   "metadata": {},
   "outputs": [
    {
     "data": {
      "text/plain": [
       "dict_keys(['week1'])"
      ]
     },
     "execution_count": 10,
     "metadata": {},
     "output_type": "execute_result"
    }
   ],
   "source": [
    "analysis.weeks.keys()"
   ]
  },
  {
   "cell_type": "code",
   "execution_count": 11,
   "metadata": {},
   "outputs": [],
   "source": [
    "analysis.process_games()"
   ]
  },
  {
   "cell_type": "code",
   "execution_count": 12,
   "metadata": {},
   "outputs": [
    {
     "name": "stdout",
     "output_type": "stream",
     "text": [
      "IND - week1\n"
     ]
    },
    {
     "name": "stderr",
     "output_type": "stream",
     "text": [
      "/Users/jacobhow/Documents/programming-projects/nfl-big-data/src/play.py:170: SettingWithCopyWarning: \n",
      "A value is trying to be set on a copy of a slice from a DataFrame.\n",
      "Try using .loc[row_indexer,col_indexer] = value instead\n",
      "\n",
      "See the caveats in the documentation: https://pandas.pydata.org/pandas-docs/stable/user_guide/indexing.html#returning-a-view-versus-a-copy\n",
      "  self.player_tracking['distance from line'] = self.player_tracking['x'] - self.line_of_scrimmage\n",
      "/Users/jacobhow/Documents/programming-projects/nfl-big-data/src/play.py:171: SettingWithCopyWarning: \n",
      "A value is trying to be set on a copy of a slice from a DataFrame.\n",
      "Try using .loc[row_indexer,col_indexer] = value instead\n",
      "\n",
      "See the caveats in the documentation: https://pandas.pydata.org/pandas-docs/stable/user_guide/indexing.html#returning-a-view-versus-a-copy\n",
      "  self.player_tracking['distance to sideline'] = [min((160/3) - y,y) for y in self.player_tracking['y'].values]\n",
      "/Users/jacobhow/Documents/programming-projects/nfl-big-data/src/play.py:172: SettingWithCopyWarning: \n",
      "A value is trying to be set on a copy of a slice from a DataFrame.\n",
      "Try using .loc[row_indexer,col_indexer] = value instead\n",
      "\n",
      "See the caveats in the documentation: https://pandas.pydata.org/pandas-docs/stable/user_guide/indexing.html#returning-a-view-versus-a-copy\n",
      "  self.player_tracking['distance from center'] = self.player_tracking['y'] - self.play_center\n"
     ]
    },
    {
     "name": "stdout",
     "output_type": "stream",
     "text": [
      "CLE - week1\n",
      "MIA - week1\n"
     ]
    }
   ],
   "source": [
    "analysis.process_teams(teams=['IND','CLE','MIA'])"
   ]
  },
  {
   "cell_type": "code",
   "execution_count": 40,
   "metadata": {},
   "outputs": [],
   "source": [
    "team = analysis.teams['CLE']"
   ]
  },
  {
   "cell_type": "code",
   "execution_count": 41,
   "metadata": {},
   "outputs": [],
   "source": [
    "game = team.games['week1']"
   ]
  },
  {
   "cell_type": "code",
   "execution_count": 42,
   "metadata": {},
   "outputs": [
    {
     "name": "stdout",
     "output_type": "stream",
     "text": [
      "Play 1: (14:24) (Shotgun) B.Roethlisberger pass short left to J.Conner to PIT 33 for 5 yards (C.Kirksey).\n",
      "Play 2: (13:37) (Shotgun) B.Roethlisberger pass incomplete short middle to A.Brown.\n",
      "Play 3: (10:08) B.Roethlisberger pass short right to J.Conner to PIT 32 for 12 yards (C.Kirksey; J.Collins).\n",
      "Play 4: (8:10) (Shotgun) B.Roethlisberger pass incomplete short left to R.Switzer (C.Kirksey).\n",
      "Play 5: (8:05) (Shotgun) B.Roethlisberger pass short right to J.Smith-Schuster to PIT 43 for no gain (G.Avery). Penalty on PIT-J.Hunter, Illegal Block Above the Waist, declined.\n",
      "Play 6: (6:24) (Shotgun) B.Roethlisberger pass incomplete deep right to J.Hunter.\n",
      "Play 7: (6:19) (No Huddle, Shotgun) B.Roethlisberger pass incomplete short right to J.Hunter.\n",
      "Play 8: (6:15) (Shotgun) B.Roethlisberger pass deep right to J.Smith-Schuster to CLV 18 for 27 yards (J.Peppers) [G.Avery].\n",
      "Play 9: (5:32) (Shotgun) B.Roethlisberger pass short right intended for A.Brown INTERCEPTED by D.Ward at CLV 10. D.Ward to CLV 10 for no gain (J.James).\n",
      "Play 10: (:32) (Shotgun) B.Roethlisberger pass deep right to J.James to CLV 43 for 37 yards (D.Randall). CLV-E.Ogbah was injured during the play. His return is Probable.\n",
      "Play 11: (15:00) B.Roethlisberger sacked at CLV 47 for -4 yards (M.Garrett).\n",
      "Play 12: (12:57) (Shotgun) B.Roethlisberger pass short left to J.James to CLV 11 for 13 yards (D.Kindred).\n",
      "Play 13: (12:13) (Shotgun) B.Roethlisberger pass short right to A.Brown to CLV 8 for 3 yards.\n",
      "Play 14: (11:31) (Shotgun) B.Roethlisberger pass incomplete short right to J.Conner (E.Ogbah).\n",
      "Play 15: (11:28) (Shotgun) B.Roethlisberger pass incomplete short left to J.Hunter [M.Garrett]. PENALTY on CLV-M.Garrett, Roughing the Passer, 4 yards, enforced at CLV 8 - No Play.\n",
      "Play 16: (7:30) B.Roethlisberger pass deep middle intended for A.Brown INTERCEPTED by D.Randall at CLV 28. D.Randall to CLV 28 for no gain (A.Brown).\n",
      "Play 17: (2:33) (Shotgun) B.Roethlisberger pass short left to A.Brown to PIT 20 for 11 yards (T.Mitchell).\n",
      "Play 18: (2:06) (No Huddle, Shotgun) B.Roethlisberger pass short right to J.Conner to PIT 35 for 15 yards (J.Schobert; J.Peppers).\n",
      "Play 19: (1:01) (No Huddle, Shotgun) B.Roethlisberger pass short left to J.Smith-Schuster to CLV 37 for 8 yards (J.Collins).\n",
      "Play 20: (:55) (Shotgun) B.Roethlisberger pass incomplete deep left to A.Brown.\n",
      "Play 21: (:51) (Shotgun) B.Roethlisberger pass short right intended for J.James INTERCEPTED by D.Ward at CLV 29. D.Ward to PIT 45 for 26 yards (J.James).\n",
      "Play 22: (9:59) (Shotgun) B.Roethlisberger pass short right to J.Smith-Schuster pushed ob at CLV 7 for 67 yards (D.Randall).\n",
      "Play 23: (8:29) (Shotgun) B.Roethlisberger pass deep right to A.Brown for 22 yards, TOUCHDOWN.\n",
      "Play 24: (2:06) (Shotgun) B.Roethlisberger pass short left to J.Hunter to PIT 26 for 6 yards (T.Mitchell).\n",
      "Play 25: (:09) (Shotgun) B.Roethlisberger pass short right to A.Brown to CLV 49 for 19 yards (T.Mitchell).\n",
      "Play 26: (15:00) (Shotgun) B.Roethlisberger pass incomplete short left to J.Smith-Schuster.\n",
      "Play 27: (13:38) (Shotgun) B.Roethlisberger pass incomplete short left to J.Smith-Schuster (M.Garrett, J.Collins).\n",
      "Play 28: (8:56) (Shotgun) B.Roethlisberger pass incomplete short left to A.Brown.\n",
      "Play 29: (7:28) (Shotgun) B.Roethlisberger pass short left to J.Smith-Schuster ran ob at PIT 45 for 17 yards.\n",
      "Play 30: (6:48) (Shotgun) B.Roethlisberger sacked at PIT 39 for -6 yards (M.Garrett). FUMBLES (M.Garrett) [M.Garrett], RECOVERED by CLV-J.Schobert at PIT 37. J.Schobert to PIT 37 for no gain (D.DeCastro).\n",
      "Play 31: (3:56) (Shotgun) B.Roethlisberger pass short right to A.Brown to PIT 17 for 3 yards (T.Mitchell).\n",
      "Play 32: (1:52) (Shotgun) B.Roethlisberger pass incomplete short middle to J.James.\n",
      "Play 33: (1:48) (Shotgun) B.Roethlisberger pass incomplete deep left to J.Hunter.\n",
      "Play 34: (1:44) (Shotgun) B.Roethlisberger pass short right to A.Brown to PIT 32 for 1 yard (D.Ward).\n",
      "Play 35: (8:08) (Shotgun) B.Roethlisberger pass short right to J.Conner to PIT 38 for 19 yards (D.Randall).\n",
      "Play 36: (7:05) (Shotgun) B.Roethlisberger pass incomplete deep left to A.Brown (T.Mitchell).\n",
      "Play 37: (7:00) (Shotgun) B.Roethlisberger sacked at PIT 18 for -10 yards (L.Ogunjobi).\n",
      "Play 38: (6:14) (Shotgun) B.Roethlisberger pass short left to A.Brown to PIT 28 for 10 yards (T.Mitchell). CLV-D.Randall was injured during the play. His return is Probable.\n",
      "Play 39: (4:31) (Shotgun) B.Roethlisberger pass incomplete short right to A.Brown (D.Ward).\n",
      "Play 40: (4:27) (Shotgun) B.Roethlisberger pass short middle to A.Brown to CLV 43 for 12 yards (B.Boddy-Calhoun).\n",
      "Play 41: (3:11) (Shotgun) B.Roethlisberger pass short left to J.James to CLV 31 for 10 yards (J.Schobert).\n",
      "Play 42: (1:54) (Shotgun) B.Roethlisberger pass short right to J.Conner to CLV 24 for 6 yards (J.Schobert).\n",
      "Play 43: (1:17) (Shotgun) B.Roethlisberger pass short middle to A.Brown to PIT 38 for 12 yards (D.Ward).\n",
      "Play 44: (:52) (No Huddle, Shotgun) B.Roethlisberger pass incomplete deep left to J.Smith-Schuster (D.Randall). CLV-D.Randall was injured during the play. His return is Doubtful.\n",
      "Play 45: (:48) (Shotgun) B.Roethlisberger sacked at PIT 33 for -5 yards (G.Avery). FUMBLES (G.Avery) [G.Avery], RECOVERED by CLV-J.Schobert at PIT 40. J.Schobert pushed ob at PIT 12 for 28 yards (M.Pouncey). PENALTY on CLV-M.Garrett, Illegal Block Above the Waist, 10 yards, enforced at PIT 14.\n",
      "Play 46: (:09) (Shotgun) B.Roethlisberger pass incomplete deep middle to J.Hunter (J.Schobert).\n"
     ]
    }
   ],
   "source": [
    "game.list_plays()"
   ]
  },
  {
   "cell_type": "code",
   "execution_count": 43,
   "metadata": {},
   "outputs": [],
   "source": [
    "for play in game.plays:\n",
    "    play.determine_target()"
   ]
  },
  {
   "cell_type": "code",
   "execution_count": 44,
   "metadata": {},
   "outputs": [
    {
     "name": "stdout",
     "output_type": "stream",
     "text": [
      "Play 1: James Conner\n",
      "Play 2: Antonio Brown\n",
      "Play 3: James Conner\n",
      "Play 4: Ryan Switzer\n",
      "Play 5: Justin Hunter\n",
      "Play 6: Justin Hunter\n",
      "Play 7: Justin Hunter\n",
      "Play 8: JuJu Smith-Schuster\n",
      "Play 9: Antonio Brown\n",
      "Play 10: Jesse James\n",
      "Play 11: None\n",
      "Play 12: Jesse James\n",
      "Play 13: Antonio Brown\n",
      "Play 14: James Conner\n",
      "Play 15: Justin Hunter\n",
      "Play 16: Antonio Brown\n",
      "Play 17: Antonio Brown\n",
      "Play 18: James Conner\n",
      "Play 19: JuJu Smith-Schuster\n",
      "Play 20: Antonio Brown\n",
      "Play 21: Jesse James\n",
      "Play 22: JuJu Smith-Schuster\n",
      "Play 23: Antonio Brown\n",
      "Play 24: Justin Hunter\n",
      "Play 25: Antonio Brown\n",
      "Play 26: JuJu Smith-Schuster\n",
      "Play 27: JuJu Smith-Schuster\n",
      "Play 28: Antonio Brown\n",
      "Play 29: JuJu Smith-Schuster\n",
      "Play 30: None\n",
      "Play 31: Antonio Brown\n",
      "Play 32: Jesse James\n",
      "Play 33: Justin Hunter\n",
      "Play 34: Antonio Brown\n",
      "Play 35: James Conner\n",
      "Play 36: Antonio Brown\n",
      "Play 37: None\n",
      "Play 38: Antonio Brown\n",
      "Play 39: Antonio Brown\n",
      "Play 40: Antonio Brown\n",
      "Play 41: Jesse James\n",
      "Play 42: James Conner\n",
      "Play 43: Antonio Brown\n",
      "Play 44: JuJu Smith-Schuster\n",
      "Play 45: None\n",
      "Play 46: Justin Hunter\n"
     ]
    }
   ],
   "source": [
    "for i in range(len(game.plays)):\n",
    "    print(f'Play {i+1}: {game.plays[i].target}')"
   ]
  },
  {
   "cell_type": "code",
   "execution_count": 32,
   "metadata": {},
   "outputs": [],
   "source": [
    "play = game.plays[20]"
   ]
  },
  {
   "cell_type": "code",
   "execution_count": 17,
   "metadata": {},
   "outputs": [
    {
     "data": {
      "text/plain": [
       "gameId                                                           2018090902\n",
       "playId                                                                 2739\n",
       "playDescription           (6:31) A.Dalton pass incomplete short right to...\n",
       "quarter                                                                   3\n",
       "down                                                                      2\n",
       "yardsToGo                                                                 6\n",
       "possessionTeam                                                          CIN\n",
       "playType                                                     play_type_pass\n",
       "yardlineSide                                                            CIN\n",
       "yardlineNumber                                                           40\n",
       "offenseFormation                                                 SINGLEBACK\n",
       "personnelO                                                 1 RB, 1 TE, 3 WR\n",
       "defendersInTheBox                                                         6\n",
       "numberOfPassRushers                                                       4\n",
       "personnelD                                                 4 DL, 2 LB, 5 DB\n",
       "typeDropback                                         SCRAMBLE_ROLLOUT_RIGHT\n",
       "preSnapVisitorScore                                                      10\n",
       "preSnapHomeScore                                                         23\n",
       "gameClock                                                          06:31:00\n",
       "absoluteYardlineNumber                                                   50\n",
       "penaltyCodes                                                            NaN\n",
       "penaltyJerseyNumbers                                                    NaN\n",
       "passResult                                                                I\n",
       "offensePlayResult                                                         0\n",
       "playResult                                                                0\n",
       "epa                                                               -0.913387\n",
       "isDefensivePI                                                         False\n",
       "Name: 20, dtype: object"
      ]
     },
     "execution_count": 17,
     "metadata": {},
     "output_type": "execute_result"
    }
   ],
   "source": [
    "play.play_data"
   ]
  },
  {
   "cell_type": "code",
   "execution_count": 18,
   "metadata": {},
   "outputs": [
    {
     "name": "stdout",
     "output_type": "stream",
     "text": [
      "(6:31) A.Dalton pass incomplete short right to J.Mixon.\n"
     ]
    }
   ],
   "source": [
    "print(play)"
   ]
  },
  {
   "cell_type": "code",
   "execution_count": 19,
   "metadata": {},
   "outputs": [],
   "source": [
    "receivers = play.return_receivers()"
   ]
  },
  {
   "cell_type": "code",
   "execution_count": 20,
   "metadata": {},
   "outputs": [
    {
     "name": "stdout",
     "output_type": "stream",
     "text": [
      "A.J. Green\n",
      "Tyler Boyd\n",
      "John Ross\n",
      "C.J. Uzomah\n",
      "Joe Mixon\n"
     ]
    }
   ],
   "source": [
    "for r in receivers:\n",
    "    print(r)"
   ]
  },
  {
   "cell_type": "code",
   "execution_count": 21,
   "metadata": {},
   "outputs": [],
   "source": [
    "r = receivers[3]"
   ]
  },
  {
   "cell_type": "code",
   "execution_count": 22,
   "metadata": {},
   "outputs": [
    {
     "data": {
      "text/plain": [
       "'Uzomah'"
      ]
     },
     "execution_count": 22,
     "metadata": {},
     "output_type": "execute_result"
    }
   ],
   "source": [
    "last_name = r.name.split()[1]\n",
    "last_name"
   ]
  },
  {
   "cell_type": "code",
   "execution_count": 23,
   "metadata": {},
   "outputs": [
    {
     "data": {
      "text/plain": [
       "False"
      ]
     },
     "execution_count": 23,
     "metadata": {},
     "output_type": "execute_result"
    }
   ],
   "source": [
    "last_name in play.description"
   ]
  },
  {
   "cell_type": "code",
   "execution_count": 24,
   "metadata": {},
   "outputs": [
    {
     "name": "stdout",
     "output_type": "stream",
     "text": [
      "False\n",
      "False\n",
      "False\n",
      "False\n",
      "True\n"
     ]
    }
   ],
   "source": [
    "for r in receivers:\n",
    "    print(r.name.split()[1] in play.description)"
   ]
  },
  {
   "cell_type": "code",
   "execution_count": 45,
   "metadata": {},
   "outputs": [
    {
     "data": {
      "text/html": [
       "<div>\n",
       "<style scoped>\n",
       "    .dataframe tbody tr th:only-of-type {\n",
       "        vertical-align: middle;\n",
       "    }\n",
       "\n",
       "    .dataframe tbody tr th {\n",
       "        vertical-align: top;\n",
       "    }\n",
       "\n",
       "    .dataframe thead th {\n",
       "        text-align: right;\n",
       "    }\n",
       "</style>\n",
       "<table border=\"1\" class=\"dataframe\">\n",
       "  <thead>\n",
       "    <tr style=\"text-align: right;\">\n",
       "      <th></th>\n",
       "      <th>time</th>\n",
       "      <th>x</th>\n",
       "      <th>y</th>\n",
       "      <th>s</th>\n",
       "      <th>a</th>\n",
       "      <th>dis</th>\n",
       "      <th>o</th>\n",
       "      <th>dir</th>\n",
       "      <th>event</th>\n",
       "      <th>nflId</th>\n",
       "      <th>displayName</th>\n",
       "      <th>jerseyNumber</th>\n",
       "      <th>position</th>\n",
       "      <th>frameId</th>\n",
       "      <th>team</th>\n",
       "      <th>gameId</th>\n",
       "      <th>playId</th>\n",
       "      <th>playDirection</th>\n",
       "      <th>route</th>\n",
       "    </tr>\n",
       "  </thead>\n",
       "  <tbody>\n",
       "    <tr>\n",
       "      <th>0</th>\n",
       "      <td>2018-09-09T20:56:46.400Z</td>\n",
       "      <td>43.05</td>\n",
       "      <td>27.883333</td>\n",
       "      <td>0.08</td>\n",
       "      <td>0.07</td>\n",
       "      <td>0.01</td>\n",
       "      <td>NaN</td>\n",
       "      <td>NaN</td>\n",
       "      <td>None</td>\n",
       "      <td>NaN</td>\n",
       "      <td>Football</td>\n",
       "      <td>NaN</td>\n",
       "      <td>NaN</td>\n",
       "      <td>1</td>\n",
       "      <td>football</td>\n",
       "      <td>2018090901</td>\n",
       "      <td>5511</td>\n",
       "      <td>left</td>\n",
       "      <td>NaN</td>\n",
       "    </tr>\n",
       "    <tr>\n",
       "      <th>1</th>\n",
       "      <td>2018-09-09T20:56:46.500Z</td>\n",
       "      <td>43.03</td>\n",
       "      <td>27.903333</td>\n",
       "      <td>0.09</td>\n",
       "      <td>0.08</td>\n",
       "      <td>0.03</td>\n",
       "      <td>NaN</td>\n",
       "      <td>NaN</td>\n",
       "      <td>None</td>\n",
       "      <td>NaN</td>\n",
       "      <td>Football</td>\n",
       "      <td>NaN</td>\n",
       "      <td>NaN</td>\n",
       "      <td>2</td>\n",
       "      <td>football</td>\n",
       "      <td>2018090901</td>\n",
       "      <td>5511</td>\n",
       "      <td>left</td>\n",
       "      <td>NaN</td>\n",
       "    </tr>\n",
       "    <tr>\n",
       "      <th>2</th>\n",
       "      <td>2018-09-09T20:56:46.599Z</td>\n",
       "      <td>43.05</td>\n",
       "      <td>27.983333</td>\n",
       "      <td>0.46</td>\n",
       "      <td>0.08</td>\n",
       "      <td>0.09</td>\n",
       "      <td>NaN</td>\n",
       "      <td>NaN</td>\n",
       "      <td>None</td>\n",
       "      <td>NaN</td>\n",
       "      <td>Football</td>\n",
       "      <td>NaN</td>\n",
       "      <td>NaN</td>\n",
       "      <td>3</td>\n",
       "      <td>football</td>\n",
       "      <td>2018090901</td>\n",
       "      <td>5511</td>\n",
       "      <td>left</td>\n",
       "      <td>NaN</td>\n",
       "    </tr>\n",
       "    <tr>\n",
       "      <th>3</th>\n",
       "      <td>2018-09-09T20:56:46.700Z</td>\n",
       "      <td>43.07</td>\n",
       "      <td>27.983333</td>\n",
       "      <td>0.44</td>\n",
       "      <td>0.18</td>\n",
       "      <td>0.02</td>\n",
       "      <td>NaN</td>\n",
       "      <td>NaN</td>\n",
       "      <td>None</td>\n",
       "      <td>NaN</td>\n",
       "      <td>Football</td>\n",
       "      <td>NaN</td>\n",
       "      <td>NaN</td>\n",
       "      <td>4</td>\n",
       "      <td>football</td>\n",
       "      <td>2018090901</td>\n",
       "      <td>5511</td>\n",
       "      <td>left</td>\n",
       "      <td>NaN</td>\n",
       "    </tr>\n",
       "    <tr>\n",
       "      <th>4</th>\n",
       "      <td>2018-09-09T20:56:46.799Z</td>\n",
       "      <td>43.09</td>\n",
       "      <td>27.983333</td>\n",
       "      <td>0.40</td>\n",
       "      <td>0.25</td>\n",
       "      <td>0.02</td>\n",
       "      <td>NaN</td>\n",
       "      <td>NaN</td>\n",
       "      <td>None</td>\n",
       "      <td>NaN</td>\n",
       "      <td>Football</td>\n",
       "      <td>NaN</td>\n",
       "      <td>NaN</td>\n",
       "      <td>5</td>\n",
       "      <td>football</td>\n",
       "      <td>2018090901</td>\n",
       "      <td>5511</td>\n",
       "      <td>left</td>\n",
       "      <td>NaN</td>\n",
       "    </tr>\n",
       "    <tr>\n",
       "      <th>...</th>\n",
       "      <td>...</td>\n",
       "      <td>...</td>\n",
       "      <td>...</td>\n",
       "      <td>...</td>\n",
       "      <td>...</td>\n",
       "      <td>...</td>\n",
       "      <td>...</td>\n",
       "      <td>...</td>\n",
       "      <td>...</td>\n",
       "      <td>...</td>\n",
       "      <td>...</td>\n",
       "      <td>...</td>\n",
       "      <td>...</td>\n",
       "      <td>...</td>\n",
       "      <td>...</td>\n",
       "      <td>...</td>\n",
       "      <td>...</td>\n",
       "      <td>...</td>\n",
       "      <td>...</td>\n",
       "    </tr>\n",
       "    <tr>\n",
       "      <th>90</th>\n",
       "      <td>2018-09-09T20:56:55.400Z</td>\n",
       "      <td>73.19</td>\n",
       "      <td>16.583333</td>\n",
       "      <td>5.65</td>\n",
       "      <td>0.35</td>\n",
       "      <td>0.57</td>\n",
       "      <td>NaN</td>\n",
       "      <td>NaN</td>\n",
       "      <td>None</td>\n",
       "      <td>NaN</td>\n",
       "      <td>Football</td>\n",
       "      <td>NaN</td>\n",
       "      <td>NaN</td>\n",
       "      <td>91</td>\n",
       "      <td>football</td>\n",
       "      <td>2018090901</td>\n",
       "      <td>5511</td>\n",
       "      <td>left</td>\n",
       "      <td>NaN</td>\n",
       "    </tr>\n",
       "    <tr>\n",
       "      <th>91</th>\n",
       "      <td>2018-09-09T20:56:55.500Z</td>\n",
       "      <td>73.65</td>\n",
       "      <td>16.233333</td>\n",
       "      <td>5.73</td>\n",
       "      <td>0.51</td>\n",
       "      <td>0.58</td>\n",
       "      <td>NaN</td>\n",
       "      <td>NaN</td>\n",
       "      <td>None</td>\n",
       "      <td>NaN</td>\n",
       "      <td>Football</td>\n",
       "      <td>NaN</td>\n",
       "      <td>NaN</td>\n",
       "      <td>92</td>\n",
       "      <td>football</td>\n",
       "      <td>2018090901</td>\n",
       "      <td>5511</td>\n",
       "      <td>left</td>\n",
       "      <td>NaN</td>\n",
       "    </tr>\n",
       "    <tr>\n",
       "      <th>92</th>\n",
       "      <td>2018-09-09T20:56:55.599Z</td>\n",
       "      <td>74.11</td>\n",
       "      <td>15.893333</td>\n",
       "      <td>5.76</td>\n",
       "      <td>0.49</td>\n",
       "      <td>0.57</td>\n",
       "      <td>NaN</td>\n",
       "      <td>NaN</td>\n",
       "      <td>None</td>\n",
       "      <td>NaN</td>\n",
       "      <td>Football</td>\n",
       "      <td>NaN</td>\n",
       "      <td>NaN</td>\n",
       "      <td>93</td>\n",
       "      <td>football</td>\n",
       "      <td>2018090901</td>\n",
       "      <td>5511</td>\n",
       "      <td>left</td>\n",
       "      <td>NaN</td>\n",
       "    </tr>\n",
       "    <tr>\n",
       "      <th>93</th>\n",
       "      <td>2018-09-09T20:56:55.700Z</td>\n",
       "      <td>74.58</td>\n",
       "      <td>15.543333</td>\n",
       "      <td>5.79</td>\n",
       "      <td>0.02</td>\n",
       "      <td>0.58</td>\n",
       "      <td>NaN</td>\n",
       "      <td>NaN</td>\n",
       "      <td>pass_outcome_incomplete</td>\n",
       "      <td>NaN</td>\n",
       "      <td>Football</td>\n",
       "      <td>NaN</td>\n",
       "      <td>NaN</td>\n",
       "      <td>94</td>\n",
       "      <td>football</td>\n",
       "      <td>2018090901</td>\n",
       "      <td>5511</td>\n",
       "      <td>left</td>\n",
       "      <td>NaN</td>\n",
       "    </tr>\n",
       "    <tr>\n",
       "      <th>94</th>\n",
       "      <td>2018-09-09T20:56:55.799Z</td>\n",
       "      <td>75.03</td>\n",
       "      <td>15.213333</td>\n",
       "      <td>5.63</td>\n",
       "      <td>0.89</td>\n",
       "      <td>0.56</td>\n",
       "      <td>NaN</td>\n",
       "      <td>NaN</td>\n",
       "      <td>None</td>\n",
       "      <td>NaN</td>\n",
       "      <td>Football</td>\n",
       "      <td>NaN</td>\n",
       "      <td>NaN</td>\n",
       "      <td>95</td>\n",
       "      <td>football</td>\n",
       "      <td>2018090901</td>\n",
       "      <td>5511</td>\n",
       "      <td>left</td>\n",
       "      <td>NaN</td>\n",
       "    </tr>\n",
       "  </tbody>\n",
       "</table>\n",
       "<p>95 rows × 19 columns</p>\n",
       "</div>"
      ],
      "text/plain": [
       "                        time      x          y     s     a   dis   o  dir  \\\n",
       "0   2018-09-09T20:56:46.400Z  43.05  27.883333  0.08  0.07  0.01 NaN  NaN   \n",
       "1   2018-09-09T20:56:46.500Z  43.03  27.903333  0.09  0.08  0.03 NaN  NaN   \n",
       "2   2018-09-09T20:56:46.599Z  43.05  27.983333  0.46  0.08  0.09 NaN  NaN   \n",
       "3   2018-09-09T20:56:46.700Z  43.07  27.983333  0.44  0.18  0.02 NaN  NaN   \n",
       "4   2018-09-09T20:56:46.799Z  43.09  27.983333  0.40  0.25  0.02 NaN  NaN   \n",
       "..                       ...    ...        ...   ...   ...   ...  ..  ...   \n",
       "90  2018-09-09T20:56:55.400Z  73.19  16.583333  5.65  0.35  0.57 NaN  NaN   \n",
       "91  2018-09-09T20:56:55.500Z  73.65  16.233333  5.73  0.51  0.58 NaN  NaN   \n",
       "92  2018-09-09T20:56:55.599Z  74.11  15.893333  5.76  0.49  0.57 NaN  NaN   \n",
       "93  2018-09-09T20:56:55.700Z  74.58  15.543333  5.79  0.02  0.58 NaN  NaN   \n",
       "94  2018-09-09T20:56:55.799Z  75.03  15.213333  5.63  0.89  0.56 NaN  NaN   \n",
       "\n",
       "                      event  nflId displayName  jerseyNumber position  \\\n",
       "0                      None    NaN    Football           NaN      NaN   \n",
       "1                      None    NaN    Football           NaN      NaN   \n",
       "2                      None    NaN    Football           NaN      NaN   \n",
       "3                      None    NaN    Football           NaN      NaN   \n",
       "4                      None    NaN    Football           NaN      NaN   \n",
       "..                      ...    ...         ...           ...      ...   \n",
       "90                     None    NaN    Football           NaN      NaN   \n",
       "91                     None    NaN    Football           NaN      NaN   \n",
       "92                     None    NaN    Football           NaN      NaN   \n",
       "93  pass_outcome_incomplete    NaN    Football           NaN      NaN   \n",
       "94                     None    NaN    Football           NaN      NaN   \n",
       "\n",
       "    frameId      team      gameId  playId playDirection route  \n",
       "0         1  football  2018090901    5511          left   NaN  \n",
       "1         2  football  2018090901    5511          left   NaN  \n",
       "2         3  football  2018090901    5511          left   NaN  \n",
       "3         4  football  2018090901    5511          left   NaN  \n",
       "4         5  football  2018090901    5511          left   NaN  \n",
       "..      ...       ...         ...     ...           ...   ...  \n",
       "90       91  football  2018090901    5511          left   NaN  \n",
       "91       92  football  2018090901    5511          left   NaN  \n",
       "92       93  football  2018090901    5511          left   NaN  \n",
       "93       94  football  2018090901    5511          left   NaN  \n",
       "94       95  football  2018090901    5511          left   NaN  \n",
       "\n",
       "[95 rows x 19 columns]"
      ]
     },
     "execution_count": 45,
     "metadata": {},
     "output_type": "execute_result"
    }
   ],
   "source": [
    "play.fb_tracking"
   ]
  },
  {
   "cell_type": "code",
   "execution_count": 46,
   "metadata": {},
   "outputs": [
    {
     "data": {
      "text/plain": [
       "'pass_outcome_incomplete'"
      ]
     },
     "execution_count": 46,
     "metadata": {},
     "output_type": "execute_result"
    }
   ],
   "source": [
    "play.outcome_event"
   ]
  },
  {
   "cell_type": "code",
   "execution_count": 47,
   "metadata": {},
   "outputs": [
    {
     "data": {
      "text/plain": [
       "{'ball_snap': 11,\n",
       " 'pass_forward': 72,\n",
       " 'pass_arrived': 86,\n",
       " 'pass_outcome_incomplete': 94,\n",
       " 'peak_dropback': 27,\n",
       " 'end_dropback': 34}"
      ]
     },
     "execution_count": 47,
     "metadata": {},
     "output_type": "execute_result"
    }
   ],
   "source": [
    "play.events"
   ]
  },
  {
   "cell_type": "code",
   "execution_count": 48,
   "metadata": {},
   "outputs": [
    {
     "data": {
      "text/plain": [
       "94"
      ]
     },
     "execution_count": 48,
     "metadata": {},
     "output_type": "execute_result"
    }
   ],
   "source": [
    "play.events[play.outcome_event]"
   ]
  },
  {
   "cell_type": "code",
   "execution_count": null,
   "metadata": {},
   "outputs": [],
   "source": []
  }
 ],
 "metadata": {
  "kernelspec": {
   "display_name": "Python 3",
   "language": "python",
   "name": "python3"
  },
  "language_info": {
   "codemirror_mode": {
    "name": "ipython",
    "version": 3
   },
   "file_extension": ".py",
   "mimetype": "text/x-python",
   "name": "python",
   "nbconvert_exporter": "python",
   "pygments_lexer": "ipython3",
   "version": "3.7.3"
  }
 },
 "nbformat": 4,
 "nbformat_minor": 4
}
