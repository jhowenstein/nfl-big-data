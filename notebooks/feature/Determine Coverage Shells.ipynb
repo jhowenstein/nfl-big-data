{
 "cells": [
  {
   "cell_type": "code",
   "execution_count": 1,
   "metadata": {},
   "outputs": [],
   "source": [
    "import numpy as np\n",
    "import pandas as pd\n",
    "import scipy as sp\n",
    "import scipy.stats as stats\n",
    "import matplotlib.pyplot as plt\n",
    "import matplotlib.patches as mpatches\n",
    "\n",
    "import os\n",
    "import glob\n",
    "import sys"
   ]
  },
  {
   "cell_type": "code",
   "execution_count": 2,
   "metadata": {},
   "outputs": [],
   "source": [
    "from utils import set_basepath"
   ]
  },
  {
   "cell_type": "code",
   "execution_count": 3,
   "metadata": {},
   "outputs": [
    {
     "data": {
      "text/plain": [
       "'/Users/jacobhow/Documents/programming-projects/nfl-big-data/notebooks/feature'"
      ]
     },
     "execution_count": 3,
     "metadata": {},
     "output_type": "execute_result"
    }
   ],
   "source": [
    "sys.path[0]"
   ]
  },
  {
   "cell_type": "code",
   "execution_count": 4,
   "metadata": {},
   "outputs": [],
   "source": [
    "basepath = set_basepath(steps=2)"
   ]
  },
  {
   "cell_type": "code",
   "execution_count": 5,
   "metadata": {},
   "outputs": [
    {
     "data": {
      "text/plain": [
       "'/Users/jacobhow/Documents/programming-projects/nfl-big-data'"
      ]
     },
     "execution_count": 5,
     "metadata": {},
     "output_type": "execute_result"
    }
   ],
   "source": [
    "sys.path[0]"
   ]
  },
  {
   "cell_type": "code",
   "execution_count": 6,
   "metadata": {},
   "outputs": [],
   "source": [
    "from src.team import Team\n",
    "from src.game import Game\n",
    "from src.play import Play\n",
    "from src.player import Player\n",
    "from src.analysis import process_games"
   ]
  },
  {
   "cell_type": "code",
   "execution_count": 7,
   "metadata": {},
   "outputs": [],
   "source": [
    "games = pd.read_csv(os.path.join(basepath,'data/games.csv'))"
   ]
  },
  {
   "cell_type": "code",
   "execution_count": 8,
   "metadata": {},
   "outputs": [],
   "source": [
    "players = pd.read_csv(os.path.join(basepath,'data/players.csv')).set_index('nflId')"
   ]
  },
  {
   "cell_type": "code",
   "execution_count": 9,
   "metadata": {},
   "outputs": [],
   "source": [
    "plays = pd.read_csv(os.path.join(basepath,'data/plays.csv'))"
   ]
  },
  {
   "cell_type": "code",
   "execution_count": 10,
   "metadata": {},
   "outputs": [],
   "source": [
    "weeks = {}\n",
    "for i in range(3):\n",
    "    name = f'week{i+1}'\n",
    "    weeks[name] = pd.read_csv(os.path.join(basepath,'data',name+'-processed.csv'))"
   ]
  },
  {
   "cell_type": "code",
   "execution_count": 11,
   "metadata": {},
   "outputs": [],
   "source": [
    "teams = process_games(games,plays)"
   ]
  },
  {
   "cell_type": "code",
   "execution_count": 12,
   "metadata": {},
   "outputs": [],
   "source": [
    "team = teams['IND']"
   ]
  },
  {
   "cell_type": "code",
   "execution_count": 13,
   "metadata": {},
   "outputs": [
    {
     "data": {
      "text/plain": [
       "{'week1': <src.game.Game at 0x1a32fd8470>,\n",
       " 'week2': <src.game.Game at 0x1a32feb128>,\n",
       " 'week3': <src.game.Game at 0x1a33003e48>,\n",
       " 'week4': <src.game.Game at 0x10f4ddc50>,\n",
       " 'week5': <src.game.Game at 0x10f4f4ba8>,\n",
       " 'week6': <src.game.Game at 0x10f51f908>,\n",
       " 'week7': <src.game.Game at 0x10f5341d0>,\n",
       " 'week8': <src.game.Game at 0x10f54e908>,\n",
       " 'week10': <src.game.Game at 0x10f572710>,\n",
       " 'week11': <src.game.Game at 0x10f585c50>,\n",
       " 'week12': <src.game.Game at 0x10f5a01d0>,\n",
       " 'week13': <src.game.Game at 0x10f5bb3c8>,\n",
       " 'week14': <src.game.Game at 0x10f5ca668>,\n",
       " 'week15': <src.game.Game at 0x10f5e5470>,\n",
       " 'week16': <src.game.Game at 0x10f5ef9b0>,\n",
       " 'week17': <src.game.Game at 0x1a23fd1908>}"
      ]
     },
     "execution_count": 13,
     "metadata": {},
     "output_type": "execute_result"
    }
   ],
   "source": [
    "team.games"
   ]
  },
  {
   "cell_type": "code",
   "execution_count": 14,
   "metadata": {},
   "outputs": [
    {
     "name": "stderr",
     "output_type": "stream",
     "text": [
      "/Users/jacobhow/Documents/programming-projects/nfl-big-data/src/play.py:68: SettingWithCopyWarning: \n",
      "A value is trying to be set on a copy of a slice from a DataFrame.\n",
      "Try using .loc[row_indexer,col_indexer] = value instead\n",
      "\n",
      "See the caveats in the documentation: https://pandas.pydata.org/pandas-docs/stable/user_guide/indexing.html#returning-a-view-versus-a-copy\n",
      "  self.player_tracking['distance from line'] = self.player_tracking['x'] - self.line_of_scrimmage\n",
      "/Users/jacobhow/Documents/programming-projects/nfl-big-data/src/play.py:69: SettingWithCopyWarning: \n",
      "A value is trying to be set on a copy of a slice from a DataFrame.\n",
      "Try using .loc[row_indexer,col_indexer] = value instead\n",
      "\n",
      "See the caveats in the documentation: https://pandas.pydata.org/pandas-docs/stable/user_guide/indexing.html#returning-a-view-versus-a-copy\n",
      "  self.player_tracking['distance to sideline'] = [min((160/3) - y,y) for y in self.player_tracking['y'].values]\n",
      "/Users/jacobhow/Documents/programming-projects/nfl-big-data/src/play.py:70: SettingWithCopyWarning: \n",
      "A value is trying to be set on a copy of a slice from a DataFrame.\n",
      "Try using .loc[row_indexer,col_indexer] = value instead\n",
      "\n",
      "See the caveats in the documentation: https://pandas.pydata.org/pandas-docs/stable/user_guide/indexing.html#returning-a-view-versus-a-copy\n",
      "  self.player_tracking['distance from center'] = self.player_tracking['y'] - self.play_center\n"
     ]
    }
   ],
   "source": [
    "team.process_weeks(weeks)"
   ]
  },
  {
   "cell_type": "code",
   "execution_count": 111,
   "metadata": {
    "scrolled": false
   },
   "outputs": [
    {
     "name": "stdout",
     "output_type": "stream",
     "text": [
      "Play 1: (14:11) (Shotgun) A.Dalton pass short left intended for J.Mixon INTERCEPTED by K.Moore II at CIN 39. K.Moore II to CIN 7 for 32 yards (A.Dalton).\n",
      "Play 2: (12:32) A.Dalton pass short right to T.Eifert pushed ob at CIN 40 for 29 yards (M.Hooker).\n",
      "Play 3: (11:17) (Shotgun) A.Dalton pass short left to J.Mixon to IND 32 for 21 yards (C.Geathers).\n",
      "Play 4: (9:58) A.Dalton pass short right to A.Green to IND 22 for 5 yards (N.Hairston).\n",
      "Play 5: (8:35) (Shotgun) A.Dalton pass incomplete deep right to J.Ross.\n",
      "Play 6: (8:30) (Shotgun) A.Dalton pass incomplete short middle to T.Boyd (J.Sheard).\n",
      "Play 7: (1:23) A.Dalton pass short right to J.Mixon to CIN 33 for 8 yards (N.Hairston).\n",
      "Play 8: (:58) (No Huddle, Shotgun) A.Dalton pass short right to T.Kroft to CIN 42 for 9 yards (A.Walker, D.Leonard).\n",
      "Play 9: (:11) (Shotgun) A.Dalton pass short left to A.Green to IND 45 for 13 yards (M.Farley). FUMBLES (M.Farley), touched at IND 45, RECOVERED by IND-D.Leonard at IND 42. D.Leonard to IND 42 for no gain (T.Boyd).\n",
      "Play 10: (11:33) (Shotgun) A.Dalton pass short right to T.Boyd to CIN 20 for 5 yards (A.Walker).\n",
      "Play 11: (10:50) A.Dalton pass short right to G.Bernard to CIN 31 for 11 yards (C.Geathers).\n",
      "Play 12: (3:01) (Shotgun) A.Dalton pass short right to C.Uzomah to CIN 29 for 4 yards (C.Geathers).\n",
      "Play 13: (2:00) (Shotgun) A.Dalton pass incomplete deep left to A.Green. PENALTY on IND-Q.Wilson, Defensive Pass Interference, 36 yards, enforced at IND 39 - No Play.\n",
      "Play 14: (1:54) A.Dalton pass incomplete short right to A.Green.\n",
      "Play 15: (1:48) A.Dalton pass short left to J.Ross for 3 yards, TOUCHDOWN.\n",
      "Play 16: (13:04) (No Huddle, Shotgun) A.Dalton sacked at CIN 19 for -8 yards (M.Hunt).\n",
      "Play 17: (12:19) (Shotgun) A.Dalton pass short right to T.Eifert to CIN 25 for 6 yards (N.Hairston).\n",
      "Play 18: (8:13) (Shotgun) A.Dalton pass short right to J.Mixon to CIN 30 for 5 yards (D.Autry).\n",
      "Play 19: (7:38) A.Dalton pass short right to A.Green to CIN 36 for 6 yards (N.Hairston).\n",
      "Play 20: (7:05) A.Dalton pass short left to T.Boyd pushed ob at CIN 40 for 4 yards (K.Moore II).\n",
      "Play 21: (6:31) A.Dalton pass incomplete short right to J.Mixon.\n",
      "Play 22: (4:18) A.Dalton pass deep left to A.Green for 38 yards, TOUCHDOWN.\n",
      "Play 23: (14:37) (No Huddle, Shotgun) A.Dalton sacked at IND 47 for -6 yards (M.Hunt).\n",
      "Play 24: (13:55) (Shotgun) A.Dalton pass incomplete short right to T.Eifert. PENALTY on IND-C.Geathers, Defensive Pass Interference, 8 yards, enforced at IND 47 - No Play.\n",
      "Play 25: (13:23) A.Dalton pass short right to J.Mixon to IND 9 for 15 yards (C.Geathers).\n",
      "Play 26: (9:13) (Shotgun) A.Dalton pass short middle to A.Green to CIN 41 for 18 yards (M.Farley).\n",
      "Play 27: (7:37) (Shotgun) A.Dalton pass short middle to T.Eifert to CIN 43 for 9 yards (A.Walker, D.Leonard).\n",
      "Play 28: (6:57) (Shotgun) A.Dalton pass short right to T.Boyd ran ob at IND 40 for 17 yards (M.Hooker).\n",
      "Play 29: (6:14) (Shotgun) A.Dalton pass short middle to J.Mixon to IND 35 for 5 yards (D.Leonard).\n",
      "Play 30: (5:34) (Shotgun) A.Dalton pass short left to A.Green to IND 23 for 12 yards (C.Geathers). FUMBLES (C.Geathers), recovered by CIN-T.Boyd at IND 21. T.Boyd to IND 21 for no gain (Q.Wilson).\n",
      "Play 31: (4:13) A.Dalton pass incomplete deep left to A.Green [A.Walker].\n",
      "Play 32: (4:08) (Shotgun) A.Dalton pass incomplete short left to T.Boyd.\n"
     ]
    }
   ],
   "source": [
    "game = team.games['week1']\n",
    "game.list_plays()"
   ]
  },
  {
   "cell_type": "code",
   "execution_count": 112,
   "metadata": {},
   "outputs": [],
   "source": [
    "for play in game.plays:\n",
    "    play.process_players(players)\n",
    "    if play.hasForwardPass:\n",
    "        play.find_dropback_events()"
   ]
  },
  {
   "cell_type": "code",
   "execution_count": 340,
   "metadata": {},
   "outputs": [],
   "source": [
    "play_number = 6"
   ]
  },
  {
   "cell_type": "code",
   "execution_count": 341,
   "metadata": {},
   "outputs": [],
   "source": [
    "verbose = True"
   ]
  },
  {
   "cell_type": "code",
   "execution_count": 342,
   "metadata": {},
   "outputs": [],
   "source": [
    "play = game.plays[play_number - 1]"
   ]
  },
  {
   "cell_type": "code",
   "execution_count": 343,
   "metadata": {},
   "outputs": [
    {
     "data": {
      "text/plain": [
       "gameId                                                           2018090902\n",
       "playId                                                                  372\n",
       "playDescription           (8:30) (Shotgun) A.Dalton pass incomplete shor...\n",
       "quarter                                                                   1\n",
       "down                                                                      3\n",
       "yardsToGo                                                                12\n",
       "possessionTeam                                                          CIN\n",
       "playType                                                     play_type_pass\n",
       "yardlineSide                                                            IND\n",
       "yardlineNumber                                                           24\n",
       "offenseFormation                                                    SHOTGUN\n",
       "personnelO                                                 1 RB, 1 TE, 3 WR\n",
       "defendersInTheBox                                                         6\n",
       "numberOfPassRushers                                                       4\n",
       "personnelD                                                 4 DL, 1 LB, 6 DB\n",
       "typeDropback                                                    TRADITIONAL\n",
       "preSnapVisitorScore                                                       0\n",
       "preSnapHomeScore                                                          0\n",
       "gameClock                                                          08:30:00\n",
       "absoluteYardlineNumber                                                   86\n",
       "penaltyCodes                                                            NaN\n",
       "penaltyJerseyNumbers                                                    NaN\n",
       "passResult                                                                I\n",
       "offensePlayResult                                                         0\n",
       "playResult                                                                0\n",
       "epa                                                                -1.04809\n",
       "isDefensivePI                                                         False\n",
       "Name: 5, dtype: object"
      ]
     },
     "execution_count": 343,
     "metadata": {},
     "output_type": "execute_result"
    }
   ],
   "source": [
    "play.play_data"
   ]
  },
  {
   "cell_type": "code",
   "execution_count": 344,
   "metadata": {},
   "outputs": [
    {
     "data": {
      "image/png": "[encoded data removed]",
      "text/plain": [
       "<Figure size 864x383.76 with 1 Axes>"
      ]
     },
     "metadata": {
      "needs_background": "light"
     },
     "output_type": "display_data"
    }
   ],
   "source": [
    "play.plot_play(markers='number')"
   ]
  },
  {
   "cell_type": "code",
   "execution_count": 345,
   "metadata": {},
   "outputs": [
    {
     "name": "stdout",
     "output_type": "stream",
     "text": [
      "Quincy Wilson (CB-31) - Distance to Line: 5.9\n",
      "  Horizontal distance to John Ross = 0.5\n",
      "    Quincy Wilson (CB-31) covering John Ross (WR-15)\n",
      "  Horizontal distance to Tyler Boyd = 14.0\n",
      "Malik Hooker (FS-29) - Distance to Line: 13.4\n",
      "  Horizontal distance to A.J. Green = -1.3\n",
      "  Horizontal distance to Tyler Boyd = 3.9\n",
      "Kenny Moore II (CB-23) - Distance to Line: 5.3\n",
      "  Horizontal distance to A.J. Green = -2.5\n",
      "  Horizontal distance to Tyler Boyd = 2.8\n",
      "Darius Leonard (LB-53) - Distance to Line: 1.5\n",
      "  Horizontal distance to A.J. Green = -11.9\n",
      "  Horizontal distance to Tyler Boyd = -6.6\n",
      "Nate Hairston (CB-27) - Distance to Line: 4.7\n",
      "  Horizontal distance to Tyler Eifert = -2.0\n",
      "  Horizontal distance to Joe Mixon = -6.6\n",
      "Matthias Farley (SS-41) - Distance to Line: 13.0\n",
      "  Horizontal distance to Tyler Eifert = 2.5\n",
      "  Horizontal distance to Joe Mixon = -2.1\n",
      "Clayton Geathers (FS-26) - Distance to Line: 3.4\n",
      "  Horizontal distance to Tyler Eifert = 4.7\n",
      "  Horizontal distance to Joe Mixon = 0.2\n",
      "Quincy Wilson (CB-31) direction distance to John Ross (WR-15): 2.8\n",
      "    Quincy Wilson (CB-31) - Zone on separation criteria\n",
      "      Frame: 32: Positional Delta: 5.7  -  Movement Delta: 2.9\n"
     ]
    }
   ],
   "source": [
    "play.find_initial_locks(verbose=verbose)"
   ]
  },
  {
   "cell_type": "code",
   "execution_count": 346,
   "metadata": {},
   "outputs": [],
   "source": [
    "play.find_blitz()"
   ]
  },
  {
   "cell_type": "code",
   "execution_count": 347,
   "metadata": {},
   "outputs": [],
   "source": [
    "play.find_zone_locations()"
   ]
  },
  {
   "cell_type": "code",
   "execution_count": 348,
   "metadata": {
    "scrolled": false
   },
   "outputs": [
    {
     "data": {
      "image/png": "[encoded data removed]",
      "text/plain": [
       "<Figure size 864x383.76 with 1 Axes>"
      ]
     },
     "metadata": {
      "needs_background": "light"
     },
     "output_type": "display_data"
    }
   ],
   "source": [
    "play.plot_play_frame(index='ball_snap',show_coverage=True,markers='number')"
   ]
  },
  {
   "cell_type": "code",
   "execution_count": 349,
   "metadata": {},
   "outputs": [
    {
     "data": {
      "image/png": "[encoded data removed]",
      "text/plain": [
       "<Figure size 864x383.76 with 1 Axes>"
      ]
     },
     "metadata": {
      "needs_background": "light"
     },
     "output_type": "display_data"
    }
   ],
   "source": [
    "play.plot_play_frame(index='ball_snap',show_coverage=True,markers='position')"
   ]
  },
  {
   "cell_type": "code",
   "execution_count": 351,
   "metadata": {},
   "outputs": [],
   "source": [
    "db = play.return_player_by_number(27)"
   ]
  },
  {
   "cell_type": "code",
   "execution_count": 352,
   "metadata": {},
   "outputs": [
    {
     "data": {
      "text/plain": [
       "11.210000000000008"
      ]
     },
     "execution_count": 352,
     "metadata": {},
     "output_type": "execute_result"
    }
   ],
   "source": [
    "db.zone_loc[0] - play.line_of_scrimmage"
   ]
  },
  {
   "cell_type": "code",
   "execution_count": 353,
   "metadata": {},
   "outputs": [
    {
     "data": {
      "text/plain": [
       "-8.96"
      ]
     },
     "execution_count": 353,
     "metadata": {},
     "output_type": "execute_result"
    }
   ],
   "source": [
    "db.distance_from_center(play.events['pass_forward'])"
   ]
  },
  {
   "cell_type": "code",
   "execution_count": 101,
   "metadata": {},
   "outputs": [],
   "source": [
    "#dst = os.path.join(basepath,'coverages',team.abbr,game.info,f'Play {play_number}','images')"
   ]
  },
  {
   "cell_type": "code",
   "execution_count": 27,
   "metadata": {
    "scrolled": false
   },
   "outputs": [],
   "source": [
    "#play.plot_play_frames(markers='number',show_coverage=True,target_directory=dst)"
   ]
  },
  {
   "cell_type": "code",
   "execution_count": null,
   "metadata": {},
   "outputs": [],
   "source": []
  }
 ],
 "metadata": {
  "kernelspec": {
   "display_name": "Python 3",
   "language": "python",
   "name": "python3"
  },
  "language_info": {
   "codemirror_mode": {
    "name": "ipython",
    "version": 3
   },
   "file_extension": ".py",
   "mimetype": "text/x-python",
   "name": "python",
   "nbconvert_exporter": "python",
   "pygments_lexer": "ipython3",
   "version": "3.7.3"
  }
 },
 "nbformat": 4,
 "nbformat_minor": 4
}
