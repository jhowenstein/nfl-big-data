{
 "cells": [
  {
   "cell_type": "code",
   "execution_count": 1,
   "metadata": {},
   "outputs": [],
   "source": [
    "import numpy as np\n",
    "import pandas as pd\n",
    "import scipy as sp\n",
    "import scipy.stats as stats\n",
    "import matplotlib.pyplot as plt\n",
    "import matplotlib.patches as mpatches\n",
    "\n",
    "import os\n",
    "import glob\n",
    "import sys"
   ]
  },
  {
   "cell_type": "code",
   "execution_count": 2,
   "metadata": {},
   "outputs": [],
   "source": [
    "from utils import set_basepath"
   ]
  },
  {
   "cell_type": "code",
   "execution_count": 3,
   "metadata": {},
   "outputs": [
    {
     "data": {
      "text/plain": [
       "'/Users/jacobhow/Documents/programming-projects/nfl-big-data/notebooks/feature'"
      ]
     },
     "execution_count": 3,
     "metadata": {},
     "output_type": "execute_result"
    }
   ],
   "source": [
    "sys.path[0]"
   ]
  },
  {
   "cell_type": "code",
   "execution_count": 4,
   "metadata": {},
   "outputs": [],
   "source": [
    "basepath = set_basepath(steps=2)"
   ]
  },
  {
   "cell_type": "code",
   "execution_count": 5,
   "metadata": {},
   "outputs": [
    {
     "data": {
      "text/plain": [
       "'/Users/jacobhow/Documents/programming-projects/nfl-big-data'"
      ]
     },
     "execution_count": 5,
     "metadata": {},
     "output_type": "execute_result"
    }
   ],
   "source": [
    "sys.path[0]"
   ]
  },
  {
   "cell_type": "code",
   "execution_count": 6,
   "metadata": {},
   "outputs": [],
   "source": [
    "from src.team import Team\n",
    "from src.game import Game\n",
    "from src.play import Play\n",
    "from src.player import Player\n",
    "from src.analysis import process_games, aggregate_coverages"
   ]
  },
  {
   "cell_type": "code",
   "execution_count": 7,
   "metadata": {},
   "outputs": [],
   "source": [
    "games = pd.read_csv(os.path.join(basepath,'data/games.csv'))"
   ]
  },
  {
   "cell_type": "code",
   "execution_count": 8,
   "metadata": {},
   "outputs": [],
   "source": [
    "players = pd.read_csv(os.path.join(basepath,'data/players.csv')).set_index('nflId')"
   ]
  },
  {
   "cell_type": "code",
   "execution_count": 9,
   "metadata": {},
   "outputs": [],
   "source": [
    "plays = pd.read_csv(os.path.join(basepath,'data/plays.csv'))"
   ]
  },
  {
   "cell_type": "code",
   "execution_count": 10,
   "metadata": {},
   "outputs": [],
   "source": [
    "weeks = {}\n",
    "for i in range(17):\n",
    "    name = f'week{i+1}'\n",
    "    weeks[name] = pd.read_csv(os.path.join(basepath,'data',name+'-processed.csv'))"
   ]
  },
  {
   "cell_type": "code",
   "execution_count": 11,
   "metadata": {},
   "outputs": [],
   "source": [
    "teams = process_games(games,plays)"
   ]
  },
  {
   "cell_type": "code",
   "execution_count": 12,
   "metadata": {},
   "outputs": [],
   "source": [
    "team = teams['SEA']"
   ]
  },
  {
   "cell_type": "code",
   "execution_count": 13,
   "metadata": {},
   "outputs": [
    {
     "data": {
      "text/plain": [
       "{'week2': <src.game.Game at 0x1a2472b898>,\n",
       " 'week3': <src.game.Game at 0x1a24743e80>,\n",
       " 'week4': <src.game.Game at 0x11019edd8>,\n",
       " 'week5': <src.game.Game at 0x1101bf940>,\n",
       " 'week6': <src.game.Game at 0x1a24791898>,\n",
       " 'week8': <src.game.Game at 0x1a247be0b8>,\n",
       " 'week9': <src.game.Game at 0x1a247da160>,\n",
       " 'week10': <src.game.Game at 0x1a247ed898>,\n",
       " 'week11': <src.game.Game at 0x1a247f6160>,\n",
       " 'week12': <src.game.Game at 0x1a24807dd8>,\n",
       " 'week13': <src.game.Game at 0x1a24835160>,\n",
       " 'week14': <src.game.Game at 0x1a24846e80>,\n",
       " 'week15': <src.game.Game at 0x1a248630b8>,\n",
       " 'week16': <src.game.Game at 0x1a24875be0>,\n",
       " 'week17': <src.game.Game at 0x1a2488f6a0>}"
      ]
     },
     "execution_count": 13,
     "metadata": {},
     "output_type": "execute_result"
    }
   ],
   "source": [
    "team.games"
   ]
  },
  {
   "cell_type": "code",
   "execution_count": 14,
   "metadata": {},
   "outputs": [
    {
     "name": "stdout",
     "output_type": "stream",
     "text": [
      "week1\n",
      "week2\n"
     ]
    },
    {
     "name": "stderr",
     "output_type": "stream",
     "text": [
      "/Users/jacobhow/Documents/programming-projects/nfl-big-data/src/play.py:166: SettingWithCopyWarning: \n",
      "A value is trying to be set on a copy of a slice from a DataFrame.\n",
      "Try using .loc[row_indexer,col_indexer] = value instead\n",
      "\n",
      "See the caveats in the documentation: https://pandas.pydata.org/pandas-docs/stable/user_guide/indexing.html#returning-a-view-versus-a-copy\n",
      "  self.player_tracking['distance from line'] = self.player_tracking['x'] - self.line_of_scrimmage\n",
      "/Users/jacobhow/Documents/programming-projects/nfl-big-data/src/play.py:167: SettingWithCopyWarning: \n",
      "A value is trying to be set on a copy of a slice from a DataFrame.\n",
      "Try using .loc[row_indexer,col_indexer] = value instead\n",
      "\n",
      "See the caveats in the documentation: https://pandas.pydata.org/pandas-docs/stable/user_guide/indexing.html#returning-a-view-versus-a-copy\n",
      "  self.player_tracking['distance to sideline'] = [min((160/3) - y,y) for y in self.player_tracking['y'].values]\n",
      "/Users/jacobhow/Documents/programming-projects/nfl-big-data/src/play.py:168: SettingWithCopyWarning: \n",
      "A value is trying to be set on a copy of a slice from a DataFrame.\n",
      "Try using .loc[row_indexer,col_indexer] = value instead\n",
      "\n",
      "See the caveats in the documentation: https://pandas.pydata.org/pandas-docs/stable/user_guide/indexing.html#returning-a-view-versus-a-copy\n",
      "  self.player_tracking['distance from center'] = self.player_tracking['y'] - self.play_center\n"
     ]
    },
    {
     "name": "stdout",
     "output_type": "stream",
     "text": [
      "week3\n",
      "week4\n",
      "week5\n",
      "week6\n",
      "week7\n",
      "week8\n",
      "week9\n",
      "week10\n",
      "week11\n",
      "week12\n",
      "week13\n",
      "week14\n",
      "week15\n",
      "week16\n",
      "week17\n"
     ]
    }
   ],
   "source": [
    "team.process_weeks(weeks)"
   ]
  },
  {
   "cell_type": "code",
   "execution_count": 15,
   "metadata": {},
   "outputs": [],
   "source": [
    "for game in team.games.values():\n",
    "    game.process_plays(players)"
   ]
  },
  {
   "cell_type": "code",
   "execution_count": 16,
   "metadata": {},
   "outputs": [],
   "source": [
    "game_coverages = []\n",
    "\n",
    "for game in team.games.values():\n",
    "    _coverage = game.classify_defensive_back_coverages(positions='CB',useId=True)\n",
    "    game_coverages.append(_coverage)"
   ]
  },
  {
   "cell_type": "code",
   "execution_count": 17,
   "metadata": {},
   "outputs": [],
   "source": [
    "season_coverages = aggregate_coverages(coverages=game_coverages)"
   ]
  },
  {
   "cell_type": "code",
   "execution_count": 18,
   "metadata": {},
   "outputs": [
    {
     "data": {
      "text/plain": [
       "{2553456: {'snaps': 81,\n",
       "  'zone': 6,\n",
       "  'zone-deep': 9,\n",
       "  'zone-over': 25,\n",
       "  'man': 27,\n",
       "  'man-over': 9,\n",
       "  'blitz': 5,\n",
       "  'games played': 8},\n",
       " 2558259: {'snaps': 489,\n",
       "  'zone': 50,\n",
       "  'zone-deep': 70,\n",
       "  'zone-over': 112,\n",
       "  'man': 168,\n",
       "  'man-over': 85,\n",
       "  'blitz': 4,\n",
       "  'games played': 15},\n",
       " 2553637: {'snaps': 404,\n",
       "  'zone': 57,\n",
       "  'zone-deep': 19,\n",
       "  'zone-over': 171,\n",
       "  'man': 44,\n",
       "  'man-over': 94,\n",
       "  'blitz': 19,\n",
       "  'games played': 15},\n",
       " 2560728: {'snaps': 471,\n",
       "  'zone': 36,\n",
       "  'zone-deep': 91,\n",
       "  'zone-over': 96,\n",
       "  'man': 175,\n",
       "  'man-over': 72,\n",
       "  'blitz': 1,\n",
       "  'games played': 14},\n",
       " 2534846: {'snaps': 16,\n",
       "  'zone': 1,\n",
       "  'zone-deep': 1,\n",
       "  'zone-over': 4,\n",
       "  'man': 4,\n",
       "  'man-over': 6,\n",
       "  'blitz': 0,\n",
       "  'games played': 3}}"
      ]
     },
     "execution_count": 18,
     "metadata": {},
     "output_type": "execute_result"
    }
   ],
   "source": [
    "season_coverages"
   ]
  },
  {
   "cell_type": "code",
   "execution_count": 19,
   "metadata": {},
   "outputs": [],
   "source": [
    "df = pd.DataFrame.from_dict(season_coverages, orient='index')"
   ]
  },
  {
   "cell_type": "code",
   "execution_count": 20,
   "metadata": {},
   "outputs": [
    {
     "data": {
      "text/html": [
       "<div>\n",
       "<style scoped>\n",
       "    .dataframe tbody tr th:only-of-type {\n",
       "        vertical-align: middle;\n",
       "    }\n",
       "\n",
       "    .dataframe tbody tr th {\n",
       "        vertical-align: top;\n",
       "    }\n",
       "\n",
       "    .dataframe thead th {\n",
       "        text-align: right;\n",
       "    }\n",
       "</style>\n",
       "<table border=\"1\" class=\"dataframe\">\n",
       "  <thead>\n",
       "    <tr style=\"text-align: right;\">\n",
       "      <th></th>\n",
       "      <th>snaps</th>\n",
       "      <th>zone</th>\n",
       "      <th>zone-deep</th>\n",
       "      <th>zone-over</th>\n",
       "      <th>man</th>\n",
       "      <th>man-over</th>\n",
       "      <th>blitz</th>\n",
       "      <th>games played</th>\n",
       "    </tr>\n",
       "  </thead>\n",
       "  <tbody>\n",
       "    <tr>\n",
       "      <th>2553456</th>\n",
       "      <td>81</td>\n",
       "      <td>6</td>\n",
       "      <td>9</td>\n",
       "      <td>25</td>\n",
       "      <td>27</td>\n",
       "      <td>9</td>\n",
       "      <td>5</td>\n",
       "      <td>8</td>\n",
       "    </tr>\n",
       "    <tr>\n",
       "      <th>2558259</th>\n",
       "      <td>489</td>\n",
       "      <td>50</td>\n",
       "      <td>70</td>\n",
       "      <td>112</td>\n",
       "      <td>168</td>\n",
       "      <td>85</td>\n",
       "      <td>4</td>\n",
       "      <td>15</td>\n",
       "    </tr>\n",
       "    <tr>\n",
       "      <th>2553637</th>\n",
       "      <td>404</td>\n",
       "      <td>57</td>\n",
       "      <td>19</td>\n",
       "      <td>171</td>\n",
       "      <td>44</td>\n",
       "      <td>94</td>\n",
       "      <td>19</td>\n",
       "      <td>15</td>\n",
       "    </tr>\n",
       "    <tr>\n",
       "      <th>2560728</th>\n",
       "      <td>471</td>\n",
       "      <td>36</td>\n",
       "      <td>91</td>\n",
       "      <td>96</td>\n",
       "      <td>175</td>\n",
       "      <td>72</td>\n",
       "      <td>1</td>\n",
       "      <td>14</td>\n",
       "    </tr>\n",
       "    <tr>\n",
       "      <th>2534846</th>\n",
       "      <td>16</td>\n",
       "      <td>1</td>\n",
       "      <td>1</td>\n",
       "      <td>4</td>\n",
       "      <td>4</td>\n",
       "      <td>6</td>\n",
       "      <td>0</td>\n",
       "      <td>3</td>\n",
       "    </tr>\n",
       "  </tbody>\n",
       "</table>\n",
       "</div>"
      ],
      "text/plain": [
       "         snaps  zone  zone-deep  zone-over  man  man-over  blitz  games played\n",
       "2553456     81     6          9         25   27         9      5             8\n",
       "2558259    489    50         70        112  168        85      4            15\n",
       "2553637    404    57         19        171   44        94     19            15\n",
       "2560728    471    36         91         96  175        72      1            14\n",
       "2534846     16     1          1          4    4         6      0             3"
      ]
     },
     "execution_count": 20,
     "metadata": {},
     "output_type": "execute_result"
    }
   ],
   "source": [
    "df"
   ]
  },
  {
   "cell_type": "code",
   "execution_count": 21,
   "metadata": {},
   "outputs": [
    {
     "data": {
      "text/html": [
       "<div>\n",
       "<style scoped>\n",
       "    .dataframe tbody tr th:only-of-type {\n",
       "        vertical-align: middle;\n",
       "    }\n",
       "\n",
       "    .dataframe tbody tr th {\n",
       "        vertical-align: top;\n",
       "    }\n",
       "\n",
       "    .dataframe thead th {\n",
       "        text-align: right;\n",
       "    }\n",
       "</style>\n",
       "<table border=\"1\" class=\"dataframe\">\n",
       "  <thead>\n",
       "    <tr style=\"text-align: right;\">\n",
       "      <th></th>\n",
       "      <th>height</th>\n",
       "      <th>weight</th>\n",
       "      <th>birthDate</th>\n",
       "      <th>collegeName</th>\n",
       "      <th>position</th>\n",
       "      <th>displayName</th>\n",
       "    </tr>\n",
       "    <tr>\n",
       "      <th>nflId</th>\n",
       "      <th></th>\n",
       "      <th></th>\n",
       "      <th></th>\n",
       "      <th></th>\n",
       "      <th></th>\n",
       "      <th></th>\n",
       "    </tr>\n",
       "  </thead>\n",
       "  <tbody>\n",
       "    <tr>\n",
       "      <th>2539334</th>\n",
       "      <td>72</td>\n",
       "      <td>190</td>\n",
       "      <td>1990-09-10</td>\n",
       "      <td>Washington</td>\n",
       "      <td>CB</td>\n",
       "      <td>Desmond Trufant</td>\n",
       "    </tr>\n",
       "    <tr>\n",
       "      <th>2539653</th>\n",
       "      <td>70</td>\n",
       "      <td>186</td>\n",
       "      <td>1988-11-01</td>\n",
       "      <td>Southeastern Louisiana</td>\n",
       "      <td>CB</td>\n",
       "      <td>Robert Alford</td>\n",
       "    </tr>\n",
       "    <tr>\n",
       "      <th>2543850</th>\n",
       "      <td>69</td>\n",
       "      <td>186</td>\n",
       "      <td>1991-12-18</td>\n",
       "      <td>Purdue</td>\n",
       "      <td>SS</td>\n",
       "      <td>Ricardo Allen</td>\n",
       "    </tr>\n",
       "    <tr>\n",
       "      <th>2555162</th>\n",
       "      <td>73</td>\n",
       "      <td>227</td>\n",
       "      <td>1994-11-04</td>\n",
       "      <td>Louisiana State</td>\n",
       "      <td>MLB</td>\n",
       "      <td>Deion Jones</td>\n",
       "    </tr>\n",
       "    <tr>\n",
       "      <th>2555255</th>\n",
       "      <td>75</td>\n",
       "      <td>232</td>\n",
       "      <td>1993-07-01</td>\n",
       "      <td>Minnesota</td>\n",
       "      <td>OLB</td>\n",
       "      <td>De'Vondre Campbell</td>\n",
       "    </tr>\n",
       "  </tbody>\n",
       "</table>\n",
       "</div>"
      ],
      "text/plain": [
       "        height  weight   birthDate             collegeName position  \\\n",
       "nflId                                                                 \n",
       "2539334     72     190  1990-09-10              Washington       CB   \n",
       "2539653     70     186  1988-11-01  Southeastern Louisiana       CB   \n",
       "2543850     69     186  1991-12-18                  Purdue       SS   \n",
       "2555162     73     227  1994-11-04         Louisiana State      MLB   \n",
       "2555255     75     232  1993-07-01               Minnesota      OLB   \n",
       "\n",
       "                displayName  \n",
       "nflId                        \n",
       "2539334     Desmond Trufant  \n",
       "2539653       Robert Alford  \n",
       "2543850       Ricardo Allen  \n",
       "2555162         Deion Jones  \n",
       "2555255  De'Vondre Campbell  "
      ]
     },
     "execution_count": 21,
     "metadata": {},
     "output_type": "execute_result"
    }
   ],
   "source": [
    "players.head()"
   ]
  },
  {
   "cell_type": "code",
   "execution_count": 22,
   "metadata": {},
   "outputs": [],
   "source": [
    "df = pd.merge(players[['displayName','position']],df,left_index=True,right_index=True)"
   ]
  },
  {
   "cell_type": "code",
   "execution_count": 23,
   "metadata": {},
   "outputs": [
    {
     "data": {
      "text/html": [
       "<div>\n",
       "<style scoped>\n",
       "    .dataframe tbody tr th:only-of-type {\n",
       "        vertical-align: middle;\n",
       "    }\n",
       "\n",
       "    .dataframe tbody tr th {\n",
       "        vertical-align: top;\n",
       "    }\n",
       "\n",
       "    .dataframe thead th {\n",
       "        text-align: right;\n",
       "    }\n",
       "</style>\n",
       "<table border=\"1\" class=\"dataframe\">\n",
       "  <thead>\n",
       "    <tr style=\"text-align: right;\">\n",
       "      <th></th>\n",
       "      <th>displayName</th>\n",
       "      <th>position</th>\n",
       "      <th>snaps</th>\n",
       "      <th>zone</th>\n",
       "      <th>zone-deep</th>\n",
       "      <th>zone-over</th>\n",
       "      <th>man</th>\n",
       "      <th>man-over</th>\n",
       "      <th>blitz</th>\n",
       "      <th>games played</th>\n",
       "    </tr>\n",
       "  </thead>\n",
       "  <tbody>\n",
       "    <tr>\n",
       "      <th>2553456</th>\n",
       "      <td>Akeem King</td>\n",
       "      <td>CB</td>\n",
       "      <td>81</td>\n",
       "      <td>6</td>\n",
       "      <td>9</td>\n",
       "      <td>25</td>\n",
       "      <td>27</td>\n",
       "      <td>9</td>\n",
       "      <td>5</td>\n",
       "      <td>8</td>\n",
       "    </tr>\n",
       "    <tr>\n",
       "      <th>2553637</th>\n",
       "      <td>Justin Coleman</td>\n",
       "      <td>CB</td>\n",
       "      <td>404</td>\n",
       "      <td>57</td>\n",
       "      <td>19</td>\n",
       "      <td>171</td>\n",
       "      <td>44</td>\n",
       "      <td>94</td>\n",
       "      <td>19</td>\n",
       "      <td>15</td>\n",
       "    </tr>\n",
       "    <tr>\n",
       "      <th>2558259</th>\n",
       "      <td>Shaquill Griffin</td>\n",
       "      <td>CB</td>\n",
       "      <td>489</td>\n",
       "      <td>50</td>\n",
       "      <td>70</td>\n",
       "      <td>112</td>\n",
       "      <td>168</td>\n",
       "      <td>85</td>\n",
       "      <td>4</td>\n",
       "      <td>15</td>\n",
       "    </tr>\n",
       "    <tr>\n",
       "      <th>2560728</th>\n",
       "      <td>Tre Flowers</td>\n",
       "      <td>CB</td>\n",
       "      <td>471</td>\n",
       "      <td>36</td>\n",
       "      <td>91</td>\n",
       "      <td>96</td>\n",
       "      <td>175</td>\n",
       "      <td>72</td>\n",
       "      <td>1</td>\n",
       "      <td>14</td>\n",
       "    </tr>\n",
       "    <tr>\n",
       "      <th>2534846</th>\n",
       "      <td>Neiko Thorpe</td>\n",
       "      <td>CB</td>\n",
       "      <td>16</td>\n",
       "      <td>1</td>\n",
       "      <td>1</td>\n",
       "      <td>4</td>\n",
       "      <td>4</td>\n",
       "      <td>6</td>\n",
       "      <td>0</td>\n",
       "      <td>3</td>\n",
       "    </tr>\n",
       "  </tbody>\n",
       "</table>\n",
       "</div>"
      ],
      "text/plain": [
       "              displayName position  snaps  zone  zone-deep  zone-over  man  \\\n",
       "2553456        Akeem King       CB     81     6          9         25   27   \n",
       "2553637    Justin Coleman       CB    404    57         19        171   44   \n",
       "2558259  Shaquill Griffin       CB    489    50         70        112  168   \n",
       "2560728       Tre Flowers       CB    471    36         91         96  175   \n",
       "2534846      Neiko Thorpe       CB     16     1          1          4    4   \n",
       "\n",
       "         man-over  blitz  games played  \n",
       "2553456         9      5             8  \n",
       "2553637        94     19            15  \n",
       "2558259        85      4            15  \n",
       "2560728        72      1            14  \n",
       "2534846         6      0             3  "
      ]
     },
     "execution_count": 23,
     "metadata": {},
     "output_type": "execute_result"
    }
   ],
   "source": [
    "df"
   ]
  },
  {
   "cell_type": "markdown",
   "metadata": {},
   "source": [
    "coverage_names = ('zone','zone-deep','zone-over','man','man-over','blitz')\n",
    "\n",
    "for key in coverage_names:\n",
    "    df[key] /= df['snaps']"
   ]
  },
  {
   "cell_type": "code",
   "execution_count": 24,
   "metadata": {},
   "outputs": [
    {
     "data": {
      "text/html": [
       "<div>\n",
       "<style scoped>\n",
       "    .dataframe tbody tr th:only-of-type {\n",
       "        vertical-align: middle;\n",
       "    }\n",
       "\n",
       "    .dataframe tbody tr th {\n",
       "        vertical-align: top;\n",
       "    }\n",
       "\n",
       "    .dataframe thead th {\n",
       "        text-align: right;\n",
       "    }\n",
       "</style>\n",
       "<table border=\"1\" class=\"dataframe\">\n",
       "  <thead>\n",
       "    <tr style=\"text-align: right;\">\n",
       "      <th></th>\n",
       "      <th>displayName</th>\n",
       "      <th>position</th>\n",
       "      <th>snaps</th>\n",
       "      <th>zone</th>\n",
       "      <th>zone-deep</th>\n",
       "      <th>zone-over</th>\n",
       "      <th>man</th>\n",
       "      <th>man-over</th>\n",
       "      <th>blitz</th>\n",
       "      <th>games played</th>\n",
       "    </tr>\n",
       "  </thead>\n",
       "  <tbody>\n",
       "    <tr>\n",
       "      <th>2553456</th>\n",
       "      <td>Akeem King</td>\n",
       "      <td>CB</td>\n",
       "      <td>81</td>\n",
       "      <td>6</td>\n",
       "      <td>9</td>\n",
       "      <td>25</td>\n",
       "      <td>27</td>\n",
       "      <td>9</td>\n",
       "      <td>5</td>\n",
       "      <td>8</td>\n",
       "    </tr>\n",
       "    <tr>\n",
       "      <th>2553637</th>\n",
       "      <td>Justin Coleman</td>\n",
       "      <td>CB</td>\n",
       "      <td>404</td>\n",
       "      <td>57</td>\n",
       "      <td>19</td>\n",
       "      <td>171</td>\n",
       "      <td>44</td>\n",
       "      <td>94</td>\n",
       "      <td>19</td>\n",
       "      <td>15</td>\n",
       "    </tr>\n",
       "    <tr>\n",
       "      <th>2558259</th>\n",
       "      <td>Shaquill Griffin</td>\n",
       "      <td>CB</td>\n",
       "      <td>489</td>\n",
       "      <td>50</td>\n",
       "      <td>70</td>\n",
       "      <td>112</td>\n",
       "      <td>168</td>\n",
       "      <td>85</td>\n",
       "      <td>4</td>\n",
       "      <td>15</td>\n",
       "    </tr>\n",
       "    <tr>\n",
       "      <th>2560728</th>\n",
       "      <td>Tre Flowers</td>\n",
       "      <td>CB</td>\n",
       "      <td>471</td>\n",
       "      <td>36</td>\n",
       "      <td>91</td>\n",
       "      <td>96</td>\n",
       "      <td>175</td>\n",
       "      <td>72</td>\n",
       "      <td>1</td>\n",
       "      <td>14</td>\n",
       "    </tr>\n",
       "    <tr>\n",
       "      <th>2534846</th>\n",
       "      <td>Neiko Thorpe</td>\n",
       "      <td>CB</td>\n",
       "      <td>16</td>\n",
       "      <td>1</td>\n",
       "      <td>1</td>\n",
       "      <td>4</td>\n",
       "      <td>4</td>\n",
       "      <td>6</td>\n",
       "      <td>0</td>\n",
       "      <td>3</td>\n",
       "    </tr>\n",
       "  </tbody>\n",
       "</table>\n",
       "</div>"
      ],
      "text/plain": [
       "              displayName position  snaps  zone  zone-deep  zone-over  man  \\\n",
       "2553456        Akeem King       CB     81     6          9         25   27   \n",
       "2553637    Justin Coleman       CB    404    57         19        171   44   \n",
       "2558259  Shaquill Griffin       CB    489    50         70        112  168   \n",
       "2560728       Tre Flowers       CB    471    36         91         96  175   \n",
       "2534846      Neiko Thorpe       CB     16     1          1          4    4   \n",
       "\n",
       "         man-over  blitz  games played  \n",
       "2553456         9      5             8  \n",
       "2553637        94     19            15  \n",
       "2558259        85      4            15  \n",
       "2560728        72      1            14  \n",
       "2534846         6      0             3  "
      ]
     },
     "execution_count": 24,
     "metadata": {},
     "output_type": "execute_result"
    }
   ],
   "source": [
    "df"
   ]
  },
  {
   "cell_type": "code",
   "execution_count": 25,
   "metadata": {},
   "outputs": [],
   "source": [
    "SNAP_THRESHOLD = 50"
   ]
  },
  {
   "cell_type": "code",
   "execution_count": 26,
   "metadata": {},
   "outputs": [],
   "source": [
    "df = df[df['snaps'] > SNAP_THRESHOLD]"
   ]
  },
  {
   "cell_type": "code",
   "execution_count": 27,
   "metadata": {},
   "outputs": [
    {
     "name": "stderr",
     "output_type": "stream",
     "text": [
      "/anaconda3/lib/python3.7/site-packages/ipykernel_launcher.py:1: SettingWithCopyWarning: \n",
      "A value is trying to be set on a copy of a slice from a DataFrame.\n",
      "Try using .loc[row_indexer,col_indexer] = value instead\n",
      "\n",
      "See the caveats in the documentation: https://pandas.pydata.org/pandas-docs/stable/user_guide/indexing.html#returning-a-view-versus-a-copy\n",
      "  \"\"\"Entry point for launching an IPython kernel.\n"
     ]
    }
   ],
   "source": [
    "df['Team'] = team.abbr"
   ]
  },
  {
   "cell_type": "code",
   "execution_count": 28,
   "metadata": {},
   "outputs": [
    {
     "data": {
      "text/html": [
       "<div>\n",
       "<style scoped>\n",
       "    .dataframe tbody tr th:only-of-type {\n",
       "        vertical-align: middle;\n",
       "    }\n",
       "\n",
       "    .dataframe tbody tr th {\n",
       "        vertical-align: top;\n",
       "    }\n",
       "\n",
       "    .dataframe thead th {\n",
       "        text-align: right;\n",
       "    }\n",
       "</style>\n",
       "<table border=\"1\" class=\"dataframe\">\n",
       "  <thead>\n",
       "    <tr style=\"text-align: right;\">\n",
       "      <th></th>\n",
       "      <th>displayName</th>\n",
       "      <th>position</th>\n",
       "      <th>snaps</th>\n",
       "      <th>zone</th>\n",
       "      <th>zone-deep</th>\n",
       "      <th>zone-over</th>\n",
       "      <th>man</th>\n",
       "      <th>man-over</th>\n",
       "      <th>blitz</th>\n",
       "      <th>games played</th>\n",
       "      <th>Team</th>\n",
       "    </tr>\n",
       "  </thead>\n",
       "  <tbody>\n",
       "    <tr>\n",
       "      <th>2553456</th>\n",
       "      <td>Akeem King</td>\n",
       "      <td>CB</td>\n",
       "      <td>81</td>\n",
       "      <td>6</td>\n",
       "      <td>9</td>\n",
       "      <td>25</td>\n",
       "      <td>27</td>\n",
       "      <td>9</td>\n",
       "      <td>5</td>\n",
       "      <td>8</td>\n",
       "      <td>SEA</td>\n",
       "    </tr>\n",
       "    <tr>\n",
       "      <th>2553637</th>\n",
       "      <td>Justin Coleman</td>\n",
       "      <td>CB</td>\n",
       "      <td>404</td>\n",
       "      <td>57</td>\n",
       "      <td>19</td>\n",
       "      <td>171</td>\n",
       "      <td>44</td>\n",
       "      <td>94</td>\n",
       "      <td>19</td>\n",
       "      <td>15</td>\n",
       "      <td>SEA</td>\n",
       "    </tr>\n",
       "    <tr>\n",
       "      <th>2558259</th>\n",
       "      <td>Shaquill Griffin</td>\n",
       "      <td>CB</td>\n",
       "      <td>489</td>\n",
       "      <td>50</td>\n",
       "      <td>70</td>\n",
       "      <td>112</td>\n",
       "      <td>168</td>\n",
       "      <td>85</td>\n",
       "      <td>4</td>\n",
       "      <td>15</td>\n",
       "      <td>SEA</td>\n",
       "    </tr>\n",
       "    <tr>\n",
       "      <th>2560728</th>\n",
       "      <td>Tre Flowers</td>\n",
       "      <td>CB</td>\n",
       "      <td>471</td>\n",
       "      <td>36</td>\n",
       "      <td>91</td>\n",
       "      <td>96</td>\n",
       "      <td>175</td>\n",
       "      <td>72</td>\n",
       "      <td>1</td>\n",
       "      <td>14</td>\n",
       "      <td>SEA</td>\n",
       "    </tr>\n",
       "  </tbody>\n",
       "</table>\n",
       "</div>"
      ],
      "text/plain": [
       "              displayName position  snaps  zone  zone-deep  zone-over  man  \\\n",
       "2553456        Akeem King       CB     81     6          9         25   27   \n",
       "2553637    Justin Coleman       CB    404    57         19        171   44   \n",
       "2558259  Shaquill Griffin       CB    489    50         70        112  168   \n",
       "2560728       Tre Flowers       CB    471    36         91         96  175   \n",
       "\n",
       "         man-over  blitz  games played Team  \n",
       "2553456         9      5             8  SEA  \n",
       "2553637        94     19            15  SEA  \n",
       "2558259        85      4            15  SEA  \n",
       "2560728        72      1            14  SEA  "
      ]
     },
     "execution_count": 28,
     "metadata": {},
     "output_type": "execute_result"
    }
   ],
   "source": [
    "df"
   ]
  },
  {
   "cell_type": "code",
   "execution_count": 29,
   "metadata": {},
   "outputs": [
    {
     "data": {
      "text/plain": [
       "Int64Index([2553456, 2553637, 2558259, 2560728], dtype='int64')"
      ]
     },
     "execution_count": 29,
     "metadata": {},
     "output_type": "execute_result"
    }
   ],
   "source": [
    "df.index"
   ]
  },
  {
   "cell_type": "code",
   "execution_count": 30,
   "metadata": {},
   "outputs": [
    {
     "data": {
      "text/plain": [
       "displayName     Tre Flowers\n",
       "position                 CB\n",
       "snaps                   471\n",
       "zone                     36\n",
       "zone-deep                91\n",
       "zone-over                96\n",
       "man                     175\n",
       "man-over                 72\n",
       "blitz                     1\n",
       "games played             14\n",
       "Team                    SEA\n",
       "Name: 2560728, dtype: object"
      ]
     },
     "execution_count": 30,
     "metadata": {},
     "output_type": "execute_result"
    }
   ],
   "source": [
    "s = df.loc[df.index[3]]\n",
    "s"
   ]
  },
  {
   "cell_type": "code",
   "execution_count": 31,
   "metadata": {},
   "outputs": [],
   "source": [
    "coverage_names = ('zone','zone-deep','zone-over','man','man-over','blitz')"
   ]
  },
  {
   "cell_type": "code",
   "execution_count": 32,
   "metadata": {},
   "outputs": [],
   "source": [
    "values = []\n",
    "for key in coverage_names:\n",
    "    val = s[key]\n",
    "    values.append(val)"
   ]
  },
  {
   "cell_type": "code",
   "execution_count": 33,
   "metadata": {},
   "outputs": [],
   "source": [
    "display_names = []\n",
    "for name in coverage_names:\n",
    "    _name=name.title()\n",
    "    display_names.append(_name)"
   ]
  },
  {
   "cell_type": "code",
   "execution_count": 36,
   "metadata": {},
   "outputs": [
    {
     "data": {
      "image/png": "[encoded data removed]",
      "text/plain": [
       "<Figure size 576x576 with 1 Axes>"
      ]
     },
     "metadata": {},
     "output_type": "display_data"
    }
   ],
   "source": [
    "fig, ax = plt.subplots(figsize=(8,8))\n",
    "\n",
    "ax.pie(values,labels=display_names, autopct='%1.1f%%',textprops={'fontsize': 14})\n",
    "ax.axis('equal') \n",
    "\n",
    "player_name = s['displayName']\n",
    "player_pos = s['position']\n",
    "title = f'{player_name} - {player_pos}'\n",
    "ax.set_title(title,fontsize=18)\n",
    "\n",
    "nGames = s['games played']\n",
    "nSnaps = s['snaps']\n",
    "\n",
    "ax.set_xlabel(f'Games Played: {nGames}  -  Total Snaps: {nSnaps}',fontsize=14)\n",
    "\n",
    "plt.show()"
   ]
  },
  {
   "cell_type": "code",
   "execution_count": null,
   "metadata": {},
   "outputs": [],
   "source": []
  }
 ],
 "metadata": {
  "kernelspec": {
   "display_name": "Python 3",
   "language": "python",
   "name": "python3"
  },
  "language_info": {
   "codemirror_mode": {
    "name": "ipython",
    "version": 3
   },
   "file_extension": ".py",
   "mimetype": "text/x-python",
   "name": "python",
   "nbconvert_exporter": "python",
   "pygments_lexer": "ipython3",
   "version": "3.7.3"
  }
 },
 "nbformat": 4,
 "nbformat_minor": 4
}
