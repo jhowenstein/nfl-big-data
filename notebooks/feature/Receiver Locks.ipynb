{
 "cells": [
  {
   "cell_type": "code",
   "execution_count": 1,
   "metadata": {},
   "outputs": [],
   "source": [
    "import numpy as np\n",
    "import pandas as pd\n",
    "import scipy as sp\n",
    "\n",
    "import os\n",
    "import glob\n",
    "import sys"
   ]
  },
  {
   "cell_type": "code",
   "execution_count": 2,
   "metadata": {},
   "outputs": [],
   "source": [
    "from utils import set_basepath"
   ]
  },
  {
   "cell_type": "code",
   "execution_count": 3,
   "metadata": {},
   "outputs": [
    {
     "data": {
      "text/plain": [
       "'/Users/jacobhow/Documents/programming-projects/nfl-big-data/notebooks/feature'"
      ]
     },
     "execution_count": 3,
     "metadata": {},
     "output_type": "execute_result"
    }
   ],
   "source": [
    "sys.path[0]"
   ]
  },
  {
   "cell_type": "code",
   "execution_count": 4,
   "metadata": {},
   "outputs": [],
   "source": [
    "basepath = set_basepath(steps=2)"
   ]
  },
  {
   "cell_type": "code",
   "execution_count": 5,
   "metadata": {},
   "outputs": [
    {
     "data": {
      "text/plain": [
       "'/Users/jacobhow/Documents/programming-projects/nfl-big-data'"
      ]
     },
     "execution_count": 5,
     "metadata": {},
     "output_type": "execute_result"
    }
   ],
   "source": [
    "sys.path[0]"
   ]
  },
  {
   "cell_type": "code",
   "execution_count": 6,
   "metadata": {},
   "outputs": [],
   "source": [
    "from src.team import Team\n",
    "from src.game import Game\n",
    "from src.play import Play\n",
    "from src.player import Player\n",
    "from src.analysis import process_games"
   ]
  },
  {
   "cell_type": "code",
   "execution_count": 7,
   "metadata": {},
   "outputs": [],
   "source": [
    "games = pd.read_csv(os.path.join(basepath,'data/games.csv'))"
   ]
  },
  {
   "cell_type": "code",
   "execution_count": 8,
   "metadata": {},
   "outputs": [],
   "source": [
    "players = pd.read_csv(os.path.join(basepath,'data/players.csv')).set_index('nflId')"
   ]
  },
  {
   "cell_type": "code",
   "execution_count": 9,
   "metadata": {},
   "outputs": [],
   "source": [
    "plays = pd.read_csv(os.path.join(basepath,'data/plays.csv'))"
   ]
  },
  {
   "cell_type": "code",
   "execution_count": 10,
   "metadata": {},
   "outputs": [],
   "source": [
    "weeks = {}\n",
    "for i in range(3):\n",
    "    name = f'week{i+1}'\n",
    "    weeks[name] = pd.read_csv(os.path.join(basepath,'data',name+'-processed.csv'))"
   ]
  },
  {
   "cell_type": "code",
   "execution_count": 11,
   "metadata": {},
   "outputs": [],
   "source": [
    "teams = process_games(games,plays)"
   ]
  },
  {
   "cell_type": "code",
   "execution_count": 12,
   "metadata": {},
   "outputs": [],
   "source": [
    "team = teams['IND']"
   ]
  },
  {
   "cell_type": "code",
   "execution_count": 13,
   "metadata": {},
   "outputs": [
    {
     "data": {
      "text/plain": [
       "{'week1': <src.game.Game at 0x11b983400>,\n",
       " 'week2': <src.game.Game at 0x11b99b0f0>,\n",
       " 'week3': <src.game.Game at 0x11b9b2d68>,\n",
       " 'week4': <src.game.Game at 0x1094a8b70>,\n",
       " 'week5': <src.game.Game at 0x1094bdac8>,\n",
       " 'week6': <src.game.Game at 0x11ba4d828>,\n",
       " 'week7': <src.game.Game at 0x11ba55fd0>,\n",
       " 'week8': <src.game.Game at 0x11ba7a828>,\n",
       " 'week10': <src.game.Game at 0x11ba9e630>,\n",
       " 'week11': <src.game.Game at 0x11bab1b70>,\n",
       " 'week12': <src.game.Game at 0x11bac3fd0>,\n",
       " 'week13': <src.game.Game at 0x11bae52e8>,\n",
       " 'week14': <src.game.Game at 0x11baf6588>,\n",
       " 'week15': <src.game.Game at 0x11c8d2390>,\n",
       " 'week16': <src.game.Game at 0x11c8d98d0>,\n",
       " 'week17': <src.game.Game at 0x11ca3f828>}"
      ]
     },
     "execution_count": 13,
     "metadata": {},
     "output_type": "execute_result"
    }
   ],
   "source": [
    "team.games"
   ]
  },
  {
   "cell_type": "code",
   "execution_count": 14,
   "metadata": {},
   "outputs": [
    {
     "name": "stderr",
     "output_type": "stream",
     "text": [
      "/Users/jacobhow/Documents/programming-projects/nfl-big-data/src/play.py:60: SettingWithCopyWarning: \n",
      "A value is trying to be set on a copy of a slice from a DataFrame.\n",
      "Try using .loc[row_indexer,col_indexer] = value instead\n",
      "\n",
      "See the caveats in the documentation: https://pandas.pydata.org/pandas-docs/stable/user_guide/indexing.html#returning-a-view-versus-a-copy\n",
      "  self.player_tracking['distance from line'] = self.player_tracking['x'] - self.line_of_scrimmage\n",
      "/Users/jacobhow/Documents/programming-projects/nfl-big-data/src/play.py:61: SettingWithCopyWarning: \n",
      "A value is trying to be set on a copy of a slice from a DataFrame.\n",
      "Try using .loc[row_indexer,col_indexer] = value instead\n",
      "\n",
      "See the caveats in the documentation: https://pandas.pydata.org/pandas-docs/stable/user_guide/indexing.html#returning-a-view-versus-a-copy\n",
      "  self.player_tracking['distance to sideline'] = [min((160/3) - y,y) for y in self.player_tracking['y'].values]\n",
      "/Users/jacobhow/Documents/programming-projects/nfl-big-data/src/play.py:62: SettingWithCopyWarning: \n",
      "A value is trying to be set on a copy of a slice from a DataFrame.\n",
      "Try using .loc[row_indexer,col_indexer] = value instead\n",
      "\n",
      "See the caveats in the documentation: https://pandas.pydata.org/pandas-docs/stable/user_guide/indexing.html#returning-a-view-versus-a-copy\n",
      "  self.player_tracking['distance from center'] = self.player_tracking['y'] - (80/3)\n"
     ]
    }
   ],
   "source": [
    "team.process_weeks(weeks)"
   ]
  },
  {
   "cell_type": "code",
   "execution_count": 15,
   "metadata": {},
   "outputs": [
    {
     "name": "stdout",
     "output_type": "stream",
     "text": [
      "Play 1: (14:11) (Shotgun) A.Dalton pass short left intended for J.Mixon INTERCEPTED by K.Moore II at CIN 39. K.Moore II to CIN 7 for 32 yards (A.Dalton).\n",
      "Play 2: (12:32) A.Dalton pass short right to T.Eifert pushed ob at CIN 40 for 29 yards (M.Hooker).\n",
      "Play 3: (11:17) (Shotgun) A.Dalton pass short left to J.Mixon to IND 32 for 21 yards (C.Geathers).\n",
      "Play 4: (9:58) A.Dalton pass short right to A.Green to IND 22 for 5 yards (N.Hairston).\n",
      "Play 5: (8:35) (Shotgun) A.Dalton pass incomplete deep right to J.Ross.\n",
      "Play 6: (8:30) (Shotgun) A.Dalton pass incomplete short middle to T.Boyd (J.Sheard).\n",
      "Play 7: (1:23) A.Dalton pass short right to J.Mixon to CIN 33 for 8 yards (N.Hairston).\n",
      "Play 8: (:58) (No Huddle, Shotgun) A.Dalton pass short right to T.Kroft to CIN 42 for 9 yards (A.Walker, D.Leonard).\n",
      "Play 9: (:11) (Shotgun) A.Dalton pass short left to A.Green to IND 45 for 13 yards (M.Farley). FUMBLES (M.Farley), touched at IND 45, RECOVERED by IND-D.Leonard at IND 42. D.Leonard to IND 42 for no gain (T.Boyd).\n",
      "Play 10: (11:33) (Shotgun) A.Dalton pass short right to T.Boyd to CIN 20 for 5 yards (A.Walker).\n",
      "Play 11: (10:50) A.Dalton pass short right to G.Bernard to CIN 31 for 11 yards (C.Geathers).\n",
      "Play 12: (3:01) (Shotgun) A.Dalton pass short right to C.Uzomah to CIN 29 for 4 yards (C.Geathers).\n",
      "Play 13: (2:00) (Shotgun) A.Dalton pass incomplete deep left to A.Green. PENALTY on IND-Q.Wilson, Defensive Pass Interference, 36 yards, enforced at IND 39 - No Play.\n",
      "Play 14: (1:54) A.Dalton pass incomplete short right to A.Green.\n",
      "Play 15: (1:48) A.Dalton pass short left to J.Ross for 3 yards, TOUCHDOWN.\n",
      "Play 16: (13:04) (No Huddle, Shotgun) A.Dalton sacked at CIN 19 for -8 yards (M.Hunt).\n",
      "Play 17: (12:19) (Shotgun) A.Dalton pass short right to T.Eifert to CIN 25 for 6 yards (N.Hairston).\n",
      "Play 18: (8:13) (Shotgun) A.Dalton pass short right to J.Mixon to CIN 30 for 5 yards (D.Autry).\n",
      "Play 19: (7:38) A.Dalton pass short right to A.Green to CIN 36 for 6 yards (N.Hairston).\n",
      "Play 20: (7:05) A.Dalton pass short left to T.Boyd pushed ob at CIN 40 for 4 yards (K.Moore II).\n",
      "Play 21: (6:31) A.Dalton pass incomplete short right to J.Mixon.\n",
      "Play 22: (4:18) A.Dalton pass deep left to A.Green for 38 yards, TOUCHDOWN.\n",
      "Play 23: (14:37) (No Huddle, Shotgun) A.Dalton sacked at IND 47 for -6 yards (M.Hunt).\n",
      "Play 24: (13:55) (Shotgun) A.Dalton pass incomplete short right to T.Eifert. PENALTY on IND-C.Geathers, Defensive Pass Interference, 8 yards, enforced at IND 47 - No Play.\n",
      "Play 25: (13:23) A.Dalton pass short right to J.Mixon to IND 9 for 15 yards (C.Geathers).\n",
      "Play 26: (9:13) (Shotgun) A.Dalton pass short middle to A.Green to CIN 41 for 18 yards (M.Farley).\n",
      "Play 27: (7:37) (Shotgun) A.Dalton pass short middle to T.Eifert to CIN 43 for 9 yards (A.Walker, D.Leonard).\n",
      "Play 28: (6:57) (Shotgun) A.Dalton pass short right to T.Boyd ran ob at IND 40 for 17 yards (M.Hooker).\n",
      "Play 29: (6:14) (Shotgun) A.Dalton pass short middle to J.Mixon to IND 35 for 5 yards (D.Leonard).\n",
      "Play 30: (5:34) (Shotgun) A.Dalton pass short left to A.Green to IND 23 for 12 yards (C.Geathers). FUMBLES (C.Geathers), recovered by CIN-T.Boyd at IND 21. T.Boyd to IND 21 for no gain (Q.Wilson).\n",
      "Play 31: (4:13) A.Dalton pass incomplete deep left to A.Green [A.Walker].\n",
      "Play 32: (4:08) (Shotgun) A.Dalton pass incomplete short left to T.Boyd.\n"
     ]
    }
   ],
   "source": [
    "game = team.games['week1']\n",
    "game.list_plays()"
   ]
  },
  {
   "cell_type": "code",
   "execution_count": 16,
   "metadata": {},
   "outputs": [],
   "source": [
    "for play in game.plays:\n",
    "    play.process_players(players)\n",
    "    if play.hasForwardPass:\n",
    "        play.find_dropback_events()"
   ]
  },
  {
   "cell_type": "code",
   "execution_count": 63,
   "metadata": {},
   "outputs": [],
   "source": [
    "play_number = 8"
   ]
  },
  {
   "cell_type": "code",
   "execution_count": 64,
   "metadata": {},
   "outputs": [],
   "source": [
    "play = game.plays[play_number - 1]"
   ]
  },
  {
   "cell_type": "code",
   "execution_count": 65,
   "metadata": {},
   "outputs": [
    {
     "data": {
      "image/png": "[encoded data removed]",
      "text/plain": [
       "<Figure size 864x383.76 with 1 Axes>"
      ]
     },
     "metadata": {
      "needs_background": "light"
     },
     "output_type": "display_data"
    }
   ],
   "source": [
    "play.plot_play(markers='number')"
   ]
  },
  {
   "cell_type": "code",
   "execution_count": 71,
   "metadata": {},
   "outputs": [],
   "source": [
    "corners = play.return_players_by_position('CB')"
   ]
  },
  {
   "cell_type": "code",
   "execution_count": 72,
   "metadata": {},
   "outputs": [
    {
     "name": "stdout",
     "output_type": "stream",
     "text": [
      "Nate Hairston - 27 - CB\n",
      "Kenny Moore II - 23 - CB\n"
     ]
    }
   ],
   "source": [
    "for cb in corners:\n",
    "    print(f'{cb.name} - {cb.number} - {cb.position}')"
   ]
  },
  {
   "cell_type": "code",
   "execution_count": 73,
   "metadata": {},
   "outputs": [],
   "source": [
    "receivers = play.return_players_by_position('WR') + play.return_players_by_position('TE')"
   ]
  },
  {
   "cell_type": "code",
   "execution_count": 74,
   "metadata": {},
   "outputs": [
    {
     "name": "stdout",
     "output_type": "stream",
     "text": [
      "A.J. Green - 18 - WR\n",
      "Tyler Boyd - 83 - WR\n",
      "C.J. Uzomah - 87 - TE\n",
      "Tyler Kroft - 81 - TE\n"
     ]
    }
   ],
   "source": [
    "for r in receivers:\n",
    "    print(f'{r.name} - {r.number} - {r.position}')"
   ]
  },
  {
   "cell_type": "code",
   "execution_count": 75,
   "metadata": {},
   "outputs": [
    {
     "name": "stdout",
     "output_type": "stream",
     "text": [
      "Nate Hairston - 27 - (-18.0)\n",
      "Kenny Moore II - 23 - (17.9)\n"
     ]
    }
   ],
   "source": [
    "start = play.events['ball_snap']\n",
    "for cb in corners:\n",
    "    print(f'{cb.name} - {cb.number} - ({cb.distance_from_center(start):.1f})')"
   ]
  },
  {
   "cell_type": "code",
   "execution_count": 76,
   "metadata": {},
   "outputs": [
    {
     "name": "stdout",
     "output_type": "stream",
     "text": [
      "A.J. Green - 18 - (17.9)\n",
      "Tyler Boyd - 83 - (-17.7)\n",
      "C.J. Uzomah - 87 - (5.3)\n",
      "Tyler Kroft - 81 - (-7.9)\n"
     ]
    }
   ],
   "source": [
    "start = play.events['ball_snap']\n",
    "for r in receivers:\n",
    "    print(f'{r.name} - {r.number} - ({r.distance_from_center(start):.1f})')"
   ]
  },
  {
   "cell_type": "code",
   "execution_count": 61,
   "metadata": {},
   "outputs": [],
   "source": [
    "top_corners = []\n",
    "bottom_corners = []\n",
    "for cb in corners:\n",
    "    if cb.distance_from_center(start) > 0:\n",
    "        top_corners.append(cb)\n",
    "    else:\n",
    "        bottom_corners.append(cb)"
   ]
  },
  {
   "cell_type": "code",
   "execution_count": 78,
   "metadata": {},
   "outputs": [],
   "source": [
    "unlocked_top_receivers = []\n",
    "unlocked_bottom_receivers = []\n",
    "for r in receivers:\n",
    "    if r.distance_from_center(start) > 0:\n",
    "        unlocked_top_receivers.append(r)\n",
    "    else:\n",
    "        unlocked_bottom_receivers.append(r)"
   ]
  },
  {
   "cell_type": "code",
   "execution_count": 79,
   "metadata": {},
   "outputs": [],
   "source": [
    "start = play.events['ball_snap']\n",
    "\n",
    "top_corners.sort(reverse=True, key=lambda player: player.distance_from_center(start))\n",
    "bottom_corners.sort(key=lambda player: player.distance_from_center(start))\n",
    "\n",
    "unlocked_top_receivers.sort(reverse=True, key=lambda player: player.distance_from_center(start))\n",
    "unlocked_bottom_receivers.sort(key=lambda player: player.distance_from_center(start))"
   ]
  },
  {
   "cell_type": "code",
   "execution_count": 80,
   "metadata": {},
   "outputs": [
    {
     "name": "stdout",
     "output_type": "stream",
     "text": [
      "A.J. Green - 18 - (17.9)\n",
      "C.J. Uzomah - 87 - (5.3)\n"
     ]
    }
   ],
   "source": [
    "for r in unlocked_top_receivers:\n",
    "    print(f'{r.name} - {r.number} - ({r.distance_from_center(start):.1f})')"
   ]
  },
  {
   "cell_type": "code",
   "execution_count": 81,
   "metadata": {},
   "outputs": [
    {
     "name": "stdout",
     "output_type": "stream",
     "text": [
      "Tyler Boyd - 83 - (-17.7)\n",
      "Tyler Kroft - 81 - (-7.9)\n"
     ]
    }
   ],
   "source": [
    "for r in unlocked_bottom_receivers:\n",
    "    print(f'{r.name} - {r.number} - ({r.distance_from_center(start):.1f})')"
   ]
  },
  {
   "cell_type": "code",
   "execution_count": 48,
   "metadata": {},
   "outputs": [
    {
     "name": "stdout",
     "output_type": "stream",
     "text": [
      "Nate Hairston (27)\n",
      "  Distance between Nate Hairston and A.J. Green = -0.8\n",
      "  Distance between Nate Hairston and John Ross = -5.3\n",
      "  Distance between Nate Hairston and Tyler Boyd = -11.0\n",
      "  Distance between Nate Hairston and Tyler Eifert = -23.3\n",
      "Kenny Moore II (23)\n",
      "  Distance between Kenny Moore II and A.J. Green = 6.9\n",
      "  Distance between Kenny Moore II and John Ross = 2.5\n",
      "  Distance between Kenny Moore II and Tyler Boyd = -3.3\n",
      "  Distance between Kenny Moore II and Tyler Eifert = -15.5\n",
      "Quincy Wilson (31)\n",
      "  Distance between Quincy Wilson and A.J. Green = 25.6\n",
      "  Distance between Quincy Wilson and John Ross = 21.1\n",
      "  Distance between Quincy Wilson and Tyler Boyd = 15.4\n",
      "  Distance between Quincy Wilson and Tyler Eifert = 3.1\n"
     ]
    }
   ],
   "source": [
    "for cb in corners:\n",
    "    print(f'{cb.name} ({cb.number})')\n",
    "    for wr in receivers:\n",
    "        delta = cb.distance_from_center(start) - wr.distance_from_center(start)\n",
    "        print(f'  Distance between {cb.name} and {wr.name} = {delta:.1f}')"
   ]
  },
  {
   "cell_type": "code",
   "execution_count": null,
   "metadata": {},
   "outputs": [],
   "source": []
  }
 ],
 "metadata": {
  "kernelspec": {
   "display_name": "Python 3",
   "language": "python",
   "name": "python3"
  },
  "language_info": {
   "codemirror_mode": {
    "name": "ipython",
    "version": 3
   },
   "file_extension": ".py",
   "mimetype": "text/x-python",
   "name": "python",
   "nbconvert_exporter": "python",
   "pygments_lexer": "ipython3",
   "version": "3.7.3"
  }
 },
 "nbformat": 4,
 "nbformat_minor": 4
}
