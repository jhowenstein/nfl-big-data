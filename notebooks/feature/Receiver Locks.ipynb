{
 "cells": [
  {
   "cell_type": "code",
   "execution_count": 1,
   "metadata": {},
   "outputs": [],
   "source": [
    "import numpy as np\n",
    "import pandas as pd\n",
    "import scipy as sp\n",
    "\n",
    "import matplotlib.pyplot as plt\n",
    "import matplotlib.patches as mpatches\n",
    "\n",
    "import os\n",
    "import glob\n",
    "import sys"
   ]
  },
  {
   "cell_type": "code",
   "execution_count": 2,
   "metadata": {},
   "outputs": [],
   "source": [
    "from utils import set_basepath"
   ]
  },
  {
   "cell_type": "code",
   "execution_count": 3,
   "metadata": {},
   "outputs": [
    {
     "data": {
      "text/plain": [
       "'/Users/jacobhow/Documents/programming-projects/nfl-big-data/notebooks/feature'"
      ]
     },
     "execution_count": 3,
     "metadata": {},
     "output_type": "execute_result"
    }
   ],
   "source": [
    "sys.path[0]"
   ]
  },
  {
   "cell_type": "code",
   "execution_count": 4,
   "metadata": {},
   "outputs": [],
   "source": [
    "basepath = set_basepath(steps=2)"
   ]
  },
  {
   "cell_type": "code",
   "execution_count": 5,
   "metadata": {},
   "outputs": [
    {
     "data": {
      "text/plain": [
       "'/Users/jacobhow/Documents/programming-projects/nfl-big-data'"
      ]
     },
     "execution_count": 5,
     "metadata": {},
     "output_type": "execute_result"
    }
   ],
   "source": [
    "sys.path[0]"
   ]
  },
  {
   "cell_type": "code",
   "execution_count": 6,
   "metadata": {},
   "outputs": [],
   "source": [
    "from src.team import Team\n",
    "from src.game import Game\n",
    "from src.play import Play\n",
    "from src.player import Player\n",
    "from src.analysis import process_games"
   ]
  },
  {
   "cell_type": "code",
   "execution_count": 7,
   "metadata": {},
   "outputs": [],
   "source": [
    "games = pd.read_csv(os.path.join(basepath,'data/games.csv'))"
   ]
  },
  {
   "cell_type": "code",
   "execution_count": 8,
   "metadata": {},
   "outputs": [],
   "source": [
    "players = pd.read_csv(os.path.join(basepath,'data/players.csv')).set_index('nflId')"
   ]
  },
  {
   "cell_type": "code",
   "execution_count": 9,
   "metadata": {},
   "outputs": [],
   "source": [
    "plays = pd.read_csv(os.path.join(basepath,'data/plays.csv'))"
   ]
  },
  {
   "cell_type": "code",
   "execution_count": 10,
   "metadata": {},
   "outputs": [],
   "source": [
    "weeks = {}\n",
    "for i in range(3):\n",
    "    name = f'week{i+1}'\n",
    "    weeks[name] = pd.read_csv(os.path.join(basepath,'data',name+'-processed.csv'))"
   ]
  },
  {
   "cell_type": "code",
   "execution_count": 11,
   "metadata": {},
   "outputs": [],
   "source": [
    "teams = process_games(games,plays)"
   ]
  },
  {
   "cell_type": "code",
   "execution_count": 12,
   "metadata": {},
   "outputs": [],
   "source": [
    "team = teams['IND']"
   ]
  },
  {
   "cell_type": "code",
   "execution_count": 13,
   "metadata": {},
   "outputs": [
    {
     "data": {
      "text/plain": [
       "{'week1': <src.game.Game at 0x1030ba2e8>,\n",
       " 'week2': <src.game.Game at 0x1030c8f28>,\n",
       " 'week3': <src.game.Game at 0x1030e7cf8>,\n",
       " 'week4': <src.game.Game at 0x103de3b00>,\n",
       " 'week5': <src.game.Game at 0x103df9a58>,\n",
       " 'week6': <src.game.Game at 0x11638d7b8>,\n",
       " 'week7': <src.game.Game at 0x116396f60>,\n",
       " 'week8': <src.game.Game at 0x1163ba7b8>,\n",
       " 'week10': <src.game.Game at 0x1163df5c0>,\n",
       " 'week11': <src.game.Game at 0x1163f2b00>,\n",
       " 'week12': <src.game.Game at 0x116403f60>,\n",
       " 'week13': <src.game.Game at 0x116425278>,\n",
       " 'week14': <src.game.Game at 0x116436518>,\n",
       " 'week15': <src.game.Game at 0x117252320>,\n",
       " 'week16': <src.game.Game at 0x11725b860>,\n",
       " 'week17': <src.game.Game at 0x11727e7b8>}"
      ]
     },
     "execution_count": 13,
     "metadata": {},
     "output_type": "execute_result"
    }
   ],
   "source": [
    "team.games"
   ]
  },
  {
   "cell_type": "code",
   "execution_count": 14,
   "metadata": {},
   "outputs": [
    {
     "name": "stderr",
     "output_type": "stream",
     "text": [
      "/Users/jacobhow/Documents/programming-projects/nfl-big-data/src/play.py:60: SettingWithCopyWarning: \n",
      "A value is trying to be set on a copy of a slice from a DataFrame.\n",
      "Try using .loc[row_indexer,col_indexer] = value instead\n",
      "\n",
      "See the caveats in the documentation: https://pandas.pydata.org/pandas-docs/stable/user_guide/indexing.html#returning-a-view-versus-a-copy\n",
      "  self.player_tracking['distance from line'] = self.player_tracking['x'] - self.line_of_scrimmage\n",
      "/Users/jacobhow/Documents/programming-projects/nfl-big-data/src/play.py:61: SettingWithCopyWarning: \n",
      "A value is trying to be set on a copy of a slice from a DataFrame.\n",
      "Try using .loc[row_indexer,col_indexer] = value instead\n",
      "\n",
      "See the caveats in the documentation: https://pandas.pydata.org/pandas-docs/stable/user_guide/indexing.html#returning-a-view-versus-a-copy\n",
      "  self.player_tracking['distance to sideline'] = [min((160/3) - y,y) for y in self.player_tracking['y'].values]\n",
      "/Users/jacobhow/Documents/programming-projects/nfl-big-data/src/play.py:62: SettingWithCopyWarning: \n",
      "A value is trying to be set on a copy of a slice from a DataFrame.\n",
      "Try using .loc[row_indexer,col_indexer] = value instead\n",
      "\n",
      "See the caveats in the documentation: https://pandas.pydata.org/pandas-docs/stable/user_guide/indexing.html#returning-a-view-versus-a-copy\n",
      "  self.player_tracking['distance from center'] = self.player_tracking['y'] - (80/3)\n"
     ]
    }
   ],
   "source": [
    "team.process_weeks(weeks)"
   ]
  },
  {
   "cell_type": "code",
   "execution_count": 15,
   "metadata": {},
   "outputs": [
    {
     "name": "stdout",
     "output_type": "stream",
     "text": [
      "Play 1: (14:11) (Shotgun) A.Dalton pass short left intended for J.Mixon INTERCEPTED by K.Moore II at CIN 39. K.Moore II to CIN 7 for 32 yards (A.Dalton).\n",
      "Play 2: (12:32) A.Dalton pass short right to T.Eifert pushed ob at CIN 40 for 29 yards (M.Hooker).\n",
      "Play 3: (11:17) (Shotgun) A.Dalton pass short left to J.Mixon to IND 32 for 21 yards (C.Geathers).\n",
      "Play 4: (9:58) A.Dalton pass short right to A.Green to IND 22 for 5 yards (N.Hairston).\n",
      "Play 5: (8:35) (Shotgun) A.Dalton pass incomplete deep right to J.Ross.\n",
      "Play 6: (8:30) (Shotgun) A.Dalton pass incomplete short middle to T.Boyd (J.Sheard).\n",
      "Play 7: (1:23) A.Dalton pass short right to J.Mixon to CIN 33 for 8 yards (N.Hairston).\n",
      "Play 8: (:58) (No Huddle, Shotgun) A.Dalton pass short right to T.Kroft to CIN 42 for 9 yards (A.Walker, D.Leonard).\n",
      "Play 9: (:11) (Shotgun) A.Dalton pass short left to A.Green to IND 45 for 13 yards (M.Farley). FUMBLES (M.Farley), touched at IND 45, RECOVERED by IND-D.Leonard at IND 42. D.Leonard to IND 42 for no gain (T.Boyd).\n",
      "Play 10: (11:33) (Shotgun) A.Dalton pass short right to T.Boyd to CIN 20 for 5 yards (A.Walker).\n",
      "Play 11: (10:50) A.Dalton pass short right to G.Bernard to CIN 31 for 11 yards (C.Geathers).\n",
      "Play 12: (3:01) (Shotgun) A.Dalton pass short right to C.Uzomah to CIN 29 for 4 yards (C.Geathers).\n",
      "Play 13: (2:00) (Shotgun) A.Dalton pass incomplete deep left to A.Green. PENALTY on IND-Q.Wilson, Defensive Pass Interference, 36 yards, enforced at IND 39 - No Play.\n",
      "Play 14: (1:54) A.Dalton pass incomplete short right to A.Green.\n",
      "Play 15: (1:48) A.Dalton pass short left to J.Ross for 3 yards, TOUCHDOWN.\n",
      "Play 16: (13:04) (No Huddle, Shotgun) A.Dalton sacked at CIN 19 for -8 yards (M.Hunt).\n",
      "Play 17: (12:19) (Shotgun) A.Dalton pass short right to T.Eifert to CIN 25 for 6 yards (N.Hairston).\n",
      "Play 18: (8:13) (Shotgun) A.Dalton pass short right to J.Mixon to CIN 30 for 5 yards (D.Autry).\n",
      "Play 19: (7:38) A.Dalton pass short right to A.Green to CIN 36 for 6 yards (N.Hairston).\n",
      "Play 20: (7:05) A.Dalton pass short left to T.Boyd pushed ob at CIN 40 for 4 yards (K.Moore II).\n",
      "Play 21: (6:31) A.Dalton pass incomplete short right to J.Mixon.\n",
      "Play 22: (4:18) A.Dalton pass deep left to A.Green for 38 yards, TOUCHDOWN.\n",
      "Play 23: (14:37) (No Huddle, Shotgun) A.Dalton sacked at IND 47 for -6 yards (M.Hunt).\n",
      "Play 24: (13:55) (Shotgun) A.Dalton pass incomplete short right to T.Eifert. PENALTY on IND-C.Geathers, Defensive Pass Interference, 8 yards, enforced at IND 47 - No Play.\n",
      "Play 25: (13:23) A.Dalton pass short right to J.Mixon to IND 9 for 15 yards (C.Geathers).\n",
      "Play 26: (9:13) (Shotgun) A.Dalton pass short middle to A.Green to CIN 41 for 18 yards (M.Farley).\n",
      "Play 27: (7:37) (Shotgun) A.Dalton pass short middle to T.Eifert to CIN 43 for 9 yards (A.Walker, D.Leonard).\n",
      "Play 28: (6:57) (Shotgun) A.Dalton pass short right to T.Boyd ran ob at IND 40 for 17 yards (M.Hooker).\n",
      "Play 29: (6:14) (Shotgun) A.Dalton pass short middle to J.Mixon to IND 35 for 5 yards (D.Leonard).\n",
      "Play 30: (5:34) (Shotgun) A.Dalton pass short left to A.Green to IND 23 for 12 yards (C.Geathers). FUMBLES (C.Geathers), recovered by CIN-T.Boyd at IND 21. T.Boyd to IND 21 for no gain (Q.Wilson).\n",
      "Play 31: (4:13) A.Dalton pass incomplete deep left to A.Green [A.Walker].\n",
      "Play 32: (4:08) (Shotgun) A.Dalton pass incomplete short left to T.Boyd.\n"
     ]
    }
   ],
   "source": [
    "game = team.games['week1']\n",
    "game.list_plays()"
   ]
  },
  {
   "cell_type": "code",
   "execution_count": 16,
   "metadata": {},
   "outputs": [],
   "source": [
    "for play in game.plays:\n",
    "    play.process_players(players)\n",
    "    if play.hasForwardPass:\n",
    "        play.find_dropback_events()"
   ]
  },
  {
   "cell_type": "code",
   "execution_count": 40,
   "metadata": {},
   "outputs": [],
   "source": [
    "play_number = 10"
   ]
  },
  {
   "cell_type": "code",
   "execution_count": 41,
   "metadata": {},
   "outputs": [],
   "source": [
    "play = game.plays[play_number - 1]"
   ]
  },
  {
   "cell_type": "code",
   "execution_count": 42,
   "metadata": {},
   "outputs": [
    {
     "data": {
      "image/png": "[encoded data removed]",
      "text/plain": [
       "<Figure size 864x383.76 with 1 Axes>"
      ]
     },
     "metadata": {
      "needs_background": "light"
     },
     "output_type": "display_data"
    }
   ],
   "source": [
    "play.plot_play(markers='number')"
   ]
  },
  {
   "cell_type": "code",
   "execution_count": 43,
   "metadata": {},
   "outputs": [],
   "source": [
    "corners = play.return_players_by_position('CB')"
   ]
  },
  {
   "cell_type": "code",
   "execution_count": 44,
   "metadata": {},
   "outputs": [
    {
     "name": "stdout",
     "output_type": "stream",
     "text": [
      "Quincy Wilson - 31 - CB\n",
      "Nate Hairston - 27 - CB\n",
      "Kenny Moore II - 23 - CB\n"
     ]
    }
   ],
   "source": [
    "for cb in corners:\n",
    "    print(f'{cb.name} - {cb.number} - {cb.position}')"
   ]
  },
  {
   "cell_type": "code",
   "execution_count": 45,
   "metadata": {},
   "outputs": [],
   "source": [
    "receivers = play.return_players_by_position('WR') + play.return_players_by_position('TE')"
   ]
  },
  {
   "cell_type": "code",
   "execution_count": 46,
   "metadata": {},
   "outputs": [
    {
     "name": "stdout",
     "output_type": "stream",
     "text": [
      "A.J. Green - 18 - WR\n",
      "Tyler Boyd - 83 - WR\n",
      "John Ross - 15 - WR\n",
      "Tyler Eifert - 85 - TE\n"
     ]
    }
   ],
   "source": [
    "for r in receivers:\n",
    "    print(f'{r.name} - {r.number} - {r.position}')"
   ]
  },
  {
   "cell_type": "code",
   "execution_count": 47,
   "metadata": {},
   "outputs": [
    {
     "name": "stdout",
     "output_type": "stream",
     "text": [
      "Quincy Wilson - 31 - (11.1)\n",
      "Nate Hairston - 27 - (-15.3)\n",
      "Kenny Moore II - 23 - (-7.6)\n"
     ]
    }
   ],
   "source": [
    "start = play.events['ball_snap']\n",
    "for cb in corners:\n",
    "    print(f'{cb.name} - {cb.number} - ({cb.distance_from_center(start):.1f})')"
   ]
  },
  {
   "cell_type": "code",
   "execution_count": 48,
   "metadata": {},
   "outputs": [
    {
     "name": "stdout",
     "output_type": "stream",
     "text": [
      "A.J. Green - 18 - (-14.5)\n",
      "Tyler Boyd - 83 - (-4.3)\n",
      "John Ross - 15 - (-10.0)\n",
      "Tyler Eifert - 85 - (8.0)\n"
     ]
    }
   ],
   "source": [
    "start = play.events['ball_snap']\n",
    "for r in receivers:\n",
    "    print(f'{r.name} - {r.number} - ({r.distance_from_center(start):.1f})')"
   ]
  },
  {
   "cell_type": "code",
   "execution_count": 49,
   "metadata": {},
   "outputs": [],
   "source": [
    "top_corners = []\n",
    "bottom_corners = []\n",
    "for cb in corners:\n",
    "    if cb.distance_from_center(start) > 0:\n",
    "        top_corners.append(cb)\n",
    "    else:\n",
    "        bottom_corners.append(cb)"
   ]
  },
  {
   "cell_type": "code",
   "execution_count": 50,
   "metadata": {},
   "outputs": [],
   "source": [
    "uncovered_top_receivers = []\n",
    "uncovered_bottom_receivers = []\n",
    "for r in receivers:\n",
    "    if r.distance_from_center(start) > 0:\n",
    "        uncovered_top_receivers.append(r)\n",
    "    else:\n",
    "        uncovered_bottom_receivers.append(r)"
   ]
  },
  {
   "cell_type": "code",
   "execution_count": 51,
   "metadata": {},
   "outputs": [],
   "source": [
    "start = play.events['ball_snap']\n",
    "\n",
    "top_corners.sort(reverse=True, key=lambda player: player.distance_from_center(start))\n",
    "bottom_corners.sort(key=lambda player: player.distance_from_center(start))\n",
    "\n",
    "uncovered_top_receivers.sort(reverse=True, key=lambda player: player.distance_from_center(start))\n",
    "uncovered_bottom_receivers.sort(key=lambda player: player.distance_from_center(start))"
   ]
  },
  {
   "cell_type": "code",
   "execution_count": 52,
   "metadata": {},
   "outputs": [
    {
     "name": "stdout",
     "output_type": "stream",
     "text": [
      "Quincy Wilson - 31 - (11.1)\n"
     ]
    }
   ],
   "source": [
    "for cb in top_corners:\n",
    "    print(f'{cb.name} - {cb.number} - ({cb.distance_from_center(start):.1f})')"
   ]
  },
  {
   "cell_type": "code",
   "execution_count": 53,
   "metadata": {},
   "outputs": [
    {
     "name": "stdout",
     "output_type": "stream",
     "text": [
      "Nate Hairston - 27 - (-15.3)\n",
      "Kenny Moore II - 23 - (-7.6)\n"
     ]
    }
   ],
   "source": [
    "for cb in bottom_corners:\n",
    "    print(f'{cb.name} - {cb.number} - ({cb.distance_from_center(start):.1f})')"
   ]
  },
  {
   "cell_type": "code",
   "execution_count": 54,
   "metadata": {},
   "outputs": [
    {
     "name": "stdout",
     "output_type": "stream",
     "text": [
      "Tyler Eifert - 85 - (8.0)\n"
     ]
    }
   ],
   "source": [
    "for r in uncovered_top_receivers:\n",
    "    print(f'{r.name} - {r.number} - ({r.distance_from_center(start):.1f})')"
   ]
  },
  {
   "cell_type": "code",
   "execution_count": 55,
   "metadata": {},
   "outputs": [
    {
     "name": "stdout",
     "output_type": "stream",
     "text": [
      "A.J. Green - 18 - (-14.5)\n",
      "John Ross - 15 - (-10.0)\n",
      "Tyler Boyd - 83 - (-4.3)\n"
     ]
    }
   ],
   "source": [
    "for r in uncovered_bottom_receivers:\n",
    "    print(f'{r.name} - {r.number} - ({r.distance_from_center(start):.1f})')"
   ]
  },
  {
   "cell_type": "code",
   "execution_count": 56,
   "metadata": {},
   "outputs": [],
   "source": [
    "horizontal_cover_threshold = 2.0"
   ]
  },
  {
   "cell_type": "code",
   "execution_count": 57,
   "metadata": {},
   "outputs": [
    {
     "name": "stdout",
     "output_type": "stream",
     "text": [
      "Quincy Wilson (31)\n",
      "  Distance between Quincy Wilson and Tyler Eifert = 3.1\n"
     ]
    }
   ],
   "source": [
    "for cb in top_corners:\n",
    "    print(f'{cb.name} ({cb.number})')\n",
    "    for r in uncovered_top_receivers:\n",
    "        delta = cb.distance_from_center(start) - r.distance_from_center(start)\n",
    "        print(f'  Distance between {cb.name} and {r.name} = {delta:.1f}')\n",
    "        if abs(delta) < horizontal_cover_threshold:\n",
    "            print(f'    {cb.name} ({cb.number}) covering {r.name} ({r.number})')\n",
    "            print(f'    Distance from Line: {cb.distance_from_line(start):.1f}')\n",
    "            cb.locks.append(r)\n",
    "            uncovered_top_receivers.remove(r)"
   ]
  },
  {
   "cell_type": "code",
   "execution_count": 58,
   "metadata": {},
   "outputs": [
    {
     "name": "stdout",
     "output_type": "stream",
     "text": [
      "Nate Hairston (27)\n",
      "  Distance between Nate Hairston and A.J. Green = -0.8\n",
      "    Nate Hairston (27) covering A.J. Green (18)\n",
      "    Distance from Line: 4.4\n",
      "  Distance between Nate Hairston and Tyler Boyd = -11.0\n",
      "Kenny Moore II (23)\n",
      "  Distance between Kenny Moore II and John Ross = 2.5\n",
      "  Distance between Kenny Moore II and Tyler Boyd = -3.3\n"
     ]
    }
   ],
   "source": [
    "for cb in bottom_corners:\n",
    "    print(f'{cb.name} ({cb.number})')\n",
    "    for r in uncovered_bottom_receivers:\n",
    "        delta = cb.distance_from_center(start) - r.distance_from_center(start)\n",
    "        print(f'  Distance between {cb.name} and {r.name} = {delta:.1f}')\n",
    "        if abs(delta) < horizontal_cover_threshold:\n",
    "            print(f'    {cb.name} ({cb.number}) covering {r.name} ({r.number})')\n",
    "            print(f'    Distance from Line: {cb.distance_from_line(start):.1f}')\n",
    "            cb.locks.append(r)\n",
    "            uncovered_bottom_receivers.remove(r)"
   ]
  },
  {
   "cell_type": "code",
   "execution_count": 59,
   "metadata": {},
   "outputs": [],
   "source": [
    "def plot_play_frame(self, index, scale=1, markers=None, show=True, output=False, target_directory=''):\n",
    "    if isinstance(index,str):\n",
    "        index = self.events[index] - 1\n",
    "\n",
    "    fig,ax = self.build_field(scale=scale)\n",
    "\n",
    "    ax.axvline(self.line_of_scrimmage,color='y',alpha=.5,zorder=3)\n",
    "\n",
    "    for player in self.players['offense'].values():\n",
    "        marker, s = self.set_player_marker(player, markers, scale)\n",
    "\n",
    "        pos = player.tracking_data.loc[index]\n",
    "        ax.scatter(pos['x'],pos['y'],color='r',marker=marker,zorder=3,s=s)\n",
    "\n",
    "    for player in self.players['defense'].values():\n",
    "        marker, s = self.set_player_marker(player, markers, scale)\n",
    "\n",
    "        pos = player.tracking_data.loc[index]\n",
    "        ax.scatter(pos['x'],pos['y'],color='b',marker=marker,zorder=3,s=s)\n",
    "\n",
    "    ax.scatter(self.fb_tracking['x'].values[index],\n",
    "               self.fb_tracking['y'].values[index],\n",
    "               color='brown',marker='d',zorder=3)\n",
    "    \n",
    "    for player in self.players['defense'].values():\n",
    "        if len(player.locks) == 1:\n",
    "            print(player.location(index))\n",
    "            d_loc = player.location(index)\n",
    "            o_loc = player.locks[0].location(index)\n",
    "            d = np.absolute(d_loc - o_loc)\n",
    "            min_x = min(player.location(start)[0] , player.locks[0].location(start)[0])\n",
    "            min_y =  min(player.location(start)[1] , player.locks[0].location(start)[1])\n",
    "            bx = min_x - 2\n",
    "            by = min_y - 2\n",
    "            w = d[0] + 4\n",
    "            h = d[1] + 4\n",
    "            ax.add_patch(mpatches.Rectangle((bx,by), width=w, height=h, ec='k',fc='none'))\n",
    "\n",
    "    title = f'Play Frame - {index+1}'\n",
    "    ax.set_title(title,fontsize=18)\n",
    "\n",
    "    play_events = self.fb_tracking['event'].values\n",
    "    _event = play_events[index]\n",
    "    if play_events[index] != 'None':\n",
    "        ax.set_xlabel(f'Event: {_event.replace(\"_\",\" \").title()}',fontsize=16)\n",
    "\n",
    "    plt.show()"
   ]
  },
  {
   "cell_type": "code",
   "execution_count": 60,
   "metadata": {},
   "outputs": [
    {
     "name": "stdout",
     "output_type": "stream",
     "text": [
      "[28.94       11.34333333]\n"
     ]
    },
    {
     "data": {
      "image/png": "[encoded data removed]",
      "text/plain": [
       "<Figure size 864x383.76 with 1 Axes>"
      ]
     },
     "metadata": {
      "needs_background": "light"
     },
     "output_type": "display_data"
    }
   ],
   "source": [
    "plot_play_frame(play, index='ball_snap',markers='number')"
   ]
  },
  {
   "cell_type": "code",
   "execution_count": null,
   "metadata": {},
   "outputs": [],
   "source": []
  }
 ],
 "metadata": {
  "kernelspec": {
   "display_name": "Python 3",
   "language": "python",
   "name": "python3"
  },
  "language_info": {
   "codemirror_mode": {
    "name": "ipython",
    "version": 3
   },
   "file_extension": ".py",
   "mimetype": "text/x-python",
   "name": "python",
   "nbconvert_exporter": "python",
   "pygments_lexer": "ipython3",
   "version": "3.7.3"
  }
 },
 "nbformat": 4,
 "nbformat_minor": 4
}
