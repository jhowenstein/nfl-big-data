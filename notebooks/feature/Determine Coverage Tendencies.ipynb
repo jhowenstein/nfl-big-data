{
 "cells": [
  {
   "cell_type": "code",
   "execution_count": 1,
   "metadata": {},
   "outputs": [],
   "source": [
    "import numpy as np\n",
    "import pandas as pd\n",
    "import scipy as sp\n",
    "import scipy.stats as stats\n",
    "import matplotlib.pyplot as plt\n",
    "import matplotlib.patches as mpatches\n",
    "\n",
    "import os\n",
    "import glob\n",
    "import sys"
   ]
  },
  {
   "cell_type": "code",
   "execution_count": 2,
   "metadata": {},
   "outputs": [],
   "source": [
    "from utils import set_basepath"
   ]
  },
  {
   "cell_type": "code",
   "execution_count": 3,
   "metadata": {},
   "outputs": [
    {
     "data": {
      "text/plain": [
       "'/Users/jacobhow/Documents/programming-projects/nfl-big-data/notebooks/feature'"
      ]
     },
     "execution_count": 3,
     "metadata": {},
     "output_type": "execute_result"
    }
   ],
   "source": [
    "sys.path[0]"
   ]
  },
  {
   "cell_type": "code",
   "execution_count": 4,
   "metadata": {},
   "outputs": [],
   "source": [
    "basepath = set_basepath(steps=2)"
   ]
  },
  {
   "cell_type": "code",
   "execution_count": 5,
   "metadata": {},
   "outputs": [
    {
     "data": {
      "text/plain": [
       "'/Users/jacobhow/Documents/programming-projects/nfl-big-data'"
      ]
     },
     "execution_count": 5,
     "metadata": {},
     "output_type": "execute_result"
    }
   ],
   "source": [
    "sys.path[0]"
   ]
  },
  {
   "cell_type": "code",
   "execution_count": 6,
   "metadata": {},
   "outputs": [],
   "source": [
    "from src.team import Team\n",
    "from src.game import Game\n",
    "from src.play import Play\n",
    "from src.player import Player\n",
    "from src.analysis import process_games"
   ]
  },
  {
   "cell_type": "code",
   "execution_count": 7,
   "metadata": {},
   "outputs": [],
   "source": [
    "games = pd.read_csv(os.path.join(basepath,'data/games.csv'))"
   ]
  },
  {
   "cell_type": "code",
   "execution_count": 8,
   "metadata": {},
   "outputs": [],
   "source": [
    "players = pd.read_csv(os.path.join(basepath,'data/players.csv')).set_index('nflId')"
   ]
  },
  {
   "cell_type": "code",
   "execution_count": 9,
   "metadata": {},
   "outputs": [],
   "source": [
    "plays = pd.read_csv(os.path.join(basepath,'data/plays.csv'))"
   ]
  },
  {
   "cell_type": "code",
   "execution_count": 10,
   "metadata": {},
   "outputs": [],
   "source": [
    "weeks = {}\n",
    "for i in range(17):\n",
    "    name = f'week{i+1}'\n",
    "    weeks[name] = pd.read_csv(os.path.join(basepath,'data',name+'-processed.csv'))"
   ]
  },
  {
   "cell_type": "code",
   "execution_count": 11,
   "metadata": {},
   "outputs": [],
   "source": [
    "teams = process_games(games,plays)"
   ]
  },
  {
   "cell_type": "code",
   "execution_count": 12,
   "metadata": {},
   "outputs": [],
   "source": [
    "team = teams['IND']"
   ]
  },
  {
   "cell_type": "code",
   "execution_count": 13,
   "metadata": {},
   "outputs": [
    {
     "data": {
      "text/plain": [
       "{'week1': <src.game.Game at 0x1a2744ce80>,\n",
       " 'week2': <src.game.Game at 0x1a31d06b00>,\n",
       " 'week3': <src.game.Game at 0x10d7c9860>,\n",
       " 'week4': <src.game.Game at 0x10d7e0668>,\n",
       " 'week5': <src.game.Game at 0x10d7f65c0>,\n",
       " 'week6': <src.game.Game at 0x10e506320>,\n",
       " 'week7': <src.game.Game at 0x10e512ba8>,\n",
       " 'week8': <src.game.Game at 0x1a22c1a320>,\n",
       " 'week10': <src.game.Game at 0x1a22c3d128>,\n",
       " 'week11': <src.game.Game at 0x1a22c50668>,\n",
       " 'week12': <src.game.Game at 0x1a22c62ba8>,\n",
       " 'week13': <src.game.Game at 0x1a22c7fda0>,\n",
       " 'week14': <src.game.Game at 0x1a22c97080>,\n",
       " 'week15': <src.game.Game at 0x1a22ca9e48>,\n",
       " 'week16': <src.game.Game at 0x1a22cbc3c8>,\n",
       " 'week17': <src.game.Game at 0x1a23aa1320>}"
      ]
     },
     "execution_count": 13,
     "metadata": {},
     "output_type": "execute_result"
    }
   ],
   "source": [
    "team.games"
   ]
  },
  {
   "cell_type": "code",
   "execution_count": 14,
   "metadata": {},
   "outputs": [
    {
     "name": "stderr",
     "output_type": "stream",
     "text": [
      "/Users/jacobhow/Documents/programming-projects/nfl-big-data/src/play.py:168: SettingWithCopyWarning: \n",
      "A value is trying to be set on a copy of a slice from a DataFrame.\n",
      "Try using .loc[row_indexer,col_indexer] = value instead\n",
      "\n",
      "See the caveats in the documentation: https://pandas.pydata.org/pandas-docs/stable/user_guide/indexing.html#returning-a-view-versus-a-copy\n",
      "  self.player_tracking['distance from line'] = self.player_tracking['x'] - self.line_of_scrimmage\n",
      "/Users/jacobhow/Documents/programming-projects/nfl-big-data/src/play.py:169: SettingWithCopyWarning: \n",
      "A value is trying to be set on a copy of a slice from a DataFrame.\n",
      "Try using .loc[row_indexer,col_indexer] = value instead\n",
      "\n",
      "See the caveats in the documentation: https://pandas.pydata.org/pandas-docs/stable/user_guide/indexing.html#returning-a-view-versus-a-copy\n",
      "  self.player_tracking['distance to sideline'] = [min((160/3) - y,y) for y in self.player_tracking['y'].values]\n",
      "/Users/jacobhow/Documents/programming-projects/nfl-big-data/src/play.py:170: SettingWithCopyWarning: \n",
      "A value is trying to be set on a copy of a slice from a DataFrame.\n",
      "Try using .loc[row_indexer,col_indexer] = value instead\n",
      "\n",
      "See the caveats in the documentation: https://pandas.pydata.org/pandas-docs/stable/user_guide/indexing.html#returning-a-view-versus-a-copy\n",
      "  self.player_tracking['distance from center'] = self.player_tracking['y'] - self.play_center\n"
     ]
    }
   ],
   "source": [
    "team.process_weeks(weeks)"
   ]
  },
  {
   "cell_type": "code",
   "execution_count": 15,
   "metadata": {
    "scrolled": false
   },
   "outputs": [
    {
     "name": "stdout",
     "output_type": "stream",
     "text": [
      "Play 1: (14:11) (Shotgun) A.Dalton pass short left intended for J.Mixon INTERCEPTED by K.Moore II at CIN 39. K.Moore II to CIN 7 for 32 yards (A.Dalton).\n",
      "Play 2: (12:32) A.Dalton pass short right to T.Eifert pushed ob at CIN 40 for 29 yards (M.Hooker).\n",
      "Play 3: (11:17) (Shotgun) A.Dalton pass short left to J.Mixon to IND 32 for 21 yards (C.Geathers).\n",
      "Play 4: (9:58) A.Dalton pass short right to A.Green to IND 22 for 5 yards (N.Hairston).\n",
      "Play 5: (8:35) (Shotgun) A.Dalton pass incomplete deep right to J.Ross.\n",
      "Play 6: (8:30) (Shotgun) A.Dalton pass incomplete short middle to T.Boyd (J.Sheard).\n",
      "Play 7: (1:23) A.Dalton pass short right to J.Mixon to CIN 33 for 8 yards (N.Hairston).\n",
      "Play 8: (:58) (No Huddle, Shotgun) A.Dalton pass short right to T.Kroft to CIN 42 for 9 yards (A.Walker, D.Leonard).\n",
      "Play 9: (:11) (Shotgun) A.Dalton pass short left to A.Green to IND 45 for 13 yards (M.Farley). FUMBLES (M.Farley), touched at IND 45, RECOVERED by IND-D.Leonard at IND 42. D.Leonard to IND 42 for no gain (T.Boyd).\n",
      "Play 10: (11:33) (Shotgun) A.Dalton pass short right to T.Boyd to CIN 20 for 5 yards (A.Walker).\n",
      "Play 11: (10:50) A.Dalton pass short right to G.Bernard to CIN 31 for 11 yards (C.Geathers).\n",
      "Play 12: (3:01) (Shotgun) A.Dalton pass short right to C.Uzomah to CIN 29 for 4 yards (C.Geathers).\n",
      "Play 13: (2:00) (Shotgun) A.Dalton pass incomplete deep left to A.Green. PENALTY on IND-Q.Wilson, Defensive Pass Interference, 36 yards, enforced at IND 39 - No Play.\n",
      "Play 14: (1:54) A.Dalton pass incomplete short right to A.Green.\n",
      "Play 15: (1:48) A.Dalton pass short left to J.Ross for 3 yards, TOUCHDOWN.\n",
      "Play 16: (13:04) (No Huddle, Shotgun) A.Dalton sacked at CIN 19 for -8 yards (M.Hunt).\n",
      "Play 17: (12:19) (Shotgun) A.Dalton pass short right to T.Eifert to CIN 25 for 6 yards (N.Hairston).\n",
      "Play 18: (8:13) (Shotgun) A.Dalton pass short right to J.Mixon to CIN 30 for 5 yards (D.Autry).\n",
      "Play 19: (7:38) A.Dalton pass short right to A.Green to CIN 36 for 6 yards (N.Hairston).\n",
      "Play 20: (7:05) A.Dalton pass short left to T.Boyd pushed ob at CIN 40 for 4 yards (K.Moore II).\n",
      "Play 21: (6:31) A.Dalton pass incomplete short right to J.Mixon.\n",
      "Play 22: (4:18) A.Dalton pass deep left to A.Green for 38 yards, TOUCHDOWN.\n",
      "Play 23: (14:37) (No Huddle, Shotgun) A.Dalton sacked at IND 47 for -6 yards (M.Hunt).\n",
      "Play 24: (13:55) (Shotgun) A.Dalton pass incomplete short right to T.Eifert. PENALTY on IND-C.Geathers, Defensive Pass Interference, 8 yards, enforced at IND 47 - No Play.\n",
      "Play 25: (13:23) A.Dalton pass short right to J.Mixon to IND 9 for 15 yards (C.Geathers).\n",
      "Play 26: (9:13) (Shotgun) A.Dalton pass short middle to A.Green to CIN 41 for 18 yards (M.Farley).\n",
      "Play 27: (7:37) (Shotgun) A.Dalton pass short middle to T.Eifert to CIN 43 for 9 yards (A.Walker, D.Leonard).\n",
      "Play 28: (6:57) (Shotgun) A.Dalton pass short right to T.Boyd ran ob at IND 40 for 17 yards (M.Hooker).\n",
      "Play 29: (6:14) (Shotgun) A.Dalton pass short middle to J.Mixon to IND 35 for 5 yards (D.Leonard).\n",
      "Play 30: (5:34) (Shotgun) A.Dalton pass short left to A.Green to IND 23 for 12 yards (C.Geathers). FUMBLES (C.Geathers), recovered by CIN-T.Boyd at IND 21. T.Boyd to IND 21 for no gain (Q.Wilson).\n",
      "Play 31: (4:13) A.Dalton pass incomplete deep left to A.Green [A.Walker].\n",
      "Play 32: (4:08) (Shotgun) A.Dalton pass incomplete short left to T.Boyd.\n"
     ]
    }
   ],
   "source": [
    "game = team.games['week1']\n",
    "game.list_plays()"
   ]
  },
  {
   "cell_type": "code",
   "execution_count": 16,
   "metadata": {},
   "outputs": [
    {
     "name": "stdout",
     "output_type": "stream",
     "text": [
      "    Quincy Wilson (CB-31) covering John Ross (WR-15)\n",
      "    Kenny Moore II (CB-23) covering Tyler Boyd (WR-83)\n",
      "    Nate Hairston (CB-27) covering A.J. Green (WR-18)\n",
      "    Kenny Moore II (CB-23) - Zone on end movement criteria\n",
      "    Kenny Moore II (CB-23) covering A.J. Green (WR-18)\n",
      "    Kenny Moore II (CB-23) - Zone on end movement criteria\n",
      "    Kenny Moore II (CB-23) Bltizing\n",
      "    Skai Moore (ILB-55) Bltizing\n",
      "    Quincy Wilson (CB-31) covering A.J. Green (WR-18)\n",
      "    Nate Hairston (CB-27) covering John Ross (WR-15)\n",
      "    Kenny Moore II (CB-23) covering Tyler Boyd (WR-83)\n",
      "    Skai Moore (ILB-55) covering C.J. Uzomah (TE-87)\n",
      "    Nate Hairston (CB-27) - Zone on end movement criteria\n",
      "    Kenny Moore II (CB-23) - Zone on end movement criteria\n",
      "    Skai Moore (ILB-55) - Zone on end movement criteria\n",
      "    Kenny Moore II (CB-23) covering Tyler Boyd (WR-83)\n",
      "    Clayton Geathers (FS-26) covering C.J. Uzomah (TE-87)\n",
      "    Kenny Moore II (CB-23) - Zone on end movement criteria\n",
      "    Clayton Geathers (FS-26) - Zone on end movement criteria\n",
      "    Quincy Wilson (CB-31) covering A.J. Green (WR-18)\n",
      "    Kenny Moore II (CB-23) covering Tyler Boyd (WR-83)\n",
      "    Nate Hairston (CB-27) covering John Ross (WR-15)\n",
      "    Quincy Wilson (CB-31) - Zone on separation criteria\n",
      "    Kenny Moore II (CB-23) - Zone on end movement criteria\n",
      "    Quincy Wilson (CB-31) covering John Ross (WR-15)\n",
      "    Quincy Wilson (CB-31) - Zone on separation criteria\n",
      "    Kenny Moore II (CB-23) covering A.J. Green (WR-18)\n",
      "    Nate Hairston (CB-27) covering Tyler Boyd (WR-83)\n",
      "    Nate Hairston (CB-27) - Zone on end movement criteria\n",
      "    Kenny Moore II (CB-23) - Zone on end movement criteria\n",
      "    Kenny Moore II (CB-23) covering A.J. Green (WR-18)\n",
      "    Nate Hairston (CB-27) covering Tyler Boyd (WR-83)\n",
      "    Nate Hairston (CB-27) - Zone on end movement criteria\n",
      "    Quincy Wilson (CB-31) covering A.J. Green (WR-18)\n",
      "    Kenny Moore II (CB-23) covering Tyler Boyd (WR-83)\n",
      "    Nate Hairston (CB-27) covering John Ross (WR-15)\n",
      "    Kenny Moore II (CB-23) - Zone on end movement criteria\n",
      "    Nate Hairston (CB-27) covering A.J. Green (WR-18)\n",
      "    Kenny Moore II (CB-23) covering Tyler Boyd (WR-83)\n",
      "    Anthony Walker (ILB-50) covering Tyler Kroft (TE-81)\n",
      "    Nate Hairston (CB-27) covering A.J. Green (WR-18)\n",
      "    Kenny Moore II (CB-23) - Zone on end movement criteria\n",
      "    Anthony Walker (ILB-50) - Zone on end movement criteria\n",
      "    Quincy Wilson (CB-31) covering John Ross (WR-15)\n",
      "    Nate Hairston (CB-27) covering A.J. Green (WR-18)\n",
      "    Quincy Wilson (CB-31) covering A.J. Green (WR-18)\n",
      "    Nate Hairston (CB-27) covering John Ross (WR-15)\n",
      "    Kenny Moore II (CB-23) covering Tyler Boyd (WR-83)\n",
      "    Skai Moore (ILB-55) covering Tyler Eifert (TE-85)\n",
      "    Kenny Moore II (CB-23) - Zone on end movement criteria\n",
      "    Skai Moore (ILB-55) - Zone on end movement criteria\n",
      "    Kenny Moore II (CB-23) covering A.J. Green (WR-18)\n",
      "    Nate Hairston (CB-27) covering John Ross (WR-15)\n",
      "    Clayton Geathers (FS-26) covering C.J. Uzomah (TE-87)\n",
      "    Darius Leonard (LB-53) covering Tyler Kroft (TE-81)\n",
      "    Clayton Geathers (FS-26) - Zone on end movement criteria\n",
      "    Darius Leonard (LB-53) - Zone on end movement criteria\n",
      "    Zaire Franklin (ILB-44) Bltizing\n",
      "    Quincy Wilson (CB-31) covering John Ross (WR-15)\n",
      "    Clayton Geathers (FS-26) covering C.J. Uzomah (TE-87)\n",
      "    Nate Hairston (CB-27) covering A.J. Green (WR-18)\n",
      "    Kenny Moore II (CB-23) covering Tyler Boyd (WR-83)\n",
      "    Darius Leonard (LB-53) Bltizing\n",
      "    Kenny Moore II (CB-23) covering A.J. Green (WR-18)\n",
      "    Nate Hairston (CB-27) covering Tyler Boyd (WR-83)\n",
      "    Darius Leonard (LB-53) covering C.J. Uzomah (TE-87)\n",
      "    Zaire Franklin (ILB-44) Bltizing\n",
      "    Kenny Moore II (CB-23) covering Tyler Boyd (WR-83)\n",
      "    Anthony Walker (ILB-50) covering C.J. Uzomah (TE-87)\n",
      "    Nate Hairston (CB-27) covering A.J. Green (WR-18)\n",
      "    Nate Hairston (CB-27) - Zone on end movement criteria\n",
      "    Kenny Moore II (CB-23) - Zone on end movement criteria\n",
      "    Anthony Walker (ILB-50) - Zone on end movement criteria\n",
      "    Kenny Moore II (CB-23) covering Tyler Boyd (WR-83)\n",
      "    Quincy Wilson (CB-31) covering A.J. Green (WR-18)\n",
      "    Nate Hairston (CB-27) covering John Ross (WR-15)\n",
      "    Quincy Wilson (CB-31) - Zone on separation criteria\n",
      "    Kenny Moore II (CB-23) Bltizing\n",
      "    Darius Leonard (LB-53) covering C.J. Uzomah (TE-87)\n",
      "    Nate Hairston (CB-27) covering John Ross (WR-15)\n",
      "    Kenny Moore II (CB-23) covering A.J. Green (WR-18)\n",
      "    Kenny Moore II (CB-23) - Zone on end movement criteria\n",
      "    Darius Leonard (LB-53) - Zone on end movement criteria\n",
      "    Quincy Wilson (CB-31) covering A.J. Green (WR-18)\n",
      "    Nate Hairston (CB-27) covering John Ross (WR-15)\n",
      "    Clayton Geathers (FS-26) covering Tyler Eifert (TE-85)\n",
      "    Quincy Wilson (CB-31) - Zone on end movement criteria\n",
      "    Nate Hairston (CB-27) - Zone on end movement criteria\n",
      "    Clayton Geathers (FS-26) - Zone on separation criteria\n",
      "    Quincy Wilson (CB-31) covering John Ross (WR-15)\n",
      "    Kenny Moore II (CB-23) covering Tyler Boyd (WR-83)\n",
      "    Skai Moore (ILB-55) covering Tyler Kroft (TE-81)\n",
      "    Nate Hairston (CB-27) covering A.J. Green (WR-18)\n",
      "    Skai Moore (ILB-55) - Zone on end movement criteria\n",
      "    Kenny Moore II (CB-23) covering A.J. Green (WR-18)\n",
      "    Najee Goode (OLB-52) covering C.J. Uzomah (TE-87)\n",
      "    Nate Hairston (CB-27) covering Tyler Boyd (WR-83)\n",
      "    Nate Hairston (CB-27) - Zone on end movement criteria\n",
      "    Kenny Moore II (CB-23) - Zone on end movement criteria\n",
      "    Najee Goode (OLB-52) - Zone on end movement criteria\n",
      "    Quincy Wilson (CB-31) covering A.J. Green (WR-18)\n",
      "    Nate Hairston (CB-27) covering John Ross (WR-15)\n",
      "    Kenny Moore II (CB-23) covering Tyler Boyd (WR-83)\n",
      "    Anthony Walker (ILB-50) covering Tyler Eifert (TE-85)\n",
      "    Kenny Moore II (CB-23) - Zone on end movement criteria\n",
      "    Anthony Walker (ILB-50) - Zone on end movement criteria\n",
      "    Quincy Wilson (CB-31) covering Tyler Boyd (WR-83)\n",
      "    Clayton Geathers (FS-26) covering Tyler Eifert (TE-85)\n",
      "    Nate Hairston (CB-27) covering A.J. Green (WR-18)\n",
      "    Kenny Moore II (CB-23) covering John Ross (WR-15)\n",
      "    Quincy Wilson (CB-31) - Zone on separation criteria\n",
      "    Kenny Moore II (CB-23) - Zone on separation criteria\n",
      "    Quincy Wilson (CB-31) covering Josh Malone (WR-80)\n",
      "    Nate Hairston (CB-27) covering John Ross (WR-15)\n",
      "    Darius Leonard (LB-53) covering C.J. Uzomah (TE-87)\n",
      "    Nate Hairston (CB-27) - Zone on end movement criteria\n",
      "    Darius Leonard (LB-53) - Zone on end movement criteria\n",
      "    Quincy Wilson (CB-31) covering A.J. Green (WR-18)\n",
      "    Nate Hairston (CB-27) covering Alex Erickson (WR-12)\n",
      "    Darius Leonard (LB-53) covering C.J. Uzomah (TE-87)\n",
      "    Quincy Wilson (CB-31) - Zone on end movement criteria\n",
      "    Darius Leonard (LB-53) - Zone on end movement criteria\n",
      "    Darius Leonard (LB-53) Bltizing\n",
      "    Kenny Moore II (CB-23) covering A.J. Green (WR-18)\n",
      "    Najee Goode (OLB-52) covering C.J. Uzomah (TE-87)\n",
      "    Darius Leonard (LB-53) covering Tyler Eifert (TE-85)\n",
      "    Darius Leonard (LB-53) - Zone on separation criteria\n",
      "    Najee Goode (OLB-52) - Zone on end movement criteria\n",
      "    Anthony Walker (ILB-50) Bltizing\n",
      "    Najee Goode (OLB-52) Bltizing\n",
      "    Quincy Wilson (CB-31) covering John Ross (WR-15)\n"
     ]
    }
   ],
   "source": [
    "for game in team.games.values():\n",
    "    game.process_plays(players)"
   ]
  },
  {
   "cell_type": "code",
   "execution_count": 17,
   "metadata": {},
   "outputs": [],
   "source": [
    "play_number = 22"
   ]
  },
  {
   "cell_type": "code",
   "execution_count": 18,
   "metadata": {},
   "outputs": [],
   "source": [
    "play = game.plays[play_number - 1]"
   ]
  },
  {
   "cell_type": "code",
   "execution_count": 19,
   "metadata": {},
   "outputs": [
    {
     "data": {
      "text/plain": [
       "gameId                                                           2018090902\n",
       "playId                                                                 2824\n",
       "playDescription           (4:18) A.Dalton pass deep left to A.Green for ...\n",
       "quarter                                                                   3\n",
       "down                                                                      1\n",
       "yardsToGo                                                                10\n",
       "possessionTeam                                                          CIN\n",
       "playType                                                     play_type_pass\n",
       "yardlineSide                                                            IND\n",
       "yardlineNumber                                                           38\n",
       "offenseFormation                                                 SINGLEBACK\n",
       "personnelO                                                 1 RB, 2 TE, 2 WR\n",
       "defendersInTheBox                                                         6\n",
       "numberOfPassRushers                                                       3\n",
       "personnelD                                                 4 DL, 2 LB, 5 DB\n",
       "typeDropback                                                    TRADITIONAL\n",
       "preSnapVisitorScore                                                      10\n",
       "preSnapHomeScore                                                         23\n",
       "gameClock                                                          04:18:00\n",
       "absoluteYardlineNumber                                                   72\n",
       "penaltyCodes                                                            NaN\n",
       "penaltyJerseyNumbers                                                    NaN\n",
       "passResult                                                                C\n",
       "offensePlayResult                                                        38\n",
       "playResult                                                               38\n",
       "epa                                                                 3.48763\n",
       "isDefensivePI                                                         False\n",
       "Name: 21, dtype: object"
      ]
     },
     "execution_count": 19,
     "metadata": {},
     "output_type": "execute_result"
    }
   ],
   "source": [
    "play.play_data"
   ]
  },
  {
   "cell_type": "code",
   "execution_count": 20,
   "metadata": {},
   "outputs": [
    {
     "data": {
      "image/png": "[encoded data removed]",
      "text/plain": [
       "<Figure size 864x383.76 with 1 Axes>"
      ]
     },
     "metadata": {
      "needs_background": "light"
     },
     "output_type": "display_data"
    }
   ],
   "source": [
    "play.plot_play(markers='number')"
   ]
  },
  {
   "cell_type": "code",
   "execution_count": 21,
   "metadata": {
    "scrolled": false
   },
   "outputs": [
    {
     "data": {
      "image/png": "[encoded data removed]",
      "text/plain": [
       "<Figure size 864x383.76 with 1 Axes>"
      ]
     },
     "metadata": {
      "needs_background": "light"
     },
     "output_type": "display_data"
    }
   ],
   "source": [
    "play.plot_play_frame(index='ball_snap',show_coverage=True,markers='number')"
   ]
  },
  {
   "cell_type": "code",
   "execution_count": 22,
   "metadata": {},
   "outputs": [
    {
     "data": {
      "image/png": "[encoded data removed]",
      "text/plain": [
       "<Figure size 864x383.76 with 1 Axes>"
      ]
     },
     "metadata": {
      "needs_background": "light"
     },
     "output_type": "display_data"
    }
   ],
   "source": [
    "play.plot_play_frame(index='ball_snap',show_coverage=True,markers='position')"
   ]
  },
  {
   "cell_type": "markdown",
   "metadata": {},
   "source": [
    "## Defensive Personal Package"
   ]
  },
  {
   "cell_type": "code",
   "execution_count": 23,
   "metadata": {},
   "outputs": [
    {
     "data": {
      "text/plain": [
       "'4 DL, 2 LB, 5 DB'"
      ]
     },
     "execution_count": 23,
     "metadata": {},
     "output_type": "execute_result"
    }
   ],
   "source": [
    "play.play_data['personnelD']"
   ]
  },
  {
   "cell_type": "code",
   "execution_count": 24,
   "metadata": {},
   "outputs": [
    {
     "data": {
      "text/plain": [
       "'5 DB'"
      ]
     },
     "execution_count": 24,
     "metadata": {},
     "output_type": "execute_result"
    }
   ],
   "source": [
    "play.play_data['personnelD'].split(', ')[-1]"
   ]
  },
  {
   "cell_type": "code",
   "execution_count": 25,
   "metadata": {},
   "outputs": [
    {
     "data": {
      "text/plain": [
       "5"
      ]
     },
     "execution_count": 25,
     "metadata": {},
     "output_type": "execute_result"
    }
   ],
   "source": [
    "int(play.play_data['personnelD'].split(', ')[-1].split()[0])"
   ]
  },
  {
   "cell_type": "code",
   "execution_count": 26,
   "metadata": {},
   "outputs": [
    {
     "data": {
      "text/plain": [
       "'nickel'"
      ]
     },
     "execution_count": 26,
     "metadata": {},
     "output_type": "execute_result"
    }
   ],
   "source": [
    "play.defensive_personal_package"
   ]
  },
  {
   "cell_type": "markdown",
   "metadata": {},
   "source": [
    "## Safety Help"
   ]
  },
  {
   "cell_type": "markdown",
   "metadata": {},
   "source": [
    "### Top Side"
   ]
  },
  {
   "cell_type": "code",
   "execution_count": 27,
   "metadata": {},
   "outputs": [],
   "source": [
    "top_safety = play.return_player_by_number(26)"
   ]
  },
  {
   "cell_type": "code",
   "execution_count": 28,
   "metadata": {},
   "outputs": [
    {
     "data": {
      "text/plain": [
       "array([91.91, 38.58])"
      ]
     },
     "execution_count": 28,
     "metadata": {},
     "output_type": "execute_result"
    }
   ],
   "source": [
    "top_safety.zone_loc"
   ]
  },
  {
   "cell_type": "code",
   "execution_count": 29,
   "metadata": {},
   "outputs": [],
   "source": [
    "top_cb = play.return_player_by_number(31)"
   ]
  },
  {
   "cell_type": "code",
   "execution_count": 30,
   "metadata": {},
   "outputs": [
    {
     "data": {
      "text/plain": [
       "array([84.17, 44.43])"
      ]
     },
     "execution_count": 30,
     "metadata": {},
     "output_type": "execute_result"
    }
   ],
   "source": [
    "top_cb.location(play.events['pass_forward'])"
   ]
  },
  {
   "cell_type": "code",
   "execution_count": 31,
   "metadata": {},
   "outputs": [
    {
     "data": {
      "text/plain": [
       "True"
      ]
     },
     "execution_count": 31,
     "metadata": {},
     "output_type": "execute_result"
    }
   ],
   "source": [
    "top_cb.safety_help"
   ]
  },
  {
   "cell_type": "markdown",
   "metadata": {},
   "source": [
    "### Bottom Side"
   ]
  },
  {
   "cell_type": "code",
   "execution_count": 32,
   "metadata": {},
   "outputs": [],
   "source": [
    "bottom_safety = play.return_player_by_number(29)"
   ]
  },
  {
   "cell_type": "code",
   "execution_count": 33,
   "metadata": {},
   "outputs": [
    {
     "data": {
      "text/plain": [
       "array([96.53, 20.48])"
      ]
     },
     "execution_count": 33,
     "metadata": {},
     "output_type": "execute_result"
    }
   ],
   "source": [
    "bottom_safety.zone_loc"
   ]
  },
  {
   "cell_type": "code",
   "execution_count": 34,
   "metadata": {},
   "outputs": [
    {
     "data": {
      "text/plain": [
       "-8.79"
      ]
     },
     "execution_count": 34,
     "metadata": {},
     "output_type": "execute_result"
    }
   ],
   "source": [
    "bottom_safety.distance_from_center(play.events['pass_forward'])"
   ]
  },
  {
   "cell_type": "code",
   "execution_count": null,
   "metadata": {},
   "outputs": [],
   "source": []
  },
  {
   "cell_type": "code",
   "execution_count": 35,
   "metadata": {},
   "outputs": [],
   "source": [
    "bottom_cb = play.return_player_by_number(27)"
   ]
  },
  {
   "cell_type": "code",
   "execution_count": 36,
   "metadata": {},
   "outputs": [
    {
     "data": {
      "text/plain": [
       "array([91.61, 10.44])"
      ]
     },
     "execution_count": 36,
     "metadata": {},
     "output_type": "execute_result"
    }
   ],
   "source": [
    "bottom_cb.location(play.events['pass_forward'])"
   ]
  },
  {
   "cell_type": "code",
   "execution_count": 37,
   "metadata": {},
   "outputs": [],
   "source": [
    "#dst = os.path.join(basepath,'coverages',team.abbr,game.info,f'Play {play_number}','images')"
   ]
  },
  {
   "cell_type": "code",
   "execution_count": 38,
   "metadata": {
    "scrolled": false
   },
   "outputs": [],
   "source": [
    "#play.plot_play_frames(markers='number',show_coverage=True,target_directory=dst)"
   ]
  },
  {
   "cell_type": "code",
   "execution_count": 39,
   "metadata": {},
   "outputs": [
    {
     "data": {
      "text/plain": [
       "{'cover 1': 11, 'cover 2': 7, 'cover 3': 3, 'cover 4': 5, 'cover 6': 4}"
      ]
     },
     "execution_count": 39,
     "metadata": {},
     "output_type": "execute_result"
    }
   ],
   "source": [
    "game.classify_defensive_coverage_shells()"
   ]
  },
  {
   "cell_type": "code",
   "execution_count": 40,
   "metadata": {},
   "outputs": [
    {
     "data": {
      "text/plain": [
       "{'Quincy Wilson': {'snaps': 22,\n",
       "  'zone': 3,\n",
       "  'zone-deep': 0,\n",
       "  'zone-over': 9,\n",
       "  'man': 10,\n",
       "  'man-over': 0,\n",
       "  'blitz': 0},\n",
       " 'Nate Hairston': {'snaps': 30,\n",
       "  'zone': 4,\n",
       "  'zone-deep': 0,\n",
       "  'zone-over': 10,\n",
       "  'man': 16,\n",
       "  'man-over': 0,\n",
       "  'blitz': 0},\n",
       " 'Kenny Moore II': {'snaps': 30,\n",
       "  'zone': 4,\n",
       "  'zone-deep': 0,\n",
       "  'zone-over': 17,\n",
       "  'man': 7,\n",
       "  'man-over': 0,\n",
       "  'blitz': 2}}"
      ]
     },
     "execution_count": 40,
     "metadata": {},
     "output_type": "execute_result"
    }
   ],
   "source": [
    "game.classify_defensive_back_coverages(positions=['CB'])"
   ]
  },
  {
   "cell_type": "code",
   "execution_count": null,
   "metadata": {},
   "outputs": [],
   "source": []
  }
 ],
 "metadata": {
  "kernelspec": {
   "display_name": "Python 3",
   "language": "python",
   "name": "python3"
  },
  "language_info": {
   "codemirror_mode": {
    "name": "ipython",
    "version": 3
   },
   "file_extension": ".py",
   "mimetype": "text/x-python",
   "name": "python",
   "nbconvert_exporter": "python",
   "pygments_lexer": "ipython3",
   "version": "3.7.3"
  }
 },
 "nbformat": 4,
 "nbformat_minor": 4
}
