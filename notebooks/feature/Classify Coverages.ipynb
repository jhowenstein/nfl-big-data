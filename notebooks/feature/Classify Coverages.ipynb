{
 "cells": [
  {
   "cell_type": "code",
   "execution_count": 1,
   "metadata": {},
   "outputs": [],
   "source": [
    "import numpy as np\n",
    "import pandas as pd\n",
    "import scipy as sp\n",
    "\n",
    "import matplotlib.pyplot as plt\n",
    "import matplotlib.patches as mpatches\n",
    "\n",
    "import os\n",
    "import glob\n",
    "import sys"
   ]
  },
  {
   "cell_type": "code",
   "execution_count": 2,
   "metadata": {},
   "outputs": [],
   "source": [
    "from utils import set_basepath"
   ]
  },
  {
   "cell_type": "code",
   "execution_count": 3,
   "metadata": {},
   "outputs": [
    {
     "data": {
      "text/plain": [
       "'/Users/jacobhow/Documents/programming-projects/nfl-big-data/notebooks/feature'"
      ]
     },
     "execution_count": 3,
     "metadata": {},
     "output_type": "execute_result"
    }
   ],
   "source": [
    "sys.path[0]"
   ]
  },
  {
   "cell_type": "code",
   "execution_count": 4,
   "metadata": {},
   "outputs": [],
   "source": [
    "basepath = set_basepath(steps=2)"
   ]
  },
  {
   "cell_type": "code",
   "execution_count": 5,
   "metadata": {},
   "outputs": [
    {
     "data": {
      "text/plain": [
       "'/Users/jacobhow/Documents/programming-projects/nfl-big-data'"
      ]
     },
     "execution_count": 5,
     "metadata": {},
     "output_type": "execute_result"
    }
   ],
   "source": [
    "sys.path[0]"
   ]
  },
  {
   "cell_type": "code",
   "execution_count": 6,
   "metadata": {},
   "outputs": [],
   "source": [
    "from src.team import Team\n",
    "from src.game import Game\n",
    "from src.play import Play\n",
    "from src.player import Player\n",
    "from src.analysis import process_games"
   ]
  },
  {
   "cell_type": "code",
   "execution_count": 7,
   "metadata": {},
   "outputs": [],
   "source": [
    "games = pd.read_csv(os.path.join(basepath,'data/games.csv'))"
   ]
  },
  {
   "cell_type": "code",
   "execution_count": 8,
   "metadata": {},
   "outputs": [],
   "source": [
    "players = pd.read_csv(os.path.join(basepath,'data/players.csv')).set_index('nflId')"
   ]
  },
  {
   "cell_type": "code",
   "execution_count": 9,
   "metadata": {},
   "outputs": [],
   "source": [
    "plays = pd.read_csv(os.path.join(basepath,'data/plays.csv'))"
   ]
  },
  {
   "cell_type": "code",
   "execution_count": 10,
   "metadata": {},
   "outputs": [],
   "source": [
    "weeks = {}\n",
    "for i in range(1):\n",
    "    name = f'week{i+1}'\n",
    "    weeks[name] = pd.read_csv(os.path.join(basepath,'data',name+'-processed.csv'))"
   ]
  },
  {
   "cell_type": "code",
   "execution_count": 11,
   "metadata": {},
   "outputs": [],
   "source": [
    "teams = process_games(games,plays)"
   ]
  },
  {
   "cell_type": "code",
   "execution_count": 12,
   "metadata": {},
   "outputs": [],
   "source": [
    "team = teams['IND']"
   ]
  },
  {
   "cell_type": "code",
   "execution_count": 13,
   "metadata": {},
   "outputs": [
    {
     "data": {
      "text/plain": [
       "{'week1': <src.game.Game at 0x12d28fe10>,\n",
       " 'week2': <src.game.Game at 0x12d2aac88>,\n",
       " 'week3': <src.game.Game at 0x12d2c89e8>,\n",
       " 'week4': <src.game.Game at 0x10aef67f0>,\n",
       " 'week5': <src.game.Game at 0x10af0c748>,\n",
       " 'week6': <src.game.Game at 0x10bd054a8>,\n",
       " 'week7': <src.game.Game at 0x10bd0ed30>,\n",
       " 'week8': <src.game.Game at 0x11e1bb4a8>,\n",
       " 'week10': <src.game.Game at 0x11e1e22b0>,\n",
       " 'week11': <src.game.Game at 0x11e1f47f0>,\n",
       " 'week12': <src.game.Game at 0x11e204d30>,\n",
       " 'week13': <src.game.Game at 0x11e21ff28>,\n",
       " 'week14': <src.game.Game at 0x11e238208>,\n",
       " 'week15': <src.game.Game at 0x11e24bfd0>,\n",
       " 'week16': <src.game.Game at 0x11e25d550>,\n",
       " 'week17': <src.game.Game at 0x11f0404a8>}"
      ]
     },
     "execution_count": 13,
     "metadata": {},
     "output_type": "execute_result"
    }
   ],
   "source": [
    "team.games"
   ]
  },
  {
   "cell_type": "code",
   "execution_count": 14,
   "metadata": {},
   "outputs": [
    {
     "name": "stdout",
     "output_type": "stream",
     "text": [
      "week1\n"
     ]
    },
    {
     "name": "stderr",
     "output_type": "stream",
     "text": [
      "/Users/jacobhow/Documents/programming-projects/nfl-big-data/src/play.py:166: SettingWithCopyWarning: \n",
      "A value is trying to be set on a copy of a slice from a DataFrame.\n",
      "Try using .loc[row_indexer,col_indexer] = value instead\n",
      "\n",
      "See the caveats in the documentation: https://pandas.pydata.org/pandas-docs/stable/user_guide/indexing.html#returning-a-view-versus-a-copy\n",
      "  self.player_tracking['distance from line'] = self.player_tracking['x'] - self.line_of_scrimmage\n",
      "/Users/jacobhow/Documents/programming-projects/nfl-big-data/src/play.py:167: SettingWithCopyWarning: \n",
      "A value is trying to be set on a copy of a slice from a DataFrame.\n",
      "Try using .loc[row_indexer,col_indexer] = value instead\n",
      "\n",
      "See the caveats in the documentation: https://pandas.pydata.org/pandas-docs/stable/user_guide/indexing.html#returning-a-view-versus-a-copy\n",
      "  self.player_tracking['distance to sideline'] = [min((160/3) - y,y) for y in self.player_tracking['y'].values]\n",
      "/Users/jacobhow/Documents/programming-projects/nfl-big-data/src/play.py:168: SettingWithCopyWarning: \n",
      "A value is trying to be set on a copy of a slice from a DataFrame.\n",
      "Try using .loc[row_indexer,col_indexer] = value instead\n",
      "\n",
      "See the caveats in the documentation: https://pandas.pydata.org/pandas-docs/stable/user_guide/indexing.html#returning-a-view-versus-a-copy\n",
      "  self.player_tracking['distance from center'] = self.player_tracking['y'] - self.play_center\n"
     ]
    },
    {
     "name": "stdout",
     "output_type": "stream",
     "text": [
      "week2\n",
      "week3\n"
     ]
    }
   ],
   "source": [
    "team.process_weeks(weeks)"
   ]
  },
  {
   "cell_type": "code",
   "execution_count": 15,
   "metadata": {
    "scrolled": false
   },
   "outputs": [
    {
     "name": "stdout",
     "output_type": "stream",
     "text": [
      "Play 1: (8:42) (Shotgun) A.Smith pass short left to A.Peterson to IND 44 for 6 yards (D.Leonard).\n",
      "Play 2: (7:20) (Shotgun) A.Smith pass short middle to P.Richardson to IND 44 for 1 yard (D.Leonard).\n",
      "Play 3: (4:58) (Shotgun) A.Smith pass short left to A.Peterson ran ob at WAS 41 for 3 yards.\n",
      "Play 4: (2:33) A.Smith pass incomplete deep left to J.Doctson.\n",
      "Play 5: (13:09) A.Smith pass short right to A.Peterson pushed ob at IND 37 for 21 yards (N.Hairston). WAS-B.Scherff was injured during the play. His return is Questionable.  75 - has a right knee injury\n",
      "Play 6: (12:29) A.Smith sacked at IND 39 for -7 yards (J.Sheard).\n",
      "Play 7: (11:21) (Shotgun) A.Smith pass incomplete short middle to J.Doctson (J.Sheard).\n",
      "Play 8: (6:14) (Shotgun) A.Smith pass short right to J.Reed to WAS 29 for 4 yards (D.Leonard).\n",
      "Play 9: (5:39) (Shotgun) A.Smith pass incomplete deep middle to P.Richardson (M.Farley).\n",
      "Play 10: (3:44) (Shotgun) A.Smith pass short right to C.Thompson to WAS 37 for 8 yards (D.Leonard).\n",
      "Play 11: (2:10) (Shotgun) A.Smith pass incomplete deep middle to P.Richardson (P.Desir) [J.Sheard].\n",
      "Play 12: (2:06) (Shotgun) A.Smith pass short left to J.Crowder to WAS 32 for no gain (C.Geathers; M.Hunt).\n",
      "Play 13: (:55) (Shotgun) A.Smith pass short right to C.Thompson to WAS 24 for 9 yards (D.Leonard, N.Hairston).\n",
      "Play 14: (:36) (No Huddle, Shotgun) A.Smith pass incomplete short left to J.Crowder.\n",
      "Play 15: (:29) (Shotgun) A.Smith pass deep left to P.Richardson to IND 42 for 34 yards (K.Moore II).\n",
      "Play 16: (:21) (Shotgun) A.Smith pass short left to C.Thompson to IND 31 for 11 yards (C.Geathers; P.Desir).\n",
      "Play 17: (:06) (No Huddle) A.Smith spiked the ball to stop the clock.\n",
      "Play 18: (13:57) (Shotgun) A.Smith pass short left to J.Reed to WAS 9 for 6 yards (K.Moore II, A.Walker).\n",
      "Play 19: (13:16) (Shotgun) A.Smith pass short left to J.Doctson to WAS 23 for 14 yards (P.Desir).\n",
      "Play 20: (12:08) (Shotgun) A.Smith pass deep right to P.Richardson ran ob at WAS 42 for 19 yards.\n",
      "Play 21: (10:58) (Shotgun) A.Smith pass incomplete deep right to J.Crowder.\n",
      "Play 22: (10:52) (Shotgun) A.Smith pass incomplete short left to J.Chesson (P.Desir).\n",
      "Play 23: (8:32) (Shotgun) A.Smith pass short left to C.Thompson to IND 26 for 4 yards (P.Desir; D.Leonard).\n",
      "Play 24: (7:50) (Shotgun) A.Smith pass short left to J.Reed pushed ob at IND 15 for 11 yards (K.Turay).\n",
      "Play 25: (7:11) (Shotgun) A.Smith pass short left to C.Thompson to IND 12 for 3 yards (A.Walker).\n",
      "Play 26: (5:49) (Shotgun) A.Smith pass incomplete short left to J.Doctson (P.Desir).\n",
      "Play 27: (3:59) (Shotgun) A.Smith pass short left to J.Doctson to WAS 37 for 7 yards (Q.Wilson).\n",
      "Play 28: (2:03) (Shotgun) A.Smith pass deep middle to J.Reed to IND 33 for 19 yards (C.Geathers).\n",
      "Play 29: (:49) (Shotgun) A.Smith pass short right to P.Richardson to IND 20 for 9 yards (N.Hairston, K.Moore II).\n",
      "Play 30: (15:00) A.Smith sacked at IND 29 for -10 yards (D.Leonard).\n",
      "Play 31: (14:17) (Shotgun) A.Smith pass short right to C.Thompson to IND 31 for -2 yards (P.Desir).\n",
      "Play 32: (7:32) (Shotgun) A.Smith pass short left to C.Thompson to WAS 35 for 10 yards (D.Leonard).\n",
      "Play 33: (7:05) (No Huddle, Shotgun) A.Smith pass short left to J.Doctson to WAS 45 for 10 yards (D.Leonard).\n",
      "Play 34: (6:43) (No Huddle, Shotgun) A.Smith pass incomplete short left to J.Reed.\n",
      "Play 35: (6:39) (Shotgun) A.Smith pass short middle to J.Crowder to IND 47 for 8 yards (A.Walker).\n",
      "Play 36: (6:15) (No Huddle, Shotgun) A.Smith pass short left to J.Doctson to IND 41 for 6 yards (K.Moore II).\n",
      "Play 37: (5:51) (No Huddle, Shotgun) A.Smith pass short middle to C.Thompson to IND 36 for 5 yards (D.Leonard, C.Geathers).\n",
      "Play 38: (5:28) (No Huddle, Shotgun) A.Smith pass short middle to V.Davis to IND 29 for 7 yards (D.Leonard; C.Geathers) [J.Ward]. WAS-T.Williams was injured during the play. His return is Questionable.  71 - has a knee injury\n",
      "Play 39: (5:08) (Shotgun) A.Smith pass short middle to J.Reed to IND 21 for 8 yards (D.Leonard). FUMBLES (D.Leonard), RECOVERED by IND-P.Desir at IND 19. P.Desir to IND 19 for no gain (C.Thompson).\n",
      "Play 40: (3:39) (Shotgun) A.Smith pass short middle to C.Thompson to WAS 33 for 7 yards (D.Leonard; C.Geathers).\n",
      "Play 41: (3:17) (No Huddle, Shotgun) A.Smith pass incomplete short middle to J.Reed (M.Hunt).\n",
      "Play 42: (3:13) (Shotgun) A.Smith sacked at WAS 27 for -6 yards (J.Ward).\n",
      "Play 43: (2:29) (Shotgun) A.Smith pass short middle to C.Thompson to WAS 41 for 14 yards (K.Moore II, C.Geathers).\n",
      "Play 44: (1:58) (Shotgun) A.Smith pass short right to J.Reed to IND 47 for 7 yards (N.Hairston, C.Geathers) [J.Ward].\n",
      "Play 45: (1:26) (Shotgun) A.Smith pass short middle to C.Thompson to IND 40 for 7 yards (K.Moore II).\n",
      "Play 46: (1:07) (Shotgun) A.Smith pass short right to C.Thompson to IND 36 for 4 yards (C.Geathers).\n",
      "Play 47: (:54) (No Huddle) A.Smith spiked the ball to stop the clock.\n",
      "Play 48: (:46) (Shotgun) A.Smith pass short middle to C.Thompson to IND 34 for 12 yards (M.Farley).\n",
      "Play 49: (:23) (No Huddle, Shotgun) A.Smith pass incomplete short middle to C.Thompson (D.Leonard).\n"
     ]
    }
   ],
   "source": [
    "game = team.games['week2']\n",
    "game.list_plays()"
   ]
  },
  {
   "cell_type": "code",
   "execution_count": 16,
   "metadata": {},
   "outputs": [],
   "source": [
    "game.process_plays(players)"
   ]
  },
  {
   "cell_type": "code",
   "execution_count": 17,
   "metadata": {},
   "outputs": [],
   "source": [
    "play_number = 20"
   ]
  },
  {
   "cell_type": "code",
   "execution_count": 18,
   "metadata": {},
   "outputs": [],
   "source": [
    "play = game.plays[play_number - 1]"
   ]
  },
  {
   "cell_type": "code",
   "execution_count": 19,
   "metadata": {},
   "outputs": [
    {
     "data": {
      "text/plain": [
       "gameId                                                           2018091608\n",
       "playId                                                                 2447\n",
       "playDescription           (12:08) (Shotgun) A.Smith pass deep right to P...\n",
       "quarter                                                                   3\n",
       "down                                                                      2\n",
       "yardsToGo                                                                10\n",
       "possessionTeam                                                          WAS\n",
       "playType                                                     play_type_pass\n",
       "yardlineSide                                                            WAS\n",
       "yardlineNumber                                                           23\n",
       "offenseFormation                                                    SHOTGUN\n",
       "personnelO                                                 1 RB, 1 TE, 3 WR\n",
       "defendersInTheBox                                                         6\n",
       "numberOfPassRushers                                                       4\n",
       "personnelD                                                 4 DL, 2 LB, 5 DB\n",
       "typeDropback                                                    TRADITIONAL\n",
       "preSnapVisitorScore                                                      14\n",
       "preSnapHomeScore                                                          3\n",
       "gameClock                                                          12:08:00\n",
       "absoluteYardlineNumber                                                   87\n",
       "penaltyCodes                                                            NaN\n",
       "penaltyJerseyNumbers                                                    NaN\n",
       "passResult                                                                C\n",
       "offensePlayResult                                                        19\n",
       "playResult                                                               19\n",
       "epa                                                                 1.83003\n",
       "isDefensivePI                                                         False\n",
       "Name: 19, dtype: object"
      ]
     },
     "execution_count": 19,
     "metadata": {},
     "output_type": "execute_result"
    }
   ],
   "source": [
    "play.play_data"
   ]
  },
  {
   "cell_type": "code",
   "execution_count": 20,
   "metadata": {},
   "outputs": [
    {
     "data": {
      "image/png": "[encoded data removed]",
      "text/plain": [
       "<Figure size 864x383.76 with 1 Axes>"
      ]
     },
     "metadata": {
      "needs_background": "light"
     },
     "output_type": "display_data"
    }
   ],
   "source": [
    "play.plot_play(markers='number')"
   ]
  },
  {
   "cell_type": "code",
   "execution_count": 21,
   "metadata": {},
   "outputs": [
    {
     "data": {
      "image/png": "[encoded data removed]",
      "text/plain": [
       "<Figure size 864x383.76 with 1 Axes>"
      ]
     },
     "metadata": {
      "needs_background": "light"
     },
     "output_type": "display_data"
    }
   ],
   "source": [
    "play.plot_play_frame(index='ball_snap',show_coverage=True,markers='number')"
   ]
  },
  {
   "cell_type": "code",
   "execution_count": 22,
   "metadata": {},
   "outputs": [
    {
     "data": {
      "text/plain": [
       "{'ball_snap': 11,\n",
       " 'pass_forward': 39,\n",
       " 'pass_arrived': 54,\n",
       " 'pass_outcome_caught': 57,\n",
       " 'out_of_bounds': 61,\n",
       " 'peak_dropback': 24,\n",
       " 'end_dropback': 32}"
      ]
     },
     "execution_count": 22,
     "metadata": {},
     "output_type": "execute_result"
    }
   ],
   "source": [
    "play.events"
   ]
  },
  {
   "cell_type": "code",
   "execution_count": 23,
   "metadata": {},
   "outputs": [],
   "source": [
    "cb = play.return_player_by_number(23)"
   ]
  },
  {
   "cell_type": "code",
   "execution_count": 24,
   "metadata": {},
   "outputs": [
    {
     "name": "stdout",
     "output_type": "stream",
     "text": [
      "Kenny Moore II\n"
     ]
    }
   ],
   "source": [
    "print(cb)"
   ]
  },
  {
   "cell_type": "code",
   "execution_count": 25,
   "metadata": {},
   "outputs": [
    {
     "data": {
      "text/plain": [
       "True"
      ]
     },
     "execution_count": 25,
     "metadata": {},
     "output_type": "execute_result"
    }
   ],
   "source": [
    "cb.safety_help"
   ]
  },
  {
   "cell_type": "code",
   "execution_count": 26,
   "metadata": {},
   "outputs": [
    {
     "data": {
      "text/plain": [
       "'man'"
      ]
     },
     "execution_count": 26,
     "metadata": {},
     "output_type": "execute_result"
    }
   ],
   "source": [
    "cb.coverage"
   ]
  },
  {
   "cell_type": "code",
   "execution_count": 27,
   "metadata": {},
   "outputs": [
    {
     "data": {
      "text/plain": [
       "True"
      ]
     },
     "execution_count": 27,
     "metadata": {},
     "output_type": "execute_result"
    }
   ],
   "source": [
    "cb.coverage=='man'"
   ]
  },
  {
   "cell_type": "code",
   "execution_count": 28,
   "metadata": {},
   "outputs": [
    {
     "name": "stdout",
     "output_type": "stream",
     "text": [
      "385\n",
      "Nate Hairston\n",
      "man\n",
      "False\n",
      "430\n",
      "Pierre Desir\n",
      "man\n",
      "True\n",
      "430\n",
      "Nate Hairston\n",
      "man\n",
      "True\n",
      "430\n",
      "Kenny Moore II\n",
      "man\n",
      "True\n",
      "430\n",
      "Clayton Geathers\n",
      "man\n",
      "True\n",
      "430\n",
      "Matthias Farley\n",
      "man\n",
      "False\n",
      "996\n",
      "Nate Hairston\n",
      "man\n",
      "False\n",
      "996\n",
      "Kenny Moore II\n",
      "man\n",
      "True\n",
      "1471\n",
      "Quincy Wilson\n",
      "man\n",
      "False\n",
      "1748\n",
      "Pierre Desir\n",
      "man\n",
      "True\n",
      "1832\n",
      "Nate Hairston\n",
      "man\n",
      "False\n",
      "1877\n",
      "Kenny Moore II\n",
      "man\n",
      "True\n",
      "2142\n",
      "Pierre Desir\n",
      "man\n",
      "False\n",
      "2142\n",
      "Nate Hairston\n",
      "man\n",
      "True\n",
      "2142\n",
      "Kenny Moore II\n",
      "man\n",
      "False\n",
      "2142\n",
      "Clayton Geathers\n",
      "man\n",
      "False\n",
      "2183\n",
      "Nate Hairston\n",
      "man\n",
      "False\n",
      "2402\n",
      "Kenny Moore II\n",
      "man\n",
      "True\n",
      "2447\n",
      "Pierre Desir\n",
      "man\n",
      "True\n",
      "2447\n",
      "Kenny Moore II\n",
      "man\n",
      "True\n",
      "2492\n",
      "Pierre Desir\n",
      "man\n",
      "False\n",
      "2492\n",
      "Nate Hairston\n",
      "man\n",
      "False\n",
      "2492\n",
      "Kenny Moore II\n",
      "man\n",
      "False\n",
      "2514\n",
      "Pierre Desir\n",
      "man\n",
      "False\n",
      "2514\n",
      "Clayton Geathers\n",
      "man\n",
      "True\n",
      "2754\n",
      "Pierre Desir\n",
      "man\n",
      "False\n",
      "2754\n",
      "Nate Hairston\n",
      "man\n",
      "False\n",
      "2754\n",
      "Kenny Moore II\n",
      "man\n",
      "False\n",
      "2754\n",
      "Clayton Geathers\n",
      "man\n",
      "False\n",
      "2928\n",
      "Quincy Wilson\n",
      "man\n",
      "False\n",
      "2928\n",
      "Nate Hairston\n",
      "man\n",
      "False\n",
      "2994\n",
      "Quincy Wilson\n",
      "man\n",
      "True\n",
      "3039\n",
      "Quincy Wilson\n",
      "man\n",
      "False\n",
      "3039\n",
      "Kenny Moore II\n",
      "man\n",
      "True\n",
      "3039\n",
      "Darius Leonard\n",
      "man\n",
      "False\n",
      "3525\n",
      "Pierre Desir\n",
      "man\n",
      "True\n",
      "3525\n",
      "Nate Hairston\n",
      "man\n",
      "False\n",
      "3549\n",
      "Pierre Desir\n",
      "man\n",
      "True\n",
      "3549\n",
      "Nate Hairston\n",
      "man\n",
      "True\n",
      "3549\n",
      "Kenny Moore II\n",
      "man\n",
      "True\n",
      "3573\n",
      "Pierre Desir\n",
      "man\n",
      "False\n",
      "3573\n",
      "Nate Hairston\n",
      "man\n",
      "False\n",
      "3595\n",
      "Pierre Desir\n",
      "man\n",
      "True\n",
      "3595\n",
      "Nate Hairston\n",
      "man\n",
      "True\n",
      "3619\n",
      "Nate Hairston\n",
      "man\n",
      "True\n",
      "3643\n",
      "Pierre Desir\n",
      "man\n",
      "True\n",
      "3643\n",
      "Nate Hairston\n",
      "man\n",
      "True\n",
      "3667\n",
      "Pierre Desir\n",
      "man\n",
      "False\n",
      "3667\n",
      "Nate Hairston\n",
      "man\n",
      "False\n",
      "3667\n",
      "Kenny Moore II\n",
      "man\n",
      "True\n",
      "3695\n",
      "Nate Hairston\n",
      "man\n",
      "True\n",
      "3695\n",
      "Kenny Moore II\n",
      "man\n",
      "True\n",
      "3942\n",
      "Pierre Desir\n",
      "man\n",
      "False\n",
      "3942\n",
      "Nate Hairston\n",
      "man\n",
      "True\n",
      "3942\n",
      "Kenny Moore II\n",
      "man\n",
      "True\n",
      "3966\n",
      "Pierre Desir\n",
      "man\n",
      "False\n",
      "3966\n",
      "Nate Hairston\n",
      "man\n",
      "True\n",
      "3966\n",
      "Kenny Moore II\n",
      "man\n",
      "True\n",
      "4007\n",
      "Pierre Desir\n",
      "man\n",
      "False\n",
      "4007\n",
      "Nate Hairston\n",
      "man\n",
      "False\n",
      "4007\n",
      "Kenny Moore II\n",
      "man\n",
      "True\n",
      "4093\n",
      "Pierre Desir\n",
      "man\n",
      "True\n",
      "4093\n",
      "Kenny Moore II\n",
      "man\n",
      "True\n",
      "4121\n",
      "Nate Hairston\n",
      "man\n",
      "False\n",
      "4121\n",
      "Kenny Moore II\n",
      "man\n",
      "True\n"
     ]
    },
    {
     "data": {
      "text/plain": [
       "{'Pierre Desir': {'snaps': 38,\n",
       "  'zone': 1,\n",
       "  'zone-deep': 7,\n",
       "  'zone-over': 13,\n",
       "  'man': 9,\n",
       "  'man-over': 8,\n",
       "  'blitz': 0},\n",
       " 'Nate Hairston': {'snaps': 44,\n",
       "  'zone': 2,\n",
       "  'zone-deep': 4,\n",
       "  'zone-over': 17,\n",
       "  'man': 12,\n",
       "  'man-over': 9,\n",
       "  'blitz': 0},\n",
       " 'Kenny Moore II': {'snaps': 44,\n",
       "  'zone': 1,\n",
       "  'zone-deep': 1,\n",
       "  'zone-over': 24,\n",
       "  'man': 3,\n",
       "  'man-over': 14,\n",
       "  'blitz': 1},\n",
       " 'Darius Leonard': {'snaps': 44,\n",
       "  'zone': 1,\n",
       "  'zone-deep': 0,\n",
       "  'zone-over': 39,\n",
       "  'man': 1,\n",
       "  'man-over': 0,\n",
       "  'blitz': 3},\n",
       " 'Anthony Walker': {'snaps': 19,\n",
       "  'zone': 1,\n",
       "  'zone-deep': 2,\n",
       "  'zone-over': 16,\n",
       "  'man': 0,\n",
       "  'man-over': 0,\n",
       "  'blitz': 0},\n",
       " 'Clayton Geathers': {'snaps': 44,\n",
       "  'zone': 3,\n",
       "  'zone-deep': 16,\n",
       "  'zone-over': 21,\n",
       "  'man': 2,\n",
       "  'man-over': 2,\n",
       "  'blitz': 0},\n",
       " 'Malik Hooker': {'snaps': 44,\n",
       "  'zone': 1,\n",
       "  'zone-deep': 43,\n",
       "  'zone-over': 0,\n",
       "  'man': 0,\n",
       "  'man-over': 0,\n",
       "  'blitz': 0},\n",
       " 'Matthias Farley': {'snaps': 22,\n",
       "  'zone': 4,\n",
       "  'zone-deep': 16,\n",
       "  'zone-over': 1,\n",
       "  'man': 1,\n",
       "  'man-over': 0,\n",
       "  'blitz': 0},\n",
       " 'Zaire Franklin': {'snaps': 1,\n",
       "  'zone': 0,\n",
       "  'zone-deep': 0,\n",
       "  'zone-over': 1,\n",
       "  'man': 0,\n",
       "  'man-over': 0,\n",
       "  'blitz': 0},\n",
       " 'Skai Moore': {'snaps': 3,\n",
       "  'zone': 0,\n",
       "  'zone-deep': 0,\n",
       "  'zone-over': 3,\n",
       "  'man': 0,\n",
       "  'man-over': 0,\n",
       "  'blitz': 0},\n",
       " 'Najee Goode': {'snaps': 1,\n",
       "  'zone': 0,\n",
       "  'zone-deep': 0,\n",
       "  'zone-over': 1,\n",
       "  'man': 0,\n",
       "  'man-over': 0,\n",
       "  'blitz': 0},\n",
       " 'Quincy Wilson': {'snaps': 4,\n",
       "  'zone': 0,\n",
       "  'zone-deep': 0,\n",
       "  'zone-over': 0,\n",
       "  'man': 3,\n",
       "  'man-over': 1,\n",
       "  'blitz': 0}}"
      ]
     },
     "execution_count": 28,
     "metadata": {},
     "output_type": "execute_result"
    }
   ],
   "source": [
    "game.classify_defensive_back_coverages()"
   ]
  },
  {
   "cell_type": "code",
   "execution_count": null,
   "metadata": {},
   "outputs": [],
   "source": []
  }
 ],
 "metadata": {
  "kernelspec": {
   "display_name": "Python 3",
   "language": "python",
   "name": "python3"
  },
  "language_info": {
   "codemirror_mode": {
    "name": "ipython",
    "version": 3
   },
   "file_extension": ".py",
   "mimetype": "text/x-python",
   "name": "python",
   "nbconvert_exporter": "python",
   "pygments_lexer": "ipython3",
   "version": "3.7.3"
  }
 },
 "nbformat": 4,
 "nbformat_minor": 4
}
