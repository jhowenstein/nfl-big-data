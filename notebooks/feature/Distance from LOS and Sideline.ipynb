{
 "cells": [
  {
   "cell_type": "code",
   "execution_count": 1,
   "metadata": {},
   "outputs": [],
   "source": [
    "import numpy as np\n",
    "import pandas as pd\n",
    "import scipy as sp\n",
    "\n",
    "import os\n",
    "import glob\n",
    "import sys"
   ]
  },
  {
   "cell_type": "code",
   "execution_count": 2,
   "metadata": {},
   "outputs": [],
   "source": [
    "from utils import set_basepath"
   ]
  },
  {
   "cell_type": "code",
   "execution_count": 3,
   "metadata": {},
   "outputs": [
    {
     "data": {
      "text/plain": [
       "'/Users/jacobhow/Documents/programming-projects/nfl-big-data/notebooks/feature'"
      ]
     },
     "execution_count": 3,
     "metadata": {},
     "output_type": "execute_result"
    }
   ],
   "source": [
    "sys.path[0]"
   ]
  },
  {
   "cell_type": "code",
   "execution_count": 4,
   "metadata": {},
   "outputs": [],
   "source": [
    "basepath = set_basepath(steps=2)"
   ]
  },
  {
   "cell_type": "code",
   "execution_count": 5,
   "metadata": {},
   "outputs": [
    {
     "data": {
      "text/plain": [
       "'/Users/jacobhow/Documents/programming-projects/nfl-big-data'"
      ]
     },
     "execution_count": 5,
     "metadata": {},
     "output_type": "execute_result"
    }
   ],
   "source": [
    "sys.path[0]"
   ]
  },
  {
   "cell_type": "code",
   "execution_count": 6,
   "metadata": {},
   "outputs": [],
   "source": [
    "from src.team import Team\n",
    "from src.game import Game\n",
    "from src.play import Play\n",
    "from src.player import Player\n",
    "from src.analysis import process_games"
   ]
  },
  {
   "cell_type": "code",
   "execution_count": 7,
   "metadata": {},
   "outputs": [],
   "source": [
    "games = pd.read_csv(os.path.join(basepath,'data/games.csv'))"
   ]
  },
  {
   "cell_type": "code",
   "execution_count": 8,
   "metadata": {},
   "outputs": [],
   "source": [
    "players = pd.read_csv(os.path.join(basepath,'data/players.csv')).set_index('nflId')"
   ]
  },
  {
   "cell_type": "code",
   "execution_count": 9,
   "metadata": {},
   "outputs": [],
   "source": [
    "plays = pd.read_csv(os.path.join(basepath,'data/plays.csv'))"
   ]
  },
  {
   "cell_type": "code",
   "execution_count": 10,
   "metadata": {},
   "outputs": [],
   "source": [
    "weeks = {}\n",
    "for i in range(1):\n",
    "    name = f'week{i+1}'\n",
    "    weeks[name] = pd.read_csv(os.path.join(basepath,'data',name+'-processed.csv'))"
   ]
  },
  {
   "cell_type": "code",
   "execution_count": 11,
   "metadata": {},
   "outputs": [],
   "source": [
    "teams = process_games(games,plays)"
   ]
  },
  {
   "cell_type": "code",
   "execution_count": 12,
   "metadata": {},
   "outputs": [],
   "source": [
    "team = teams['IND']"
   ]
  },
  {
   "cell_type": "code",
   "execution_count": 13,
   "metadata": {},
   "outputs": [],
   "source": [
    "team.process_weeks(weeks)"
   ]
  },
  {
   "cell_type": "code",
   "execution_count": 14,
   "metadata": {},
   "outputs": [
    {
     "name": "stdout",
     "output_type": "stream",
     "text": [
      "Play 1: (14:11) (Shotgun) A.Dalton pass short left intended for J.Mixon INTERCEPTED by K.Moore II at CIN 39. K.Moore II to CIN 7 for 32 yards (A.Dalton).\n",
      "Play 2: (12:32) A.Dalton pass short right to T.Eifert pushed ob at CIN 40 for 29 yards (M.Hooker).\n",
      "Play 3: (11:17) (Shotgun) A.Dalton pass short left to J.Mixon to IND 32 for 21 yards (C.Geathers).\n",
      "Play 4: (9:58) A.Dalton pass short right to A.Green to IND 22 for 5 yards (N.Hairston).\n",
      "Play 5: (8:35) (Shotgun) A.Dalton pass incomplete deep right to J.Ross.\n",
      "Play 6: (8:30) (Shotgun) A.Dalton pass incomplete short middle to T.Boyd (J.Sheard).\n",
      "Play 7: (1:23) A.Dalton pass short right to J.Mixon to CIN 33 for 8 yards (N.Hairston).\n",
      "Play 8: (:58) (No Huddle, Shotgun) A.Dalton pass short right to T.Kroft to CIN 42 for 9 yards (A.Walker, D.Leonard).\n",
      "Play 9: (:11) (Shotgun) A.Dalton pass short left to A.Green to IND 45 for 13 yards (M.Farley). FUMBLES (M.Farley), touched at IND 45, RECOVERED by IND-D.Leonard at IND 42. D.Leonard to IND 42 for no gain (T.Boyd).\n",
      "Play 10: (11:33) (Shotgun) A.Dalton pass short right to T.Boyd to CIN 20 for 5 yards (A.Walker).\n",
      "Play 11: (10:50) A.Dalton pass short right to G.Bernard to CIN 31 for 11 yards (C.Geathers).\n",
      "Play 12: (3:01) (Shotgun) A.Dalton pass short right to C.Uzomah to CIN 29 for 4 yards (C.Geathers).\n",
      "Play 13: (2:00) (Shotgun) A.Dalton pass incomplete deep left to A.Green. PENALTY on IND-Q.Wilson, Defensive Pass Interference, 36 yards, enforced at IND 39 - No Play.\n",
      "Play 14: (1:54) A.Dalton pass incomplete short right to A.Green.\n",
      "Play 15: (1:48) A.Dalton pass short left to J.Ross for 3 yards, TOUCHDOWN.\n",
      "Play 16: (13:04) (No Huddle, Shotgun) A.Dalton sacked at CIN 19 for -8 yards (M.Hunt).\n",
      "Play 17: (12:19) (Shotgun) A.Dalton pass short right to T.Eifert to CIN 25 for 6 yards (N.Hairston).\n",
      "Play 18: (8:13) (Shotgun) A.Dalton pass short right to J.Mixon to CIN 30 for 5 yards (D.Autry).\n",
      "Play 19: (7:38) A.Dalton pass short right to A.Green to CIN 36 for 6 yards (N.Hairston).\n",
      "Play 20: (7:05) A.Dalton pass short left to T.Boyd pushed ob at CIN 40 for 4 yards (K.Moore II).\n",
      "Play 21: (6:31) A.Dalton pass incomplete short right to J.Mixon.\n",
      "Play 22: (4:18) A.Dalton pass deep left to A.Green for 38 yards, TOUCHDOWN.\n",
      "Play 23: (14:37) (No Huddle, Shotgun) A.Dalton sacked at IND 47 for -6 yards (M.Hunt).\n",
      "Play 24: (13:55) (Shotgun) A.Dalton pass incomplete short right to T.Eifert. PENALTY on IND-C.Geathers, Defensive Pass Interference, 8 yards, enforced at IND 47 - No Play.\n",
      "Play 25: (13:23) A.Dalton pass short right to J.Mixon to IND 9 for 15 yards (C.Geathers).\n",
      "Play 26: (9:13) (Shotgun) A.Dalton pass short middle to A.Green to CIN 41 for 18 yards (M.Farley).\n",
      "Play 27: (7:37) (Shotgun) A.Dalton pass short middle to T.Eifert to CIN 43 for 9 yards (A.Walker, D.Leonard).\n",
      "Play 28: (6:57) (Shotgun) A.Dalton pass short right to T.Boyd ran ob at IND 40 for 17 yards (M.Hooker).\n",
      "Play 29: (6:14) (Shotgun) A.Dalton pass short middle to J.Mixon to IND 35 for 5 yards (D.Leonard).\n",
      "Play 30: (5:34) (Shotgun) A.Dalton pass short left to A.Green to IND 23 for 12 yards (C.Geathers). FUMBLES (C.Geathers), recovered by CIN-T.Boyd at IND 21. T.Boyd to IND 21 for no gain (Q.Wilson).\n",
      "Play 31: (4:13) A.Dalton pass incomplete deep left to A.Green [A.Walker].\n",
      "Play 32: (4:08) (Shotgun) A.Dalton pass incomplete short left to T.Boyd.\n"
     ]
    }
   ],
   "source": [
    "game = team.games['week1']\n",
    "game.list_plays()"
   ]
  },
  {
   "cell_type": "code",
   "execution_count": 15,
   "metadata": {},
   "outputs": [
    {
     "name": "stdout",
     "output_type": "stream",
     "text": [
      "(14:11) (Shotgun) A.Dalton pass short left intended for J.Mixon INTERCEPTED by K.Moore II at CIN 39. K.Moore II to CIN 7 for 32 yards (A.Dalton).\n",
      "(12:32) A.Dalton pass short right to T.Eifert pushed ob at CIN 40 for 29 yards (M.Hooker).\n",
      "(11:17) (Shotgun) A.Dalton pass short left to J.Mixon to IND 32 for 21 yards (C.Geathers).\n",
      "(9:58) A.Dalton pass short right to A.Green to IND 22 for 5 yards (N.Hairston).\n",
      "(8:35) (Shotgun) A.Dalton pass incomplete deep right to J.Ross.\n",
      "(8:30) (Shotgun) A.Dalton pass incomplete short middle to T.Boyd (J.Sheard).\n",
      "(1:23) A.Dalton pass short right to J.Mixon to CIN 33 for 8 yards (N.Hairston).\n",
      "(:58) (No Huddle, Shotgun) A.Dalton pass short right to T.Kroft to CIN 42 for 9 yards (A.Walker, D.Leonard).\n",
      "(:11) (Shotgun) A.Dalton pass short left to A.Green to IND 45 for 13 yards (M.Farley). FUMBLES (M.Farley), touched at IND 45, RECOVERED by IND-D.Leonard at IND 42. D.Leonard to IND 42 for no gain (T.Boyd).\n",
      "(11:33) (Shotgun) A.Dalton pass short right to T.Boyd to CIN 20 for 5 yards (A.Walker).\n",
      "(10:50) A.Dalton pass short right to G.Bernard to CIN 31 for 11 yards (C.Geathers).\n",
      "(3:01) (Shotgun) A.Dalton pass short right to C.Uzomah to CIN 29 for 4 yards (C.Geathers).\n",
      "(2:00) (Shotgun) A.Dalton pass incomplete deep left to A.Green. PENALTY on IND-Q.Wilson, Defensive Pass Interference, 36 yards, enforced at IND 39 - No Play.\n",
      "(1:54) A.Dalton pass incomplete short right to A.Green.\n",
      "(1:48) A.Dalton pass short left to J.Ross for 3 yards, TOUCHDOWN.\n",
      "(13:04) (No Huddle, Shotgun) A.Dalton sacked at CIN 19 for -8 yards (M.Hunt).\n",
      "(12:19) (Shotgun) A.Dalton pass short right to T.Eifert to CIN 25 for 6 yards (N.Hairston).\n",
      "(8:13) (Shotgun) A.Dalton pass short right to J.Mixon to CIN 30 for 5 yards (D.Autry).\n",
      "(7:38) A.Dalton pass short right to A.Green to CIN 36 for 6 yards (N.Hairston).\n",
      "(7:05) A.Dalton pass short left to T.Boyd pushed ob at CIN 40 for 4 yards (K.Moore II).\n",
      "(6:31) A.Dalton pass incomplete short right to J.Mixon.\n",
      "(4:18) A.Dalton pass deep left to A.Green for 38 yards, TOUCHDOWN.\n",
      "(14:37) (No Huddle, Shotgun) A.Dalton sacked at IND 47 for -6 yards (M.Hunt).\n",
      "(13:55) (Shotgun) A.Dalton pass incomplete short right to T.Eifert. PENALTY on IND-C.Geathers, Defensive Pass Interference, 8 yards, enforced at IND 47 - No Play.\n",
      "(13:23) A.Dalton pass short right to J.Mixon to IND 9 for 15 yards (C.Geathers).\n",
      "(9:13) (Shotgun) A.Dalton pass short middle to A.Green to CIN 41 for 18 yards (M.Farley).\n",
      "(7:37) (Shotgun) A.Dalton pass short middle to T.Eifert to CIN 43 for 9 yards (A.Walker, D.Leonard).\n",
      "(6:57) (Shotgun) A.Dalton pass short right to T.Boyd ran ob at IND 40 for 17 yards (M.Hooker).\n",
      "(6:14) (Shotgun) A.Dalton pass short middle to J.Mixon to IND 35 for 5 yards (D.Leonard).\n",
      "(5:34) (Shotgun) A.Dalton pass short left to A.Green to IND 23 for 12 yards (C.Geathers). FUMBLES (C.Geathers), recovered by CIN-T.Boyd at IND 21. T.Boyd to IND 21 for no gain (Q.Wilson).\n",
      "(4:13) A.Dalton pass incomplete deep left to A.Green [A.Walker].\n",
      "(4:08) (Shotgun) A.Dalton pass incomplete short left to T.Boyd.\n"
     ]
    }
   ],
   "source": [
    "for play in game.plays:\n",
    "    print(play)\n",
    "    play.process_players(players)\n",
    "    if play.hasForwardPass:\n",
    "        play.find_dropback_events()"
   ]
  },
  {
   "cell_type": "code",
   "execution_count": 16,
   "metadata": {},
   "outputs": [],
   "source": [
    "play = game.plays[0]"
   ]
  },
  {
   "cell_type": "code",
   "execution_count": 18,
   "metadata": {},
   "outputs": [
    {
     "data": {
      "text/html": [
       "<div>\n",
       "<style scoped>\n",
       "    .dataframe tbody tr th:only-of-type {\n",
       "        vertical-align: middle;\n",
       "    }\n",
       "\n",
       "    .dataframe tbody tr th {\n",
       "        vertical-align: top;\n",
       "    }\n",
       "\n",
       "    .dataframe thead th {\n",
       "        text-align: right;\n",
       "    }\n",
       "</style>\n",
       "<table border=\"1\" class=\"dataframe\">\n",
       "  <thead>\n",
       "    <tr style=\"text-align: right;\">\n",
       "      <th></th>\n",
       "      <th>Unnamed: 0</th>\n",
       "      <th>time</th>\n",
       "      <th>x</th>\n",
       "      <th>y</th>\n",
       "      <th>s</th>\n",
       "      <th>a</th>\n",
       "      <th>dis</th>\n",
       "      <th>o</th>\n",
       "      <th>dir</th>\n",
       "      <th>event</th>\n",
       "      <th>nflId</th>\n",
       "      <th>displayName</th>\n",
       "      <th>jerseyNumber</th>\n",
       "      <th>position</th>\n",
       "      <th>frameId</th>\n",
       "      <th>team</th>\n",
       "      <th>gameId</th>\n",
       "      <th>playId</th>\n",
       "      <th>playDirection</th>\n",
       "      <th>route</th>\n",
       "    </tr>\n",
       "  </thead>\n",
       "  <tbody>\n",
       "    <tr>\n",
       "      <th>82744</th>\n",
       "      <td>82744</td>\n",
       "      <td>2018-09-09T17:03:59.099Z</td>\n",
       "      <td>41.95</td>\n",
       "      <td>25.05</td>\n",
       "      <td>0.00</td>\n",
       "      <td>0.00</td>\n",
       "      <td>0.01</td>\n",
       "      <td>121.72</td>\n",
       "      <td>159.17</td>\n",
       "      <td>None</td>\n",
       "      <td>2495143.0</td>\n",
       "      <td>Andy Dalton</td>\n",
       "      <td>14.0</td>\n",
       "      <td>QB</td>\n",
       "      <td>1</td>\n",
       "      <td>away</td>\n",
       "      <td>2018090902</td>\n",
       "      <td>81</td>\n",
       "      <td>right</td>\n",
       "      <td>NaN</td>\n",
       "    </tr>\n",
       "    <tr>\n",
       "      <th>82746</th>\n",
       "      <td>82746</td>\n",
       "      <td>2018-09-09T17:03:59.099Z</td>\n",
       "      <td>44.74</td>\n",
       "      <td>5.91</td>\n",
       "      <td>0.00</td>\n",
       "      <td>0.00</td>\n",
       "      <td>0.01</td>\n",
       "      <td>101.14</td>\n",
       "      <td>266.12</td>\n",
       "      <td>None</td>\n",
       "      <td>2495450.0</td>\n",
       "      <td>A.J. Green</td>\n",
       "      <td>18.0</td>\n",
       "      <td>WR</td>\n",
       "      <td>1</td>\n",
       "      <td>away</td>\n",
       "      <td>2018090902</td>\n",
       "      <td>81</td>\n",
       "      <td>right</td>\n",
       "      <td>GO</td>\n",
       "    </tr>\n",
       "    <tr>\n",
       "      <th>82758</th>\n",
       "      <td>82758</td>\n",
       "      <td>2018-09-09T17:03:59.099Z</td>\n",
       "      <td>60.93</td>\n",
       "      <td>15.63</td>\n",
       "      <td>0.76</td>\n",
       "      <td>0.95</td>\n",
       "      <td>0.07</td>\n",
       "      <td>264.50</td>\n",
       "      <td>177.76</td>\n",
       "      <td>None</td>\n",
       "      <td>2552386.0</td>\n",
       "      <td>Clayton Geathers</td>\n",
       "      <td>26.0</td>\n",
       "      <td>FS</td>\n",
       "      <td>1</td>\n",
       "      <td>home</td>\n",
       "      <td>2018090902</td>\n",
       "      <td>81</td>\n",
       "      <td>right</td>\n",
       "      <td>NaN</td>\n",
       "    </tr>\n",
       "    <tr>\n",
       "      <th>82760</th>\n",
       "      <td>82760</td>\n",
       "      <td>2018-09-09T17:03:59.099Z</td>\n",
       "      <td>45.48</td>\n",
       "      <td>20.02</td>\n",
       "      <td>0.00</td>\n",
       "      <td>0.00</td>\n",
       "      <td>0.01</td>\n",
       "      <td>44.07</td>\n",
       "      <td>341.52</td>\n",
       "      <td>None</td>\n",
       "      <td>2552559.0</td>\n",
       "      <td>C.J. Uzomah</td>\n",
       "      <td>87.0</td>\n",
       "      <td>TE</td>\n",
       "      <td>1</td>\n",
       "      <td>away</td>\n",
       "      <td>2018090902</td>\n",
       "      <td>81</td>\n",
       "      <td>right</td>\n",
       "      <td>NaN</td>\n",
       "    </tr>\n",
       "    <tr>\n",
       "      <th>82765</th>\n",
       "      <td>82765</td>\n",
       "      <td>2018-09-09T17:03:59.099Z</td>\n",
       "      <td>44.33</td>\n",
       "      <td>35.09</td>\n",
       "      <td>0.04</td>\n",
       "      <td>0.04</td>\n",
       "      <td>0.07</td>\n",
       "      <td>33.46</td>\n",
       "      <td>269.29</td>\n",
       "      <td>None</td>\n",
       "      <td>2555466.0</td>\n",
       "      <td>Tyler Boyd</td>\n",
       "      <td>83.0</td>\n",
       "      <td>WR</td>\n",
       "      <td>1</td>\n",
       "      <td>away</td>\n",
       "      <td>2018090902</td>\n",
       "      <td>81</td>\n",
       "      <td>right</td>\n",
       "      <td>CROSS</td>\n",
       "    </tr>\n",
       "    <tr>\n",
       "      <th>...</th>\n",
       "      <td>...</td>\n",
       "      <td>...</td>\n",
       "      <td>...</td>\n",
       "      <td>...</td>\n",
       "      <td>...</td>\n",
       "      <td>...</td>\n",
       "      <td>...</td>\n",
       "      <td>...</td>\n",
       "      <td>...</td>\n",
       "      <td>...</td>\n",
       "      <td>...</td>\n",
       "      <td>...</td>\n",
       "      <td>...</td>\n",
       "      <td>...</td>\n",
       "      <td>...</td>\n",
       "      <td>...</td>\n",
       "      <td>...</td>\n",
       "      <td>...</td>\n",
       "      <td>...</td>\n",
       "      <td>...</td>\n",
       "    </tr>\n",
       "    <tr>\n",
       "      <th>85356</th>\n",
       "      <td>85356</td>\n",
       "      <td>2018-09-09T17:04:09.099Z</td>\n",
       "      <td>27.76</td>\n",
       "      <td>45.10</td>\n",
       "      <td>8.09</td>\n",
       "      <td>1.62</td>\n",
       "      <td>0.82</td>\n",
       "      <td>289.06</td>\n",
       "      <td>283.90</td>\n",
       "      <td>None</td>\n",
       "      <td>2558060.0</td>\n",
       "      <td>Malik Hooker</td>\n",
       "      <td>29.0</td>\n",
       "      <td>FS</td>\n",
       "      <td>101</td>\n",
       "      <td>home</td>\n",
       "      <td>2018090902</td>\n",
       "      <td>81</td>\n",
       "      <td>right</td>\n",
       "      <td>NaN</td>\n",
       "    </tr>\n",
       "    <tr>\n",
       "      <th>85357</th>\n",
       "      <td>85357</td>\n",
       "      <td>2018-09-09T17:04:09.099Z</td>\n",
       "      <td>29.66</td>\n",
       "      <td>28.10</td>\n",
       "      <td>8.59</td>\n",
       "      <td>1.58</td>\n",
       "      <td>0.86</td>\n",
       "      <td>302.59</td>\n",
       "      <td>301.73</td>\n",
       "      <td>None</td>\n",
       "      <td>2558108.0</td>\n",
       "      <td>Nate Hairston</td>\n",
       "      <td>27.0</td>\n",
       "      <td>CB</td>\n",
       "      <td>101</td>\n",
       "      <td>home</td>\n",
       "      <td>2018090902</td>\n",
       "      <td>81</td>\n",
       "      <td>right</td>\n",
       "      <td>NaN</td>\n",
       "    </tr>\n",
       "    <tr>\n",
       "      <th>85358</th>\n",
       "      <td>85358</td>\n",
       "      <td>2018-09-09T17:04:09.099Z</td>\n",
       "      <td>16.78</td>\n",
       "      <td>49.67</td>\n",
       "      <td>2.64</td>\n",
       "      <td>4.60</td>\n",
       "      <td>0.29</td>\n",
       "      <td>218.54</td>\n",
       "      <td>310.64</td>\n",
       "      <td>None</td>\n",
       "      <td>2558976.0</td>\n",
       "      <td>Kenny Moore</td>\n",
       "      <td>23.0</td>\n",
       "      <td>CB</td>\n",
       "      <td>101</td>\n",
       "      <td>home</td>\n",
       "      <td>2018090902</td>\n",
       "      <td>81</td>\n",
       "      <td>right</td>\n",
       "      <td>NaN</td>\n",
       "    </tr>\n",
       "    <tr>\n",
       "      <th>85359</th>\n",
       "      <td>85359</td>\n",
       "      <td>2018-09-09T17:04:09.099Z</td>\n",
       "      <td>21.60</td>\n",
       "      <td>46.53</td>\n",
       "      <td>8.18</td>\n",
       "      <td>1.46</td>\n",
       "      <td>0.82</td>\n",
       "      <td>277.40</td>\n",
       "      <td>281.52</td>\n",
       "      <td>None</td>\n",
       "      <td>2560789.0</td>\n",
       "      <td>Darius Leonard</td>\n",
       "      <td>53.0</td>\n",
       "      <td>LB</td>\n",
       "      <td>101</td>\n",
       "      <td>home</td>\n",
       "      <td>2018090902</td>\n",
       "      <td>81</td>\n",
       "      <td>right</td>\n",
       "      <td>NaN</td>\n",
       "    </tr>\n",
       "    <tr>\n",
       "      <th>85360</th>\n",
       "      <td>85360</td>\n",
       "      <td>2018-09-09T17:04:09.099Z</td>\n",
       "      <td>22.85</td>\n",
       "      <td>48.22</td>\n",
       "      <td>7.01</td>\n",
       "      <td>2.93</td>\n",
       "      <td>0.72</td>\n",
       "      <td>269.89</td>\n",
       "      <td>276.77</td>\n",
       "      <td>None</td>\n",
       "      <td>2560816.0</td>\n",
       "      <td>Skai Moore</td>\n",
       "      <td>55.0</td>\n",
       "      <td>ILB</td>\n",
       "      <td>101</td>\n",
       "      <td>home</td>\n",
       "      <td>2018090902</td>\n",
       "      <td>81</td>\n",
       "      <td>right</td>\n",
       "      <td>NaN</td>\n",
       "    </tr>\n",
       "  </tbody>\n",
       "</table>\n",
       "<p>1313 rows × 20 columns</p>\n",
       "</div>"
      ],
      "text/plain": [
       "       Unnamed: 0                      time      x      y     s     a   dis  \\\n",
       "82744       82744  2018-09-09T17:03:59.099Z  41.95  25.05  0.00  0.00  0.01   \n",
       "82746       82746  2018-09-09T17:03:59.099Z  44.74   5.91  0.00  0.00  0.01   \n",
       "82758       82758  2018-09-09T17:03:59.099Z  60.93  15.63  0.76  0.95  0.07   \n",
       "82760       82760  2018-09-09T17:03:59.099Z  45.48  20.02  0.00  0.00  0.01   \n",
       "82765       82765  2018-09-09T17:03:59.099Z  44.33  35.09  0.04  0.04  0.07   \n",
       "...           ...                       ...    ...    ...   ...   ...   ...   \n",
       "85356       85356  2018-09-09T17:04:09.099Z  27.76  45.10  8.09  1.62  0.82   \n",
       "85357       85357  2018-09-09T17:04:09.099Z  29.66  28.10  8.59  1.58  0.86   \n",
       "85358       85358  2018-09-09T17:04:09.099Z  16.78  49.67  2.64  4.60  0.29   \n",
       "85359       85359  2018-09-09T17:04:09.099Z  21.60  46.53  8.18  1.46  0.82   \n",
       "85360       85360  2018-09-09T17:04:09.099Z  22.85  48.22  7.01  2.93  0.72   \n",
       "\n",
       "            o     dir event      nflId       displayName  jerseyNumber  \\\n",
       "82744  121.72  159.17  None  2495143.0       Andy Dalton          14.0   \n",
       "82746  101.14  266.12  None  2495450.0        A.J. Green          18.0   \n",
       "82758  264.50  177.76  None  2552386.0  Clayton Geathers          26.0   \n",
       "82760   44.07  341.52  None  2552559.0       C.J. Uzomah          87.0   \n",
       "82765   33.46  269.29  None  2555466.0        Tyler Boyd          83.0   \n",
       "...       ...     ...   ...        ...               ...           ...   \n",
       "85356  289.06  283.90  None  2558060.0      Malik Hooker          29.0   \n",
       "85357  302.59  301.73  None  2558108.0     Nate Hairston          27.0   \n",
       "85358  218.54  310.64  None  2558976.0       Kenny Moore          23.0   \n",
       "85359  277.40  281.52  None  2560789.0    Darius Leonard          53.0   \n",
       "85360  269.89  276.77  None  2560816.0        Skai Moore          55.0   \n",
       "\n",
       "      position  frameId  team      gameId  playId playDirection  route  \n",
       "82744       QB        1  away  2018090902      81         right    NaN  \n",
       "82746       WR        1  away  2018090902      81         right     GO  \n",
       "82758       FS        1  home  2018090902      81         right    NaN  \n",
       "82760       TE        1  away  2018090902      81         right    NaN  \n",
       "82765       WR        1  away  2018090902      81         right  CROSS  \n",
       "...        ...      ...   ...         ...     ...           ...    ...  \n",
       "85356       FS      101  home  2018090902      81         right    NaN  \n",
       "85357       CB      101  home  2018090902      81         right    NaN  \n",
       "85358       CB      101  home  2018090902      81         right    NaN  \n",
       "85359       LB      101  home  2018090902      81         right    NaN  \n",
       "85360      ILB      101  home  2018090902      81         right    NaN  \n",
       "\n",
       "[1313 rows x 20 columns]"
      ]
     },
     "execution_count": 18,
     "metadata": {},
     "output_type": "execute_result"
    }
   ],
   "source": [
    "play.player_tracking"
   ]
  },
  {
   "cell_type": "code",
   "execution_count": 19,
   "metadata": {},
   "outputs": [
    {
     "data": {
      "text/plain": [
       "46.59"
      ]
     },
     "execution_count": 19,
     "metadata": {},
     "output_type": "execute_result"
    }
   ],
   "source": [
    "play.line_of_scrimmage"
   ]
  },
  {
   "cell_type": "code",
   "execution_count": 20,
   "metadata": {},
   "outputs": [],
   "source": [
    "play.player_tracking['distance from line'] = play.player_tracking['x'] - play.line_of_scrimmage"
   ]
  },
  {
   "cell_type": "code",
   "execution_count": 28,
   "metadata": {},
   "outputs": [],
   "source": [
    "play.player_tracking['distance to side line'] = [min((160/3) - y,y) for y in play.player_tracking['y'].values]"
   ]
  },
  {
   "cell_type": "code",
   "execution_count": null,
   "metadata": {},
   "outputs": [],
   "source": []
  }
 ],
 "metadata": {
  "kernelspec": {
   "display_name": "Python 3",
   "language": "python",
   "name": "python3"
  },
  "language_info": {
   "codemirror_mode": {
    "name": "ipython",
    "version": 3
   },
   "file_extension": ".py",
   "mimetype": "text/x-python",
   "name": "python",
   "nbconvert_exporter": "python",
   "pygments_lexer": "ipython3",
   "version": "3.7.3"
  }
 },
 "nbformat": 4,
 "nbformat_minor": 4
}
