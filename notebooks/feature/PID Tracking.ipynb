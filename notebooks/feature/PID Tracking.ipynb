{
 "cells": [
  {
   "cell_type": "code",
   "execution_count": 1,
   "metadata": {},
   "outputs": [],
   "source": [
    "import numpy as np\n",
    "import pandas as pd\n",
    "import scipy as sp\n",
    "import scipy.stats as stats\n",
    "import matplotlib.pyplot as plt\n",
    "import matplotlib.patches as mpatches\n",
    "\n",
    "import os\n",
    "import glob\n",
    "import sys"
   ]
  },
  {
   "cell_type": "code",
   "execution_count": 2,
   "metadata": {},
   "outputs": [],
   "source": [
    "from utils import set_basepath"
   ]
  },
  {
   "cell_type": "code",
   "execution_count": 3,
   "metadata": {},
   "outputs": [
    {
     "data": {
      "text/plain": [
       "'/Users/jacobhow/Documents/programming-projects/nfl-big-data/notebooks/feature'"
      ]
     },
     "execution_count": 3,
     "metadata": {},
     "output_type": "execute_result"
    }
   ],
   "source": [
    "sys.path[0]"
   ]
  },
  {
   "cell_type": "code",
   "execution_count": 4,
   "metadata": {},
   "outputs": [],
   "source": [
    "basepath = set_basepath(steps=2)"
   ]
  },
  {
   "cell_type": "code",
   "execution_count": 5,
   "metadata": {},
   "outputs": [
    {
     "data": {
      "text/plain": [
       "'/Users/jacobhow/Documents/programming-projects/nfl-big-data'"
      ]
     },
     "execution_count": 5,
     "metadata": {},
     "output_type": "execute_result"
    }
   ],
   "source": [
    "sys.path[0]"
   ]
  },
  {
   "cell_type": "code",
   "execution_count": 6,
   "metadata": {},
   "outputs": [],
   "source": [
    "from src.team import Team\n",
    "from src.game import Game\n",
    "from src.play import Play\n",
    "from src.player import Player\n",
    "from src.analysis import Analysis, sort_plays_by_result"
   ]
  },
  {
   "cell_type": "code",
   "execution_count": 7,
   "metadata": {},
   "outputs": [],
   "source": [
    "analysis = Analysis(basepath=basepath)"
   ]
  },
  {
   "cell_type": "code",
   "execution_count": 8,
   "metadata": {},
   "outputs": [],
   "source": [
    "analysis.load_data()"
   ]
  },
  {
   "cell_type": "code",
   "execution_count": 9,
   "metadata": {},
   "outputs": [],
   "source": [
    "analysis.load_weeks('All')"
   ]
  },
  {
   "cell_type": "code",
   "execution_count": 10,
   "metadata": {},
   "outputs": [
    {
     "data": {
      "text/plain": [
       "dict_keys(['week1', 'week2', 'week3', 'week4', 'week5', 'week6', 'week7', 'week8', 'week9', 'week10', 'week11', 'week12', 'week13', 'week14', 'week15', 'week16', 'week17'])"
      ]
     },
     "execution_count": 10,
     "metadata": {},
     "output_type": "execute_result"
    }
   ],
   "source": [
    "analysis.weeks.keys()"
   ]
  },
  {
   "cell_type": "code",
   "execution_count": 11,
   "metadata": {},
   "outputs": [],
   "source": [
    "analysis.process_games()"
   ]
  },
  {
   "cell_type": "code",
   "execution_count": null,
   "metadata": {
    "scrolled": true
   },
   "outputs": [
    {
     "name": "stdout",
     "output_type": "stream",
     "text": [
      "PHI - week1\n"
     ]
    },
    {
     "name": "stderr",
     "output_type": "stream",
     "text": [
      "/Users/jacobhow/Documents/programming-projects/nfl-big-data/src/play.py:260: SettingWithCopyWarning: \n",
      "A value is trying to be set on a copy of a slice from a DataFrame.\n",
      "Try using .loc[row_indexer,col_indexer] = value instead\n",
      "\n",
      "See the caveats in the documentation: https://pandas.pydata.org/pandas-docs/stable/user_guide/indexing.html#returning-a-view-versus-a-copy\n",
      "  self.player_tracking['distance from line'] = self.player_tracking['x'] - self.line_of_scrimmage\n",
      "/Users/jacobhow/Documents/programming-projects/nfl-big-data/src/play.py:261: SettingWithCopyWarning: \n",
      "A value is trying to be set on a copy of a slice from a DataFrame.\n",
      "Try using .loc[row_indexer,col_indexer] = value instead\n",
      "\n",
      "See the caveats in the documentation: https://pandas.pydata.org/pandas-docs/stable/user_guide/indexing.html#returning-a-view-versus-a-copy\n",
      "  self.player_tracking['distance to sideline'] = [min((160/3) - y,y) for y in self.player_tracking['y'].values]\n",
      "/Users/jacobhow/Documents/programming-projects/nfl-big-data/src/play.py:262: SettingWithCopyWarning: \n",
      "A value is trying to be set on a copy of a slice from a DataFrame.\n",
      "Try using .loc[row_indexer,col_indexer] = value instead\n",
      "\n",
      "See the caveats in the documentation: https://pandas.pydata.org/pandas-docs/stable/user_guide/indexing.html#returning-a-view-versus-a-copy\n",
      "  self.player_tracking['distance from center'] = self.player_tracking['y'] - self.play_center\n"
     ]
    },
    {
     "name": "stdout",
     "output_type": "stream",
     "text": [
      "PHI - week2\n",
      "PHI - week3\n",
      "PHI - week4\n",
      "PHI - week5\n",
      "PHI - week6\n",
      "PHI - week7\n",
      "PHI - week8\n",
      "PHI - week9\n",
      "PHI - week10\n",
      "PHI - week11\n",
      "PHI - week12\n",
      "PHI - week13\n",
      "PHI - week14\n",
      "PHI - week15\n",
      "PHI - week16\n",
      "PHI - week17\n",
      "CLE - week1\n",
      "CLE - week2\n",
      "CLE - week3\n",
      "CLE - week4\n",
      "CLE - week5\n",
      "CLE - week6\n",
      "CLE - week7\n",
      "CLE - week8\n",
      "CLE - week9\n",
      "CLE - week10\n",
      "CLE - week11\n",
      "CLE - week12\n",
      "CLE - week13\n",
      "CLE - week14\n",
      "CLE - week15\n",
      "CLE - week16\n",
      "CLE - week17\n",
      "IND - week1\n",
      "IND - week2\n",
      "IND - week3\n",
      "IND - week4\n",
      "IND - week5\n",
      "IND - week6\n",
      "IND - week7\n",
      "IND - week8\n",
      "IND - week9\n",
      "IND - week10\n",
      "IND - week11\n",
      "IND - week12\n",
      "IND - week13\n",
      "IND - week14\n",
      "IND - week15\n",
      "IND - week16\n",
      "IND - week17\n",
      "Play Error\n",
      "Game ID: 2018121605 - Play ID: 1770\n",
      "(2:34) (Shotgun) D.Prescott pass incomplete deep left to N.Brown. IND-Q.Wilson was injured during the play.\n",
      "Play Error\n",
      "Game ID: 2018121605 - Play ID: 2544\n",
      "(11:23) D.Prescott pass short right to N.Brown to DAL 39 for 14 yards (M.Adams, A.Walker).\n",
      "MIA - week1\n",
      "MIA - week2\n",
      "MIA - week3\n",
      "MIA - week4\n",
      "MIA - week5\n",
      "MIA - week6\n",
      "MIA - week7\n",
      "MIA - week8\n",
      "MIA - week9\n",
      "MIA - week10\n",
      "MIA - week11\n",
      "MIA - week12\n",
      "MIA - week13\n",
      "MIA - week14\n",
      "MIA - week15\n",
      "MIA - week16\n",
      "MIA - week17\n",
      "BAL - week1\n",
      "BAL - week2\n",
      "BAL - week3\n",
      "BAL - week4\n",
      "BAL - week5\n",
      "BAL - week6\n",
      "BAL - week7\n",
      "BAL - week8\n",
      "BAL - week9\n",
      "BAL - week10\n",
      "BAL - week11\n",
      "BAL - week12\n",
      "BAL - week13\n",
      "BAL - week14\n",
      "BAL - week15\n",
      "BAL - week16\n",
      "BAL - week17\n",
      "Play Error\n",
      "Game ID: 2018092301 - Play ID: 2225\n",
      "(:37) (Shotgun) C.Keenum pass incomplete short left to C.Sutton.\n",
      "Play Error\n",
      "Game ID: 2018092301 - Play ID: 3945\n",
      "(6:16) (Shotgun) C.Keenum pass incomplete short left to D.Booker.\n",
      "Play Error\n",
      "Game ID: 2018092301 - Play ID: 4021\n",
      "(5:23) (Shotgun) C.Keenum pass short right to D.Booker to BLT 35 for 5 yards (C.Clark).\n",
      "Play Error\n",
      "Game ID: 2018092301 - Play ID: 4045\n",
      "(4:57) (No Huddle, Shotgun) C.Keenum pass short right to J.Butt ran ob at BLT 30 for 5 yards.\n",
      "NE - week1\n",
      "NE - week2\n",
      "NE - week3\n",
      "NE - week4\n",
      "NE - week5\n",
      "NE - week6\n",
      "NE - week7\n",
      "NE - week8\n",
      "NE - week9\n",
      "NE - week10\n",
      "NE - week11\n",
      "NE - week12\n",
      "NE - week13\n",
      "NE - week14\n",
      "NE - week15\n",
      "NE - week16\n",
      "NE - week17\n",
      "Play Error\n",
      "Game ID: 2018123006 - Play ID: 2852\n",
      "(:37) (Shotgun) S.Darnold pass incomplete deep left to R.Anderson.\n",
      "Play Error\n",
      "Game ID: 2018123006 - Play ID: 2874\n",
      "(:32) (Shotgun) S.Darnold pass deep right to D.Burnett pushed ob at NYJ 36 for 25 yards (K.Crossen).\n",
      "Play Error\n",
      "Game ID: 2018123006 - Play ID: 3186\n",
      "(9:35) S.Darnold pass incomplete short right to R.Anderson (J.Jackson).\n",
      "Play Error\n",
      "Game ID: 2018123006 - Play ID: 3236\n",
      "(8:50) (Shotgun) S.Darnold pass incomplete short right to J.Leggett.\n",
      "NYG - week1\n",
      "NYG - week2\n",
      "NYG - week3\n",
      "NYG - week4\n",
      "NYG - week5\n",
      "NYG - week6\n",
      "NYG - week7\n",
      "NYG - week8\n",
      "NYG - week9\n",
      "NYG - week10\n",
      "NYG - week11\n",
      "NYG - week12\n",
      "NYG - week13\n",
      "NYG - week14\n",
      "NYG - week15\n",
      "NYG - week16\n",
      "NYG - week17\n",
      "NO - week1\n",
      "NO - week2\n",
      "NO - week3\n",
      "NO - week4\n",
      "NO - week5\n",
      "NO - week6\n",
      "NO - week7\n",
      "NO - week8\n",
      "NO - week9\n",
      "NO - week10\n",
      "NO - week11\n",
      "NO - week12\n",
      "NO - week13\n",
      "NO - week14\n",
      "NO - week15\n",
      "NO - week16\n",
      "NO - week17\n",
      "ARI - week1\n",
      "ARI - week2\n",
      "ARI - week3\n",
      "ARI - week4\n",
      "ARI - week5\n",
      "ARI - week6\n",
      "ARI - week7\n",
      "ARI - week8\n",
      "ARI - week9\n",
      "ARI - week10\n",
      "ARI - week11\n",
      "ARI - week12\n",
      "ARI - week13\n",
      "ARI - week14\n",
      "ARI - week15\n",
      "ARI - week16\n",
      "ARI - week17\n",
      "Error! Patrick Peterson has has more than one coverage type!\n",
      "CAR - week1\n",
      "CAR - week2\n",
      "CAR - week3\n",
      "CAR - week4\n",
      "CAR - week5\n",
      "CAR - week6\n",
      "CAR - week7\n",
      "CAR - week8\n",
      "CAR - week9\n",
      "CAR - week10\n",
      "CAR - week11\n",
      "CAR - week12\n",
      "CAR - week13\n",
      "CAR - week14\n",
      "CAR - week15\n",
      "CAR - week16\n",
      "CAR - week17\n",
      "GB - week1\n",
      "GB - week2\n",
      "GB - week3\n",
      "GB - week4\n",
      "GB - week5\n",
      "GB - week6\n",
      "GB - week7\n",
      "GB - week8\n",
      "GB - week9\n",
      "GB - week10\n",
      "GB - week11\n",
      "GB - week12\n",
      "GB - week13\n",
      "GB - week14\n",
      "GB - week15\n",
      "GB - week16\n",
      "GB - week17\n",
      "DET - week1\n",
      "DET - week2\n",
      "DET - week3\n",
      "DET - week4\n",
      "DET - week5\n",
      "DET - week6\n",
      "DET - week7\n",
      "DET - week8\n",
      "DET - week9\n",
      "DET - week10\n",
      "DET - week11\n",
      "DET - week12\n",
      "DET - week13\n",
      "DET - week14\n",
      "DET - week15\n",
      "DET - week16\n",
      "DET - week17\n",
      "OAK - week1\n",
      "OAK - week2\n",
      "OAK - week3\n",
      "OAK - week4\n",
      "OAK - week5\n",
      "OAK - week6\n",
      "OAK - week7\n",
      "OAK - week8\n",
      "OAK - week9\n",
      "OAK - week10\n",
      "OAK - week11\n",
      "OAK - week12\n",
      "OAK - week13\n",
      "OAK - week14\n",
      "OAK - week15\n",
      "OAK - week16\n",
      "OAK - week17\n",
      "CIN - week1\n",
      "CIN - week2\n",
      "CIN - week3\n",
      "CIN - week4\n",
      "CIN - week5\n",
      "CIN - week6\n",
      "CIN - week7\n",
      "CIN - week8\n",
      "CIN - week9\n",
      "CIN - week10\n",
      "CIN - week11\n",
      "CIN - week12\n",
      "CIN - week13\n",
      "CIN - week14\n",
      "CIN - week15\n",
      "CIN - week16\n",
      "CIN - week17\n",
      "NYJ - week1\n",
      "NYJ - week2\n",
      "NYJ - week3\n",
      "NYJ - week4\n",
      "NYJ - week5\n",
      "NYJ - week6\n",
      "NYJ - week7\n",
      "NYJ - week8\n",
      "NYJ - week9\n",
      "NYJ - week10\n",
      "NYJ - week11\n",
      "NYJ - week12\n",
      "NYJ - week13\n",
      "NYJ - week14\n",
      "NYJ - week15\n",
      "NYJ - week16\n",
      "NYJ - week17\n",
      "BUF - week1\n",
      "BUF - week2\n",
      "BUF - week3\n",
      "BUF - week4\n",
      "BUF - week5\n",
      "BUF - week6\n",
      "BUF - week7\n",
      "BUF - week8\n",
      "BUF - week9\n",
      "BUF - week10\n",
      "BUF - week11\n",
      "BUF - week12\n",
      "BUF - week13\n",
      "BUF - week14\n",
      "BUF - week15\n",
      "BUF - week16\n",
      "BUF - week17\n"
     ]
    }
   ],
   "source": [
    "analysis.process_teams()"
   ]
  },
  {
   "cell_type": "code",
   "execution_count": null,
   "metadata": {},
   "outputs": [],
   "source": [
    "plays = analysis.return_plays(target_coverage='man')"
   ]
  },
  {
   "cell_type": "code",
   "execution_count": null,
   "metadata": {},
   "outputs": [],
   "source": [
    "len(plays)"
   ]
  },
  {
   "cell_type": "code",
   "execution_count": null,
   "metadata": {},
   "outputs": [],
   "source": [
    "sorted_plays = sort_plays_by_result(plays)"
   ]
  },
  {
   "cell_type": "code",
   "execution_count": null,
   "metadata": {},
   "outputs": [],
   "source": [
    "len(sorted_plays['completed'])"
   ]
  },
  {
   "cell_type": "code",
   "execution_count": null,
   "metadata": {},
   "outputs": [],
   "source": [
    "len(sorted_plays['incompleted'])"
   ]
  },
  {
   "cell_type": "code",
   "execution_count": null,
   "metadata": {},
   "outputs": [],
   "source": [
    "len(sorted_plays['intercepted'])"
   ]
  },
  {
   "cell_type": "code",
   "execution_count": null,
   "metadata": {},
   "outputs": [],
   "source": [
    "len(sorted_plays['other'])"
   ]
  },
  {
   "cell_type": "code",
   "execution_count": null,
   "metadata": {},
   "outputs": [],
   "source": []
  }
 ],
 "metadata": {
  "kernelspec": {
   "display_name": "Python 3",
   "language": "python",
   "name": "python3"
  },
  "language_info": {
   "codemirror_mode": {
    "name": "ipython",
    "version": 3
   },
   "file_extension": ".py",
   "mimetype": "text/x-python",
   "name": "python",
   "nbconvert_exporter": "python",
   "pygments_lexer": "ipython3",
   "version": "3.7.3"
  }
 },
 "nbformat": 4,
 "nbformat_minor": 4
}
