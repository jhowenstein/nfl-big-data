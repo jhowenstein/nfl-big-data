{
 "cells": [
  {
   "cell_type": "code",
   "execution_count": 1,
   "metadata": {},
   "outputs": [],
   "source": [
    "import numpy as np\n",
    "import pandas as pd\n",
    "import scipy as sp\n",
    "import scipy.stats as stats\n",
    "import matplotlib.pyplot as plt\n",
    "import matplotlib.patches as mpatches\n",
    "\n",
    "import os\n",
    "import glob\n",
    "import sys"
   ]
  },
  {
   "cell_type": "code",
   "execution_count": 2,
   "metadata": {},
   "outputs": [],
   "source": [
    "from utils import set_basepath"
   ]
  },
  {
   "cell_type": "code",
   "execution_count": 3,
   "metadata": {},
   "outputs": [
    {
     "data": {
      "text/plain": [
       "'/Users/jacobhow/Documents/programming-projects/nfl-big-data/notebooks/feature'"
      ]
     },
     "execution_count": 3,
     "metadata": {},
     "output_type": "execute_result"
    }
   ],
   "source": [
    "sys.path[0]"
   ]
  },
  {
   "cell_type": "code",
   "execution_count": 4,
   "metadata": {},
   "outputs": [],
   "source": [
    "basepath = set_basepath(steps=2)"
   ]
  },
  {
   "cell_type": "code",
   "execution_count": 5,
   "metadata": {},
   "outputs": [
    {
     "data": {
      "text/plain": [
       "'/Users/jacobhow/Documents/programming-projects/nfl-big-data'"
      ]
     },
     "execution_count": 5,
     "metadata": {},
     "output_type": "execute_result"
    }
   ],
   "source": [
    "sys.path[0]"
   ]
  },
  {
   "cell_type": "code",
   "execution_count": 6,
   "metadata": {},
   "outputs": [],
   "source": [
    "from src.team import Team\n",
    "from src.game import Game\n",
    "from src.play import Play\n",
    "from src.player import Player\n",
    "from src.analysis import Analysis, sort_plays_by_result"
   ]
  },
  {
   "cell_type": "code",
   "execution_count": 7,
   "metadata": {},
   "outputs": [],
   "source": [
    "analysis = Analysis(basepath=basepath)"
   ]
  },
  {
   "cell_type": "code",
   "execution_count": 8,
   "metadata": {},
   "outputs": [],
   "source": [
    "analysis.load_data()"
   ]
  },
  {
   "cell_type": "code",
   "execution_count": 9,
   "metadata": {},
   "outputs": [],
   "source": [
    "analysis.load_weeks('All')"
   ]
  },
  {
   "cell_type": "code",
   "execution_count": 10,
   "metadata": {},
   "outputs": [
    {
     "data": {
      "text/plain": [
       "dict_keys(['week1', 'week2', 'week3', 'week4', 'week5', 'week6', 'week7', 'week8', 'week9', 'week10', 'week11', 'week12', 'week13', 'week14', 'week15', 'week16', 'week17'])"
      ]
     },
     "execution_count": 10,
     "metadata": {},
     "output_type": "execute_result"
    }
   ],
   "source": [
    "analysis.weeks.keys()"
   ]
  },
  {
   "cell_type": "code",
   "execution_count": 11,
   "metadata": {},
   "outputs": [],
   "source": [
    "analysis.process_games()"
   ]
  },
  {
   "cell_type": "code",
   "execution_count": 12,
   "metadata": {
    "scrolled": true
   },
   "outputs": [
    {
     "name": "stdout",
     "output_type": "stream",
     "text": [
      "PHI - week1\n"
     ]
    },
    {
     "name": "stderr",
     "output_type": "stream",
     "text": [
      "/Users/jacobhow/Documents/programming-projects/nfl-big-data/src/play.py:260: SettingWithCopyWarning: \n",
      "A value is trying to be set on a copy of a slice from a DataFrame.\n",
      "Try using .loc[row_indexer,col_indexer] = value instead\n",
      "\n",
      "See the caveats in the documentation: https://pandas.pydata.org/pandas-docs/stable/user_guide/indexing.html#returning-a-view-versus-a-copy\n",
      "  self.player_tracking['distance from line'] = self.player_tracking['x'] - self.line_of_scrimmage\n",
      "/Users/jacobhow/Documents/programming-projects/nfl-big-data/src/play.py:261: SettingWithCopyWarning: \n",
      "A value is trying to be set on a copy of a slice from a DataFrame.\n",
      "Try using .loc[row_indexer,col_indexer] = value instead\n",
      "\n",
      "See the caveats in the documentation: https://pandas.pydata.org/pandas-docs/stable/user_guide/indexing.html#returning-a-view-versus-a-copy\n",
      "  self.player_tracking['distance to sideline'] = [min((160/3) - y,y) for y in self.player_tracking['y'].values]\n",
      "/Users/jacobhow/Documents/programming-projects/nfl-big-data/src/play.py:262: SettingWithCopyWarning: \n",
      "A value is trying to be set on a copy of a slice from a DataFrame.\n",
      "Try using .loc[row_indexer,col_indexer] = value instead\n",
      "\n",
      "See the caveats in the documentation: https://pandas.pydata.org/pandas-docs/stable/user_guide/indexing.html#returning-a-view-versus-a-copy\n",
      "  self.player_tracking['distance from center'] = self.player_tracking['y'] - self.play_center\n"
     ]
    },
    {
     "name": "stdout",
     "output_type": "stream",
     "text": [
      "PHI - week2\n",
      "PHI - week3\n",
      "PHI - week4\n",
      "PHI - week5\n",
      "PHI - week6\n",
      "PHI - week7\n",
      "PHI - week8\n",
      "PHI - week9\n",
      "PHI - week10\n",
      "PHI - week11\n",
      "PHI - week12\n",
      "PHI - week13\n",
      "PHI - week14\n",
      "PHI - week15\n",
      "PHI - week16\n",
      "PHI - week17\n",
      "CLE - week1\n",
      "CLE - week2\n",
      "CLE - week3\n",
      "CLE - week4\n",
      "CLE - week5\n",
      "CLE - week6\n",
      "CLE - week7\n",
      "CLE - week8\n",
      "CLE - week9\n",
      "CLE - week10\n",
      "CLE - week11\n",
      "CLE - week12\n",
      "CLE - week13\n",
      "CLE - week14\n",
      "CLE - week15\n",
      "CLE - week16\n",
      "CLE - week17\n",
      "IND - week1\n",
      "IND - week2\n",
      "IND - week3\n",
      "IND - week4\n",
      "IND - week5\n",
      "IND - week6\n",
      "IND - week7\n",
      "IND - week8\n",
      "IND - week9\n",
      "IND - week10\n",
      "IND - week11\n",
      "IND - week12\n",
      "IND - week13\n",
      "IND - week14\n",
      "IND - week15\n",
      "IND - week16\n",
      "IND - week17\n",
      "Play Error\n",
      "Game ID: 2018121605 - Play ID: 1770\n",
      "(2:34) (Shotgun) D.Prescott pass incomplete deep left to N.Brown. IND-Q.Wilson was injured during the play.\n",
      "Play Error\n",
      "Game ID: 2018121605 - Play ID: 2544\n",
      "(11:23) D.Prescott pass short right to N.Brown to DAL 39 for 14 yards (M.Adams, A.Walker).\n",
      "MIA - week1\n",
      "MIA - week2\n",
      "MIA - week3\n",
      "MIA - week4\n",
      "MIA - week5\n",
      "MIA - week6\n",
      "MIA - week7\n",
      "MIA - week8\n",
      "MIA - week9\n",
      "MIA - week10\n",
      "MIA - week11\n",
      "MIA - week12\n",
      "MIA - week13\n",
      "MIA - week14\n",
      "MIA - week15\n",
      "MIA - week16\n",
      "MIA - week17\n",
      "BAL - week1\n",
      "BAL - week2\n",
      "BAL - week3\n",
      "BAL - week4\n",
      "BAL - week5\n",
      "BAL - week6\n",
      "BAL - week7\n",
      "BAL - week8\n",
      "BAL - week9\n",
      "BAL - week10\n",
      "BAL - week11\n",
      "BAL - week12\n",
      "BAL - week13\n",
      "BAL - week14\n",
      "BAL - week15\n",
      "BAL - week16\n",
      "BAL - week17\n",
      "Play Error\n",
      "Game ID: 2018092301 - Play ID: 2225\n",
      "(:37) (Shotgun) C.Keenum pass incomplete short left to C.Sutton.\n",
      "Play Error\n",
      "Game ID: 2018092301 - Play ID: 3945\n",
      "(6:16) (Shotgun) C.Keenum pass incomplete short left to D.Booker.\n",
      "Play Error\n",
      "Game ID: 2018092301 - Play ID: 4021\n",
      "(5:23) (Shotgun) C.Keenum pass short right to D.Booker to BLT 35 for 5 yards (C.Clark).\n",
      "Play Error\n",
      "Game ID: 2018092301 - Play ID: 4045\n",
      "(4:57) (No Huddle, Shotgun) C.Keenum pass short right to J.Butt ran ob at BLT 30 for 5 yards.\n",
      "NE - week1\n",
      "NE - week2\n",
      "NE - week3\n",
      "NE - week4\n",
      "NE - week5\n",
      "NE - week6\n",
      "NE - week7\n",
      "NE - week8\n",
      "NE - week9\n",
      "NE - week10\n",
      "NE - week11\n",
      "NE - week12\n",
      "NE - week13\n",
      "NE - week14\n",
      "NE - week15\n",
      "NE - week16\n",
      "NE - week17\n",
      "Play Error\n",
      "Game ID: 2018123006 - Play ID: 2852\n",
      "(:37) (Shotgun) S.Darnold pass incomplete deep left to R.Anderson.\n",
      "Play Error\n",
      "Game ID: 2018123006 - Play ID: 2874\n",
      "(:32) (Shotgun) S.Darnold pass deep right to D.Burnett pushed ob at NYJ 36 for 25 yards (K.Crossen).\n",
      "Play Error\n",
      "Game ID: 2018123006 - Play ID: 3186\n",
      "(9:35) S.Darnold pass incomplete short right to R.Anderson (J.Jackson).\n",
      "Play Error\n",
      "Game ID: 2018123006 - Play ID: 3236\n",
      "(8:50) (Shotgun) S.Darnold pass incomplete short right to J.Leggett.\n",
      "NYG - week1\n",
      "NYG - week2\n",
      "NYG - week3\n",
      "NYG - week4\n",
      "NYG - week5\n",
      "NYG - week6\n",
      "NYG - week7\n",
      "NYG - week8\n",
      "NYG - week9\n",
      "NYG - week10\n",
      "NYG - week11\n",
      "NYG - week12\n",
      "NYG - week13\n",
      "NYG - week14\n",
      "NYG - week15\n",
      "NYG - week16\n",
      "NYG - week17\n",
      "NO - week1\n",
      "NO - week2\n",
      "NO - week3\n",
      "NO - week4\n",
      "NO - week5\n",
      "NO - week6\n",
      "NO - week7\n",
      "NO - week8\n",
      "NO - week9\n",
      "NO - week10\n",
      "NO - week11\n",
      "NO - week12\n",
      "NO - week13\n",
      "NO - week14\n",
      "NO - week15\n",
      "NO - week16\n",
      "NO - week17\n",
      "ARI - week1\n",
      "ARI - week2\n",
      "ARI - week3\n",
      "ARI - week4\n",
      "ARI - week5\n",
      "ARI - week6\n",
      "ARI - week7\n",
      "ARI - week8\n",
      "ARI - week9\n",
      "ARI - week10\n",
      "ARI - week11\n",
      "ARI - week12\n",
      "ARI - week13\n",
      "ARI - week14\n",
      "ARI - week15\n",
      "ARI - week16\n",
      "ARI - week17\n",
      "Error! Patrick Peterson has has more than one coverage type!\n",
      "CAR - week1\n",
      "CAR - week2\n",
      "CAR - week3\n",
      "CAR - week4\n",
      "CAR - week5\n",
      "CAR - week6\n",
      "CAR - week7\n",
      "CAR - week8\n",
      "CAR - week9\n",
      "CAR - week10\n",
      "CAR - week11\n",
      "CAR - week12\n",
      "CAR - week13\n",
      "CAR - week14\n",
      "CAR - week15\n",
      "CAR - week16\n",
      "CAR - week17\n",
      "GB - week1\n",
      "GB - week2\n",
      "GB - week3\n",
      "GB - week4\n",
      "GB - week5\n",
      "GB - week6\n",
      "GB - week7\n",
      "GB - week8\n",
      "GB - week9\n",
      "GB - week10\n",
      "GB - week11\n",
      "GB - week12\n",
      "GB - week13\n",
      "GB - week14\n",
      "GB - week15\n",
      "GB - week16\n",
      "GB - week17\n",
      "DET - week1\n",
      "DET - week2\n",
      "DET - week3\n",
      "DET - week4\n",
      "DET - week5\n",
      "DET - week6\n",
      "DET - week7\n",
      "DET - week8\n",
      "DET - week9\n",
      "DET - week10\n",
      "DET - week11\n",
      "DET - week12\n",
      "DET - week13\n",
      "DET - week14\n",
      "DET - week15\n",
      "DET - week16\n",
      "DET - week17\n",
      "OAK - week1\n",
      "OAK - week2\n",
      "OAK - week3\n",
      "OAK - week4\n",
      "OAK - week5\n",
      "OAK - week6\n",
      "OAK - week7\n",
      "OAK - week8\n",
      "OAK - week9\n",
      "OAK - week10\n",
      "OAK - week11\n",
      "OAK - week12\n",
      "OAK - week13\n",
      "OAK - week14\n",
      "OAK - week15\n",
      "OAK - week16\n",
      "OAK - week17\n",
      "CIN - week1\n",
      "CIN - week2\n",
      "CIN - week3\n",
      "CIN - week4\n",
      "CIN - week5\n",
      "CIN - week6\n",
      "CIN - week7\n",
      "CIN - week8\n",
      "CIN - week9\n",
      "CIN - week10\n",
      "CIN - week11\n",
      "CIN - week12\n",
      "CIN - week13\n",
      "CIN - week14\n",
      "CIN - week15\n",
      "CIN - week16\n",
      "CIN - week17\n",
      "NYJ - week1\n",
      "NYJ - week2\n",
      "NYJ - week3\n",
      "NYJ - week4\n",
      "NYJ - week5\n",
      "NYJ - week6\n",
      "NYJ - week7\n",
      "NYJ - week8\n",
      "NYJ - week9\n",
      "NYJ - week10\n",
      "NYJ - week11\n",
      "NYJ - week12\n",
      "NYJ - week13\n",
      "NYJ - week14\n",
      "NYJ - week15\n",
      "NYJ - week16\n",
      "NYJ - week17\n",
      "BUF - week1\n",
      "BUF - week2\n",
      "BUF - week3\n",
      "BUF - week4\n",
      "BUF - week5\n",
      "BUF - week6\n",
      "BUF - week7\n",
      "BUF - week8\n",
      "BUF - week9\n",
      "BUF - week10\n",
      "BUF - week11\n",
      "BUF - week12\n",
      "BUF - week13\n",
      "BUF - week14\n",
      "BUF - week15\n",
      "BUF - week16\n",
      "BUF - week17\n",
      "ATL - week1\n",
      "ATL - week2\n",
      "ATL - week3\n",
      "ATL - week4\n",
      "ATL - week5\n",
      "ATL - week6\n",
      "ATL - week7\n",
      "ATL - week8\n",
      "ATL - week9\n",
      "ATL - week10\n",
      "ATL - week11\n",
      "ATL - week12\n",
      "ATL - week13\n",
      "ATL - week14\n",
      "ATL - week15\n",
      "ATL - week16\n",
      "ATL - week17\n",
      "PIT - week1\n",
      "PIT - week2\n",
      "PIT - week3\n",
      "PIT - week4\n",
      "PIT - week5\n",
      "PIT - week6\n",
      "PIT - week7\n",
      "PIT - week8\n",
      "PIT - week9\n",
      "PIT - week10\n",
      "PIT - week11\n",
      "PIT - week12\n",
      "PIT - week13\n",
      "PIT - week14\n",
      "PIT - week15\n",
      "PIT - week16\n",
      "PIT - week17\n",
      "WAS - week1\n",
      "WAS - week2\n",
      "WAS - week3\n",
      "WAS - week4\n",
      "WAS - week5\n",
      "WAS - week6\n",
      "WAS - week7\n",
      "WAS - week8\n",
      "WAS - week9\n",
      "WAS - week10\n",
      "WAS - week11\n",
      "WAS - week12\n",
      "WAS - week13\n",
      "WAS - week14\n",
      "WAS - week15\n",
      "WAS - week16\n",
      "WAS - week17\n",
      "TEN - week1\n",
      "TEN - week2\n",
      "TEN - week3\n",
      "TEN - week4\n",
      "TEN - week5\n",
      "TEN - week6\n",
      "TEN - week7\n",
      "TEN - week8\n",
      "TEN - week9\n",
      "TEN - week10\n",
      "TEN - week11\n",
      "TEN - week12\n",
      "TEN - week13\n",
      "TEN - week14\n",
      "TEN - week15\n",
      "TEN - week16\n",
      "TEN - week17\n",
      "TB - week1\n",
      "TB - week2\n",
      "TB - week3\n",
      "TB - week4\n",
      "TB - week5\n",
      "TB - week6\n",
      "TB - week7\n",
      "TB - week8\n",
      "TB - week9\n",
      "TB - week10\n",
      "TB - week11\n",
      "TB - week12\n",
      "TB - week13\n",
      "TB - week14\n",
      "TB - week15\n",
      "TB - week16\n",
      "TB - week17\n",
      "SF - week1\n",
      "SF - week2\n",
      "SF - week3\n",
      "SF - week4\n",
      "SF - week5\n",
      "SF - week6\n",
      "SF - week7\n",
      "SF - week8\n",
      "SF - week9\n",
      "SF - week10\n",
      "SF - week11\n",
      "SF - week12\n",
      "SF - week13\n",
      "SF - week14\n",
      "SF - week15\n",
      "SF - week16\n",
      "SF - week17\n",
      "LA - week1\n",
      "LA - week2\n",
      "LA - week3\n",
      "LA - week4\n",
      "LA - week5\n",
      "LA - week6\n",
      "LA - week7\n",
      "LA - week8\n",
      "LA - week9\n",
      "LA - week10\n",
      "LA - week11\n",
      "LA - week12\n",
      "LA - week13\n",
      "LA - week14\n",
      "LA - week15\n",
      "LA - week16\n",
      "LA - week17\n",
      "DEN - week1\n",
      "DEN - week2\n",
      "DEN - week3\n",
      "DEN - week4\n",
      "DEN - week5\n",
      "DEN - week6\n",
      "DEN - week7\n",
      "DEN - week8\n",
      "DEN - week9\n",
      "DEN - week10\n",
      "DEN - week11\n",
      "DEN - week12\n",
      "DEN - week13\n",
      "DEN - week14\n",
      "DEN - week15\n",
      "DEN - week16\n",
      "DEN - week17\n",
      "JAX - week1\n",
      "JAX - week2\n",
      "JAX - week3\n",
      "JAX - week4\n",
      "JAX - week5\n",
      "JAX - week6\n",
      "JAX - week7\n",
      "JAX - week8\n",
      "JAX - week9\n",
      "JAX - week10\n",
      "JAX - week11\n",
      "JAX - week12\n",
      "JAX - week13\n",
      "JAX - week14\n",
      "JAX - week15\n",
      "JAX - week16\n",
      "JAX - week17\n",
      "DAL - week1\n",
      "DAL - week2\n",
      "DAL - week3\n",
      "DAL - week4\n",
      "DAL - week5\n",
      "DAL - week6\n",
      "DAL - week7\n",
      "DAL - week8\n",
      "DAL - week9\n",
      "DAL - week10\n",
      "DAL - week11\n",
      "DAL - week12\n",
      "DAL - week13\n",
      "DAL - week14\n",
      "DAL - week15\n",
      "DAL - week16\n",
      "DAL - week17\n",
      "CHI - week1\n",
      "CHI - week2\n",
      "CHI - week3\n",
      "CHI - week4\n",
      "CHI - week5\n",
      "CHI - week6\n",
      "CHI - week7\n",
      "CHI - week8\n",
      "CHI - week9\n",
      "CHI - week10\n",
      "CHI - week11\n",
      "CHI - week12\n",
      "CHI - week13\n",
      "CHI - week14\n",
      "CHI - week15\n",
      "CHI - week16\n",
      "CHI - week17\n",
      "HOU - week1\n",
      "HOU - week2\n",
      "HOU - week3\n",
      "HOU - week4\n",
      "HOU - week5\n",
      "HOU - week6\n",
      "HOU - week7\n",
      "HOU - week8\n",
      "HOU - week9\n",
      "HOU - week10\n",
      "HOU - week11\n",
      "HOU - week12\n",
      "HOU - week13\n",
      "HOU - week14\n",
      "HOU - week15\n",
      "HOU - week16\n",
      "HOU - week17\n",
      "Error! Whitney Mercilus has has more than one coverage type!\n",
      "KC - week1\n",
      "KC - week2\n",
      "KC - week3\n",
      "KC - week4\n",
      "KC - week5\n",
      "KC - week6\n",
      "KC - week7\n",
      "KC - week8\n",
      "KC - week9\n",
      "KC - week10\n",
      "KC - week11\n",
      "KC - week12\n",
      "KC - week13\n",
      "KC - week14\n",
      "KC - week15\n",
      "KC - week16\n",
      "KC - week17\n",
      "MIN - week1\n",
      "MIN - week2\n",
      "MIN - week3\n",
      "MIN - week4\n",
      "MIN - week5\n",
      "MIN - week6\n",
      "MIN - week7\n",
      "MIN - week8\n",
      "MIN - week9\n",
      "MIN - week10\n",
      "MIN - week11\n",
      "MIN - week12\n",
      "MIN - week13\n",
      "MIN - week14\n",
      "MIN - week15\n",
      "MIN - week16\n",
      "MIN - week17\n",
      "SEA - week1\n",
      "SEA - week2\n",
      "SEA - week3\n",
      "SEA - week4\n",
      "SEA - week5\n",
      "SEA - week6\n",
      "SEA - week7\n",
      "SEA - week8\n",
      "SEA - week9\n",
      "SEA - week10\n",
      "SEA - week11\n",
      "SEA - week12\n",
      "SEA - week13\n",
      "SEA - week14\n",
      "SEA - week15\n",
      "SEA - week16\n",
      "SEA - week17\n",
      "LAC - week1\n",
      "LAC - week2\n",
      "LAC - week3\n",
      "LAC - week4\n",
      "LAC - week5\n",
      "LAC - week6\n",
      "LAC - week7\n",
      "LAC - week8\n",
      "LAC - week9\n",
      "LAC - week10\n",
      "LAC - week11\n",
      "LAC - week12\n",
      "LAC - week13\n",
      "LAC - week14\n",
      "LAC - week15\n",
      "LAC - week16\n",
      "LAC - week17\n"
     ]
    }
   ],
   "source": [
    "analysis.process_teams()"
   ]
  },
  {
   "cell_type": "code",
   "execution_count": 13,
   "metadata": {},
   "outputs": [
    {
     "name": "stdout",
     "output_type": "stream",
     "text": [
      "(2:34) (Shotgun) D.Prescott pass incomplete deep left to N.Brown. IND-Q.Wilson was injured during the play.\n",
      "(11:23) D.Prescott pass short right to N.Brown to DAL 39 for 14 yards (M.Adams, A.Walker).\n",
      "(:37) (Shotgun) C.Keenum pass incomplete short left to C.Sutton.\n",
      "(6:16) (Shotgun) C.Keenum pass incomplete short left to D.Booker.\n",
      "(5:23) (Shotgun) C.Keenum pass short right to D.Booker to BLT 35 for 5 yards (C.Clark).\n",
      "(4:57) (No Huddle, Shotgun) C.Keenum pass short right to J.Butt ran ob at BLT 30 for 5 yards.\n",
      "(:37) (Shotgun) S.Darnold pass incomplete deep left to R.Anderson.\n",
      "(:32) (Shotgun) S.Darnold pass deep right to D.Burnett pushed ob at NYJ 36 for 25 yards (K.Crossen).\n",
      "(9:35) S.Darnold pass incomplete short right to R.Anderson (J.Jackson).\n",
      "(8:50) (Shotgun) S.Darnold pass incomplete short right to J.Leggett.\n"
     ]
    }
   ],
   "source": [
    "plays = analysis.return_plays(target_coverage='man')"
   ]
  },
  {
   "cell_type": "code",
   "execution_count": 14,
   "metadata": {},
   "outputs": [
    {
     "data": {
      "text/plain": [
       "4378"
      ]
     },
     "execution_count": 14,
     "metadata": {},
     "output_type": "execute_result"
    }
   ],
   "source": [
    "len(plays)"
   ]
  },
  {
   "cell_type": "code",
   "execution_count": 15,
   "metadata": {},
   "outputs": [],
   "source": [
    "sorted_plays = sort_plays_by_result(plays)"
   ]
  },
  {
   "cell_type": "code",
   "execution_count": 16,
   "metadata": {},
   "outputs": [
    {
     "data": {
      "text/plain": [
       "2492"
      ]
     },
     "execution_count": 16,
     "metadata": {},
     "output_type": "execute_result"
    }
   ],
   "source": [
    "len(sorted_plays['completed'])"
   ]
  },
  {
   "cell_type": "code",
   "execution_count": 17,
   "metadata": {},
   "outputs": [
    {
     "data": {
      "text/plain": [
       "1791"
      ]
     },
     "execution_count": 17,
     "metadata": {},
     "output_type": "execute_result"
    }
   ],
   "source": [
    "len(sorted_plays['incompleted'])"
   ]
  },
  {
   "cell_type": "code",
   "execution_count": 18,
   "metadata": {},
   "outputs": [
    {
     "data": {
      "text/plain": [
       "94"
      ]
     },
     "execution_count": 18,
     "metadata": {},
     "output_type": "execute_result"
    }
   ],
   "source": [
    "len(sorted_plays['intercepted'])"
   ]
  },
  {
   "cell_type": "code",
   "execution_count": 19,
   "metadata": {},
   "outputs": [
    {
     "data": {
      "text/plain": [
       "1"
      ]
     },
     "execution_count": 19,
     "metadata": {},
     "output_type": "execute_result"
    }
   ],
   "source": [
    "len(sorted_plays['other'])"
   ]
  },
  {
   "cell_type": "code",
   "execution_count": 71,
   "metadata": {},
   "outputs": [],
   "source": [
    "def pid_lock_tracking(db):\n",
    "    start = play.events['ball_snap']\n",
    "    end = play.events['pass_arrived'] + 1\n",
    "    dt = .1\n",
    "    \n",
    "    init_dx, init_dy, init_r = db.distance_to_lock(start - 1)\n",
    "    \n",
    "    p = 0\n",
    "    i = 0\n",
    "    d = 0\n",
    "    \n",
    "    p_vals = []\n",
    "    i_vals = []\n",
    "    d_vals = []\n",
    "    \n",
    "    last_p = init_r\n",
    "    \n",
    "    for frame in range(start, end):\n",
    "        dx,dy,r = db.distance_to_lock(frame)\n",
    "        \n",
    "        p = r\n",
    "        d = (p - last_p) / dt\n",
    "        i += d\n",
    "        \n",
    "        p_vals.append(p)\n",
    "        i_vals.append(i)\n",
    "        d_vals.append(d)\n",
    "        \n",
    "        last_p = p\n",
    "        \n",
    "    return p_vals, i_vals, d_vals"
   ]
  },
  {
   "cell_type": "code",
   "execution_count": 62,
   "metadata": {},
   "outputs": [],
   "source": [
    "play = plays[120]"
   ]
  },
  {
   "cell_type": "code",
   "execution_count": 63,
   "metadata": {},
   "outputs": [
    {
     "data": {
      "image/png": "[encoded data removed]",
      "text/plain": [
       "<Figure size 864x383.76 with 1 Axes>"
      ]
     },
     "metadata": {
      "needs_background": "light"
     },
     "output_type": "display_data"
    }
   ],
   "source": [
    "play.plot_play(markers='number', show_coverage=True)"
   ]
  },
  {
   "cell_type": "code",
   "execution_count": 64,
   "metadata": {},
   "outputs": [],
   "source": [
    "db = play.man_responsible_dbacks[0]"
   ]
  },
  {
   "cell_type": "code",
   "execution_count": 65,
   "metadata": {},
   "outputs": [
    {
     "data": {
      "text/plain": [
       "34"
      ]
     },
     "execution_count": 65,
     "metadata": {},
     "output_type": "execute_result"
    }
   ],
   "source": [
    "db.number"
   ]
  },
  {
   "cell_type": "code",
   "execution_count": 66,
   "metadata": {},
   "outputs": [],
   "source": [
    "rc = db.locks[0]"
   ]
  },
  {
   "cell_type": "code",
   "execution_count": 67,
   "metadata": {},
   "outputs": [
    {
     "data": {
      "text/plain": [
       "17"
      ]
     },
     "execution_count": 67,
     "metadata": {},
     "output_type": "execute_result"
    }
   ],
   "source": [
    "rc.number"
   ]
  },
  {
   "cell_type": "code",
   "execution_count": 68,
   "metadata": {},
   "outputs": [
    {
     "data": {
      "text/plain": [
       "{'ball_snap': 11,\n",
       " 'pass_forward': 24,\n",
       " 'pass_tipped': 27,\n",
       " 'pass_arrived': 33,\n",
       " 'pass_outcome_caught': 41,\n",
       " 'tackle': 52,\n",
       " 'peak_dropback': 24,\n",
       " 'end_dropback': 24}"
      ]
     },
     "execution_count": 68,
     "metadata": {},
     "output_type": "execute_result"
    }
   ],
   "source": [
    "play.events"
   ]
  },
  {
   "cell_type": "code",
   "execution_count": 72,
   "metadata": {},
   "outputs": [],
   "source": [
    "p, i, d = pid_lock_tracking(db)"
   ]
  },
  {
   "cell_type": "code",
   "execution_count": 73,
   "metadata": {},
   "outputs": [],
   "source": [
    "import matplotlib.pyplot as plt"
   ]
  },
  {
   "cell_type": "code",
   "execution_count": 74,
   "metadata": {},
   "outputs": [
    {
     "data": {
      "image/png": "[encoded data removed]",
      "text/plain": [
       "<Figure size 864x576 with 1 Axes>"
      ]
     },
     "metadata": {
      "needs_background": "light"
     },
     "output_type": "display_data"
    }
   ],
   "source": [
    "fig,ax = plt.subplots(figsize=(12,8))\n",
    "\n",
    "ax.plot(p)\n",
    "ax.plot(i)\n",
    "ax.plot(d)\n",
    "\n",
    "ax.grid()\n",
    "ax.legend(['P','I','D'])\n",
    "\n",
    "for _event in ('ball_snap','pass_forward','pass_arrived'):\n",
    "    ax.axvline(play.events[_event] - play.events['ball_snap'], color='k')\n",
    "\n",
    "plt.show()"
   ]
  },
  {
   "cell_type": "code",
   "execution_count": 75,
   "metadata": {},
   "outputs": [
    {
     "data": {
      "text/plain": [
       "gameId                                                           2018121611\n",
       "playId                                                                 2334\n",
       "playDescription           (11:59) (Shotgun) J.Goff pass short right to R...\n",
       "quarter                                                                   3\n",
       "down                                                                      3\n",
       "yardsToGo                                                                12\n",
       "possessionTeam                                                           LA\n",
       "playType                                                     play_type_pass\n",
       "yardlineSide                                                             LA\n",
       "yardlineNumber                                                            3\n",
       "offenseFormation                                                    SHOTGUN\n",
       "personnelO                                                 1 RB, 1 TE, 3 WR\n",
       "defendersInTheBox                                                         4\n",
       "numberOfPassRushers                                                       3\n",
       "personnelD                                                 4 DL, 1 LB, 6 DB\n",
       "typeDropback                                                    TRADITIONAL\n",
       "preSnapVisitorScore                                                      13\n",
       "preSnapHomeScore                                                         13\n",
       "gameClock                                                          11:59:00\n",
       "absoluteYardlineNumber                                                  107\n",
       "penaltyCodes                                                            NaN\n",
       "penaltyJerseyNumbers                                                    NaN\n",
       "passResult                                                                C\n",
       "offensePlayResult                                                         6\n",
       "playResult                                                                6\n",
       "epa                                                               -0.719242\n",
       "isDefensivePI                                                         False\n",
       "Name: 23, dtype: object"
      ]
     },
     "execution_count": 75,
     "metadata": {},
     "output_type": "execute_result"
    }
   ],
   "source": [
    "play.play_data"
   ]
  },
  {
   "cell_type": "code",
   "execution_count": null,
   "metadata": {},
   "outputs": [],
   "source": []
  }
 ],
 "metadata": {
  "kernelspec": {
   "display_name": "Python 3",
   "language": "python",
   "name": "python3"
  },
  "language_info": {
   "codemirror_mode": {
    "name": "ipython",
    "version": 3
   },
   "file_extension": ".py",
   "mimetype": "text/x-python",
   "name": "python",
   "nbconvert_exporter": "python",
   "pygments_lexer": "ipython3",
   "version": "3.7.3"
  }
 },
 "nbformat": 4,
 "nbformat_minor": 4
}
