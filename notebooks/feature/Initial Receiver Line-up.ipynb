{
 "cells": [
  {
   "cell_type": "code",
   "execution_count": 1,
   "metadata": {},
   "outputs": [],
   "source": [
    "import numpy as np\n",
    "import pandas as pd\n",
    "import scipy as sp\n",
    "\n",
    "import matplotlib.pyplot as plt\n",
    "import matplotlib.patches as mpatches\n",
    "\n",
    "import os\n",
    "import glob\n",
    "import sys"
   ]
  },
  {
   "cell_type": "code",
   "execution_count": 2,
   "metadata": {},
   "outputs": [],
   "source": [
    "from utils import set_basepath"
   ]
  },
  {
   "cell_type": "code",
   "execution_count": 3,
   "metadata": {},
   "outputs": [
    {
     "data": {
      "text/plain": [
       "'/Users/jacobhow/Documents/programming-projects/nfl-big-data/notebooks/feature'"
      ]
     },
     "execution_count": 3,
     "metadata": {},
     "output_type": "execute_result"
    }
   ],
   "source": [
    "sys.path[0]"
   ]
  },
  {
   "cell_type": "code",
   "execution_count": 4,
   "metadata": {},
   "outputs": [],
   "source": [
    "basepath = set_basepath(steps=2)"
   ]
  },
  {
   "cell_type": "code",
   "execution_count": 5,
   "metadata": {},
   "outputs": [
    {
     "data": {
      "text/plain": [
       "'/Users/jacobhow/Documents/programming-projects/nfl-big-data'"
      ]
     },
     "execution_count": 5,
     "metadata": {},
     "output_type": "execute_result"
    }
   ],
   "source": [
    "sys.path[0]"
   ]
  },
  {
   "cell_type": "code",
   "execution_count": 6,
   "metadata": {},
   "outputs": [],
   "source": [
    "from src.team import Team\n",
    "from src.game import Game\n",
    "from src.play import Play\n",
    "from src.player import Player\n",
    "from src.analysis import process_games"
   ]
  },
  {
   "cell_type": "code",
   "execution_count": 7,
   "metadata": {},
   "outputs": [],
   "source": [
    "games = pd.read_csv(os.path.join(basepath,'data/games.csv'))"
   ]
  },
  {
   "cell_type": "code",
   "execution_count": 8,
   "metadata": {},
   "outputs": [],
   "source": [
    "players = pd.read_csv(os.path.join(basepath,'data/players.csv')).set_index('nflId')"
   ]
  },
  {
   "cell_type": "code",
   "execution_count": 9,
   "metadata": {},
   "outputs": [],
   "source": [
    "plays = pd.read_csv(os.path.join(basepath,'data/plays.csv'))"
   ]
  },
  {
   "cell_type": "code",
   "execution_count": 10,
   "metadata": {},
   "outputs": [],
   "source": [
    "weeks = {}\n",
    "for i in range(3):\n",
    "    name = f'week{i+1}'\n",
    "    weeks[name] = pd.read_csv(os.path.join(basepath,'data',name+'-processed.csv'))"
   ]
  },
  {
   "cell_type": "code",
   "execution_count": 11,
   "metadata": {},
   "outputs": [],
   "source": [
    "teams = process_games(games,plays)"
   ]
  },
  {
   "cell_type": "code",
   "execution_count": 12,
   "metadata": {},
   "outputs": [],
   "source": [
    "team = teams['IND']"
   ]
  },
  {
   "cell_type": "code",
   "execution_count": 13,
   "metadata": {},
   "outputs": [
    {
     "data": {
      "text/plain": [
       "{'week1': <src.game.Game at 0x12e084160>,\n",
       " 'week2': <src.game.Game at 0x12e094d30>,\n",
       " 'week3': <src.game.Game at 0x12e0b2a90>,\n",
       " 'week4': <src.game.Game at 0x10c86d898>,\n",
       " 'week5': <src.game.Game at 0x10c8817f0>,\n",
       " 'week6': <src.game.Game at 0x11ee14550>,\n",
       " 'week7': <src.game.Game at 0x11ee1ddd8>,\n",
       " 'week8': <src.game.Game at 0x11ee42550>,\n",
       " 'week10': <src.game.Game at 0x11ee68358>,\n",
       " 'week11': <src.game.Game at 0x11ee79898>,\n",
       " 'week12': <src.game.Game at 0x11ee8add8>,\n",
       " 'week13': <src.game.Game at 0x11eeae0b8>,\n",
       " 'week14': <src.game.Game at 0x11eebf2b0>,\n",
       " 'week15': <src.game.Game at 0x11f090f60>,\n",
       " 'week16': <src.game.Game at 0x11f0a35f8>,\n",
       " 'week17': <src.game.Game at 0x11f0c6550>}"
      ]
     },
     "execution_count": 13,
     "metadata": {},
     "output_type": "execute_result"
    }
   ],
   "source": [
    "team.games"
   ]
  },
  {
   "cell_type": "code",
   "execution_count": 14,
   "metadata": {},
   "outputs": [
    {
     "name": "stderr",
     "output_type": "stream",
     "text": [
      "/Users/jacobhow/Documents/programming-projects/nfl-big-data/src/play.py:67: SettingWithCopyWarning: \n",
      "A value is trying to be set on a copy of a slice from a DataFrame.\n",
      "Try using .loc[row_indexer,col_indexer] = value instead\n",
      "\n",
      "See the caveats in the documentation: https://pandas.pydata.org/pandas-docs/stable/user_guide/indexing.html#returning-a-view-versus-a-copy\n",
      "  self.player_tracking['distance from line'] = self.player_tracking['x'] - self.line_of_scrimmage\n",
      "/Users/jacobhow/Documents/programming-projects/nfl-big-data/src/play.py:68: SettingWithCopyWarning: \n",
      "A value is trying to be set on a copy of a slice from a DataFrame.\n",
      "Try using .loc[row_indexer,col_indexer] = value instead\n",
      "\n",
      "See the caveats in the documentation: https://pandas.pydata.org/pandas-docs/stable/user_guide/indexing.html#returning-a-view-versus-a-copy\n",
      "  self.player_tracking['distance to sideline'] = [min((160/3) - y,y) for y in self.player_tracking['y'].values]\n",
      "/Users/jacobhow/Documents/programming-projects/nfl-big-data/src/play.py:69: SettingWithCopyWarning: \n",
      "A value is trying to be set on a copy of a slice from a DataFrame.\n",
      "Try using .loc[row_indexer,col_indexer] = value instead\n",
      "\n",
      "See the caveats in the documentation: https://pandas.pydata.org/pandas-docs/stable/user_guide/indexing.html#returning-a-view-versus-a-copy\n",
      "  self.player_tracking['distance from center'] = self.player_tracking['y'] - self.play_center\n"
     ]
    }
   ],
   "source": [
    "team.process_weeks(weeks)"
   ]
  },
  {
   "cell_type": "code",
   "execution_count": 15,
   "metadata": {
    "scrolled": false
   },
   "outputs": [
    {
     "name": "stdout",
     "output_type": "stream",
     "text": [
      "Play 1: (14:11) (Shotgun) A.Dalton pass short left intended for J.Mixon INTERCEPTED by K.Moore II at CIN 39. K.Moore II to CIN 7 for 32 yards (A.Dalton).\n",
      "Play 2: (12:32) A.Dalton pass short right to T.Eifert pushed ob at CIN 40 for 29 yards (M.Hooker).\n",
      "Play 3: (11:17) (Shotgun) A.Dalton pass short left to J.Mixon to IND 32 for 21 yards (C.Geathers).\n",
      "Play 4: (9:58) A.Dalton pass short right to A.Green to IND 22 for 5 yards (N.Hairston).\n",
      "Play 5: (8:35) (Shotgun) A.Dalton pass incomplete deep right to J.Ross.\n",
      "Play 6: (8:30) (Shotgun) A.Dalton pass incomplete short middle to T.Boyd (J.Sheard).\n",
      "Play 7: (1:23) A.Dalton pass short right to J.Mixon to CIN 33 for 8 yards (N.Hairston).\n",
      "Play 8: (:58) (No Huddle, Shotgun) A.Dalton pass short right to T.Kroft to CIN 42 for 9 yards (A.Walker, D.Leonard).\n",
      "Play 9: (:11) (Shotgun) A.Dalton pass short left to A.Green to IND 45 for 13 yards (M.Farley). FUMBLES (M.Farley), touched at IND 45, RECOVERED by IND-D.Leonard at IND 42. D.Leonard to IND 42 for no gain (T.Boyd).\n",
      "Play 10: (11:33) (Shotgun) A.Dalton pass short right to T.Boyd to CIN 20 for 5 yards (A.Walker).\n",
      "Play 11: (10:50) A.Dalton pass short right to G.Bernard to CIN 31 for 11 yards (C.Geathers).\n",
      "Play 12: (3:01) (Shotgun) A.Dalton pass short right to C.Uzomah to CIN 29 for 4 yards (C.Geathers).\n",
      "Play 13: (2:00) (Shotgun) A.Dalton pass incomplete deep left to A.Green. PENALTY on IND-Q.Wilson, Defensive Pass Interference, 36 yards, enforced at IND 39 - No Play.\n",
      "Play 14: (1:54) A.Dalton pass incomplete short right to A.Green.\n",
      "Play 15: (1:48) A.Dalton pass short left to J.Ross for 3 yards, TOUCHDOWN.\n",
      "Play 16: (13:04) (No Huddle, Shotgun) A.Dalton sacked at CIN 19 for -8 yards (M.Hunt).\n",
      "Play 17: (12:19) (Shotgun) A.Dalton pass short right to T.Eifert to CIN 25 for 6 yards (N.Hairston).\n",
      "Play 18: (8:13) (Shotgun) A.Dalton pass short right to J.Mixon to CIN 30 for 5 yards (D.Autry).\n",
      "Play 19: (7:38) A.Dalton pass short right to A.Green to CIN 36 for 6 yards (N.Hairston).\n",
      "Play 20: (7:05) A.Dalton pass short left to T.Boyd pushed ob at CIN 40 for 4 yards (K.Moore II).\n",
      "Play 21: (6:31) A.Dalton pass incomplete short right to J.Mixon.\n",
      "Play 22: (4:18) A.Dalton pass deep left to A.Green for 38 yards, TOUCHDOWN.\n",
      "Play 23: (14:37) (No Huddle, Shotgun) A.Dalton sacked at IND 47 for -6 yards (M.Hunt).\n",
      "Play 24: (13:55) (Shotgun) A.Dalton pass incomplete short right to T.Eifert. PENALTY on IND-C.Geathers, Defensive Pass Interference, 8 yards, enforced at IND 47 - No Play.\n",
      "Play 25: (13:23) A.Dalton pass short right to J.Mixon to IND 9 for 15 yards (C.Geathers).\n",
      "Play 26: (9:13) (Shotgun) A.Dalton pass short middle to A.Green to CIN 41 for 18 yards (M.Farley).\n",
      "Play 27: (7:37) (Shotgun) A.Dalton pass short middle to T.Eifert to CIN 43 for 9 yards (A.Walker, D.Leonard).\n",
      "Play 28: (6:57) (Shotgun) A.Dalton pass short right to T.Boyd ran ob at IND 40 for 17 yards (M.Hooker).\n",
      "Play 29: (6:14) (Shotgun) A.Dalton pass short middle to J.Mixon to IND 35 for 5 yards (D.Leonard).\n",
      "Play 30: (5:34) (Shotgun) A.Dalton pass short left to A.Green to IND 23 for 12 yards (C.Geathers). FUMBLES (C.Geathers), recovered by CIN-T.Boyd at IND 21. T.Boyd to IND 21 for no gain (Q.Wilson).\n",
      "Play 31: (4:13) A.Dalton pass incomplete deep left to A.Green [A.Walker].\n",
      "Play 32: (4:08) (Shotgun) A.Dalton pass incomplete short left to T.Boyd.\n"
     ]
    }
   ],
   "source": [
    "game = team.games['week1']\n",
    "game.list_plays()"
   ]
  },
  {
   "cell_type": "code",
   "execution_count": 16,
   "metadata": {},
   "outputs": [],
   "source": [
    "for play in game.plays:\n",
    "    play.process_players(players)\n",
    "    if play.hasForwardPass:\n",
    "        play.find_dropback_events()"
   ]
  },
  {
   "cell_type": "code",
   "execution_count": 35,
   "metadata": {},
   "outputs": [],
   "source": [
    "play_number = 29"
   ]
  },
  {
   "cell_type": "code",
   "execution_count": 36,
   "metadata": {},
   "outputs": [],
   "source": [
    "play = game.plays[play_number - 1]"
   ]
  },
  {
   "cell_type": "code",
   "execution_count": 37,
   "metadata": {},
   "outputs": [
    {
     "data": {
      "image/png": "[encoded data removed]",
      "text/plain": [
       "<Figure size 864x383.76 with 1 Axes>"
      ]
     },
     "metadata": {
      "needs_background": "light"
     },
     "output_type": "display_data"
    }
   ],
   "source": [
    "play.plot_play(markers='number')"
   ]
  },
  {
   "cell_type": "code",
   "execution_count": 38,
   "metadata": {},
   "outputs": [],
   "source": [
    "frame = play.events['ball_snap']"
   ]
  },
  {
   "cell_type": "code",
   "execution_count": 39,
   "metadata": {},
   "outputs": [],
   "source": [
    "#dbacks = play.return_players_by_position('CB')\n",
    "dbacks = play.return_defensive_backs()"
   ]
  },
  {
   "cell_type": "code",
   "execution_count": 40,
   "metadata": {},
   "outputs": [],
   "source": [
    "receivers = play.return_receivers()"
   ]
  },
  {
   "cell_type": "code",
   "execution_count": 41,
   "metadata": {},
   "outputs": [
    {
     "name": "stdout",
     "output_type": "stream",
     "text": [
      "Quincy Wilson - 31 - CB - Distance from Center: 19.6 - Distance from Line: 4.5\n",
      "Nate Hairston - 27 - CB - Distance from Center: -14.7 - Distance from Line: 1.7\n",
      "Kenny Moore II - 23 - CB - Distance from Center: 7.4 - Distance from Line: 4.1\n",
      "Clayton Geathers - 26 - FS - Distance from Center: 9.8 - Distance from Line: 17.9\n",
      "Matthias Farley - 41 - SS - Distance from Center: -7.5 - Distance from Line: 14.1\n"
     ]
    }
   ],
   "source": [
    "for db in dbacks:\n",
    "    dc = db.distance_from_center(frame)\n",
    "    dl = db.distance_from_line(frame)\n",
    "    print(f'{db.name} - {db.number} - {db.position} - Distance from Center: {dc:.1f} - Distance from Line: {dl:.1f}')"
   ]
  },
  {
   "cell_type": "code",
   "execution_count": 42,
   "metadata": {},
   "outputs": [
    {
     "name": "stdout",
     "output_type": "stream",
     "text": [
      "Tyler Boyd - 83 - WR - Distance from Center: 10.3 - Distance from Line: -1.6\n",
      "John Ross - 15 - WR - Distance from Center: -14.1 - Distance from Line: -1.2\n",
      "Josh Malone - 80 - WR - Distance from Center: 19.0 - Distance from Line: -1.0\n",
      "C.J. Uzomah - 87 - TE - Distance from Center: -5.2 - Distance from Line: -1.8\n",
      "Joe Mixon - 28 - HB - Distance from Center: -2.4 - Distance from Line: -5.2\n"
     ]
    }
   ],
   "source": [
    "for rc in receivers:\n",
    "    dc = rc.distance_from_center(frame)\n",
    "    dl = rc.distance_from_line(frame)\n",
    "    print(f'{rc.name} - {rc.number} - {rc.position} - Distance from Center: {dc:.1f} - Distance from Line: {dl:.1f}')"
   ]
  },
  {
   "cell_type": "markdown",
   "metadata": {},
   "source": [
    "### Separate Defensive Backs by Top/Bottom"
   ]
  },
  {
   "cell_type": "code",
   "execution_count": 43,
   "metadata": {},
   "outputs": [],
   "source": [
    "top_dbacks = []\n",
    "bottom_dbacks = []\n",
    "for db in dbacks:\n",
    "    if db.distance_from_center(frame) > 0:\n",
    "        top_dbacks.append(db)\n",
    "    else:\n",
    "        bottom_dbacks.append(db)"
   ]
  },
  {
   "cell_type": "markdown",
   "metadata": {},
   "source": [
    "### Separate Recievers by Top/Bottom"
   ]
  },
  {
   "cell_type": "code",
   "execution_count": 26,
   "metadata": {},
   "outputs": [],
   "source": [
    "uncovered_top_receivers = []\n",
    "uncovered_bottom_receivers = []\n",
    "for rc in receivers:\n",
    "    if rc.distance_from_center(frame) > 0:\n",
    "        uncovered_top_receivers.append(rc)\n",
    "    else:\n",
    "        uncovered_bottom_receivers.append(rc)"
   ]
  },
  {
   "cell_type": "code",
   "execution_count": 27,
   "metadata": {},
   "outputs": [],
   "source": [
    "top_dbacks.sort(reverse=True, key=lambda player: player.distance_from_center(frame))\n",
    "bottom_dbacks.sort(key=lambda player: player.distance_from_center(frame))\n",
    "\n",
    "uncovered_top_receivers.sort(reverse=True, key=lambda player: player.distance_from_center(frame))\n",
    "uncovered_bottom_receivers.sort(key=lambda player: player.distance_from_center(frame))"
   ]
  },
  {
   "cell_type": "code",
   "execution_count": 28,
   "metadata": {},
   "outputs": [
    {
     "name": "stdout",
     "output_type": "stream",
     "text": [
      "Kenny Moore II (CB-23) - Distance From Line: 2.7\n",
      "  Distance from A.J. Green: dx=5.3, dy=0.1, r=5.3\n",
      "  Distance from C.J. Uzomah: dx=4.3, dy=12.6, r=13.3\n",
      "Matthias Farley (SS-41) - Distance From Line: 15.5\n",
      "  Distance from A.J. Green: dx=18.1, dy=-10.4, r=20.8\n",
      "  Distance from C.J. Uzomah: dx=17.1, dy=2.1, r=17.2\n"
     ]
    }
   ],
   "source": [
    "for db in top_dbacks:\n",
    "    print(f'{db.name} ({db.position}-{db.number}) - Distance From Line: {db.distance_from_line(frame):.1f}')\n",
    "    for rc in uncovered_top_receivers:\n",
    "        dx, dy, r = db.distance_to_player(rc, frame)\n",
    "        print(f'  Distance from {rc.name}: dx={dx:.1f}, dy={dy:.1f}, r={r:.1f}')"
   ]
  },
  {
   "cell_type": "code",
   "execution_count": 29,
   "metadata": {},
   "outputs": [
    {
     "name": "stdout",
     "output_type": "stream",
     "text": [
      "Nate Hairston (CB-27) - Distance From Line: 2.8\n",
      "  Distance from Tyler Boyd: dx=4.2, dy=-0.3, r=4.2\n",
      "  Distance from Tyler Kroft: dx=5.0, dy=-10.1, r=11.2\n",
      "  Distance from Joe Mixon: dx=8.1, dy=-12.5, r=14.9\n",
      "Clayton Geathers (FS-26) - Distance From Line: 13.4\n",
      "  Distance from Tyler Boyd: dx=14.9, dy=6.4, r=16.2\n",
      "  Distance from Tyler Kroft: dx=15.7, dy=-3.4, r=16.0\n",
      "  Distance from Joe Mixon: dx=18.8, dy=-5.9, r=19.7\n"
     ]
    }
   ],
   "source": [
    "for db in bottom_dbacks:\n",
    "    print(f'{db.name} ({db.position}-{db.number}) - Distance From Line: {db.distance_from_line(frame):.1f}')\n",
    "    for rc in uncovered_bottom_receivers:\n",
    "        dx, dy, r = db.distance_to_player(rc, frame)\n",
    "        print(f'  Distance from {rc.name}: dx={dx:.1f}, dy={dy:.1f}, r={r:.1f}')"
   ]
  },
  {
   "cell_type": "code",
   "execution_count": 30,
   "metadata": {},
   "outputs": [],
   "source": [
    "horizontal_cover_threshold = 2.0\n",
    "db_distance_from_line_threshold = 7.5\n",
    "rc_distance_from_line_threshold = 3.0"
   ]
  },
  {
   "cell_type": "code",
   "execution_count": 31,
   "metadata": {},
   "outputs": [
    {
     "name": "stdout",
     "output_type": "stream",
     "text": [
      "Kenny Moore II (CB-23)\n",
      "  Horizontal distance to A.J. Green = 0.1\n",
      "    Kenny Moore II (CB-23) covering A.J. Green (WR-18)\n",
      "Matthias Farley (SS-41)\n",
      "  Horizontal distance to C.J. Uzomah = 2.1\n"
     ]
    }
   ],
   "source": [
    "for db in top_dbacks:\n",
    "    print(f'{db.name} ({db.position}-{db.number})')\n",
    "    for rc in uncovered_top_receivers:\n",
    "        dx, dy, r = db.distance_to_player(rc, frame)\n",
    "        print(f'  Horizontal distance to {rc.name} = {dy:.1f}')\n",
    "        lock_condition1 = abs(dy) < horizontal_cover_threshold\n",
    "        lock_condition2 = db.distance_from_line(frame) < db_distance_from_line_threshold\n",
    "        lock_condition3 = abs(rc.distance_from_line(frame)) < rc_distance_from_line_threshold\n",
    "        if lock_condition1 and lock_condition2 and lock_condition3:\n",
    "            print(f'    {db.name} ({db.position}-{db.number}) covering {rc.name} ({rc.position}-{rc.number})')\n",
    "            db.lock(rc)\n",
    "            uncovered_top_receivers.remove(rc)"
   ]
  },
  {
   "cell_type": "code",
   "execution_count": 32,
   "metadata": {},
   "outputs": [
    {
     "name": "stdout",
     "output_type": "stream",
     "text": [
      "Nate Hairston (CB-27)\n",
      "  Horizontal distance to Tyler Boyd = -0.3\n",
      "    Nate Hairston (CB-27) covering Tyler Boyd (WR-83)\n",
      "  Horizontal distance to Joe Mixon = -12.5\n",
      "Clayton Geathers (FS-26)\n",
      "  Horizontal distance to Tyler Kroft = -3.4\n",
      "  Horizontal distance to Joe Mixon = -5.9\n"
     ]
    }
   ],
   "source": [
    "for db in bottom_dbacks:\n",
    "    print(f'{db.name} ({db.position}-{db.number})')\n",
    "    for rc in uncovered_bottom_receivers:\n",
    "        dx, dy, r = db.distance_to_player(rc, frame)\n",
    "        print(f'  Horizontal distance to {rc.name} = {dy:.1f}')\n",
    "        lock_condition1 = abs(dy) < horizontal_cover_threshold\n",
    "        lock_condition2 = db.distance_from_line(frame) < db_distance_from_line_threshold\n",
    "        lock_condition3 = abs(rc.distance_from_line(frame)) < rc_distance_from_line_threshold\n",
    "        if lock_condition1 and lock_condition2 and lock_condition3:\n",
    "            print(f'    {db.name} ({db.position}-{db.number}) covering {rc.name} ({rc.position}-{rc.number})')\n",
    "            db.lock(rc)\n",
    "            uncovered_bottom_receivers.remove(rc)"
   ]
  },
  {
   "cell_type": "code",
   "execution_count": 33,
   "metadata": {},
   "outputs": [],
   "source": [
    "def plot_play_frame(self, index, scale=1, markers=None, show_locks=False, show=True, output=False, target_directory=''):\n",
    "    if isinstance(index,str):\n",
    "        index = self.events[index] - 1\n",
    "\n",
    "    fig,ax = self.build_field(scale=scale)\n",
    "\n",
    "    ax.axvline(self.line_of_scrimmage,color='y',alpha=.5,zorder=3)\n",
    "\n",
    "    for player in self.players['offense'].values():\n",
    "        marker, s = self.set_player_marker(player, markers, scale)\n",
    "\n",
    "        pos = player.tracking_data.loc[index]\n",
    "        ax.scatter(pos['x'],pos['y'],color='r',marker=marker,zorder=3,s=s)\n",
    "\n",
    "    for player in self.players['defense'].values():\n",
    "        marker, s = self.set_player_marker(player, markers, scale)\n",
    "\n",
    "        pos = player.tracking_data.loc[index]\n",
    "        ax.scatter(pos['x'],pos['y'],color='b',marker=marker,zorder=3,s=s)\n",
    "\n",
    "    ax.scatter(self.fb_tracking['x'].values[index],\n",
    "               self.fb_tracking['y'].values[index],\n",
    "               color='brown',marker='d',zorder=3)\n",
    "    \n",
    "    if show_locks:\n",
    "        for player in self.players['defense'].values():\n",
    "            player.draw_lock(ax,index)\n",
    "\n",
    "    title = f'Play Frame - {index+1}'\n",
    "    ax.set_title(title,fontsize=18)\n",
    "\n",
    "    play_events = self.fb_tracking['event'].values\n",
    "    _event = play_events[index]\n",
    "    if play_events[index] != 'None':\n",
    "        ax.set_xlabel(f'Event: {_event.replace(\"_\",\" \").title()}',fontsize=16)\n",
    "\n",
    "    plt.show()"
   ]
  },
  {
   "cell_type": "code",
   "execution_count": 34,
   "metadata": {},
   "outputs": [
    {
     "data": {
      "image/png": "[encoded data removed]",
      "text/plain": [
       "<Figure size 864x383.76 with 1 Axes>"
      ]
     },
     "metadata": {
      "needs_background": "light"
     },
     "output_type": "display_data"
    }
   ],
   "source": [
    "plot_play_frame(play, index='ball_snap',show_locks=True,markers='number')"
   ]
  },
  {
   "cell_type": "code",
   "execution_count": null,
   "metadata": {},
   "outputs": [],
   "source": []
  }
 ],
 "metadata": {
  "kernelspec": {
   "display_name": "Python 3",
   "language": "python",
   "name": "python3"
  },
  "language_info": {
   "codemirror_mode": {
    "name": "ipython",
    "version": 3
   },
   "file_extension": ".py",
   "mimetype": "text/x-python",
   "name": "python",
   "nbconvert_exporter": "python",
   "pygments_lexer": "ipython3",
   "version": "3.7.3"
  }
 },
 "nbformat": 4,
 "nbformat_minor": 4
}
