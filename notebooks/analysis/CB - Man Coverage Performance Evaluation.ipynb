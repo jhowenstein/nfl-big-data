{
 "cells": [
  {
   "cell_type": "code",
   "execution_count": 1,
   "metadata": {},
   "outputs": [],
   "source": [
    "import numpy as np\n",
    "import pandas as pd\n",
    "\n",
    "import matplotlib.pyplot as plt\n",
    "\n",
    "import os\n",
    "import glob"
   ]
  },
  {
   "cell_type": "code",
   "execution_count": 2,
   "metadata": {},
   "outputs": [],
   "source": [
    "basepath = os.path.expanduser('~/Documents/programming-projects/nfl-big-data/calculated-data')"
   ]
  },
  {
   "cell_type": "code",
   "execution_count": 3,
   "metadata": {},
   "outputs": [
    {
     "data": {
      "text/plain": [
       "['/Users/jacobhow/Documents/programming-projects/nfl-big-data/calculated-data/man play results.csv',\n",
       " '/Users/jacobhow/Documents/programming-projects/nfl-big-data/calculated-data/player max speed + accel.csv',\n",
       " '/Users/jacobhow/Documents/programming-projects/nfl-big-data/calculated-data/man coverage production reduction.csv',\n",
       " '/Users/jacobhow/Documents/programming-projects/nfl-big-data/calculated-data/offensive production.csv',\n",
       " '/Users/jacobhow/Documents/programming-projects/nfl-big-data/calculated-data/player season coverages.csv',\n",
       " '/Users/jacobhow/Documents/programming-projects/nfl-big-data/calculated-data/team target coverage epa analysis.csv',\n",
       " '/Users/jacobhow/Documents/programming-projects/nfl-big-data/calculated-data/team personal epa analysis.csv',\n",
       " '/Users/jacobhow/Documents/programming-projects/nfl-big-data/calculated-data/non targeted man coverage epa analysis.csv',\n",
       " '/Users/jacobhow/Documents/programming-projects/nfl-big-data/calculated-data/coverage scheme epa analysis.csv',\n",
       " '/Users/jacobhow/Documents/programming-projects/nfl-big-data/calculated-data/targeted defensive player epa analysis.csv',\n",
       " '/Users/jacobhow/Documents/programming-projects/nfl-big-data/calculated-data/zone coverage production reduction.csv',\n",
       " '/Users/jacobhow/Documents/programming-projects/nfl-big-data/calculated-data/zone play results.csv']"
      ]
     },
     "execution_count": 3,
     "metadata": {},
     "output_type": "execute_result"
    }
   ],
   "source": [
    "glob.glob(os.path.join(basepath,'*.csv'))"
   ]
  },
  {
   "cell_type": "markdown",
   "metadata": {},
   "source": [
    "## Player Level"
   ]
  },
  {
   "cell_type": "code",
   "execution_count": 4,
   "metadata": {},
   "outputs": [],
   "source": [
    "player_season_coverages = pd.read_csv(os.path.join(basepath,'player season coverages.csv'),index_col=0)"
   ]
  },
  {
   "cell_type": "code",
   "execution_count": 5,
   "metadata": {},
   "outputs": [],
   "source": [
    "man_production_reduction = pd.read_csv(os.path.join(basepath,'man coverage production reduction.csv'),index_col=0).set_index('id')"
   ]
  },
  {
   "cell_type": "code",
   "execution_count": 6,
   "metadata": {},
   "outputs": [],
   "source": [
    "zone_production_reduction = pd.read_csv(os.path.join(basepath,'zone coverage production reduction.csv'),index_col=0).set_index('id')"
   ]
  },
  {
   "cell_type": "code",
   "execution_count": 7,
   "metadata": {},
   "outputs": [],
   "source": [
    "man_non_targeted_epa_analysis = pd.read_csv(os.path.join(basepath,'non targeted man coverage epa analysis.csv'),index_col=0)"
   ]
  },
  {
   "cell_type": "code",
   "execution_count": 8,
   "metadata": {},
   "outputs": [],
   "source": [
    "defensive_target_coverage_epa = pd.read_csv(os.path.join(basepath,'targeted defensive player epa analysis.csv'),index_col=0)"
   ]
  },
  {
   "cell_type": "code",
   "execution_count": 9,
   "metadata": {},
   "outputs": [
    {
     "data": {
      "text/html": [
       "<div>\n",
       "<style scoped>\n",
       "    .dataframe tbody tr th:only-of-type {\n",
       "        vertical-align: middle;\n",
       "    }\n",
       "\n",
       "    .dataframe tbody tr th {\n",
       "        vertical-align: top;\n",
       "    }\n",
       "\n",
       "    .dataframe thead th {\n",
       "        text-align: right;\n",
       "    }\n",
       "</style>\n",
       "<table border=\"1\" class=\"dataframe\">\n",
       "  <thead>\n",
       "    <tr style=\"text-align: right;\">\n",
       "      <th></th>\n",
       "      <th>displayName</th>\n",
       "      <th>position</th>\n",
       "      <th>snaps</th>\n",
       "      <th>zone</th>\n",
       "      <th>zone-deep</th>\n",
       "      <th>zone-over</th>\n",
       "      <th>man</th>\n",
       "      <th>man-over</th>\n",
       "      <th>blitz</th>\n",
       "      <th>games played</th>\n",
       "      <th>Team</th>\n",
       "      <th>zone %</th>\n",
       "      <th>zone-deep %</th>\n",
       "      <th>zone-over %</th>\n",
       "      <th>man %</th>\n",
       "      <th>man-over %</th>\n",
       "      <th>blitz %</th>\n",
       "      <th>zone-total</th>\n",
       "      <th>man-total</th>\n",
       "    </tr>\n",
       "  </thead>\n",
       "  <tbody>\n",
       "    <tr>\n",
       "      <th>306</th>\n",
       "      <td>Dominique Rodgers-Cromartie</td>\n",
       "      <td>CB</td>\n",
       "      <td>64</td>\n",
       "      <td>7</td>\n",
       "      <td>17</td>\n",
       "      <td>25</td>\n",
       "      <td>3</td>\n",
       "      <td>12</td>\n",
       "      <td>0</td>\n",
       "      <td>5</td>\n",
       "      <td>OAK</td>\n",
       "      <td>10.9</td>\n",
       "      <td>26.6</td>\n",
       "      <td>39.1</td>\n",
       "      <td>4.7</td>\n",
       "      <td>18.8</td>\n",
       "      <td>0.0</td>\n",
       "      <td>49</td>\n",
       "      <td>15</td>\n",
       "    </tr>\n",
       "    <tr>\n",
       "      <th>1302</th>\n",
       "      <td>Aqib Talib</td>\n",
       "      <td>CB</td>\n",
       "      <td>202</td>\n",
       "      <td>19</td>\n",
       "      <td>79</td>\n",
       "      <td>60</td>\n",
       "      <td>25</td>\n",
       "      <td>19</td>\n",
       "      <td>0</td>\n",
       "      <td>8</td>\n",
       "      <td>LA</td>\n",
       "      <td>9.4</td>\n",
       "      <td>39.1</td>\n",
       "      <td>29.7</td>\n",
       "      <td>12.4</td>\n",
       "      <td>9.4</td>\n",
       "      <td>0.0</td>\n",
       "      <td>158</td>\n",
       "      <td>44</td>\n",
       "    </tr>\n",
       "    <tr>\n",
       "      <th>2307</th>\n",
       "      <td>Orlando Scandrick</td>\n",
       "      <td>CB</td>\n",
       "      <td>462</td>\n",
       "      <td>43</td>\n",
       "      <td>89</td>\n",
       "      <td>84</td>\n",
       "      <td>146</td>\n",
       "      <td>100</td>\n",
       "      <td>0</td>\n",
       "      <td>13</td>\n",
       "      <td>KC</td>\n",
       "      <td>9.3</td>\n",
       "      <td>19.3</td>\n",
       "      <td>18.2</td>\n",
       "      <td>31.6</td>\n",
       "      <td>21.6</td>\n",
       "      <td>0.0</td>\n",
       "      <td>216</td>\n",
       "      <td>246</td>\n",
       "    </tr>\n",
       "    <tr>\n",
       "      <th>2354</th>\n",
       "      <td>Wesley Woodyard</td>\n",
       "      <td>ILB</td>\n",
       "      <td>381</td>\n",
       "      <td>54</td>\n",
       "      <td>12</td>\n",
       "      <td>250</td>\n",
       "      <td>0</td>\n",
       "      <td>5</td>\n",
       "      <td>60</td>\n",
       "      <td>14</td>\n",
       "      <td>TEN</td>\n",
       "      <td>14.2</td>\n",
       "      <td>3.1</td>\n",
       "      <td>65.6</td>\n",
       "      <td>0.0</td>\n",
       "      <td>1.3</td>\n",
       "      <td>15.7</td>\n",
       "      <td>316</td>\n",
       "      <td>5</td>\n",
       "    </tr>\n",
       "    <tr>\n",
       "      <th>4365</th>\n",
       "      <td>Brandon Carr</td>\n",
       "      <td>CB</td>\n",
       "      <td>517</td>\n",
       "      <td>69</td>\n",
       "      <td>91</td>\n",
       "      <td>98</td>\n",
       "      <td>154</td>\n",
       "      <td>94</td>\n",
       "      <td>11</td>\n",
       "      <td>16</td>\n",
       "      <td>BAL</td>\n",
       "      <td>13.3</td>\n",
       "      <td>17.6</td>\n",
       "      <td>19.0</td>\n",
       "      <td>29.8</td>\n",
       "      <td>18.2</td>\n",
       "      <td>2.1</td>\n",
       "      <td>258</td>\n",
       "      <td>248</td>\n",
       "    </tr>\n",
       "  </tbody>\n",
       "</table>\n",
       "</div>"
      ],
      "text/plain": [
       "                      displayName position  snaps  zone  zone-deep  zone-over  \\\n",
       "306   Dominique Rodgers-Cromartie       CB     64     7         17         25   \n",
       "1302                   Aqib Talib       CB    202    19         79         60   \n",
       "2307            Orlando Scandrick       CB    462    43         89         84   \n",
       "2354              Wesley Woodyard      ILB    381    54         12        250   \n",
       "4365                 Brandon Carr       CB    517    69         91         98   \n",
       "\n",
       "      man  man-over  blitz  games played Team  zone %  zone-deep %  \\\n",
       "306     3        12      0             5  OAK    10.9         26.6   \n",
       "1302   25        19      0             8   LA     9.4         39.1   \n",
       "2307  146       100      0            13   KC     9.3         19.3   \n",
       "2354    0         5     60            14  TEN    14.2          3.1   \n",
       "4365  154        94     11            16  BAL    13.3         17.6   \n",
       "\n",
       "      zone-over %  man %  man-over %  blitz %  zone-total  man-total  \n",
       "306          39.1    4.7        18.8      0.0          49         15  \n",
       "1302         29.7   12.4         9.4      0.0         158         44  \n",
       "2307         18.2   31.6        21.6      0.0         216        246  \n",
       "2354         65.6    0.0         1.3     15.7         316          5  \n",
       "4365         19.0   29.8        18.2      2.1         258        248  "
      ]
     },
     "execution_count": 9,
     "metadata": {},
     "output_type": "execute_result"
    }
   ],
   "source": [
    "player_season_coverages.head()"
   ]
  },
  {
   "cell_type": "code",
   "execution_count": 10,
   "metadata": {},
   "outputs": [
    {
     "data": {
      "text/html": [
       "<div>\n",
       "<style scoped>\n",
       "    .dataframe tbody tr th:only-of-type {\n",
       "        vertical-align: middle;\n",
       "    }\n",
       "\n",
       "    .dataframe tbody tr th {\n",
       "        vertical-align: top;\n",
       "    }\n",
       "\n",
       "    .dataframe thead th {\n",
       "        text-align: right;\n",
       "    }\n",
       "</style>\n",
       "<table border=\"1\" class=\"dataframe\">\n",
       "  <thead>\n",
       "    <tr style=\"text-align: right;\">\n",
       "      <th></th>\n",
       "      <th>name</th>\n",
       "      <th>man targeted coverage count</th>\n",
       "      <th>total man delta epa</th>\n",
       "      <th>mean man delta epa</th>\n",
       "    </tr>\n",
       "    <tr>\n",
       "      <th>id</th>\n",
       "      <th></th>\n",
       "      <th></th>\n",
       "      <th></th>\n",
       "      <th></th>\n",
       "    </tr>\n",
       "  </thead>\n",
       "  <tbody>\n",
       "    <tr>\n",
       "      <th>2533062</th>\n",
       "      <td>Stephon Gilmore</td>\n",
       "      <td>66</td>\n",
       "      <td>-26.421065</td>\n",
       "      <td>-0.400319</td>\n",
       "    </tr>\n",
       "    <tr>\n",
       "      <th>2558067</th>\n",
       "      <td>Marlon Humphrey</td>\n",
       "      <td>45</td>\n",
       "      <td>-22.161204</td>\n",
       "      <td>-0.492471</td>\n",
       "    </tr>\n",
       "    <tr>\n",
       "      <th>2559164</th>\n",
       "      <td>Michael Davis</td>\n",
       "      <td>41</td>\n",
       "      <td>-18.144583</td>\n",
       "      <td>-0.442551</td>\n",
       "    </tr>\n",
       "    <tr>\n",
       "      <th>89756</th>\n",
       "      <td>Jason McCourty</td>\n",
       "      <td>55</td>\n",
       "      <td>-16.882621</td>\n",
       "      <td>-0.306957</td>\n",
       "    </tr>\n",
       "    <tr>\n",
       "      <th>2543681</th>\n",
       "      <td>Kyle Fuller</td>\n",
       "      <td>56</td>\n",
       "      <td>-16.636283</td>\n",
       "      <td>-0.297076</td>\n",
       "    </tr>\n",
       "  </tbody>\n",
       "</table>\n",
       "</div>"
      ],
      "text/plain": [
       "                    name  man targeted coverage count  total man delta epa  \\\n",
       "id                                                                           \n",
       "2533062  Stephon Gilmore                           66           -26.421065   \n",
       "2558067  Marlon Humphrey                           45           -22.161204   \n",
       "2559164    Michael Davis                           41           -18.144583   \n",
       "89756     Jason McCourty                           55           -16.882621   \n",
       "2543681      Kyle Fuller                           56           -16.636283   \n",
       "\n",
       "         mean man delta epa  \n",
       "id                           \n",
       "2533062           -0.400319  \n",
       "2558067           -0.492471  \n",
       "2559164           -0.442551  \n",
       "89756             -0.306957  \n",
       "2543681           -0.297076  "
      ]
     },
     "execution_count": 10,
     "metadata": {},
     "output_type": "execute_result"
    }
   ],
   "source": [
    "man_production_reduction.head()"
   ]
  },
  {
   "cell_type": "code",
   "execution_count": 11,
   "metadata": {},
   "outputs": [
    {
     "data": {
      "text/html": [
       "<div>\n",
       "<style scoped>\n",
       "    .dataframe tbody tr th:only-of-type {\n",
       "        vertical-align: middle;\n",
       "    }\n",
       "\n",
       "    .dataframe tbody tr th {\n",
       "        vertical-align: top;\n",
       "    }\n",
       "\n",
       "    .dataframe thead th {\n",
       "        text-align: right;\n",
       "    }\n",
       "</style>\n",
       "<table border=\"1\" class=\"dataframe\">\n",
       "  <thead>\n",
       "    <tr style=\"text-align: right;\">\n",
       "      <th></th>\n",
       "      <th>name</th>\n",
       "      <th>zone targeted coverage count</th>\n",
       "      <th>total zone delta epa</th>\n",
       "      <th>mean zone delta epa</th>\n",
       "    </tr>\n",
       "    <tr>\n",
       "      <th>id</th>\n",
       "      <th></th>\n",
       "      <th></th>\n",
       "      <th></th>\n",
       "      <th></th>\n",
       "    </tr>\n",
       "  </thead>\n",
       "  <tbody>\n",
       "    <tr>\n",
       "      <th>2557927</th>\n",
       "      <td>Desmond King</td>\n",
       "      <td>29</td>\n",
       "      <td>-30.241365</td>\n",
       "      <td>-1.042806</td>\n",
       "    </tr>\n",
       "    <tr>\n",
       "      <th>2543681</th>\n",
       "      <td>Kyle Fuller</td>\n",
       "      <td>31</td>\n",
       "      <td>-27.847193</td>\n",
       "      <td>-0.898297</td>\n",
       "    </tr>\n",
       "    <tr>\n",
       "      <th>2555175</th>\n",
       "      <td>James Bradberry</td>\n",
       "      <td>53</td>\n",
       "      <td>-27.406165</td>\n",
       "      <td>-0.517097</td>\n",
       "    </tr>\n",
       "    <tr>\n",
       "      <th>2495872</th>\n",
       "      <td>Johnathan Joseph</td>\n",
       "      <td>43</td>\n",
       "      <td>-24.369903</td>\n",
       "      <td>-0.566742</td>\n",
       "    </tr>\n",
       "    <tr>\n",
       "      <th>2543470</th>\n",
       "      <td>Ha Ha Clinton-Dix</td>\n",
       "      <td>31</td>\n",
       "      <td>-22.503220</td>\n",
       "      <td>-0.725910</td>\n",
       "    </tr>\n",
       "  </tbody>\n",
       "</table>\n",
       "</div>"
      ],
      "text/plain": [
       "                      name  zone targeted coverage count  \\\n",
       "id                                                         \n",
       "2557927       Desmond King                            29   \n",
       "2543681        Kyle Fuller                            31   \n",
       "2555175    James Bradberry                            53   \n",
       "2495872   Johnathan Joseph                            43   \n",
       "2543470  Ha Ha Clinton-Dix                            31   \n",
       "\n",
       "         total zone delta epa  mean zone delta epa  \n",
       "id                                                  \n",
       "2557927            -30.241365            -1.042806  \n",
       "2543681            -27.847193            -0.898297  \n",
       "2555175            -27.406165            -0.517097  \n",
       "2495872            -24.369903            -0.566742  \n",
       "2543470            -22.503220            -0.725910  "
      ]
     },
     "execution_count": 11,
     "metadata": {},
     "output_type": "execute_result"
    }
   ],
   "source": [
    "zone_production_reduction.head()"
   ]
  },
  {
   "cell_type": "code",
   "execution_count": 12,
   "metadata": {},
   "outputs": [
    {
     "data": {
      "text/html": [
       "<div>\n",
       "<style scoped>\n",
       "    .dataframe tbody tr th:only-of-type {\n",
       "        vertical-align: middle;\n",
       "    }\n",
       "\n",
       "    .dataframe tbody tr th {\n",
       "        vertical-align: top;\n",
       "    }\n",
       "\n",
       "    .dataframe thead th {\n",
       "        text-align: right;\n",
       "    }\n",
       "</style>\n",
       "<table border=\"1\" class=\"dataframe\">\n",
       "  <thead>\n",
       "    <tr style=\"text-align: right;\">\n",
       "      <th></th>\n",
       "      <th>targets</th>\n",
       "      <th>zone targets</th>\n",
       "      <th>zone targets epa</th>\n",
       "      <th>man targets</th>\n",
       "      <th>man targets epa</th>\n",
       "      <th>zone-over targets</th>\n",
       "      <th>zone-over targets epa</th>\n",
       "      <th>man-over targets</th>\n",
       "      <th>man-over targets epa</th>\n",
       "    </tr>\n",
       "  </thead>\n",
       "  <tbody>\n",
       "    <tr>\n",
       "      <th>2555383</th>\n",
       "      <td>47</td>\n",
       "      <td>17.0</td>\n",
       "      <td>11.922586</td>\n",
       "      <td>22.0</td>\n",
       "      <td>0.542329</td>\n",
       "      <td>8.0</td>\n",
       "      <td>8.794294</td>\n",
       "      <td>NaN</td>\n",
       "      <td>NaN</td>\n",
       "    </tr>\n",
       "    <tr>\n",
       "      <th>79848</th>\n",
       "      <td>70</td>\n",
       "      <td>41.0</td>\n",
       "      <td>0.419929</td>\n",
       "      <td>11.0</td>\n",
       "      <td>10.043456</td>\n",
       "      <td>14.0</td>\n",
       "      <td>3.426184</td>\n",
       "      <td>4.0</td>\n",
       "      <td>-0.983954</td>\n",
       "    </tr>\n",
       "    <tr>\n",
       "      <th>2558175</th>\n",
       "      <td>4</td>\n",
       "      <td>3.0</td>\n",
       "      <td>-6.467198</td>\n",
       "      <td>NaN</td>\n",
       "      <td>NaN</td>\n",
       "      <td>NaN</td>\n",
       "      <td>NaN</td>\n",
       "      <td>1.0</td>\n",
       "      <td>-0.069654</td>\n",
       "    </tr>\n",
       "    <tr>\n",
       "      <th>2552689</th>\n",
       "      <td>65</td>\n",
       "      <td>26.0</td>\n",
       "      <td>2.585327</td>\n",
       "      <td>31.0</td>\n",
       "      <td>0.079026</td>\n",
       "      <td>8.0</td>\n",
       "      <td>-6.214528</td>\n",
       "      <td>NaN</td>\n",
       "      <td>NaN</td>\n",
       "    </tr>\n",
       "    <tr>\n",
       "      <th>2534832</th>\n",
       "      <td>5</td>\n",
       "      <td>5.0</td>\n",
       "      <td>-0.900719</td>\n",
       "      <td>NaN</td>\n",
       "      <td>NaN</td>\n",
       "      <td>NaN</td>\n",
       "      <td>NaN</td>\n",
       "      <td>NaN</td>\n",
       "      <td>NaN</td>\n",
       "    </tr>\n",
       "  </tbody>\n",
       "</table>\n",
       "</div>"
      ],
      "text/plain": [
       "         targets  zone targets  zone targets epa  man targets  \\\n",
       "2555383       47          17.0         11.922586         22.0   \n",
       "79848         70          41.0          0.419929         11.0   \n",
       "2558175        4           3.0         -6.467198          NaN   \n",
       "2552689       65          26.0          2.585327         31.0   \n",
       "2534832        5           5.0         -0.900719          NaN   \n",
       "\n",
       "         man targets epa  zone-over targets  zone-over targets epa  \\\n",
       "2555383         0.542329                8.0               8.794294   \n",
       "79848          10.043456               14.0               3.426184   \n",
       "2558175              NaN                NaN                    NaN   \n",
       "2552689         0.079026                8.0              -6.214528   \n",
       "2534832              NaN                NaN                    NaN   \n",
       "\n",
       "         man-over targets  man-over targets epa  \n",
       "2555383               NaN                   NaN  \n",
       "79848                 4.0             -0.983954  \n",
       "2558175               1.0             -0.069654  \n",
       "2552689               NaN                   NaN  \n",
       "2534832               NaN                   NaN  "
      ]
     },
     "execution_count": 12,
     "metadata": {},
     "output_type": "execute_result"
    }
   ],
   "source": [
    "defensive_target_coverage_epa.head()"
   ]
  },
  {
   "cell_type": "code",
   "execution_count": 13,
   "metadata": {},
   "outputs": [
    {
     "data": {
      "text/html": [
       "<div>\n",
       "<style scoped>\n",
       "    .dataframe tbody tr th:only-of-type {\n",
       "        vertical-align: middle;\n",
       "    }\n",
       "\n",
       "    .dataframe tbody tr th {\n",
       "        vertical-align: top;\n",
       "    }\n",
       "\n",
       "    .dataframe thead th {\n",
       "        text-align: right;\n",
       "    }\n",
       "</style>\n",
       "<table border=\"1\" class=\"dataframe\">\n",
       "  <thead>\n",
       "    <tr style=\"text-align: right;\">\n",
       "      <th></th>\n",
       "      <th>non targets</th>\n",
       "      <th>non targets epa</th>\n",
       "      <th>non targets - iso</th>\n",
       "      <th>non targets epa - iso</th>\n",
       "      <th>non targets - over</th>\n",
       "      <th>non targets epa - over</th>\n",
       "    </tr>\n",
       "  </thead>\n",
       "  <tbody>\n",
       "    <tr>\n",
       "      <th>2557958</th>\n",
       "      <td>46</td>\n",
       "      <td>2.792</td>\n",
       "      <td>30</td>\n",
       "      <td>1.738</td>\n",
       "      <td>16</td>\n",
       "      <td>1.054</td>\n",
       "    </tr>\n",
       "    <tr>\n",
       "      <th>2555383</th>\n",
       "      <td>53</td>\n",
       "      <td>2.358</td>\n",
       "      <td>48</td>\n",
       "      <td>2.130</td>\n",
       "      <td>5</td>\n",
       "      <td>0.228</td>\n",
       "    </tr>\n",
       "    <tr>\n",
       "      <th>79848</th>\n",
       "      <td>83</td>\n",
       "      <td>3.432</td>\n",
       "      <td>66</td>\n",
       "      <td>2.770</td>\n",
       "      <td>17</td>\n",
       "      <td>0.662</td>\n",
       "    </tr>\n",
       "    <tr>\n",
       "      <th>2534832</th>\n",
       "      <td>1</td>\n",
       "      <td>0.037</td>\n",
       "      <td>1</td>\n",
       "      <td>0.037</td>\n",
       "      <td>0</td>\n",
       "      <td>0.000</td>\n",
       "    </tr>\n",
       "    <tr>\n",
       "      <th>2556363</th>\n",
       "      <td>9</td>\n",
       "      <td>0.269</td>\n",
       "      <td>6</td>\n",
       "      <td>0.103</td>\n",
       "      <td>3</td>\n",
       "      <td>0.166</td>\n",
       "    </tr>\n",
       "  </tbody>\n",
       "</table>\n",
       "</div>"
      ],
      "text/plain": [
       "         non targets  non targets epa  non targets - iso  \\\n",
       "2557958           46            2.792                 30   \n",
       "2555383           53            2.358                 48   \n",
       "79848             83            3.432                 66   \n",
       "2534832            1            0.037                  1   \n",
       "2556363            9            0.269                  6   \n",
       "\n",
       "         non targets epa - iso  non targets - over  non targets epa - over  \n",
       "2557958                  1.738                  16                   1.054  \n",
       "2555383                  2.130                   5                   0.228  \n",
       "79848                    2.770                  17                   0.662  \n",
       "2534832                  0.037                   0                   0.000  \n",
       "2556363                  0.103                   3                   0.166  "
      ]
     },
     "execution_count": 13,
     "metadata": {},
     "output_type": "execute_result"
    }
   ],
   "source": [
    "man_non_targeted_epa_analysis.head()"
   ]
  },
  {
   "cell_type": "markdown",
   "metadata": {},
   "source": [
    "### Man Analysis"
   ]
  },
  {
   "cell_type": "code",
   "execution_count": null,
   "metadata": {},
   "outputs": [],
   "source": [
    "df = pd.merge(player_season_coverages[['displayName','snaps','position','man-total','zone-total']],\n",
    "              man_production_reduction.drop(columns=['name']),\n",
    "              left_index=True,right_index=True)"
   ]
  },
  {
   "cell_type": "code",
   "execution_count": null,
   "metadata": {},
   "outputs": [],
   "source": [
    "df = pd.merge(df,zone_production_reduction.drop(columns=['name']),\n",
    "              left_index=True,right_index=True)"
   ]
  },
  {
   "cell_type": "code",
   "execution_count": null,
   "metadata": {},
   "outputs": [],
   "source": [
    "df = pd.merge(df,defensive_target_coverage_epa,\n",
    "              left_index=True,right_index=True)"
   ]
  },
  {
   "cell_type": "code",
   "execution_count": null,
   "metadata": {},
   "outputs": [],
   "source": [
    "df = pd.merge(df,man_non_targeted_epa_analysis,\n",
    "              left_index=True,right_index=True)"
   ]
  },
  {
   "cell_type": "code",
   "execution_count": null,
   "metadata": {},
   "outputs": [],
   "source": [
    "df"
   ]
  },
  {
   "cell_type": "code",
   "execution_count": null,
   "metadata": {},
   "outputs": [],
   "source": [
    "snap_threshold = 200"
   ]
  },
  {
   "cell_type": "code",
   "execution_count": null,
   "metadata": {},
   "outputs": [],
   "source": [
    "df = df[df['snaps'] > snap_threshold]\n",
    "df"
   ]
  },
  {
   "cell_type": "code",
   "execution_count": null,
   "metadata": {},
   "outputs": [],
   "source": [
    "df.keys()"
   ]
  },
  {
   "cell_type": "code",
   "execution_count": null,
   "metadata": {},
   "outputs": [],
   "source": [
    "df['target %'] = ((df['targets'] / df['snaps']) * 100).round(1)\n",
    "df['man target %'] = ((df['man targeted coverage count'] / df['man-total']) * 100).round(1)\n",
    "df['zone target %'] = ((df['zone targeted coverage count'] / df['zone-total']) * 100).round(1)\n",
    "df['total delta epa'] = df['total man delta epa'] + df['total zone delta epa']\n",
    "df['mean total delta epa'] = df['total delta epa'] / df['targets']"
   ]
  },
  {
   "cell_type": "code",
   "execution_count": null,
   "metadata": {},
   "outputs": [],
   "source": [
    "cb_df = df[df['position'] == 'CB']"
   ]
  },
  {
   "cell_type": "code",
   "execution_count": null,
   "metadata": {},
   "outputs": [],
   "source": [
    "cb_df.sort_values('target %')"
   ]
  },
  {
   "cell_type": "code",
   "execution_count": null,
   "metadata": {},
   "outputs": [],
   "source": [
    "cb_df.keys()"
   ]
  },
  {
   "cell_type": "code",
   "execution_count": null,
   "metadata": {},
   "outputs": [],
   "source": [
    "cb_performance = cb_df[['displayName','position','snaps','man-total','zone-total',\n",
    "                        'targets','man targeted coverage count','zone targeted coverage count',\n",
    "                        'target %','man target %','zone target %',\n",
    "                        'total delta epa','total man delta epa','total zone delta epa',\n",
    "                        'mean total delta epa','mean man delta epa','mean zone delta epa']]"
   ]
  },
  {
   "cell_type": "code",
   "execution_count": null,
   "metadata": {},
   "outputs": [],
   "source": [
    "man_cb_performance = cb_df[['displayName','position','snaps','man-total','man targeted coverage count',\n",
    "                            'man target %','non targets', 'non targets epa','non targets - iso',\n",
    "                            'non targets epa - iso', 'non targets - over','non targets epa - over']]"
   ]
  },
  {
   "cell_type": "code",
   "execution_count": null,
   "metadata": {},
   "outputs": [],
   "source": [
    "def score(df, key, score_name):\n",
    "    mu = df[key].mean()\n",
    "    s = df[key].std()\n",
    "    \n",
    "    df[score_name] = ((-(df[key] - mu) / s) * 10 + 50).round(1)"
   ]
  },
  {
   "cell_type": "code",
   "execution_count": null,
   "metadata": {},
   "outputs": [],
   "source": [
    "score(cb_performance, 'mean total delta epa', 'Total Score')\n",
    "score(cb_performance, 'mean man delta epa', 'Man Score')\n",
    "score(cb_performance, 'mean zone delta epa', 'Zone Score')"
   ]
  },
  {
   "cell_type": "code",
   "execution_count": null,
   "metadata": {},
   "outputs": [],
   "source": [
    "score(cb_performance, 'target %', 'Target % Score')\n",
    "score(cb_performance, 'man target %', 'Man Target % Score')\n",
    "score(cb_performance, 'zone target %', 'Zone Target % Score')"
   ]
  },
  {
   "cell_type": "code",
   "execution_count": null,
   "metadata": {},
   "outputs": [],
   "source": [
    "sort_key = 'total delta epa'\n",
    "cb_performance.sort_values(sort_key).head(10)"
   ]
  },
  {
   "cell_type": "code",
   "execution_count": null,
   "metadata": {},
   "outputs": [],
   "source": [
    "sort_key = 'mean total delta epa'\n",
    "cb_performance.sort_values(sort_key).head(10)"
   ]
  },
  {
   "cell_type": "code",
   "execution_count": null,
   "metadata": {},
   "outputs": [],
   "source": [
    "sort_key = 'mean man delta epa'\n",
    "cb_performance.sort_values(sort_key).head(10)"
   ]
  },
  {
   "cell_type": "code",
   "execution_count": null,
   "metadata": {},
   "outputs": [],
   "source": [
    "sort_key = 'mean zone delta epa'\n",
    "cb_performance.sort_values(sort_key).head(10)"
   ]
  },
  {
   "cell_type": "code",
   "execution_count": null,
   "metadata": {},
   "outputs": [],
   "source": [
    "sort_key = 'target %'\n",
    "cb_performance.sort_values(sort_key).head(10)"
   ]
  },
  {
   "cell_type": "code",
   "execution_count": null,
   "metadata": {},
   "outputs": [],
   "source": []
  }
 ],
 "metadata": {
  "kernelspec": {
   "display_name": "Python 3",
   "language": "python",
   "name": "python3"
  },
  "language_info": {
   "codemirror_mode": {
    "name": "ipython",
    "version": 3
   },
   "file_extension": ".py",
   "mimetype": "text/x-python",
   "name": "python",
   "nbconvert_exporter": "python",
   "pygments_lexer": "ipython3",
   "version": "3.7.3"
  }
 },
 "nbformat": 4,
 "nbformat_minor": 4
}
