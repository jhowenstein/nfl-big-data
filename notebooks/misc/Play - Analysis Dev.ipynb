{
 "cells": [
  {
   "cell_type": "code",
   "execution_count": 1,
   "metadata": {},
   "outputs": [],
   "source": [
    "import numpy as np\n",
    "import pandas as pd\n",
    "import scipy as sp\n",
    "\n",
    "import matplotlib.pyplot as plt\n",
    "\n",
    "import os\n",
    "import glob\n",
    "\n",
    "from nfl import Team, Game, Play, Player"
   ]
  },
  {
   "cell_type": "code",
   "execution_count": 2,
   "metadata": {},
   "outputs": [],
   "source": [
    "games = pd.read_csv('data/games.csv')"
   ]
  },
  {
   "cell_type": "code",
   "execution_count": 3,
   "metadata": {},
   "outputs": [],
   "source": [
    "players = pd.read_csv('data/players.csv').set_index('nflId')"
   ]
  },
  {
   "cell_type": "code",
   "execution_count": 4,
   "metadata": {},
   "outputs": [],
   "source": [
    "plays = pd.read_csv('data/plays.csv')"
   ]
  },
  {
   "cell_type": "code",
   "execution_count": 5,
   "metadata": {},
   "outputs": [],
   "source": [
    "weeks = {}\n",
    "for i in range(1):\n",
    "    name = f'week{i+1}'\n",
    "    weeks[name] = pd.read_csv(os.path.join('data',name+'.csv'))"
   ]
  },
  {
   "cell_type": "code",
   "execution_count": 6,
   "metadata": {},
   "outputs": [],
   "source": [
    "team_names = games['homeTeamAbbr'].unique()"
   ]
  },
  {
   "cell_type": "code",
   "execution_count": 7,
   "metadata": {},
   "outputs": [],
   "source": [
    "teams = {}\n",
    "for name in team_names:\n",
    "    teams[name] = Team(abbr=name)"
   ]
  },
  {
   "cell_type": "code",
   "execution_count": 8,
   "metadata": {},
   "outputs": [],
   "source": [
    "for i in range(games.shape[0]):\n",
    "    _game_info = games.loc[i]\n",
    "    gameId = _game_info['gameId']\n",
    "    homeTeamAbbr = _game_info['homeTeamAbbr']\n",
    "    visitorTeamAbbr = _game_info['visitorTeamAbbr']\n",
    "    week = _game_info['week']\n",
    "    \n",
    "    game_plays = plays[plays['gameId'] == gameId]\n",
    "    home_game_plays = game_plays[game_plays['possessionTeam']==homeTeamAbbr].sort_values(by=['playId']).reset_index(drop=True)\n",
    "    away_game_plays = game_plays[game_plays['possessionTeam']==visitorTeamAbbr].sort_values(by=['playId']).reset_index(drop=True)\n",
    "    \n",
    "    teams[homeTeamAbbr].games[f'week{week}'] = Game(gameId,opponent=visitorTeamAbbr,game_info=_game_info,\n",
    "                                                    play_data=away_game_plays,location='home')\n",
    "    teams[visitorTeamAbbr].games[f'week{week}'] = Game(gameId,opponent=homeTeamAbbr,game_info=_game_info,\n",
    "                                                    play_data=home_game_plays,location='away')"
   ]
  },
  {
   "cell_type": "code",
   "execution_count": 9,
   "metadata": {},
   "outputs": [],
   "source": [
    "team = teams['IND']"
   ]
  },
  {
   "cell_type": "code",
   "execution_count": 10,
   "metadata": {},
   "outputs": [],
   "source": [
    "for key in ('week1',):\n",
    "    game = team.games[key]\n",
    "    \n",
    "    week_data = weeks[key]\n",
    "    \n",
    "    for i in game.play_data.index:\n",
    "        play = game.play_data.loc[i]\n",
    "        tracking_data = week_data[(week_data['gameId']==play['gameId'])&(week_data['playId']==play['playId'])]\n",
    "        player_tracking = tracking_data[tracking_data['nflId'].notna()]\n",
    "        fb_tracking = tracking_data[tracking_data['displayName']=='Football'].sort_values(by='frameId').reset_index(drop=True)\n",
    "        \n",
    "        game.plays.append(Play(play['playId'],play_data=play,player_tracking=player_tracking,\n",
    "                               fb_tracking=fb_tracking,defensive_team=game.location))"
   ]
  },
  {
   "cell_type": "code",
   "execution_count": 11,
   "metadata": {},
   "outputs": [],
   "source": [
    "game = team.games['week1']"
   ]
  },
  {
   "cell_type": "code",
   "execution_count": 12,
   "metadata": {},
   "outputs": [
    {
     "data": {
      "text/plain": [
       "'CIN'"
      ]
     },
     "execution_count": 12,
     "metadata": {},
     "output_type": "execute_result"
    }
   ],
   "source": [
    "game.opponent"
   ]
  },
  {
   "cell_type": "code",
   "execution_count": 13,
   "metadata": {},
   "outputs": [
    {
     "data": {
      "text/plain": [
       "'home'"
      ]
     },
     "execution_count": 13,
     "metadata": {},
     "output_type": "execute_result"
    }
   ],
   "source": [
    "game.location"
   ]
  },
  {
   "cell_type": "code",
   "execution_count": 14,
   "metadata": {},
   "outputs": [],
   "source": [
    "play = game.plays[24]"
   ]
  },
  {
   "cell_type": "code",
   "execution_count": 15,
   "metadata": {},
   "outputs": [
    {
     "name": "stdout",
     "output_type": "stream",
     "text": [
      "(13:23) A.Dalton pass short right to J.Mixon to IND 9 for 15 yards (C.Geathers).\n"
     ]
    }
   ],
   "source": [
    "print(play)"
   ]
  },
  {
   "cell_type": "code",
   "execution_count": 16,
   "metadata": {},
   "outputs": [
    {
     "data": {
      "text/plain": [
       "gameId                                                           2018090902\n",
       "playId                                                                 3299\n",
       "playDescription           (13:23) A.Dalton pass short right to J.Mixon t...\n",
       "quarter                                                                   4\n",
       "down                                                                      1\n",
       "yardsToGo                                                                10\n",
       "possessionTeam                                                          CIN\n",
       "playType                                                     play_type_pass\n",
       "yardlineSide                                                            IND\n",
       "yardlineNumber                                                           24\n",
       "offenseFormation                                                 SINGLEBACK\n",
       "personnelO                                                 1 RB, 1 TE, 3 WR\n",
       "defendersInTheBox                                                         6\n",
       "numberOfPassRushers                                                       4\n",
       "personnelD                                                 4 DL, 2 LB, 5 DB\n",
       "typeDropback                                                    TRADITIONAL\n",
       "preSnapVisitorScore                                                      17\n",
       "preSnapHomeScore                                                         23\n",
       "gameClock                                                          13:23:00\n",
       "absoluteYardlineNumber                                                   34\n",
       "penaltyCodes                                                            NaN\n",
       "penaltyJerseyNumbers                                                    NaN\n",
       "passResult                                                                C\n",
       "offensePlayResult                                                        15\n",
       "playResult                                                               15\n",
       "epa                                                                 1.00105\n",
       "isDefensivePI                                                         False\n",
       "Name: 24, dtype: object"
      ]
     },
     "execution_count": 16,
     "metadata": {},
     "output_type": "execute_result"
    }
   ],
   "source": [
    "play.play_data"
   ]
  },
  {
   "cell_type": "code",
   "execution_count": 17,
   "metadata": {},
   "outputs": [
    {
     "data": {
      "text/html": [
       "<div>\n",
       "<style scoped>\n",
       "    .dataframe tbody tr th:only-of-type {\n",
       "        vertical-align: middle;\n",
       "    }\n",
       "\n",
       "    .dataframe tbody tr th {\n",
       "        vertical-align: top;\n",
       "    }\n",
       "\n",
       "    .dataframe thead th {\n",
       "        text-align: right;\n",
       "    }\n",
       "</style>\n",
       "<table border=\"1\" class=\"dataframe\">\n",
       "  <thead>\n",
       "    <tr style=\"text-align: right;\">\n",
       "      <th></th>\n",
       "      <th>time</th>\n",
       "      <th>x</th>\n",
       "      <th>y</th>\n",
       "      <th>s</th>\n",
       "      <th>a</th>\n",
       "      <th>dis</th>\n",
       "      <th>o</th>\n",
       "      <th>dir</th>\n",
       "      <th>event</th>\n",
       "      <th>nflId</th>\n",
       "      <th>displayName</th>\n",
       "      <th>jerseyNumber</th>\n",
       "      <th>position</th>\n",
       "      <th>frameId</th>\n",
       "      <th>team</th>\n",
       "      <th>gameId</th>\n",
       "      <th>playId</th>\n",
       "      <th>playDirection</th>\n",
       "      <th>route</th>\n",
       "    </tr>\n",
       "  </thead>\n",
       "  <tbody>\n",
       "    <tr>\n",
       "      <th>439989</th>\n",
       "      <td>2018-09-09T19:26:55.400Z</td>\n",
       "      <td>35.76</td>\n",
       "      <td>29.43</td>\n",
       "      <td>0.00</td>\n",
       "      <td>0.00</td>\n",
       "      <td>0.00</td>\n",
       "      <td>285.70</td>\n",
       "      <td>175.65</td>\n",
       "      <td>None</td>\n",
       "      <td>2495143.0</td>\n",
       "      <td>Andy Dalton</td>\n",
       "      <td>14.0</td>\n",
       "      <td>QB</td>\n",
       "      <td>1</td>\n",
       "      <td>away</td>\n",
       "      <td>2018090902</td>\n",
       "      <td>3299</td>\n",
       "      <td>left</td>\n",
       "      <td>NaN</td>\n",
       "    </tr>\n",
       "    <tr>\n",
       "      <th>439990</th>\n",
       "      <td>2018-09-09T19:26:55.400Z</td>\n",
       "      <td>34.79</td>\n",
       "      <td>48.05</td>\n",
       "      <td>0.00</td>\n",
       "      <td>0.00</td>\n",
       "      <td>0.00</td>\n",
       "      <td>251.59</td>\n",
       "      <td>27.25</td>\n",
       "      <td>None</td>\n",
       "      <td>2495450.0</td>\n",
       "      <td>A.J. Green</td>\n",
       "      <td>18.0</td>\n",
       "      <td>WR</td>\n",
       "      <td>1</td>\n",
       "      <td>away</td>\n",
       "      <td>2018090902</td>\n",
       "      <td>3299</td>\n",
       "      <td>left</td>\n",
       "      <td>HITCH</td>\n",
       "    </tr>\n",
       "    <tr>\n",
       "      <th>439991</th>\n",
       "      <td>2018-09-09T19:26:55.400Z</td>\n",
       "      <td>21.52</td>\n",
       "      <td>37.89</td>\n",
       "      <td>0.18</td>\n",
       "      <td>0.69</td>\n",
       "      <td>0.02</td>\n",
       "      <td>166.32</td>\n",
       "      <td>139.42</td>\n",
       "      <td>None</td>\n",
       "      <td>2552386.0</td>\n",
       "      <td>Clayton Geathers</td>\n",
       "      <td>26.0</td>\n",
       "      <td>FS</td>\n",
       "      <td>1</td>\n",
       "      <td>home</td>\n",
       "      <td>2018090902</td>\n",
       "      <td>3299</td>\n",
       "      <td>left</td>\n",
       "      <td>NaN</td>\n",
       "    </tr>\n",
       "    <tr>\n",
       "      <th>439992</th>\n",
       "      <td>2018-09-09T19:26:55.400Z</td>\n",
       "      <td>35.49</td>\n",
       "      <td>24.57</td>\n",
       "      <td>0.00</td>\n",
       "      <td>0.00</td>\n",
       "      <td>0.01</td>\n",
       "      <td>331.99</td>\n",
       "      <td>2.87</td>\n",
       "      <td>None</td>\n",
       "      <td>2552586.0</td>\n",
       "      <td>Tyler Kroft</td>\n",
       "      <td>81.0</td>\n",
       "      <td>TE</td>\n",
       "      <td>1</td>\n",
       "      <td>away</td>\n",
       "      <td>2018090902</td>\n",
       "      <td>3299</td>\n",
       "      <td>left</td>\n",
       "      <td>NaN</td>\n",
       "    </tr>\n",
       "    <tr>\n",
       "      <th>439993</th>\n",
       "      <td>2018-09-09T19:26:55.400Z</td>\n",
       "      <td>36.54</td>\n",
       "      <td>16.92</td>\n",
       "      <td>0.85</td>\n",
       "      <td>1.31</td>\n",
       "      <td>0.08</td>\n",
       "      <td>234.43</td>\n",
       "      <td>98.04</td>\n",
       "      <td>None</td>\n",
       "      <td>2555466.0</td>\n",
       "      <td>Tyler Boyd</td>\n",
       "      <td>83.0</td>\n",
       "      <td>WR</td>\n",
       "      <td>1</td>\n",
       "      <td>away</td>\n",
       "      <td>2018090902</td>\n",
       "      <td>3299</td>\n",
       "      <td>left</td>\n",
       "      <td>GO</td>\n",
       "    </tr>\n",
       "    <tr>\n",
       "      <th>...</th>\n",
       "      <td>...</td>\n",
       "      <td>...</td>\n",
       "      <td>...</td>\n",
       "      <td>...</td>\n",
       "      <td>...</td>\n",
       "      <td>...</td>\n",
       "      <td>...</td>\n",
       "      <td>...</td>\n",
       "      <td>...</td>\n",
       "      <td>...</td>\n",
       "      <td>...</td>\n",
       "      <td>...</td>\n",
       "      <td>...</td>\n",
       "      <td>...</td>\n",
       "      <td>...</td>\n",
       "      <td>...</td>\n",
       "      <td>...</td>\n",
       "      <td>...</td>\n",
       "      <td>...</td>\n",
       "    </tr>\n",
       "    <tr>\n",
       "      <th>441019</th>\n",
       "      <td>2018-09-09T19:27:02.700Z</td>\n",
       "      <td>18.53</td>\n",
       "      <td>39.85</td>\n",
       "      <td>2.55</td>\n",
       "      <td>4.42</td>\n",
       "      <td>0.28</td>\n",
       "      <td>17.66</td>\n",
       "      <td>331.62</td>\n",
       "      <td>None</td>\n",
       "      <td>2558060.0</td>\n",
       "      <td>Malik Hooker</td>\n",
       "      <td>29.0</td>\n",
       "      <td>FS</td>\n",
       "      <td>74</td>\n",
       "      <td>home</td>\n",
       "      <td>2018090902</td>\n",
       "      <td>3299</td>\n",
       "      <td>left</td>\n",
       "      <td>NaN</td>\n",
       "    </tr>\n",
       "    <tr>\n",
       "      <th>441020</th>\n",
       "      <td>2018-09-09T19:27:02.700Z</td>\n",
       "      <td>20.46</td>\n",
       "      <td>48.27</td>\n",
       "      <td>2.91</td>\n",
       "      <td>0.96</td>\n",
       "      <td>0.29</td>\n",
       "      <td>211.59</td>\n",
       "      <td>231.58</td>\n",
       "      <td>None</td>\n",
       "      <td>2558108.0</td>\n",
       "      <td>Nate Hairston</td>\n",
       "      <td>27.0</td>\n",
       "      <td>CB</td>\n",
       "      <td>74</td>\n",
       "      <td>home</td>\n",
       "      <td>2018090902</td>\n",
       "      <td>3299</td>\n",
       "      <td>left</td>\n",
       "      <td>NaN</td>\n",
       "    </tr>\n",
       "    <tr>\n",
       "      <th>441021</th>\n",
       "      <td>2018-09-09T19:27:02.700Z</td>\n",
       "      <td>19.23</td>\n",
       "      <td>33.26</td>\n",
       "      <td>6.35</td>\n",
       "      <td>2.40</td>\n",
       "      <td>0.65</td>\n",
       "      <td>345.40</td>\n",
       "      <td>330.37</td>\n",
       "      <td>None</td>\n",
       "      <td>2558976.0</td>\n",
       "      <td>Kenny Moore</td>\n",
       "      <td>23.0</td>\n",
       "      <td>CB</td>\n",
       "      <td>74</td>\n",
       "      <td>home</td>\n",
       "      <td>2018090902</td>\n",
       "      <td>3299</td>\n",
       "      <td>left</td>\n",
       "      <td>NaN</td>\n",
       "    </tr>\n",
       "    <tr>\n",
       "      <th>441022</th>\n",
       "      <td>2018-09-09T19:27:02.700Z</td>\n",
       "      <td>19.40</td>\n",
       "      <td>42.00</td>\n",
       "      <td>4.19</td>\n",
       "      <td>2.34</td>\n",
       "      <td>0.43</td>\n",
       "      <td>225.87</td>\n",
       "      <td>231.47</td>\n",
       "      <td>None</td>\n",
       "      <td>2560789.0</td>\n",
       "      <td>Darius Leonard</td>\n",
       "      <td>53.0</td>\n",
       "      <td>LB</td>\n",
       "      <td>74</td>\n",
       "      <td>home</td>\n",
       "      <td>2018090902</td>\n",
       "      <td>3299</td>\n",
       "      <td>left</td>\n",
       "      <td>NaN</td>\n",
       "    </tr>\n",
       "    <tr>\n",
       "      <th>441023</th>\n",
       "      <td>2018-09-09T19:27:02.700Z</td>\n",
       "      <td>20.43</td>\n",
       "      <td>42.44</td>\n",
       "      <td>0.90</td>\n",
       "      <td>3.15</td>\n",
       "      <td>0.11</td>\n",
       "      <td>165.75</td>\n",
       "      <td>257.50</td>\n",
       "      <td>None</td>\n",
       "      <td>2560816.0</td>\n",
       "      <td>Skai Moore</td>\n",
       "      <td>55.0</td>\n",
       "      <td>ILB</td>\n",
       "      <td>74</td>\n",
       "      <td>home</td>\n",
       "      <td>2018090902</td>\n",
       "      <td>3299</td>\n",
       "      <td>left</td>\n",
       "      <td>NaN</td>\n",
       "    </tr>\n",
       "  </tbody>\n",
       "</table>\n",
       "<p>962 rows × 19 columns</p>\n",
       "</div>"
      ],
      "text/plain": [
       "                            time      x      y     s     a   dis       o  \\\n",
       "439989  2018-09-09T19:26:55.400Z  35.76  29.43  0.00  0.00  0.00  285.70   \n",
       "439990  2018-09-09T19:26:55.400Z  34.79  48.05  0.00  0.00  0.00  251.59   \n",
       "439991  2018-09-09T19:26:55.400Z  21.52  37.89  0.18  0.69  0.02  166.32   \n",
       "439992  2018-09-09T19:26:55.400Z  35.49  24.57  0.00  0.00  0.01  331.99   \n",
       "439993  2018-09-09T19:26:55.400Z  36.54  16.92  0.85  1.31  0.08  234.43   \n",
       "...                          ...    ...    ...   ...   ...   ...     ...   \n",
       "441019  2018-09-09T19:27:02.700Z  18.53  39.85  2.55  4.42  0.28   17.66   \n",
       "441020  2018-09-09T19:27:02.700Z  20.46  48.27  2.91  0.96  0.29  211.59   \n",
       "441021  2018-09-09T19:27:02.700Z  19.23  33.26  6.35  2.40  0.65  345.40   \n",
       "441022  2018-09-09T19:27:02.700Z  19.40  42.00  4.19  2.34  0.43  225.87   \n",
       "441023  2018-09-09T19:27:02.700Z  20.43  42.44  0.90  3.15  0.11  165.75   \n",
       "\n",
       "           dir event      nflId       displayName  jerseyNumber position  \\\n",
       "439989  175.65  None  2495143.0       Andy Dalton          14.0       QB   \n",
       "439990   27.25  None  2495450.0        A.J. Green          18.0       WR   \n",
       "439991  139.42  None  2552386.0  Clayton Geathers          26.0       FS   \n",
       "439992    2.87  None  2552586.0       Tyler Kroft          81.0       TE   \n",
       "439993   98.04  None  2555466.0        Tyler Boyd          83.0       WR   \n",
       "...        ...   ...        ...               ...           ...      ...   \n",
       "441019  331.62  None  2558060.0      Malik Hooker          29.0       FS   \n",
       "441020  231.58  None  2558108.0     Nate Hairston          27.0       CB   \n",
       "441021  330.37  None  2558976.0       Kenny Moore          23.0       CB   \n",
       "441022  231.47  None  2560789.0    Darius Leonard          53.0       LB   \n",
       "441023  257.50  None  2560816.0        Skai Moore          55.0      ILB   \n",
       "\n",
       "        frameId  team      gameId  playId playDirection  route  \n",
       "439989        1  away  2018090902    3299          left    NaN  \n",
       "439990        1  away  2018090902    3299          left  HITCH  \n",
       "439991        1  home  2018090902    3299          left    NaN  \n",
       "439992        1  away  2018090902    3299          left    NaN  \n",
       "439993        1  away  2018090902    3299          left     GO  \n",
       "...         ...   ...         ...     ...           ...    ...  \n",
       "441019       74  home  2018090902    3299          left    NaN  \n",
       "441020       74  home  2018090902    3299          left    NaN  \n",
       "441021       74  home  2018090902    3299          left    NaN  \n",
       "441022       74  home  2018090902    3299          left    NaN  \n",
       "441023       74  home  2018090902    3299          left    NaN  \n",
       "\n",
       "[962 rows x 19 columns]"
      ]
     },
     "execution_count": 17,
     "metadata": {},
     "output_type": "execute_result"
    }
   ],
   "source": [
    "play.player_tracking"
   ]
  },
  {
   "cell_type": "code",
   "execution_count": 18,
   "metadata": {},
   "outputs": [
    {
     "data": {
      "text/plain": [
       "'home'"
      ]
     },
     "execution_count": 18,
     "metadata": {},
     "output_type": "execute_result"
    }
   ],
   "source": [
    "play.defensive_team"
   ]
  },
  {
   "cell_type": "code",
   "execution_count": 19,
   "metadata": {},
   "outputs": [],
   "source": [
    "play.process_players(players)"
   ]
  },
  {
   "cell_type": "code",
   "execution_count": 20,
   "metadata": {},
   "outputs": [
    {
     "data": {
      "text/plain": [
       "{'offense': {2495143: <nfl.Player at 0x11de382b0>,\n",
       "  2495450: <nfl.Player at 0x11de7b3c8>,\n",
       "  2552586: <nfl.Player at 0x11de38da0>,\n",
       "  2555466: <nfl.Player at 0x11de38978>,\n",
       "  2557976: <nfl.Player at 0x11de38c50>,\n",
       "  2558010: <nfl.Player at 0x11de38940>},\n",
       " 'defense': {2552386: <nfl.Player at 0x11de7b780>,\n",
       "  2557961: <nfl.Player at 0x11d9387f0>,\n",
       "  2558060: <nfl.Player at 0x11de7b8d0>,\n",
       "  2558108: <nfl.Player at 0x11de7b9e8>,\n",
       "  2558976: <nfl.Player at 0x11de7bb00>,\n",
       "  2560789: <nfl.Player at 0x11de7bc88>,\n",
       "  2560816: <nfl.Player at 0x11de7bdd8>}}"
      ]
     },
     "execution_count": 20,
     "metadata": {},
     "output_type": "execute_result"
    }
   ],
   "source": [
    "play.players"
   ]
  },
  {
   "cell_type": "code",
   "execution_count": 21,
   "metadata": {},
   "outputs": [
    {
     "data": {
      "text/plain": [
       "{'ball_snap': 11,\n",
       " 'play_action': 23,\n",
       " 'pass_forward': 33,\n",
       " 'pass_arrived': 39,\n",
       " 'pass_outcome_caught': 40,\n",
       " 'first_contact': 64,\n",
       " 'tackle': 73}"
      ]
     },
     "execution_count": 21,
     "metadata": {},
     "output_type": "execute_result"
    }
   ],
   "source": [
    "play.events"
   ]
  },
  {
   "cell_type": "code",
   "execution_count": 22,
   "metadata": {
    "scrolled": false
   },
   "outputs": [
    {
     "data": {
      "text/plain": [
       "34.17"
      ]
     },
     "execution_count": 22,
     "metadata": {},
     "output_type": "execute_result"
    }
   ],
   "source": [
    "play.line_of_scrimmage"
   ]
  },
  {
   "cell_type": "code",
   "execution_count": 23,
   "metadata": {},
   "outputs": [
    {
     "data": {
      "text/plain": [
       "'pass_outcome_caught'"
      ]
     },
     "execution_count": 23,
     "metadata": {},
     "output_type": "execute_result"
    }
   ],
   "source": [
    "play.outcome_event"
   ]
  },
  {
   "cell_type": "code",
   "execution_count": 24,
   "metadata": {},
   "outputs": [
    {
     "data": {
      "image/png": "[encoded data removed]",
      "text/plain": [
       "<Figure size 864x383.76 with 1 Axes>"
      ]
     },
     "metadata": {
      "needs_background": "light"
     },
     "output_type": "display_data"
    }
   ],
   "source": [
    "play.plot_play(scale=1,markers='position')"
   ]
  },
  {
   "cell_type": "code",
   "execution_count": 25,
   "metadata": {},
   "outputs": [
    {
     "data": {
      "text/plain": [
       "{'offense': {2495143: <nfl.Player at 0x11de382b0>,\n",
       "  2495450: <nfl.Player at 0x11de7b3c8>,\n",
       "  2552586: <nfl.Player at 0x11de38da0>,\n",
       "  2555466: <nfl.Player at 0x11de38978>,\n",
       "  2557976: <nfl.Player at 0x11de38c50>,\n",
       "  2558010: <nfl.Player at 0x11de38940>},\n",
       " 'defense': {2552386: <nfl.Player at 0x11de7b780>,\n",
       "  2557961: <nfl.Player at 0x11d9387f0>,\n",
       "  2558060: <nfl.Player at 0x11de7b8d0>,\n",
       "  2558108: <nfl.Player at 0x11de7b9e8>,\n",
       "  2558976: <nfl.Player at 0x11de7bb00>,\n",
       "  2560789: <nfl.Player at 0x11de7bc88>,\n",
       "  2560816: <nfl.Player at 0x11de7bdd8>}}"
      ]
     },
     "execution_count": 25,
     "metadata": {},
     "output_type": "execute_result"
    }
   ],
   "source": [
    "play.players"
   ]
  },
  {
   "cell_type": "code",
   "execution_count": 26,
   "metadata": {},
   "outputs": [],
   "source": [
    "start = play.events['ball_snap']\n",
    "ball_x = play.fb_tracking.loc[start-1,'x']\n",
    "ball_y = play.fb_tracking.loc[start-1,'y']\n",
    "for side in ('offense','defense'):\n",
    "    for player in play.players[side].values():\n",
    "        x = player.tracking_data.loc[start-1,'x']\n",
    "        y = player.tracking_data.loc[start-1,'y']\n",
    "        \n",
    "        dx = x - ball_x\n",
    "        dy = y - ball_y\n",
    "        \n",
    "        player.start_pos = (dx,dy)"
   ]
  },
  {
   "cell_type": "code",
   "execution_count": 31,
   "metadata": {},
   "outputs": [
    {
     "data": {
      "text/plain": [
       "'Andy Dalton'"
      ]
     },
     "execution_count": 31,
     "metadata": {},
     "output_type": "execute_result"
    }
   ],
   "source": [
    "play.players['offense'][2495143].name"
   ]
  },
  {
   "cell_type": "code",
   "execution_count": 30,
   "metadata": {},
   "outputs": [
    {
     "data": {
      "text/plain": [
       "'QB'"
      ]
     },
     "execution_count": 30,
     "metadata": {},
     "output_type": "execute_result"
    }
   ],
   "source": [
    "play.players['offense'][2495143].position"
   ]
  },
  {
   "cell_type": "code",
   "execution_count": 38,
   "metadata": {},
   "outputs": [],
   "source": [
    "state = play.players['offense'][2495143].tracking_data[['x','y','s','a']]"
   ]
  },
  {
   "cell_type": "code",
   "execution_count": 46,
   "metadata": {},
   "outputs": [
    {
     "data": {
      "image/png": "[encoded data removed]",
      "text/plain": [
       "<Figure size 864x1440 with 4 Axes>"
      ]
     },
     "metadata": {
      "needs_background": "light"
     },
     "output_type": "display_data"
    }
   ],
   "source": [
    "fig,(ax1,ax2,ax3,ax4) = plt.subplots(4,1,figsize=(12,20))\n",
    "\n",
    "ax1.set_title(\"X VALUES\")\n",
    "ax1.plot(state['x'].values)\n",
    "\n",
    "ax2.set_title(\"Y VALUES\")\n",
    "ax2.plot(state['y'].values)\n",
    "\n",
    "ax3.set_title(\"Speed VALUES\")\n",
    "ax3.plot(state['s'].values)\n",
    "\n",
    "ax4.set_title(\"Accel VALUES\")\n",
    "ax4.plot(state['a'].values)\n",
    "\n",
    "for ax in (ax1,ax2,ax3,ax4):\n",
    "    ax.grid()\n",
    "\n",
    "plt.show()"
   ]
  },
  {
   "cell_type": "code",
   "execution_count": null,
   "metadata": {},
   "outputs": [],
   "source": []
  }
 ],
 "metadata": {
  "kernelspec": {
   "display_name": "Python 3",
   "language": "python",
   "name": "python3"
  },
  "language_info": {
   "codemirror_mode": {
    "name": "ipython",
    "version": 3
   },
   "file_extension": ".py",
   "mimetype": "text/x-python",
   "name": "python",
   "nbconvert_exporter": "python",
   "pygments_lexer": "ipython3",
   "version": "3.7.3"
  }
 },
 "nbformat": 4,
 "nbformat_minor": 4
}
