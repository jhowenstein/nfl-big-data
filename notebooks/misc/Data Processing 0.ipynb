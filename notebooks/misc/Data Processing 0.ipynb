{
 "cells": [
  {
   "cell_type": "code",
   "execution_count": 1,
   "metadata": {},
   "outputs": [],
   "source": [
    "import numpy as np\n",
    "import pandas as pd\n",
    "import scipy as sp\n",
    "\n",
    "import matplotlib.pyplot as plt\n",
    "\n",
    "import os\n",
    "import glob\n",
    "\n",
    "from nfl import Team, Game, Play, Player"
   ]
  },
  {
   "cell_type": "code",
   "execution_count": 2,
   "metadata": {},
   "outputs": [],
   "source": [
    "games = pd.read_csv('data/games.csv')"
   ]
  },
  {
   "cell_type": "code",
   "execution_count": 3,
   "metadata": {},
   "outputs": [],
   "source": [
    "players = pd.read_csv('data/players.csv').set_index('nflId')"
   ]
  },
  {
   "cell_type": "code",
   "execution_count": 4,
   "metadata": {},
   "outputs": [],
   "source": [
    "plays = pd.read_csv('data/plays.csv')"
   ]
  },
  {
   "cell_type": "code",
   "execution_count": 5,
   "metadata": {},
   "outputs": [],
   "source": [
    "weeks = {}\n",
    "for i in range(1):\n",
    "    name = f'week{i+1}'\n",
    "    weeks[name] = pd.read_csv(os.path.join('data',name+'-processed.csv'))"
   ]
  },
  {
   "cell_type": "code",
   "execution_count": 6,
   "metadata": {},
   "outputs": [],
   "source": [
    "team_names = games['homeTeamAbbr'].unique()"
   ]
  },
  {
   "cell_type": "code",
   "execution_count": 7,
   "metadata": {},
   "outputs": [],
   "source": [
    "teams = {}\n",
    "for name in team_names:\n",
    "    teams[name] = Team(abbr=name)"
   ]
  },
  {
   "cell_type": "code",
   "execution_count": 8,
   "metadata": {},
   "outputs": [],
   "source": [
    "for i in range(games.shape[0]):\n",
    "    _game_info = games.loc[i]\n",
    "    gameId = _game_info['gameId']\n",
    "    homeTeamAbbr = _game_info['homeTeamAbbr']\n",
    "    visitorTeamAbbr = _game_info['visitorTeamAbbr']\n",
    "    week = _game_info['week']\n",
    "    \n",
    "    game_plays = plays[plays['gameId'] == gameId]\n",
    "    home_game_plays = game_plays[game_plays['possessionTeam']==homeTeamAbbr].sort_values(by=['playId']).reset_index(drop=True)\n",
    "    away_game_plays = game_plays[game_plays['possessionTeam']==visitorTeamAbbr].sort_values(by=['playId']).reset_index(drop=True)\n",
    "    \n",
    "    teams[homeTeamAbbr].games[f'week{week}'] = Game(gameId,opponent=visitorTeamAbbr,game_info=_game_info,\n",
    "                                                    play_data=away_game_plays,location='home')\n",
    "    teams[visitorTeamAbbr].games[f'week{week}'] = Game(gameId,opponent=homeTeamAbbr,game_info=_game_info,\n",
    "                                                    play_data=home_game_plays,location='away')"
   ]
  },
  {
   "cell_type": "code",
   "execution_count": 9,
   "metadata": {},
   "outputs": [],
   "source": [
    "team = teams['NYG']"
   ]
  },
  {
   "cell_type": "code",
   "execution_count": 10,
   "metadata": {},
   "outputs": [],
   "source": [
    "for key in ('week1',):\n",
    "    game = team.games[key]\n",
    "    \n",
    "    week_data = weeks[key]\n",
    "    \n",
    "    for i in game.play_data.index:\n",
    "        play = game.play_data.loc[i]\n",
    "        tracking_data = week_data[(week_data['gameId']==play['gameId'])&(week_data['playId']==play['playId'])]\n",
    "        player_tracking = tracking_data[tracking_data['nflId'].notna()]\n",
    "        fb_tracking = tracking_data[tracking_data['displayName']=='Football'].sort_values(by='frameId').reset_index(drop=True)\n",
    "        \n",
    "        game.plays.append(Play(play['playId'],play_data=play,player_tracking=player_tracking,\n",
    "                               fb_tracking=fb_tracking,defensive_team=game.location))"
   ]
  },
  {
   "cell_type": "code",
   "execution_count": 11,
   "metadata": {},
   "outputs": [],
   "source": [
    "game = team.games['week1']"
   ]
  },
  {
   "cell_type": "code",
   "execution_count": 12,
   "metadata": {},
   "outputs": [
    {
     "data": {
      "text/plain": [
       "'JAX'"
      ]
     },
     "execution_count": 12,
     "metadata": {},
     "output_type": "execute_result"
    }
   ],
   "source": [
    "game.opponent"
   ]
  },
  {
   "cell_type": "code",
   "execution_count": 13,
   "metadata": {},
   "outputs": [
    {
     "data": {
      "text/plain": [
       "'home'"
      ]
     },
     "execution_count": 13,
     "metadata": {},
     "output_type": "execute_result"
    }
   ],
   "source": [
    "game.location"
   ]
  },
  {
   "cell_type": "code",
   "execution_count": 14,
   "metadata": {},
   "outputs": [
    {
     "data": {
      "text/plain": [
       "34"
      ]
     },
     "execution_count": 14,
     "metadata": {},
     "output_type": "execute_result"
    }
   ],
   "source": [
    "game.nPlays"
   ]
  },
  {
   "cell_type": "code",
   "execution_count": 15,
   "metadata": {},
   "outputs": [
    {
     "name": "stdout",
     "output_type": "stream",
     "text": [
      "Play 1: (14:19) (Shotgun) B.Bortles pass deep left to K.Cole to 50 for 31 yards (J.Jenkins).\n",
      "Play 2: (11:42) (Shotgun) B.Bortles pass incomplete short right to D.Westbrook.\n",
      "Play 3: (11:36) (Shotgun) B.Bortles pass short right to D.Westbrook to NYG 23 for 6 yards (E.Apple) [C.Barwin]. Penalty on NYG-R.Armstrong, Defensive Offside, declined.\n",
      "Play 4: (10:27) (Shotgun) B.Bortles pass incomplete short left to T.Yeldon.\n",
      "Play 5: (10:22) (Shotgun) B.Bortles pass incomplete deep right to D.Moncrief (E.Apple).\n",
      "Play 6: (7:04) B.Bortles pass short right to L.Fournette ran ob at JAX 46 for 11 yards (A.Ogletree).\n",
      "Play 7: (6:31) (Shotgun) B.Bortles sacked at JAX 38 for -8 yards (sack split by K.Wynn and B.Goodson).\n",
      "Play 8: (5:47) (Shotgun) B.Bortles pass deep left intended for D.Moncrief INTERCEPTED by J.Jenkins at NYG 37. J.Jenkins ran ob at NYG 37 for no gain.\n",
      "Play 9: (13:02) (Shotgun) B.Bortles pass short middle to T.Yeldon to NYG 49 for 7 yards (K.Wynn, R.Armstrong).\n",
      "Play 10: (12:32) (Shotgun) B.Bortles pass short left to D.Westbrook to NYG 45 for 4 yards (J.Jenkins).\n",
      "Play 11: (11:11) B.Bortles pass short right to L.Fournette ran ob at NYG 37 for 3 yards (E.Apple).\n",
      "Play 12: (10:05) (Shotgun) B.Bortles pass short right to A.Seferian-Jenkins pushed ob at NYG 21 for 13 yards (B.Webb).\n",
      "Play 13: (9:31) (Shotgun) B.Bortles pass short middle to K.Cole to NYG 11 for 10 yards (M.Thomas).\n",
      "Play 14: (8:10) B.Bortles pass incomplete deep left to N.Paul (J.Jenkins).\n",
      "Play 15: (8:03) (Shotgun) B.Bortles pass short right to L.Fournette to NYG 21 for no gain (A.Ogletree).\n",
      "Play 16: (5:18) (Shotgun) B.Bortles pass deep middle to D.Westbrook to NYG 37 for 20 yards (C.Riley).\n",
      "Play 17: (4:47) (Shotgun) B.Bortles pass deep left to D.Westbrook to NYG 20 for 17 yards (J.Jenkins).\n",
      "Play 18: (2:47) B.Bortles pass short right to T.Yeldon for 1 yard, TOUCHDOWN.\n",
      "Play 19: (7:54) (Shotgun) B.Bortles pass incomplete short right to K.Cole. PENALTY on JAX-C.Robinson, Unnecessary Roughness, 15 yards, enforced at JAX 31.\n",
      "Play 20: (6:14) B.Bortles pass short right to K.Cole ran ob at 50 for 13 yards (E.Apple).\n",
      "Play 21: (5:15) B.Bortles pass incomplete short middle to T.Yeldon.\n",
      "Play 22: (5:12) (Shotgun) B.Bortles pass incomplete deep right to D.Moncrief.\n",
      "Play 23: (3:25) (Shotgun) B.Bortles pass incomplete short left to A.Seferian-Jenkins (A.Ogletree).\n",
      "Play 24: (2:42) (Shotgun) B.Bortles pass incomplete short left to J.O'Shaughnessy.\n",
      "Play 25: (1:39) (Shotgun) B.Bortles pass short right to T.Yeldon pushed ob at NYG 44 for 10 yards (C.Riley).\n",
      "Play 26: (13:46) (Shotgun) B.Bortles pass short left to D.Moncrief to JAX 34 for 14 yards (C.Riley).\n",
      "Play 27: (12:33) B.Bortles pass incomplete short left to T.Yeldon.\n",
      "Play 28: (12:26) (Shotgun) B.Bortles pass incomplete deep right to D.Moncrief (E.Apple).\n",
      "Play 29: (10:39) (Shotgun) B.Bortles pass short left to A.Seferian-Jenkins to JAX 29 for 9 yards (L.Collins).\n",
      "Play 30: (9:24) (Shotgun) B.Bortles pass incomplete short right to A.Seferian-Jenkins (C.Barwin).\n",
      "Play 31: (5:36) (Shotgun) B.Bortles pass short left to D.Westbrook to JAX 36 for 4 yards (B.Webb).\n",
      "Play 32: (5:01) B.Bortles pass incomplete short right to J.O'Shaughnessy (L.Carter).\n",
      "Play 33: (4:57) (Shotgun) B.Bortles pass incomplete short right to T.Yeldon (L.Collins).\n",
      "Play 34: (4:52) (Shotgun) B.Bortles pass short middle to A.Seferian-Jenkins to JAX 39 for 3 yards (L.Collins).\n"
     ]
    }
   ],
   "source": [
    "game.list_plays()"
   ]
  },
  {
   "cell_type": "code",
   "execution_count": null,
   "metadata": {},
   "outputs": [],
   "source": []
  }
 ],
 "metadata": {
  "kernelspec": {
   "display_name": "Python 3",
   "language": "python",
   "name": "python3"
  },
  "language_info": {
   "codemirror_mode": {
    "name": "ipython",
    "version": 3
   },
   "file_extension": ".py",
   "mimetype": "text/x-python",
   "name": "python",
   "nbconvert_exporter": "python",
   "pygments_lexer": "ipython3",
   "version": "3.7.3"
  }
 },
 "nbformat": 4,
 "nbformat_minor": 4
}
