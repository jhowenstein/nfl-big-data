{
 "cells": [
  {
   "cell_type": "code",
   "execution_count": 1,
   "metadata": {},
   "outputs": [],
   "source": [
    "import numpy as np\n",
    "import pandas as pd\n",
    "import scipy as sp\n",
    "\n",
    "import matplotlib.pyplot as plt\n",
    "\n",
    "import os\n",
    "import glob\n",
    "\n",
    "from nfl import Team, Game, Play, Player"
   ]
  },
  {
   "cell_type": "code",
   "execution_count": 2,
   "metadata": {},
   "outputs": [],
   "source": [
    "games = pd.read_csv('data/games.csv')"
   ]
  },
  {
   "cell_type": "code",
   "execution_count": 3,
   "metadata": {},
   "outputs": [],
   "source": [
    "players = pd.read_csv('data/players.csv').set_index('nflId')"
   ]
  },
  {
   "cell_type": "code",
   "execution_count": 4,
   "metadata": {},
   "outputs": [],
   "source": [
    "plays = pd.read_csv('data/plays.csv')"
   ]
  },
  {
   "cell_type": "code",
   "execution_count": 5,
   "metadata": {},
   "outputs": [
    {
     "name": "stdout",
     "output_type": "stream",
     "text": [
      "week1\n",
      "week2\n",
      "week3\n"
     ]
    }
   ],
   "source": [
    "weeks = {}\n",
    "for i in range(3):\n",
    "    name = f'week{i+1}'\n",
    "    print(name)\n",
    "    weeks[name] = pd.read_csv(os.path.join('data',name+'-processed.csv'))"
   ]
  },
  {
   "cell_type": "code",
   "execution_count": 6,
   "metadata": {},
   "outputs": [],
   "source": [
    "team_names = games['homeTeamAbbr'].unique()"
   ]
  },
  {
   "cell_type": "code",
   "execution_count": 7,
   "metadata": {},
   "outputs": [],
   "source": [
    "teams = {}\n",
    "for name in team_names:\n",
    "    teams[name] = Team(abbr=name)"
   ]
  },
  {
   "cell_type": "code",
   "execution_count": 8,
   "metadata": {},
   "outputs": [],
   "source": [
    "for i in range(games.shape[0]):\n",
    "    _game_info = games.loc[i]\n",
    "    gameId = _game_info['gameId']\n",
    "    homeTeamAbbr = _game_info['homeTeamAbbr']\n",
    "    visitorTeamAbbr = _game_info['visitorTeamAbbr']\n",
    "    week = _game_info['week']\n",
    "    \n",
    "    game_plays = plays[plays['gameId'] == gameId]\n",
    "    home_game_plays = game_plays[game_plays['possessionTeam']==homeTeamAbbr].sort_values(by=['playId']).reset_index(drop=True)\n",
    "    away_game_plays = game_plays[game_plays['possessionTeam']==visitorTeamAbbr].sort_values(by=['playId']).reset_index(drop=True)\n",
    "    \n",
    "    teams[homeTeamAbbr].games[f'week{week}'] = Game(gameId,opponent=visitorTeamAbbr,game_info=_game_info,\n",
    "                                                    play_data=away_game_plays,location='home')\n",
    "    teams[visitorTeamAbbr].games[f'week{week}'] = Game(gameId,opponent=homeTeamAbbr,game_info=_game_info,\n",
    "                                                    play_data=home_game_plays,location='away')"
   ]
  },
  {
   "cell_type": "code",
   "execution_count": 9,
   "metadata": {},
   "outputs": [],
   "source": [
    "team = teams['IND']"
   ]
  },
  {
   "cell_type": "code",
   "execution_count": 10,
   "metadata": {},
   "outputs": [],
   "source": [
    "for key in weeks.keys():\n",
    "    game = team.games[key]\n",
    "    \n",
    "    week_data = weeks[key]\n",
    "    \n",
    "    for i in game.play_data.index:\n",
    "        play = game.play_data.loc[i]\n",
    "        tracking_data = week_data[(week_data['gameId']==play['gameId'])&(week_data['playId']==play['playId'])]\n",
    "        player_tracking = tracking_data[tracking_data['nflId'].notna()]\n",
    "        fb_tracking = tracking_data[tracking_data['displayName']=='Football'].sort_values(by='frameId').reset_index(drop=True)\n",
    "        \n",
    "        game.plays.append(Play(play['playId'],play_data=play,player_tracking=player_tracking,\n",
    "                               fb_tracking=fb_tracking,defensive_team=game.location))"
   ]
  },
  {
   "cell_type": "code",
   "execution_count": 11,
   "metadata": {},
   "outputs": [
    {
     "data": {
      "text/plain": [
       "{'week1': <nfl.Game at 0x1345f3ac8>,\n",
       " 'week2': <nfl.Game at 0x10777e630>,\n",
       " 'week3': <nfl.Game at 0x107795f28>,\n",
       " 'week4': <nfl.Game at 0x124e1ada0>,\n",
       " 'week5': <nfl.Game at 0x124e30cf8>,\n",
       " 'week6': <nfl.Game at 0x124e58a58>,\n",
       " 'week7': <nfl.Game at 0x124e6b320>,\n",
       " 'week8': <nfl.Game at 0x124e86a58>,\n",
       " 'week10': <nfl.Game at 0x125637860>,\n",
       " 'week11': <nfl.Game at 0x125649da0>,\n",
       " 'week12': <nfl.Game at 0x125665320>,\n",
       " 'week13': <nfl.Game at 0x125680518>,\n",
       " 'week14': <nfl.Game at 0x1256917b8>,\n",
       " 'week15': <nfl.Game at 0x1256ae5c0>,\n",
       " 'week16': <nfl.Game at 0x1256b5b00>,\n",
       " 'week17': <nfl.Game at 0x1256d9a58>}"
      ]
     },
     "execution_count": 11,
     "metadata": {},
     "output_type": "execute_result"
    }
   ],
   "source": [
    "team.games"
   ]
  },
  {
   "cell_type": "code",
   "execution_count": 12,
   "metadata": {},
   "outputs": [
    {
     "name": "stdout",
     "output_type": "stream",
     "text": [
      "Week 1 - IND vs CIN (09-09-2018) - 32 Plays\n",
      "    Play 1\n",
      "    Play 2\n",
      "    Play 3\n",
      "    Play 4\n",
      "    Play 5\n",
      "    Play 6\n",
      "    Play 7\n",
      "    Play 8\n",
      "    Play 9\n",
      "    Play 10\n",
      "    Play 11\n",
      "    Play 12\n",
      "    Play 13\n",
      "    Play 14\n",
      "    Play 15\n",
      "    Play 16\n",
      "      Play Error!\n",
      "    Play 17\n",
      "    Play 18\n",
      "    Play 19\n",
      "    Play 20\n",
      "    Play 21\n",
      "    Play 22\n",
      "    Play 23\n",
      "      Play Error!\n",
      "    Play 24\n",
      "    Play 25\n",
      "    Play 26\n",
      "    Play 27\n",
      "    Play 28\n",
      "    Play 29\n",
      "    Play 30\n",
      "    Play 31\n",
      "    Play 32\n",
      "Week 2 - IND at WAS (09-16-2018) - 49 Plays\n",
      "    Play 1\n",
      "    Play 2\n",
      "    Play 3\n",
      "    Play 4\n",
      "    Play 5\n",
      "    Play 6\n",
      "      Play Error!\n",
      "    Play 7\n",
      "    Play 8\n",
      "    Play 9\n",
      "    Play 10\n",
      "    Play 11\n",
      "    Play 12\n",
      "    Play 13\n",
      "    Play 14\n",
      "    Play 15\n",
      "    Play 16\n",
      "    Play 17\n",
      "      Play Error!\n",
      "    Play 18\n",
      "    Play 19\n",
      "    Play 20\n",
      "    Play 21\n",
      "    Play 22\n",
      "    Play 23\n",
      "    Play 24\n",
      "    Play 25\n",
      "    Play 26\n",
      "    Play 27\n",
      "    Play 28\n",
      "    Play 29\n",
      "    Play 30\n",
      "      Play Error!\n",
      "    Play 31\n",
      "    Play 32\n",
      "    Play 33\n",
      "    Play 34\n",
      "    Play 35\n",
      "    Play 36\n",
      "    Play 37\n",
      "    Play 38\n",
      "    Play 39\n",
      "    Play 40\n",
      "    Play 41\n",
      "    Play 42\n",
      "      Play Error!\n",
      "    Play 43\n",
      "    Play 44\n",
      "    Play 45\n",
      "    Play 46\n",
      "    Play 47\n",
      "      Play Error!\n",
      "    Play 48\n",
      "    Play 49\n",
      "Week 3 - IND at PHI (09-23-2018) - 44 Plays\n",
      "    Play 1\n",
      "    Play 2\n",
      "    Play 3\n",
      "    Play 4\n",
      "    Play 5\n",
      "    Play 6\n",
      "    Play 7\n",
      "    Play 8\n",
      "    Play 9\n",
      "    Play 10\n",
      "    Play 11\n",
      "      Play Error!\n",
      "    Play 12\n",
      "      Play Error!\n",
      "    Play 13\n",
      "    Play 14\n",
      "    Play 15\n",
      "    Play 16\n",
      "    Play 17\n",
      "    Play 18\n",
      "    Play 19\n",
      "    Play 20\n",
      "    Play 21\n",
      "    Play 22\n",
      "      Play Error!\n",
      "    Play 23\n",
      "    Play 24\n",
      "    Play 25\n",
      "    Play 26\n",
      "    Play 27\n",
      "    Play 28\n",
      "    Play 29\n",
      "    Play 30\n",
      "    Play 31\n",
      "    Play 32\n",
      "      Play Error!\n",
      "    Play 33\n",
      "    Play 34\n",
      "    Play 35\n",
      "      Play Error!\n",
      "    Play 36\n",
      "    Play 37\n",
      "    Play 38\n",
      "      Play Error!\n",
      "    Play 39\n",
      "    Play 40\n",
      "    Play 41\n",
      "    Play 42\n",
      "    Play 43\n",
      "    Play 44\n"
     ]
    }
   ],
   "source": [
    "for _week in weeks.keys():\n",
    "    game = team.games[_week]\n",
    "    print(f'{game} - {game.nPlays} Plays')\n",
    "    \n",
    "    for i in range(game.nPlays):\n",
    "        print(f'    Play {i+1}')\n",
    "        try:\n",
    "            play = game.plays[i]\n",
    "            play.process_players(players)\n",
    "            play.find_dropback_events()\n",
    "            dst = os.path.join('visualizations',team.abbr,game.info,f'Play {i+1}','images')\n",
    "            play.plot_play_frames(markers='position',target_directory=dst)\n",
    "        except:\n",
    "            print(f'      Play Error!')"
   ]
  },
  {
   "cell_type": "code",
   "execution_count": 13,
   "metadata": {},
   "outputs": [
    {
     "data": {
      "text/plain": [
       "{'ball_snap': 11,\n",
       " 'play_action': 24,\n",
       " 'pass_forward': 48,\n",
       " 'pass_arrived': 54,\n",
       " 'pass_outcome_caught': 57,\n",
       " 'first_contact': 66,\n",
       " 'tackle': 74,\n",
       " 'peak_dropback': 25,\n",
       " 'end_dropback': 37}"
      ]
     },
     "execution_count": 13,
     "metadata": {},
     "output_type": "execute_result"
    }
   ],
   "source": [
    "play.events"
   ]
  },
  {
   "cell_type": "code",
   "execution_count": null,
   "metadata": {},
   "outputs": [],
   "source": []
  }
 ],
 "metadata": {
  "kernelspec": {
   "display_name": "Python 3",
   "language": "python",
   "name": "python3"
  },
  "language_info": {
   "codemirror_mode": {
    "name": "ipython",
    "version": 3
   },
   "file_extension": ".py",
   "mimetype": "text/x-python",
   "name": "python",
   "nbconvert_exporter": "python",
   "pygments_lexer": "ipython3",
   "version": "3.7.3"
  }
 },
 "nbformat": 4,
 "nbformat_minor": 4
}
