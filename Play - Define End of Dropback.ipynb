{
 "cells": [
  {
   "cell_type": "code",
   "execution_count": 1,
   "metadata": {},
   "outputs": [],
   "source": [
    "import numpy as np\n",
    "import pandas as pd\n",
    "import scipy as sp\n",
    "\n",
    "import matplotlib.pyplot as plt\n",
    "\n",
    "import os\n",
    "import glob\n",
    "\n",
    "from nfl import Team, Game, Play, Player"
   ]
  },
  {
   "cell_type": "code",
   "execution_count": 2,
   "metadata": {},
   "outputs": [],
   "source": [
    "games = pd.read_csv('data/games.csv')"
   ]
  },
  {
   "cell_type": "code",
   "execution_count": 3,
   "metadata": {},
   "outputs": [],
   "source": [
    "players = pd.read_csv('data/players.csv').set_index('nflId')"
   ]
  },
  {
   "cell_type": "code",
   "execution_count": 4,
   "metadata": {},
   "outputs": [],
   "source": [
    "plays = pd.read_csv('data/plays.csv')"
   ]
  },
  {
   "cell_type": "code",
   "execution_count": 5,
   "metadata": {},
   "outputs": [],
   "source": [
    "weeks = {}\n",
    "for i in range(1):\n",
    "    name = f'week{i+1}'\n",
    "    weeks[name] = pd.read_csv(os.path.join('data',name+'-processed.csv'))"
   ]
  },
  {
   "cell_type": "code",
   "execution_count": 6,
   "metadata": {},
   "outputs": [],
   "source": [
    "team_names = games['homeTeamAbbr'].unique()"
   ]
  },
  {
   "cell_type": "code",
   "execution_count": 7,
   "metadata": {},
   "outputs": [],
   "source": [
    "teams = {}\n",
    "for name in team_names:\n",
    "    teams[name] = Team(abbr=name)"
   ]
  },
  {
   "cell_type": "code",
   "execution_count": 8,
   "metadata": {},
   "outputs": [],
   "source": [
    "for i in range(games.shape[0]):\n",
    "    _game_info = games.loc[i]\n",
    "    gameId = _game_info['gameId']\n",
    "    homeTeamAbbr = _game_info['homeTeamAbbr']\n",
    "    visitorTeamAbbr = _game_info['visitorTeamAbbr']\n",
    "    week = _game_info['week']\n",
    "    \n",
    "    game_plays = plays[plays['gameId'] == gameId]\n",
    "    home_game_plays = game_plays[game_plays['possessionTeam']==homeTeamAbbr].sort_values(by=['playId']).reset_index(drop=True)\n",
    "    away_game_plays = game_plays[game_plays['possessionTeam']==visitorTeamAbbr].sort_values(by=['playId']).reset_index(drop=True)\n",
    "    \n",
    "    teams[homeTeamAbbr].games[f'week{week}'] = Game(gameId,opponent=visitorTeamAbbr,game_info=_game_info,\n",
    "                                                    play_data=away_game_plays,location='home')\n",
    "    teams[visitorTeamAbbr].games[f'week{week}'] = Game(gameId,opponent=homeTeamAbbr,game_info=_game_info,\n",
    "                                                    play_data=home_game_plays,location='away')"
   ]
  },
  {
   "cell_type": "code",
   "execution_count": 9,
   "metadata": {},
   "outputs": [],
   "source": [
    "team = teams['NYG']"
   ]
  },
  {
   "cell_type": "code",
   "execution_count": 10,
   "metadata": {},
   "outputs": [],
   "source": [
    "for key in ('week1',):\n",
    "    game = team.games[key]\n",
    "    \n",
    "    week_data = weeks[key]\n",
    "    \n",
    "    for i in game.play_data.index:\n",
    "        play = game.play_data.loc[i]\n",
    "        tracking_data = week_data[(week_data['gameId']==play['gameId'])&(week_data['playId']==play['playId'])]\n",
    "        player_tracking = tracking_data[tracking_data['nflId'].notna()]\n",
    "        fb_tracking = tracking_data[tracking_data['displayName']=='Football'].sort_values(by='frameId').reset_index(drop=True)\n",
    "        \n",
    "        game.plays.append(Play(play['playId'],play_data=play,player_tracking=player_tracking,\n",
    "                               fb_tracking=fb_tracking,defensive_team=game.location))"
   ]
  },
  {
   "cell_type": "code",
   "execution_count": 11,
   "metadata": {},
   "outputs": [],
   "source": [
    "game = team.games['week1']"
   ]
  },
  {
   "cell_type": "code",
   "execution_count": 12,
   "metadata": {},
   "outputs": [
    {
     "data": {
      "text/plain": [
       "'JAX'"
      ]
     },
     "execution_count": 12,
     "metadata": {},
     "output_type": "execute_result"
    }
   ],
   "source": [
    "game.opponent"
   ]
  },
  {
   "cell_type": "code",
   "execution_count": 13,
   "metadata": {},
   "outputs": [
    {
     "data": {
      "text/plain": [
       "'home'"
      ]
     },
     "execution_count": 13,
     "metadata": {},
     "output_type": "execute_result"
    }
   ],
   "source": [
    "game.location"
   ]
  },
  {
   "cell_type": "code",
   "execution_count": 14,
   "metadata": {},
   "outputs": [
    {
     "data": {
      "text/plain": [
       "34"
      ]
     },
     "execution_count": 14,
     "metadata": {},
     "output_type": "execute_result"
    }
   ],
   "source": [
    "game.nPlays"
   ]
  },
  {
   "cell_type": "code",
   "execution_count": 15,
   "metadata": {},
   "outputs": [
    {
     "name": "stdout",
     "output_type": "stream",
     "text": [
      "Play 0: (14:19) (Shotgun) B.Bortles pass deep left to K.Cole to 50 for 31 yards (J.Jenkins).\n",
      "Play 1: (11:42) (Shotgun) B.Bortles pass incomplete short right to D.Westbrook.\n",
      "Play 2: (11:36) (Shotgun) B.Bortles pass short right to D.Westbrook to NYG 23 for 6 yards (E.Apple) [C.Barwin]. Penalty on NYG-R.Armstrong, Defensive Offside, declined.\n",
      "Play 3: (10:27) (Shotgun) B.Bortles pass incomplete short left to T.Yeldon.\n",
      "Play 4: (10:22) (Shotgun) B.Bortles pass incomplete deep right to D.Moncrief (E.Apple).\n",
      "Play 5: (7:04) B.Bortles pass short right to L.Fournette ran ob at JAX 46 for 11 yards (A.Ogletree).\n",
      "Play 6: (6:31) (Shotgun) B.Bortles sacked at JAX 38 for -8 yards (sack split by K.Wynn and B.Goodson).\n",
      "Play 7: (5:47) (Shotgun) B.Bortles pass deep left intended for D.Moncrief INTERCEPTED by J.Jenkins at NYG 37. J.Jenkins ran ob at NYG 37 for no gain.\n",
      "Play 8: (13:02) (Shotgun) B.Bortles pass short middle to T.Yeldon to NYG 49 for 7 yards (K.Wynn, R.Armstrong).\n",
      "Play 9: (12:32) (Shotgun) B.Bortles pass short left to D.Westbrook to NYG 45 for 4 yards (J.Jenkins).\n",
      "Play 10: (11:11) B.Bortles pass short right to L.Fournette ran ob at NYG 37 for 3 yards (E.Apple).\n",
      "Play 11: (10:05) (Shotgun) B.Bortles pass short right to A.Seferian-Jenkins pushed ob at NYG 21 for 13 yards (B.Webb).\n",
      "Play 12: (9:31) (Shotgun) B.Bortles pass short middle to K.Cole to NYG 11 for 10 yards (M.Thomas).\n",
      "Play 13: (8:10) B.Bortles pass incomplete deep left to N.Paul (J.Jenkins).\n",
      "Play 14: (8:03) (Shotgun) B.Bortles pass short right to L.Fournette to NYG 21 for no gain (A.Ogletree).\n",
      "Play 15: (5:18) (Shotgun) B.Bortles pass deep middle to D.Westbrook to NYG 37 for 20 yards (C.Riley).\n",
      "Play 16: (4:47) (Shotgun) B.Bortles pass deep left to D.Westbrook to NYG 20 for 17 yards (J.Jenkins).\n",
      "Play 17: (2:47) B.Bortles pass short right to T.Yeldon for 1 yard, TOUCHDOWN.\n",
      "Play 18: (7:54) (Shotgun) B.Bortles pass incomplete short right to K.Cole. PENALTY on JAX-C.Robinson, Unnecessary Roughness, 15 yards, enforced at JAX 31.\n",
      "Play 19: (6:14) B.Bortles pass short right to K.Cole ran ob at 50 for 13 yards (E.Apple).\n",
      "Play 20: (5:15) B.Bortles pass incomplete short middle to T.Yeldon.\n",
      "Play 21: (5:12) (Shotgun) B.Bortles pass incomplete deep right to D.Moncrief.\n",
      "Play 22: (3:25) (Shotgun) B.Bortles pass incomplete short left to A.Seferian-Jenkins (A.Ogletree).\n",
      "Play 23: (2:42) (Shotgun) B.Bortles pass incomplete short left to J.O'Shaughnessy.\n",
      "Play 24: (1:39) (Shotgun) B.Bortles pass short right to T.Yeldon pushed ob at NYG 44 for 10 yards (C.Riley).\n",
      "Play 25: (13:46) (Shotgun) B.Bortles pass short left to D.Moncrief to JAX 34 for 14 yards (C.Riley).\n",
      "Play 26: (12:33) B.Bortles pass incomplete short left to T.Yeldon.\n",
      "Play 27: (12:26) (Shotgun) B.Bortles pass incomplete deep right to D.Moncrief (E.Apple).\n",
      "Play 28: (10:39) (Shotgun) B.Bortles pass short left to A.Seferian-Jenkins to JAX 29 for 9 yards (L.Collins).\n",
      "Play 29: (9:24) (Shotgun) B.Bortles pass incomplete short right to A.Seferian-Jenkins (C.Barwin).\n",
      "Play 30: (5:36) (Shotgun) B.Bortles pass short left to D.Westbrook to JAX 36 for 4 yards (B.Webb).\n",
      "Play 31: (5:01) B.Bortles pass incomplete short right to J.O'Shaughnessy (L.Carter).\n",
      "Play 32: (4:57) (Shotgun) B.Bortles pass incomplete short right to T.Yeldon (L.Collins).\n",
      "Play 33: (4:52) (Shotgun) B.Bortles pass short middle to A.Seferian-Jenkins to JAX 39 for 3 yards (L.Collins).\n"
     ]
    }
   ],
   "source": [
    "game.list_plays()"
   ]
  },
  {
   "cell_type": "code",
   "execution_count": 16,
   "metadata": {},
   "outputs": [],
   "source": [
    "play_number = 0"
   ]
  },
  {
   "cell_type": "code",
   "execution_count": 17,
   "metadata": {},
   "outputs": [],
   "source": [
    "play = game.plays[play_number]"
   ]
  },
  {
   "cell_type": "code",
   "execution_count": 18,
   "metadata": {},
   "outputs": [
    {
     "name": "stdout",
     "output_type": "stream",
     "text": [
      "(14:19) (Shotgun) B.Bortles pass deep left to K.Cole to 50 for 31 yards (J.Jenkins).\n"
     ]
    }
   ],
   "source": [
    "print(play)"
   ]
  },
  {
   "cell_type": "code",
   "execution_count": 19,
   "metadata": {},
   "outputs": [
    {
     "data": {
      "text/plain": [
       "gameId                                                           2018090907\n",
       "playId                                                                   79\n",
       "playDescription           (14:19) (Shotgun) B.Bortles pass deep left to ...\n",
       "quarter                                                                   1\n",
       "down                                                                      2\n",
       "yardsToGo                                                                11\n",
       "possessionTeam                                                          JAX\n",
       "playType                                                     play_type_pass\n",
       "yardlineSide                                                            JAX\n",
       "yardlineNumber                                                           19\n",
       "offenseFormation                                                    SHOTGUN\n",
       "personnelO                                                 1 RB, 1 TE, 3 WR\n",
       "defendersInTheBox                                                         7\n",
       "numberOfPassRushers                                                       4\n",
       "personnelD                                                 2 DL, 4 LB, 5 DB\n",
       "typeDropback                                                    TRADITIONAL\n",
       "preSnapVisitorScore                                                       0\n",
       "preSnapHomeScore                                                          0\n",
       "gameClock                                                          14:19:00\n",
       "absoluteYardlineNumber                                                   91\n",
       "penaltyCodes                                                            NaN\n",
       "penaltyJerseyNumbers                                                    NaN\n",
       "passResult                                                                C\n",
       "offensePlayResult                                                        31\n",
       "playResult                                                               31\n",
       "epa                                                                 2.72742\n",
       "isDefensivePI                                                         False\n",
       "Name: 0, dtype: object"
      ]
     },
     "execution_count": 19,
     "metadata": {},
     "output_type": "execute_result"
    }
   ],
   "source": [
    "play.play_data"
   ]
  },
  {
   "cell_type": "code",
   "execution_count": 20,
   "metadata": {},
   "outputs": [],
   "source": [
    "play.process_players(players)"
   ]
  },
  {
   "cell_type": "code",
   "execution_count": 21,
   "metadata": {},
   "outputs": [
    {
     "data": {
      "text/plain": [
       "{'ball_snap': 11,\n",
       " 'pass_forward': 37,\n",
       " 'pass_arrived': 55,\n",
       " 'pass_outcome_caught': 58,\n",
       " 'tackle': 61}"
      ]
     },
     "execution_count": 21,
     "metadata": {},
     "output_type": "execute_result"
    }
   ],
   "source": [
    "play.events"
   ]
  },
  {
   "cell_type": "code",
   "execution_count": 22,
   "metadata": {},
   "outputs": [
    {
     "data": {
      "text/plain": [
       "'pass_outcome_caught'"
      ]
     },
     "execution_count": 22,
     "metadata": {},
     "output_type": "execute_result"
    }
   ],
   "source": [
    "play.outcome_event"
   ]
  },
  {
   "cell_type": "code",
   "execution_count": 23,
   "metadata": {},
   "outputs": [],
   "source": [
    "for key, value in play.players['offense'].items():\n",
    "    if value.position == 'QB':\n",
    "        qb_key = key"
   ]
  },
  {
   "cell_type": "code",
   "execution_count": 24,
   "metadata": {},
   "outputs": [
    {
     "data": {
      "text/plain": [
       "'Blake Bortles'"
      ]
     },
     "execution_count": 24,
     "metadata": {},
     "output_type": "execute_result"
    }
   ],
   "source": [
    "play.players['offense'][qb_key].name"
   ]
  },
  {
   "cell_type": "code",
   "execution_count": 25,
   "metadata": {},
   "outputs": [
    {
     "data": {
      "text/plain": [
       "'QB'"
      ]
     },
     "execution_count": 25,
     "metadata": {},
     "output_type": "execute_result"
    }
   ],
   "source": [
    "play.players['offense'][qb_key].position"
   ]
  },
  {
   "cell_type": "code",
   "execution_count": 26,
   "metadata": {},
   "outputs": [],
   "source": [
    "state = play.players['offense'][qb_key].tracking_data[['x','y','s','a']]"
   ]
  },
  {
   "cell_type": "code",
   "execution_count": 27,
   "metadata": {},
   "outputs": [
    {
     "data": {
      "text/plain": [
       "array([24.64, 24.64, 24.65, 24.65, 24.65, 24.66, 24.65, 24.64, 24.63,\n",
       "       24.63, 24.61, 24.59, 24.57, 24.51, 24.41, 24.27, 24.09, 23.87,\n",
       "       23.63, 23.37, 23.1 , 22.82, 22.56, 22.32, 22.1 , 21.91, 21.74,\n",
       "       21.62, 21.52, 21.46, 21.42, 21.41, 21.42, 21.45, 21.49, 21.53,\n",
       "       21.58, 21.63, 21.67, 21.69, 21.69, 21.69, 21.66, 21.62, 21.55,\n",
       "       21.46, 21.36, 21.24, 21.12, 20.99, 20.86, 20.72, 20.58, 20.46,\n",
       "       20.34, 20.23, 20.13, 20.05, 19.99, 19.95, 19.94, 19.96])"
      ]
     },
     "execution_count": 27,
     "metadata": {},
     "output_type": "execute_result"
    }
   ],
   "source": [
    "play.players['offense'][qb_key].tracking_data['x'].values"
   ]
  },
  {
   "cell_type": "code",
   "execution_count": 28,
   "metadata": {},
   "outputs": [
    {
     "data": {
      "text/html": [
       "<div>\n",
       "<style scoped>\n",
       "    .dataframe tbody tr th:only-of-type {\n",
       "        vertical-align: middle;\n",
       "    }\n",
       "\n",
       "    .dataframe tbody tr th {\n",
       "        vertical-align: top;\n",
       "    }\n",
       "\n",
       "    .dataframe thead th {\n",
       "        text-align: right;\n",
       "    }\n",
       "</style>\n",
       "<table border=\"1\" class=\"dataframe\">\n",
       "  <thead>\n",
       "    <tr style=\"text-align: right;\">\n",
       "      <th></th>\n",
       "      <th>0</th>\n",
       "      <th>1</th>\n",
       "      <th>2</th>\n",
       "      <th>3</th>\n",
       "      <th>4</th>\n",
       "      <th>5</th>\n",
       "      <th>6</th>\n",
       "      <th>7</th>\n",
       "      <th>8</th>\n",
       "      <th>9</th>\n",
       "      <th>...</th>\n",
       "      <th>52</th>\n",
       "      <th>53</th>\n",
       "      <th>54</th>\n",
       "      <th>55</th>\n",
       "      <th>56</th>\n",
       "      <th>57</th>\n",
       "      <th>58</th>\n",
       "      <th>59</th>\n",
       "      <th>60</th>\n",
       "      <th>61</th>\n",
       "    </tr>\n",
       "  </thead>\n",
       "  <tbody>\n",
       "    <tr>\n",
       "      <th>x</th>\n",
       "      <td>24.640000</td>\n",
       "      <td>24.640000</td>\n",
       "      <td>24.650000</td>\n",
       "      <td>24.650000</td>\n",
       "      <td>24.650000</td>\n",
       "      <td>24.660000</td>\n",
       "      <td>24.650000</td>\n",
       "      <td>24.640000</td>\n",
       "      <td>24.630000</td>\n",
       "      <td>24.630000</td>\n",
       "      <td>...</td>\n",
       "      <td>20.580000</td>\n",
       "      <td>20.460000</td>\n",
       "      <td>20.340000</td>\n",
       "      <td>20.230000</td>\n",
       "      <td>20.130000</td>\n",
       "      <td>20.050000</td>\n",
       "      <td>19.990000</td>\n",
       "      <td>19.950000</td>\n",
       "      <td>19.940000</td>\n",
       "      <td>19.960000</td>\n",
       "    </tr>\n",
       "    <tr>\n",
       "      <th>y</th>\n",
       "      <td>29.453333</td>\n",
       "      <td>29.463333</td>\n",
       "      <td>29.473333</td>\n",
       "      <td>29.473333</td>\n",
       "      <td>29.473333</td>\n",
       "      <td>29.473333</td>\n",
       "      <td>29.483333</td>\n",
       "      <td>29.483333</td>\n",
       "      <td>29.483333</td>\n",
       "      <td>29.493333</td>\n",
       "      <td>...</td>\n",
       "      <td>31.033333</td>\n",
       "      <td>31.233333</td>\n",
       "      <td>31.443333</td>\n",
       "      <td>31.683333</td>\n",
       "      <td>31.943333</td>\n",
       "      <td>32.213333</td>\n",
       "      <td>32.513333</td>\n",
       "      <td>32.833333</td>\n",
       "      <td>33.163333</td>\n",
       "      <td>33.513333</td>\n",
       "    </tr>\n",
       "    <tr>\n",
       "      <th>s</th>\n",
       "      <td>0.070000</td>\n",
       "      <td>0.060000</td>\n",
       "      <td>0.050000</td>\n",
       "      <td>0.050000</td>\n",
       "      <td>0.040000</td>\n",
       "      <td>0.040000</td>\n",
       "      <td>0.030000</td>\n",
       "      <td>0.030000</td>\n",
       "      <td>0.020000</td>\n",
       "      <td>0.020000</td>\n",
       "      <td>...</td>\n",
       "      <td>2.260000</td>\n",
       "      <td>2.330000</td>\n",
       "      <td>2.490000</td>\n",
       "      <td>2.650000</td>\n",
       "      <td>2.800000</td>\n",
       "      <td>2.940000</td>\n",
       "      <td>3.110000</td>\n",
       "      <td>3.250000</td>\n",
       "      <td>3.400000</td>\n",
       "      <td>3.530000</td>\n",
       "    </tr>\n",
       "    <tr>\n",
       "      <th>a</th>\n",
       "      <td>0.070000</td>\n",
       "      <td>0.070000</td>\n",
       "      <td>0.060000</td>\n",
       "      <td>0.050000</td>\n",
       "      <td>0.050000</td>\n",
       "      <td>0.040000</td>\n",
       "      <td>0.040000</td>\n",
       "      <td>0.030000</td>\n",
       "      <td>0.030000</td>\n",
       "      <td>0.020000</td>\n",
       "      <td>...</td>\n",
       "      <td>1.280000</td>\n",
       "      <td>1.190000</td>\n",
       "      <td>1.350000</td>\n",
       "      <td>1.610000</td>\n",
       "      <td>1.980000</td>\n",
       "      <td>2.020000</td>\n",
       "      <td>2.300000</td>\n",
       "      <td>2.110000</td>\n",
       "      <td>2.140000</td>\n",
       "      <td>2.170000</td>\n",
       "    </tr>\n",
       "  </tbody>\n",
       "</table>\n",
       "<p>4 rows × 62 columns</p>\n",
       "</div>"
      ],
      "text/plain": [
       "          0          1          2          3          4          5   \\\n",
       "x  24.640000  24.640000  24.650000  24.650000  24.650000  24.660000   \n",
       "y  29.453333  29.463333  29.473333  29.473333  29.473333  29.473333   \n",
       "s   0.070000   0.060000   0.050000   0.050000   0.040000   0.040000   \n",
       "a   0.070000   0.070000   0.060000   0.050000   0.050000   0.040000   \n",
       "\n",
       "          6          7          8          9   ...         52         53  \\\n",
       "x  24.650000  24.640000  24.630000  24.630000  ...  20.580000  20.460000   \n",
       "y  29.483333  29.483333  29.483333  29.493333  ...  31.033333  31.233333   \n",
       "s   0.030000   0.030000   0.020000   0.020000  ...   2.260000   2.330000   \n",
       "a   0.040000   0.030000   0.030000   0.020000  ...   1.280000   1.190000   \n",
       "\n",
       "          54         55         56         57         58         59  \\\n",
       "x  20.340000  20.230000  20.130000  20.050000  19.990000  19.950000   \n",
       "y  31.443333  31.683333  31.943333  32.213333  32.513333  32.833333   \n",
       "s   2.490000   2.650000   2.800000   2.940000   3.110000   3.250000   \n",
       "a   1.350000   1.610000   1.980000   2.020000   2.300000   2.110000   \n",
       "\n",
       "          60         61  \n",
       "x  19.940000  19.960000  \n",
       "y  33.163333  33.513333  \n",
       "s   3.400000   3.530000  \n",
       "a   2.140000   2.170000  \n",
       "\n",
       "[4 rows x 62 columns]"
      ]
     },
     "execution_count": 28,
     "metadata": {},
     "output_type": "execute_result"
    }
   ],
   "source": [
    "state.T"
   ]
  },
  {
   "cell_type": "code",
   "execution_count": 29,
   "metadata": {},
   "outputs": [],
   "source": [
    "dt = .1\n",
    "\n",
    "x = state['x'].values\n",
    "y = state['y'].values\n",
    "\n",
    "dx = np.zeros(len(x))\n",
    "dy = np.zeros(len(y))\n",
    "\n",
    "ddx = np.zeros(len(x))\n",
    "ddy = np.zeros(len(y))\n",
    "\n",
    "for i in range(1,state.shape[0]-1):\n",
    "    dx[i] = (x[i+1] - x[i-1]) / (2 * dt)\n",
    "    dy[i] = (y[i+1] - y[i-1]) / (2 * dt)\n",
    "    \n",
    "for i in range(2,state.shape[0]-2):\n",
    "    ddx[i] = (dx[i+1] - dx[i-1]) / (2 * dt)\n",
    "    ddy[i] = (dy[i+1] - dy[i-1]) / (2 * dt)\n",
    "    \n",
    "filt_dx = np.zeros(len(x))\n",
    "filt_dy = np.zeros(len(y))\n",
    "\n",
    "filt_ddx = np.zeros(len(x))\n",
    "filt_ddy = np.zeros(len(y))\n",
    "    \n",
    "order = 3\n",
    "kernal = np.ones(order) / order\n",
    "\n",
    "w = order // 2\n",
    "for i in range(w,state.shape[0]-2):\n",
    "    filt_dx[i] = sum(dx[i-w:i+w+1]) / order\n",
    "    filt_dy[i] = sum(dy[i-w:i+w+1]) / order\n",
    "    \n",
    "for i in range(w,state.shape[0]-2):\n",
    "    filt_ddx[i] = sum(ddx[i-w:i+w+1]) / order\n",
    "    filt_ddy[i] = sum(ddy[i-w:i+w+1]) / order"
   ]
  },
  {
   "cell_type": "code",
   "execution_count": 30,
   "metadata": {
    "scrolled": true
   },
   "outputs": [
    {
     "data": {
      "text/plain": [
       "{'ball_snap': 11,\n",
       " 'pass_forward': 37,\n",
       " 'pass_arrived': 55,\n",
       " 'pass_outcome_caught': 58,\n",
       " 'tackle': 61}"
      ]
     },
     "execution_count": 30,
     "metadata": {},
     "output_type": "execute_result"
    }
   ],
   "source": [
    "play.events"
   ]
  },
  {
   "cell_type": "code",
   "execution_count": 31,
   "metadata": {},
   "outputs": [
    {
     "data": {
      "image/png": "[encoded data removed]",
      "text/plain": [
       "<Figure size 864x1440 with 5 Axes>"
      ]
     },
     "metadata": {
      "needs_background": "light"
     },
     "output_type": "display_data"
    }
   ],
   "source": [
    "fig,(ax1,ax2,ax3,ax4,ax5) = plt.subplots(5,1,figsize=(12,20))\n",
    "\n",
    "ax1.set_title(\"x VALUES\")\n",
    "ax1.plot(x)\n",
    "\n",
    "ax2.set_title(\"dx VALUES\")\n",
    "ax2.plot(dx)\n",
    "ax2.plot(filt_dx)\n",
    "\n",
    "ax3.set_title(\"ddx VALUES\")\n",
    "ax3.plot(ddx)\n",
    "ax3.plot(filt_ddx)\n",
    "\n",
    "ax4.set_title(\"Speed VALUES\")\n",
    "ax4.plot(state['s'].values)\n",
    "\n",
    "ax5.set_title(\"Accel VALUES\")\n",
    "ax5.plot(state['a'].values)\n",
    "\n",
    "for ax in (ax1,ax2,ax3,ax4,ax5):\n",
    "    ax.grid()\n",
    "    ax.axvline(play.events['ball_snap']-1,color='g')\n",
    "    ax.axvline(play.events['pass_forward']-1,color='r')\n",
    "\n",
    "plt.show()"
   ]
  },
  {
   "cell_type": "code",
   "execution_count": 32,
   "metadata": {},
   "outputs": [],
   "source": [
    "start = play.events['ball_snap'] - 1\n",
    "end = play.events['pass_forward']"
   ]
  },
  {
   "cell_type": "code",
   "execution_count": 33,
   "metadata": {},
   "outputs": [
    {
     "data": {
      "text/plain": [
       "20"
      ]
     },
     "execution_count": 33,
     "metadata": {},
     "output_type": "execute_result"
    }
   ],
   "source": [
    "peak_dropback = np.argmin(filt_dx[start:end]) + start\n",
    "peak_dropback"
   ]
  },
  {
   "cell_type": "code",
   "execution_count": 34,
   "metadata": {},
   "outputs": [],
   "source": [
    "start = peak_dropback\n",
    "end = play.events['pass_forward']"
   ]
  },
  {
   "cell_type": "code",
   "execution_count": 35,
   "metadata": {},
   "outputs": [
    {
     "data": {
      "text/plain": [
       "26"
      ]
     },
     "execution_count": 35,
     "metadata": {},
     "output_type": "execute_result"
    }
   ],
   "source": [
    "end_dropback = np.argmax(filt_ddx[start:end]) + start\n",
    "end_dropback"
   ]
  },
  {
   "cell_type": "code",
   "execution_count": 36,
   "metadata": {},
   "outputs": [],
   "source": [
    "play.find_dropback_events()"
   ]
  },
  {
   "cell_type": "code",
   "execution_count": 37,
   "metadata": {},
   "outputs": [
    {
     "data": {
      "text/plain": [
       "{'ball_snap': 11,\n",
       " 'pass_forward': 37,\n",
       " 'pass_arrived': 55,\n",
       " 'pass_outcome_caught': 58,\n",
       " 'tackle': 61,\n",
       " 'peak_dropback': 21,\n",
       " 'end_dropback': 27}"
      ]
     },
     "execution_count": 37,
     "metadata": {},
     "output_type": "execute_result"
    }
   ],
   "source": [
    "play.events"
   ]
  },
  {
   "cell_type": "code",
   "execution_count": null,
   "metadata": {},
   "outputs": [],
   "source": []
  }
 ],
 "metadata": {
  "kernelspec": {
   "display_name": "Python 3",
   "language": "python",
   "name": "python3"
  },
  "language_info": {
   "codemirror_mode": {
    "name": "ipython",
    "version": 3
   },
   "file_extension": ".py",
   "mimetype": "text/x-python",
   "name": "python",
   "nbconvert_exporter": "python",
   "pygments_lexer": "ipython3",
   "version": "3.7.3"
  }
 },
 "nbformat": 4,
 "nbformat_minor": 4
}
