{
 "cells": [
  {
   "cell_type": "code",
   "execution_count": 1,
   "metadata": {},
   "outputs": [],
   "source": [
    "import numpy as np\n",
    "import pandas as pd\n",
    "import scipy as sp\n",
    "\n",
    "import matplotlib.pyplot as plt\n",
    "\n",
    "import os\n",
    "import glob\n",
    "\n",
    "from nfl import Team, Game, Play, Player"
   ]
  },
  {
   "cell_type": "code",
   "execution_count": 2,
   "metadata": {},
   "outputs": [],
   "source": [
    "games = pd.read_csv('data/games.csv')"
   ]
  },
  {
   "cell_type": "code",
   "execution_count": 3,
   "metadata": {},
   "outputs": [],
   "source": [
    "players = pd.read_csv('data/players.csv').set_index('nflId')"
   ]
  },
  {
   "cell_type": "code",
   "execution_count": 4,
   "metadata": {},
   "outputs": [],
   "source": [
    "plays = pd.read_csv('data/plays.csv')"
   ]
  },
  {
   "cell_type": "code",
   "execution_count": 5,
   "metadata": {},
   "outputs": [],
   "source": [
    "weeks = {}\n",
    "for i in range(1):\n",
    "    name = f'week{i+1}'\n",
    "    weeks[name] = pd.read_csv(os.path.join('data',name+'-processed.csv'))"
   ]
  },
  {
   "cell_type": "code",
   "execution_count": 6,
   "metadata": {},
   "outputs": [],
   "source": [
    "team_names = games['homeTeamAbbr'].unique()"
   ]
  },
  {
   "cell_type": "code",
   "execution_count": 7,
   "metadata": {},
   "outputs": [],
   "source": [
    "teams = {}\n",
    "for name in team_names:\n",
    "    teams[name] = Team(abbr=name)"
   ]
  },
  {
   "cell_type": "code",
   "execution_count": 8,
   "metadata": {},
   "outputs": [],
   "source": [
    "for i in range(games.shape[0]):\n",
    "    _game_info = games.loc[i]\n",
    "    gameId = _game_info['gameId']\n",
    "    homeTeamAbbr = _game_info['homeTeamAbbr']\n",
    "    visitorTeamAbbr = _game_info['visitorTeamAbbr']\n",
    "    week = _game_info['week']\n",
    "    \n",
    "    game_plays = plays[plays['gameId'] == gameId]\n",
    "    home_game_plays = game_plays[game_plays['possessionTeam']==homeTeamAbbr].sort_values(by=['playId']).reset_index(drop=True)\n",
    "    away_game_plays = game_plays[game_plays['possessionTeam']==visitorTeamAbbr].sort_values(by=['playId']).reset_index(drop=True)\n",
    "    \n",
    "    teams[homeTeamAbbr].games[f'week{week}'] = Game(gameId,opponent=visitorTeamAbbr,game_info=_game_info,\n",
    "                                                    play_data=away_game_plays,location='home')\n",
    "    teams[visitorTeamAbbr].games[f'week{week}'] = Game(gameId,opponent=homeTeamAbbr,game_info=_game_info,\n",
    "                                                    play_data=home_game_plays,location='away')"
   ]
  },
  {
   "cell_type": "code",
   "execution_count": 9,
   "metadata": {},
   "outputs": [],
   "source": [
    "team = teams['IND']"
   ]
  },
  {
   "cell_type": "code",
   "execution_count": 10,
   "metadata": {},
   "outputs": [],
   "source": [
    "for key in ('week1',):\n",
    "    game = team.games[key]\n",
    "    \n",
    "    week_data = weeks[key]\n",
    "    \n",
    "    for i in game.play_data.index:\n",
    "        play = game.play_data.loc[i]\n",
    "        tracking_data = week_data[(week_data['gameId']==play['gameId'])&(week_data['playId']==play['playId'])]\n",
    "        player_tracking = tracking_data[tracking_data['nflId'].notna()]\n",
    "        fb_tracking = tracking_data[tracking_data['displayName']=='Football'].sort_values(by='frameId').reset_index(drop=True)\n",
    "        \n",
    "        game.plays.append(Play(play['playId'],play_data=play,player_tracking=player_tracking,\n",
    "                               fb_tracking=fb_tracking,defensive_team=game.location))"
   ]
  },
  {
   "cell_type": "code",
   "execution_count": 11,
   "metadata": {},
   "outputs": [],
   "source": [
    "game = team.games['week1']"
   ]
  },
  {
   "cell_type": "code",
   "execution_count": 12,
   "metadata": {},
   "outputs": [
    {
     "data": {
      "text/plain": [
       "'CIN'"
      ]
     },
     "execution_count": 12,
     "metadata": {},
     "output_type": "execute_result"
    }
   ],
   "source": [
    "game.opponent"
   ]
  },
  {
   "cell_type": "code",
   "execution_count": 13,
   "metadata": {},
   "outputs": [
    {
     "data": {
      "text/plain": [
       "'home'"
      ]
     },
     "execution_count": 13,
     "metadata": {},
     "output_type": "execute_result"
    }
   ],
   "source": [
    "game.location"
   ]
  },
  {
   "cell_type": "code",
   "execution_count": 14,
   "metadata": {},
   "outputs": [
    {
     "data": {
      "text/plain": [
       "32"
      ]
     },
     "execution_count": 14,
     "metadata": {},
     "output_type": "execute_result"
    }
   ],
   "source": [
    "game.nPlays"
   ]
  },
  {
   "cell_type": "code",
   "execution_count": 15,
   "metadata": {},
   "outputs": [
    {
     "name": "stdout",
     "output_type": "stream",
     "text": [
      "Play 1: (14:11) (Shotgun) A.Dalton pass short left intended for J.Mixon INTERCEPTED by K.Moore II at CIN 39. K.Moore II to CIN 7 for 32 yards (A.Dalton).\n",
      "Play 2: (12:32) A.Dalton pass short right to T.Eifert pushed ob at CIN 40 for 29 yards (M.Hooker).\n",
      "Play 3: (11:17) (Shotgun) A.Dalton pass short left to J.Mixon to IND 32 for 21 yards (C.Geathers).\n",
      "Play 4: (9:58) A.Dalton pass short right to A.Green to IND 22 for 5 yards (N.Hairston).\n",
      "Play 5: (8:35) (Shotgun) A.Dalton pass incomplete deep right to J.Ross.\n",
      "Play 6: (8:30) (Shotgun) A.Dalton pass incomplete short middle to T.Boyd (J.Sheard).\n",
      "Play 7: (1:23) A.Dalton pass short right to J.Mixon to CIN 33 for 8 yards (N.Hairston).\n",
      "Play 8: (:58) (No Huddle, Shotgun) A.Dalton pass short right to T.Kroft to CIN 42 for 9 yards (A.Walker, D.Leonard).\n",
      "Play 9: (:11) (Shotgun) A.Dalton pass short left to A.Green to IND 45 for 13 yards (M.Farley). FUMBLES (M.Farley), touched at IND 45, RECOVERED by IND-D.Leonard at IND 42. D.Leonard to IND 42 for no gain (T.Boyd).\n",
      "Play 10: (11:33) (Shotgun) A.Dalton pass short right to T.Boyd to CIN 20 for 5 yards (A.Walker).\n",
      "Play 11: (10:50) A.Dalton pass short right to G.Bernard to CIN 31 for 11 yards (C.Geathers).\n",
      "Play 12: (3:01) (Shotgun) A.Dalton pass short right to C.Uzomah to CIN 29 for 4 yards (C.Geathers).\n",
      "Play 13: (2:00) (Shotgun) A.Dalton pass incomplete deep left to A.Green. PENALTY on IND-Q.Wilson, Defensive Pass Interference, 36 yards, enforced at IND 39 - No Play.\n",
      "Play 14: (1:54) A.Dalton pass incomplete short right to A.Green.\n",
      "Play 15: (1:48) A.Dalton pass short left to J.Ross for 3 yards, TOUCHDOWN.\n",
      "Play 16: (13:04) (No Huddle, Shotgun) A.Dalton sacked at CIN 19 for -8 yards (M.Hunt).\n",
      "Play 17: (12:19) (Shotgun) A.Dalton pass short right to T.Eifert to CIN 25 for 6 yards (N.Hairston).\n",
      "Play 18: (8:13) (Shotgun) A.Dalton pass short right to J.Mixon to CIN 30 for 5 yards (D.Autry).\n",
      "Play 19: (7:38) A.Dalton pass short right to A.Green to CIN 36 for 6 yards (N.Hairston).\n",
      "Play 20: (7:05) A.Dalton pass short left to T.Boyd pushed ob at CIN 40 for 4 yards (K.Moore II).\n",
      "Play 21: (6:31) A.Dalton pass incomplete short right to J.Mixon.\n",
      "Play 22: (4:18) A.Dalton pass deep left to A.Green for 38 yards, TOUCHDOWN.\n",
      "Play 23: (14:37) (No Huddle, Shotgun) A.Dalton sacked at IND 47 for -6 yards (M.Hunt).\n",
      "Play 24: (13:55) (Shotgun) A.Dalton pass incomplete short right to T.Eifert. PENALTY on IND-C.Geathers, Defensive Pass Interference, 8 yards, enforced at IND 47 - No Play.\n",
      "Play 25: (13:23) A.Dalton pass short right to J.Mixon to IND 9 for 15 yards (C.Geathers).\n",
      "Play 26: (9:13) (Shotgun) A.Dalton pass short middle to A.Green to CIN 41 for 18 yards (M.Farley).\n",
      "Play 27: (7:37) (Shotgun) A.Dalton pass short middle to T.Eifert to CIN 43 for 9 yards (A.Walker, D.Leonard).\n",
      "Play 28: (6:57) (Shotgun) A.Dalton pass short right to T.Boyd ran ob at IND 40 for 17 yards (M.Hooker).\n",
      "Play 29: (6:14) (Shotgun) A.Dalton pass short middle to J.Mixon to IND 35 for 5 yards (D.Leonard).\n",
      "Play 30: (5:34) (Shotgun) A.Dalton pass short left to A.Green to IND 23 for 12 yards (C.Geathers). FUMBLES (C.Geathers), recovered by CIN-T.Boyd at IND 21. T.Boyd to IND 21 for no gain (Q.Wilson).\n",
      "Play 31: (4:13) A.Dalton pass incomplete deep left to A.Green [A.Walker].\n",
      "Play 32: (4:08) (Shotgun) A.Dalton pass incomplete short left to T.Boyd.\n"
     ]
    }
   ],
   "source": [
    "game.list_plays()"
   ]
  },
  {
   "cell_type": "code",
   "execution_count": 16,
   "metadata": {},
   "outputs": [],
   "source": [
    "play_number = 0"
   ]
  },
  {
   "cell_type": "code",
   "execution_count": 17,
   "metadata": {},
   "outputs": [],
   "source": [
    "play = game.plays[play_number]"
   ]
  },
  {
   "cell_type": "code",
   "execution_count": 18,
   "metadata": {},
   "outputs": [
    {
     "name": "stdout",
     "output_type": "stream",
     "text": [
      "(14:11) (Shotgun) A.Dalton pass short left intended for J.Mixon INTERCEPTED by K.Moore II at CIN 39. K.Moore II to CIN 7 for 32 yards (A.Dalton).\n"
     ]
    }
   ],
   "source": [
    "print(play)"
   ]
  },
  {
   "cell_type": "code",
   "execution_count": 19,
   "metadata": {},
   "outputs": [
    {
     "data": {
      "text/plain": [
       "gameId                                                           2018090902\n",
       "playId                                                                   81\n",
       "playDescription           (14:11) (Shotgun) A.Dalton pass short left int...\n",
       "quarter                                                                   1\n",
       "down                                                                      2\n",
       "yardsToGo                                                                 3\n",
       "possessionTeam                                                          CIN\n",
       "playType                                                     play_type_pass\n",
       "yardlineSide                                                            CIN\n",
       "yardlineNumber                                                           37\n",
       "offenseFormation                                                    SHOTGUN\n",
       "personnelO                                                 1 RB, 1 TE, 3 WR\n",
       "defendersInTheBox                                                         6\n",
       "numberOfPassRushers                                                       4\n",
       "personnelD                                                 4 DL, 2 LB, 5 DB\n",
       "typeDropback                                                    TRADITIONAL\n",
       "preSnapVisitorScore                                                       0\n",
       "preSnapHomeScore                                                          0\n",
       "gameClock                                                          14:11:00\n",
       "absoluteYardlineNumber                                                   47\n",
       "penaltyCodes                                                            NaN\n",
       "penaltyJerseyNumbers                                                    NaN\n",
       "passResult                                                               IN\n",
       "offensePlayResult                                                         0\n",
       "playResult                                                                0\n",
       "epa                                                                -6.62576\n",
       "isDefensivePI                                                         False\n",
       "Name: 0, dtype: object"
      ]
     },
     "execution_count": 19,
     "metadata": {},
     "output_type": "execute_result"
    }
   ],
   "source": [
    "play.play_data"
   ]
  },
  {
   "cell_type": "code",
   "execution_count": 20,
   "metadata": {},
   "outputs": [],
   "source": [
    "play.process_players(players)"
   ]
  },
  {
   "cell_type": "code",
   "execution_count": 21,
   "metadata": {},
   "outputs": [
    {
     "data": {
      "text/plain": [
       "{'ball_snap': 11,\n",
       " 'play_action': 24,\n",
       " 'pass_forward': 40,\n",
       " 'pass_arrived': 55,\n",
       " 'pass_outcome_interception': 56,\n",
       " 'first_contact': 94,\n",
       " 'tackle': 100}"
      ]
     },
     "execution_count": 21,
     "metadata": {},
     "output_type": "execute_result"
    }
   ],
   "source": [
    "play.events"
   ]
  },
  {
   "cell_type": "code",
   "execution_count": 22,
   "metadata": {},
   "outputs": [
    {
     "data": {
      "text/plain": [
       "'pass_outcome_interception'"
      ]
     },
     "execution_count": 22,
     "metadata": {},
     "output_type": "execute_result"
    }
   ],
   "source": [
    "play.outcome_event"
   ]
  },
  {
   "cell_type": "code",
   "execution_count": 23,
   "metadata": {},
   "outputs": [],
   "source": [
    "for key, value in play.players['offense'].items():\n",
    "    if value.position == 'QB':\n",
    "        qb_key = key"
   ]
  },
  {
   "cell_type": "code",
   "execution_count": 24,
   "metadata": {},
   "outputs": [
    {
     "data": {
      "text/plain": [
       "'Andy Dalton'"
      ]
     },
     "execution_count": 24,
     "metadata": {},
     "output_type": "execute_result"
    }
   ],
   "source": [
    "play.players['offense'][qb_key].name"
   ]
  },
  {
   "cell_type": "code",
   "execution_count": 25,
   "metadata": {},
   "outputs": [
    {
     "data": {
      "text/plain": [
       "'QB'"
      ]
     },
     "execution_count": 25,
     "metadata": {},
     "output_type": "execute_result"
    }
   ],
   "source": [
    "play.players['offense'][qb_key].position"
   ]
  },
  {
   "cell_type": "code",
   "execution_count": 26,
   "metadata": {},
   "outputs": [],
   "source": [
    "state = play.players['offense'][qb_key].tracking_data[['x','y','s','a']]"
   ]
  },
  {
   "cell_type": "code",
   "execution_count": 27,
   "metadata": {},
   "outputs": [
    {
     "data": {
      "text/plain": [
       "array([41.95, 41.95, 41.95, 41.95, 41.95, 41.95, 41.95, 41.94, 41.94,\n",
       "       41.95, 41.95, 41.95, 41.95, 41.96, 41.96, 41.97, 41.97, 41.96,\n",
       "       41.96, 41.95, 41.96, 41.96, 41.92, 41.87, 41.78, 41.68, 41.56,\n",
       "       41.4 , 41.22, 41.03, 40.82, 40.6 , 40.38, 40.16, 39.94, 39.7 ,\n",
       "       39.46, 39.21, 38.93, 38.62, 38.3 , 37.96, 37.61, 37.23, 36.83,\n",
       "       36.42, 36.  , 35.56, 35.12, 34.69, 34.27, 33.85, 33.44, 33.05,\n",
       "       32.68, 32.32, 31.97, 31.63, 31.3 , 30.97, 30.65, 30.33, 30.  ,\n",
       "       29.67, 29.33, 28.99, 28.63, 28.26, 27.87, 27.47, 27.06, 26.63,\n",
       "       26.19, 25.75, 25.3 , 24.86, 24.41, 23.97, 23.53, 23.1 , 22.68,\n",
       "       22.28, 21.88, 21.5 , 21.13, 20.78, 20.47, 20.18, 19.98, 19.84,\n",
       "       19.73, 19.64, 19.58, 19.57, 19.55, 19.53, 19.51, 19.47, 19.44,\n",
       "       19.4 , 19.36])"
      ]
     },
     "execution_count": 27,
     "metadata": {},
     "output_type": "execute_result"
    }
   ],
   "source": [
    "play.players['offense'][qb_key].tracking_data['x'].values"
   ]
  },
  {
   "cell_type": "code",
   "execution_count": 28,
   "metadata": {},
   "outputs": [
    {
     "data": {
      "text/html": [
       "<div>\n",
       "<style scoped>\n",
       "    .dataframe tbody tr th:only-of-type {\n",
       "        vertical-align: middle;\n",
       "    }\n",
       "\n",
       "    .dataframe tbody tr th {\n",
       "        vertical-align: top;\n",
       "    }\n",
       "\n",
       "    .dataframe thead th {\n",
       "        text-align: right;\n",
       "    }\n",
       "</style>\n",
       "<table border=\"1\" class=\"dataframe\">\n",
       "  <thead>\n",
       "    <tr style=\"text-align: right;\">\n",
       "      <th></th>\n",
       "      <th>0</th>\n",
       "      <th>1</th>\n",
       "      <th>2</th>\n",
       "      <th>3</th>\n",
       "      <th>4</th>\n",
       "      <th>5</th>\n",
       "      <th>6</th>\n",
       "      <th>7</th>\n",
       "      <th>8</th>\n",
       "      <th>9</th>\n",
       "      <th>...</th>\n",
       "      <th>91</th>\n",
       "      <th>92</th>\n",
       "      <th>93</th>\n",
       "      <th>94</th>\n",
       "      <th>95</th>\n",
       "      <th>96</th>\n",
       "      <th>97</th>\n",
       "      <th>98</th>\n",
       "      <th>99</th>\n",
       "      <th>100</th>\n",
       "    </tr>\n",
       "  </thead>\n",
       "  <tbody>\n",
       "    <tr>\n",
       "      <th>x</th>\n",
       "      <td>41.95</td>\n",
       "      <td>41.95</td>\n",
       "      <td>41.95</td>\n",
       "      <td>41.95</td>\n",
       "      <td>41.95</td>\n",
       "      <td>41.95</td>\n",
       "      <td>41.95</td>\n",
       "      <td>41.94</td>\n",
       "      <td>41.94</td>\n",
       "      <td>41.95</td>\n",
       "      <td>...</td>\n",
       "      <td>19.64</td>\n",
       "      <td>19.58</td>\n",
       "      <td>19.57</td>\n",
       "      <td>19.55</td>\n",
       "      <td>19.53</td>\n",
       "      <td>19.51</td>\n",
       "      <td>19.47</td>\n",
       "      <td>19.44</td>\n",
       "      <td>19.40</td>\n",
       "      <td>19.36</td>\n",
       "    </tr>\n",
       "    <tr>\n",
       "      <th>y</th>\n",
       "      <td>25.05</td>\n",
       "      <td>25.05</td>\n",
       "      <td>25.06</td>\n",
       "      <td>25.07</td>\n",
       "      <td>25.06</td>\n",
       "      <td>25.06</td>\n",
       "      <td>25.05</td>\n",
       "      <td>25.05</td>\n",
       "      <td>25.05</td>\n",
       "      <td>25.05</td>\n",
       "      <td>...</td>\n",
       "      <td>46.58</td>\n",
       "      <td>47.09</td>\n",
       "      <td>47.57</td>\n",
       "      <td>47.99</td>\n",
       "      <td>48.36</td>\n",
       "      <td>48.68</td>\n",
       "      <td>48.89</td>\n",
       "      <td>49.04</td>\n",
       "      <td>49.14</td>\n",
       "      <td>49.21</td>\n",
       "    </tr>\n",
       "    <tr>\n",
       "      <th>s</th>\n",
       "      <td>0.00</td>\n",
       "      <td>0.00</td>\n",
       "      <td>0.00</td>\n",
       "      <td>0.00</td>\n",
       "      <td>0.00</td>\n",
       "      <td>0.00</td>\n",
       "      <td>0.00</td>\n",
       "      <td>0.00</td>\n",
       "      <td>0.00</td>\n",
       "      <td>0.00</td>\n",
       "      <td>...</td>\n",
       "      <td>5.37</td>\n",
       "      <td>4.95</td>\n",
       "      <td>4.41</td>\n",
       "      <td>3.90</td>\n",
       "      <td>3.40</td>\n",
       "      <td>2.95</td>\n",
       "      <td>1.94</td>\n",
       "      <td>1.29</td>\n",
       "      <td>0.89</td>\n",
       "      <td>0.60</td>\n",
       "    </tr>\n",
       "    <tr>\n",
       "      <th>a</th>\n",
       "      <td>0.00</td>\n",
       "      <td>0.00</td>\n",
       "      <td>0.00</td>\n",
       "      <td>0.00</td>\n",
       "      <td>0.00</td>\n",
       "      <td>0.00</td>\n",
       "      <td>0.00</td>\n",
       "      <td>0.00</td>\n",
       "      <td>0.00</td>\n",
       "      <td>0.00</td>\n",
       "      <td>...</td>\n",
       "      <td>5.18</td>\n",
       "      <td>4.83</td>\n",
       "      <td>4.73</td>\n",
       "      <td>4.67</td>\n",
       "      <td>4.55</td>\n",
       "      <td>4.22</td>\n",
       "      <td>5.47</td>\n",
       "      <td>5.46</td>\n",
       "      <td>4.77</td>\n",
       "      <td>3.96</td>\n",
       "    </tr>\n",
       "  </tbody>\n",
       "</table>\n",
       "<p>4 rows × 101 columns</p>\n",
       "</div>"
      ],
      "text/plain": [
       "     0      1      2      3      4      5      6      7      8      9    ...  \\\n",
       "x  41.95  41.95  41.95  41.95  41.95  41.95  41.95  41.94  41.94  41.95  ...   \n",
       "y  25.05  25.05  25.06  25.07  25.06  25.06  25.05  25.05  25.05  25.05  ...   \n",
       "s   0.00   0.00   0.00   0.00   0.00   0.00   0.00   0.00   0.00   0.00  ...   \n",
       "a   0.00   0.00   0.00   0.00   0.00   0.00   0.00   0.00   0.00   0.00  ...   \n",
       "\n",
       "     91     92     93     94     95     96     97     98     99     100  \n",
       "x  19.64  19.58  19.57  19.55  19.53  19.51  19.47  19.44  19.40  19.36  \n",
       "y  46.58  47.09  47.57  47.99  48.36  48.68  48.89  49.04  49.14  49.21  \n",
       "s   5.37   4.95   4.41   3.90   3.40   2.95   1.94   1.29   0.89   0.60  \n",
       "a   5.18   4.83   4.73   4.67   4.55   4.22   5.47   5.46   4.77   3.96  \n",
       "\n",
       "[4 rows x 101 columns]"
      ]
     },
     "execution_count": 28,
     "metadata": {},
     "output_type": "execute_result"
    }
   ],
   "source": [
    "state.T"
   ]
  },
  {
   "cell_type": "code",
   "execution_count": 29,
   "metadata": {},
   "outputs": [],
   "source": [
    "dt = .1\n",
    "\n",
    "x = state['x'].values\n",
    "y = state['y'].values\n",
    "\n",
    "dx = np.zeros(len(x))\n",
    "dy = np.zeros(len(y))\n",
    "\n",
    "ddx = np.zeros(len(x))\n",
    "ddy = np.zeros(len(y))\n",
    "\n",
    "for i in range(1,state.shape[0]-1):\n",
    "    dx[i] = (x[i+1] - x[i-1]) / (2 * dt)\n",
    "    dy[i] = (y[i+1] - y[i-1]) / (2 * dt)\n",
    "    \n",
    "for i in range(2,state.shape[0]-2):\n",
    "    ddx[i] = (dx[i+1] - dx[i-1]) / (2 * dt)\n",
    "    ddy[i] = (dy[i+1] - dy[i-1]) / (2 * dt)\n",
    "    \n",
    "filt_dx = np.zeros(len(x))\n",
    "filt_dy = np.zeros(len(y))\n",
    "\n",
    "filt_ddx = np.zeros(len(x))\n",
    "filt_ddy = np.zeros(len(y))\n",
    "    \n",
    "order = 3\n",
    "kernal = np.ones(order) / order\n",
    "\n",
    "w = order // 2\n",
    "for i in range(w,state.shape[0]-2):\n",
    "    filt_dx[i] = sum(dx[i-w:i+w+1]) / order\n",
    "    filt_dy[i] = sum(dy[i-w:i+w+1]) / order\n",
    "    \n",
    "for i in range(w,state.shape[0]-2):\n",
    "    filt_ddx[i] = sum(ddx[i-w:i+w+1]) / order\n",
    "    filt_ddy[i] = sum(ddy[i-w:i+w+1]) / order"
   ]
  },
  {
   "cell_type": "code",
   "execution_count": 30,
   "metadata": {
    "scrolled": true
   },
   "outputs": [
    {
     "data": {
      "text/plain": [
       "{'ball_snap': 11,\n",
       " 'play_action': 24,\n",
       " 'pass_forward': 40,\n",
       " 'pass_arrived': 55,\n",
       " 'pass_outcome_interception': 56,\n",
       " 'first_contact': 94,\n",
       " 'tackle': 100}"
      ]
     },
     "execution_count": 30,
     "metadata": {},
     "output_type": "execute_result"
    }
   ],
   "source": [
    "play.events"
   ]
  },
  {
   "cell_type": "code",
   "execution_count": 31,
   "metadata": {},
   "outputs": [
    {
     "data": {
      "image/png": "[encoded data removed]",
      "text/plain": [
       "<Figure size 864x1440 with 5 Axes>"
      ]
     },
     "metadata": {
      "needs_background": "light"
     },
     "output_type": "display_data"
    }
   ],
   "source": [
    "fig,(ax1,ax2,ax3,ax4,ax5) = plt.subplots(5,1,figsize=(12,20))\n",
    "\n",
    "ax1.set_title(\"x VALUES\")\n",
    "ax1.plot(x)\n",
    "\n",
    "ax2.set_title(\"dx VALUES\")\n",
    "ax2.plot(dx)\n",
    "ax2.plot(filt_dx)\n",
    "\n",
    "ax3.set_title(\"ddx VALUES\")\n",
    "ax3.plot(ddx)\n",
    "ax3.plot(filt_ddx)\n",
    "\n",
    "ax4.set_title(\"Speed VALUES\")\n",
    "ax4.plot(state['s'].values)\n",
    "\n",
    "ax5.set_title(\"Accel VALUES\")\n",
    "ax5.plot(state['a'].values)\n",
    "\n",
    "for ax in (ax1,ax2,ax3,ax4,ax5):\n",
    "    ax.grid()\n",
    "    ax.axvline(play.events['ball_snap']-1,color='g')\n",
    "    ax.axvline(play.events['pass_forward']-1,color='r')\n",
    "\n",
    "plt.show()"
   ]
  },
  {
   "cell_type": "code",
   "execution_count": 32,
   "metadata": {},
   "outputs": [],
   "source": [
    "start = play.events['ball_snap'] - 1\n",
    "end = play.events['pass_forward']"
   ]
  },
  {
   "cell_type": "code",
   "execution_count": 33,
   "metadata": {},
   "outputs": [
    {
     "data": {
      "text/plain": [
       "39"
      ]
     },
     "execution_count": 33,
     "metadata": {},
     "output_type": "execute_result"
    }
   ],
   "source": [
    "peak_dropback = np.argmin(filt_dx[start:end]) + start\n",
    "peak_dropback"
   ]
  },
  {
   "cell_type": "code",
   "execution_count": 34,
   "metadata": {},
   "outputs": [],
   "source": [
    "start = peak_dropback\n",
    "end = play.events['pass_forward']"
   ]
  },
  {
   "cell_type": "code",
   "execution_count": 35,
   "metadata": {},
   "outputs": [
    {
     "data": {
      "text/plain": [
       "39"
      ]
     },
     "execution_count": 35,
     "metadata": {},
     "output_type": "execute_result"
    }
   ],
   "source": [
    "end_dropback = np.argmax(filt_ddx[start:end]) + start\n",
    "end_dropback"
   ]
  },
  {
   "cell_type": "code",
   "execution_count": 36,
   "metadata": {},
   "outputs": [],
   "source": [
    "play.find_dropback_events()"
   ]
  },
  {
   "cell_type": "code",
   "execution_count": 37,
   "metadata": {},
   "outputs": [
    {
     "data": {
      "text/plain": [
       "{'ball_snap': 11,\n",
       " 'play_action': 24,\n",
       " 'pass_forward': 40,\n",
       " 'pass_arrived': 55,\n",
       " 'pass_outcome_interception': 56,\n",
       " 'first_contact': 94,\n",
       " 'tackle': 100,\n",
       " 'peak_dropback': 40,\n",
       " 'end_dropback': 40}"
      ]
     },
     "execution_count": 37,
     "metadata": {},
     "output_type": "execute_result"
    }
   ],
   "source": [
    "play.events"
   ]
  },
  {
   "cell_type": "code",
   "execution_count": null,
   "metadata": {},
   "outputs": [],
   "source": []
  }
 ],
 "metadata": {
  "kernelspec": {
   "display_name": "Python 3",
   "language": "python",
   "name": "python3"
  },
  "language_info": {
   "codemirror_mode": {
    "name": "ipython",
    "version": 3
   },
   "file_extension": ".py",
   "mimetype": "text/x-python",
   "name": "python",
   "nbconvert_exporter": "python",
   "pygments_lexer": "ipython3",
   "version": "3.7.3"
  }
 },
 "nbformat": 4,
 "nbformat_minor": 4
}
